{
 "cells": [
  {
   "cell_type": "markdown",
   "metadata": {},
   "source": [
    "## Import Libraries"
   ]
  },
  {
   "cell_type": "code",
   "execution_count": 2,
   "metadata": {},
   "outputs": [],
   "source": [
    "import requests, re, time, random\n",
    "import datetime as dt\n",
    "import pandas as pd \n",
    "from bs4 import BeautifulSoup as bs \n",
    "from selenium import webdriver\n",
    "from selenium.webdriver.common.keys import Keys\n",
    "from tqdm import tqdm_notebook"
   ]
  },
  {
   "cell_type": "code",
   "execution_count": 3,
   "metadata": {},
   "outputs": [],
   "source": [
    "driver = webdriver.Chrome('C:/chrome/chromedriver.exe')"
   ]
  },
  {
   "cell_type": "markdown",
   "metadata": {},
   "source": [
    "## Setting Constant"
   ]
  },
  {
   "cell_type": "code",
   "execution_count": 5,
   "metadata": {},
   "outputs": [],
   "source": [
    "KEYWORD = '시리얼'\n",
    "START_DATE = dt.date(year=2019, month=3, day=25)\n",
    "UNTIL_DATE = dt.date(year=2019, month=3, day=26)\n",
    "END_DATE = dt.date(year=2019, month=3, day=29)\n",
    "SLEEP_RANDOM = random.randint(1,3)\n",
    "GET_HEIGHT = \"return document.body.scrollHeight\"\n",
    "GET_LAST_HEIGHT = \"return $(document).height() - $(window).height();\"\n",
    "MOVE_SCROLL = \"window.scrollTo(0, document.body.scrollHeight);\""
   ]
  },
  {
   "cell_type": "code",
   "execution_count": 5,
   "metadata": {},
   "outputs": [],
   "source": [
    "def parse() :\n",
    "    html = driver.page_source\n",
    "    soup = bs(html, 'html.parser')  \n",
    "    \n",
    "    return soup\n",
    "\n",
    "def control(driver, statement) :\n",
    "\n",
    "    if (statement == GET_HEIGHT) | (statement == GET_LAST_HEIGHT) :\n",
    "        result = driver.execute_script(statement)\n",
    "        return result\n",
    "\n",
    "    else : \n",
    "        driver.execute_script(statement)"
   ]
  },
  {
   "cell_type": "code",
   "execution_count": 24,
   "metadata": {},
   "outputs": [
    {
     "ename": "KeyError",
     "evalue": "0",
     "output_type": "error",
     "traceback": [
      "\u001b[1;31m---------------------------------------------------------------------------\u001b[0m",
      "\u001b[1;31mKeyError\u001b[0m                                  Traceback (most recent call last)",
      "\u001b[1;32m<ipython-input-24-5dd14a954ed6>\u001b[0m in \u001b[0;36m<module>\u001b[1;34m\u001b[0m\n\u001b[0;32m      3\u001b[0m \u001b[0msoup\u001b[0m \u001b[1;33m=\u001b[0m \u001b[0mparse\u001b[0m\u001b[1;33m(\u001b[0m\u001b[1;33m)\u001b[0m\u001b[1;33m\u001b[0m\u001b[1;33m\u001b[0m\u001b[0m\n\u001b[0;32m      4\u001b[0m \u001b[0mtmp\u001b[0m \u001b[1;33m=\u001b[0m \u001b[0msoup\u001b[0m\u001b[1;33m.\u001b[0m\u001b[0mfind_all\u001b[0m\u001b[1;33m(\u001b[0m\u001b[1;34m\"span\"\u001b[0m\u001b[1;33m,\u001b[0m \u001b[1;33m{\u001b[0m\u001b[1;34m\"class\"\u001b[0m\u001b[1;33m:\u001b[0m\u001b[1;34m\"_timestamp\"\u001b[0m\u001b[1;33m}\u001b[0m\u001b[1;33m)\u001b[0m\u001b[1;33m\u001b[0m\u001b[1;33m\u001b[0m\u001b[0m\n\u001b[1;32m----> 5\u001b[1;33m \u001b[0mtimes\u001b[0m \u001b[1;33m=\u001b[0m \u001b[0mlist\u001b[0m\u001b[1;33m(\u001b[0m\u001b[0mmap\u001b[0m\u001b[1;33m(\u001b[0m\u001b[1;32mlambda\u001b[0m \u001b[0mt\u001b[0m \u001b[1;33m:\u001b[0m \u001b[0mt\u001b[0m\u001b[1;33m[\u001b[0m\u001b[1;36m0\u001b[0m\u001b[1;33m]\u001b[0m\u001b[1;33m.\u001b[0m\u001b[0mattrs\u001b[0m\u001b[1;33m[\u001b[0m\u001b[1;34m'data-time'\u001b[0m\u001b[1;33m]\u001b[0m\u001b[1;33m,\u001b[0m \u001b[0mtmp\u001b[0m\u001b[1;33m)\u001b[0m\u001b[1;33m)\u001b[0m\u001b[1;33m\u001b[0m\u001b[1;33m\u001b[0m\u001b[0m\n\u001b[0m\u001b[0;32m      6\u001b[0m \u001b[0mtimes\u001b[0m\u001b[1;33m\u001b[0m\u001b[1;33m\u001b[0m\u001b[0m\n",
      "\u001b[1;32m<ipython-input-24-5dd14a954ed6>\u001b[0m in \u001b[0;36m<lambda>\u001b[1;34m(t)\u001b[0m\n\u001b[0;32m      3\u001b[0m \u001b[0msoup\u001b[0m \u001b[1;33m=\u001b[0m \u001b[0mparse\u001b[0m\u001b[1;33m(\u001b[0m\u001b[1;33m)\u001b[0m\u001b[1;33m\u001b[0m\u001b[1;33m\u001b[0m\u001b[0m\n\u001b[0;32m      4\u001b[0m \u001b[0mtmp\u001b[0m \u001b[1;33m=\u001b[0m \u001b[0msoup\u001b[0m\u001b[1;33m.\u001b[0m\u001b[0mfind_all\u001b[0m\u001b[1;33m(\u001b[0m\u001b[1;34m\"span\"\u001b[0m\u001b[1;33m,\u001b[0m \u001b[1;33m{\u001b[0m\u001b[1;34m\"class\"\u001b[0m\u001b[1;33m:\u001b[0m\u001b[1;34m\"_timestamp\"\u001b[0m\u001b[1;33m}\u001b[0m\u001b[1;33m)\u001b[0m\u001b[1;33m\u001b[0m\u001b[1;33m\u001b[0m\u001b[0m\n\u001b[1;32m----> 5\u001b[1;33m \u001b[0mtimes\u001b[0m \u001b[1;33m=\u001b[0m \u001b[0mlist\u001b[0m\u001b[1;33m(\u001b[0m\u001b[0mmap\u001b[0m\u001b[1;33m(\u001b[0m\u001b[1;32mlambda\u001b[0m \u001b[0mt\u001b[0m \u001b[1;33m:\u001b[0m \u001b[0mt\u001b[0m\u001b[1;33m[\u001b[0m\u001b[1;36m0\u001b[0m\u001b[1;33m]\u001b[0m\u001b[1;33m.\u001b[0m\u001b[0mattrs\u001b[0m\u001b[1;33m[\u001b[0m\u001b[1;34m'data-time'\u001b[0m\u001b[1;33m]\u001b[0m\u001b[1;33m,\u001b[0m \u001b[0mtmp\u001b[0m\u001b[1;33m)\u001b[0m\u001b[1;33m)\u001b[0m\u001b[1;33m\u001b[0m\u001b[1;33m\u001b[0m\u001b[0m\n\u001b[0m\u001b[0;32m      6\u001b[0m \u001b[0mtimes\u001b[0m\u001b[1;33m\u001b[0m\u001b[1;33m\u001b[0m\u001b[0m\n",
      "\u001b[1;32m~\\Anaconda3\\lib\\site-packages\\bs4\\element.py\u001b[0m in \u001b[0;36m__getitem__\u001b[1;34m(self, key)\u001b[0m\n\u001b[0;32m   1069\u001b[0m         \"\"\"tag[key] returns the value of the 'key' attribute for the tag,\n\u001b[0;32m   1070\u001b[0m         and throws an exception if it's not there.\"\"\"\n\u001b[1;32m-> 1071\u001b[1;33m         \u001b[1;32mreturn\u001b[0m \u001b[0mself\u001b[0m\u001b[1;33m.\u001b[0m\u001b[0mattrs\u001b[0m\u001b[1;33m[\u001b[0m\u001b[0mkey\u001b[0m\u001b[1;33m]\u001b[0m\u001b[1;33m\u001b[0m\u001b[1;33m\u001b[0m\u001b[0m\n\u001b[0m\u001b[0;32m   1072\u001b[0m \u001b[1;33m\u001b[0m\u001b[0m\n\u001b[0;32m   1073\u001b[0m     \u001b[1;32mdef\u001b[0m \u001b[0m__iter__\u001b[0m\u001b[1;33m(\u001b[0m\u001b[0mself\u001b[0m\u001b[1;33m)\u001b[0m\u001b[1;33m:\u001b[0m\u001b[1;33m\u001b[0m\u001b[1;33m\u001b[0m\u001b[0m\n",
      "\u001b[1;31mKeyError\u001b[0m: 0"
     ]
    }
   ],
   "source": [
    "URL = 'https://twitter.com/search?q=시리얼&src=typd'\n",
    "driver.get(URL)\n",
    "soup = parse()\n",
    "tmp = soup.find_all(\"span\", {\"class\":\"_timestamp\"})\n",
    "times = list(map(lambda t : t[0].attrs['data-time'], tmp))\n"
   ]
  },
  {
   "cell_type": "code",
   "execution_count": 38,
   "metadata": {},
   "outputs": [
    {
     "data": {
      "text/plain": [
       "[0, 0, 10, 3, 1, 4, 8, 6, 2, 0, 8, 5, 9, 10, 8, 3, 7, 5, 0, 2]"
      ]
     },
     "execution_count": 38,
     "metadata": {},
     "output_type": "execute_result"
    }
   ],
   "source": [
    "from datetime import datetime\n",
    "import time \n",
    "\n",
    "times = list(map(lambda t : datetime.fromtimestamp(int(t.attrs['data-time'])), tmp))\n",
    "hours = list(map(lambda date : date.hour, times))\n",
    "hours"
   ]
  },
  {
   "cell_type": "markdown",
   "metadata": {},
   "source": [
    "## Crawling Code"
   ]
  },
  {
   "cell_type": "code",
   "execution_count": 7,
   "metadata": {},
   "outputs": [],
   "source": [
    "from tqdm import tqdm_notebook\n",
    "\n",
    "tweet_text = [] \n",
    "\n",
    "while END_DATE != START_DATE :\n",
    "    URL = f'https://twitter.com/search?q={KEYWORD}%20since%3A{str(START_DATE)}%20until%3A{str(UNTIL_DATE)}&src=typd'\n",
    "    driver.get(URL)\n",
    "    time.sleep(SLEEP_RANDOM)\n",
    "    \n",
    "    daily_tw = {'Date':START_DATE}\n",
    "    tweets = []\n",
    "    currHeight = control(driver, GET_HEIGHT)\n",
    "    \n",
    "    while True : \n",
    "        soup = parse()\n",
    "        \n",
    "        tmp = soup.find_all(\"p\", {\"class\" : \"TweetTextSize\"})\n",
    "        tweets.extend(tmp)\n",
    "        \n",
    "        control(driver, MOVE_SCROLL)\n",
    "        time.sleep(SLEEP_RANDOM)    \n",
    "\n",
    "        lastHeight = control(driver, GET_HEIGHT) #현재 스크롤 기준 마지막 높이\n",
    "\n",
    "\n",
    "        if lastHeight == currHeight : #현재 스크롤이 움직임이 더이상 없다면 맨 끝에 위치했다는 것. \n",
    "            daily_tw['tweets'] = tweets\n",
    "            tweet_text.append(daily_tw)\n",
    "            START_DATE = UNTIL_DATE\n",
    "            UNTIL_DATE += dt.timedelta(days=1) \n",
    "            \n",
    "            break\n",
    "            \n",
    "        currHeight = lastHeight"
   ]
  },
  {
   "cell_type": "code",
   "execution_count": 8,
   "metadata": {},
   "outputs": [
    {
     "data": {
      "text/plain": [
       "[{'Date': datetime.date(2019, 3, 25),\n",
       "  'tweets': [<p class=\"TweetTextSize js-tweet-text tweet-text\" data-aria-label-part=\"0\" lang=\"ko\"><strong>시리얼</strong>덕후인 저는 또 <strong>시리얼</strong>을 먹습니다</p>,\n",
       "   <p class=\"TweetTextSize js-tweet-text tweet-text\" data-aria-label-part=\"0\" lang=\"ko\">준비 다했는데 시간 남았으니 <strong>시리얼</strong> 뇸뇸 <a class=\"twitter-timeline-link u-hidden\" data-pre-embedded=\"true\" dir=\"ltr\" href=\"https://t.co/QgGv8hNzFn\">pic.twitter.com/QgGv8hNzFn</a></p>,\n",
       "   <p class=\"TweetTextSize js-tweet-text tweet-text\" data-aria-label-part=\"0\" lang=\"ko\"><img alt=\"🐰\" aria-label=\"Emoji: 토끼 얼굴\" class=\"Emoji Emoji--forText\" draggable=\"false\" src=\"https://abs.twimg.com/emoji/v2/72x72/1f430.png\" title=\"토끼 얼굴\"/> (<img alt=\"👤\" aria-label=\"Emoji: 실루엣이 있는 흉상 \" class=\"Emoji Emoji--forText\" draggable=\"false\" src=\"https://abs.twimg.com/emoji/v2/72x72/1f464.png\" title=\"실루엣이 있는 흉상 \"/>: 오늘의 아침 <strong>시리얼</strong>을 먹었습니다) <img alt=\"👏🏻\" aria-label=\"Emoji: 손뼉을 치는 손 기호  (밝은 피부색)\" class=\"Emoji Emoji--forText\" draggable=\"false\" src=\"https://abs.twimg.com/emoji/v2/72x72/1f44f-1f3fb.png\" title=\"손뼉을 치는 손 기호  (밝은 피부색)\"/><img alt=\"👏🏻\" aria-label=\"Emoji: 손뼉을 치는 손 기호  (밝은 피부색)\" class=\"Emoji Emoji--forText\" draggable=\"false\" src=\"https://abs.twimg.com/emoji/v2/72x72/1f44f-1f3fb.png\" title=\"손뼉을 치는 손 기호  (밝은 피부색)\"/><img alt=\"👏🏻\" aria-label=\"Emoji: 손뼉을 치는 손 기호  (밝은 피부색)\" class=\"Emoji Emoji--forText\" draggable=\"false\" src=\"https://abs.twimg.com/emoji/v2/72x72/1f44f-1f3fb.png\" title=\"손뼉을 치는 손 기호  (밝은 피부색)\"/> 어떤 <strong>시리얼</strong>이었나요? <a class=\"twitter-timeline-link\" data-pre-embedded=\"true\" dir=\"ltr\" href=\"https://t.co/uQViR2XGuh\">pic.twitter.com/uQViR2XGuh</a></p>,\n",
       "   <p class=\"TweetTextSize js-tweet-text tweet-text\" data-aria-label-part=\"0\" lang=\"ko\">Haven’t see any cereal more aesthetic than this <img alt=\"😂\" aria-label=\"Emoji: 기쁨의 눈물을 흘리는 얼굴\" class=\"Emoji Emoji--forText\" draggable=\"false\" src=\"https://abs.twimg.com/emoji/v2/72x72/1f602.png\" title=\"기쁨의 눈물을 흘리는 얼굴\"/>\n",
       "   \n",
       "   이렇게 예술적인 <strong>시리얼</strong>은 처음이에요<img alt=\"🥣\" aria-label=\"Emoji: 스푼이 놓인 그릇\" class=\"Emoji Emoji--forText\" draggable=\"false\" src=\"https://abs.twimg.com/emoji/v2/72x72/1f963.png\" title=\"스푼이 놓인 그릇\"/> <a class=\"twitter-timeline-link\" data-pre-embedded=\"true\" dir=\"ltr\" href=\"https://t.co/TB1nbDdfIL\">pic.twitter.com/TB1nbDdfIL</a></p>,\n",
       "   <p class=\"TweetTextSize js-tweet-text tweet-text\" data-aria-label-part=\"0\" lang=\"ko\"><strong>시리얼</strong> 코드 어째 입력하는거지ㅜ</p>,\n",
       "   <p class=\"TweetTextSize js-tweet-text tweet-text\" data-aria-label-part=\"0\" lang=\"ko\">제이콥 최애 <strong>시리얼</strong>이랑<img alt=\"🥰\" aria-label=\"Emoji: Smiling face with 3 hearts\" class=\"Emoji Emoji--forText\" draggable=\"false\" src=\"https://abs.twimg.com/emoji/v2/72x72/1f970.png\" title=\"Smiling face with 3 hearts\"/> <a class=\"twitter-timeline-link\" data-pre-embedded=\"true\" dir=\"ltr\" href=\"https://t.co/EEDgNXeGyD\">pic.twitter.com/EEDgNXeGyD</a></p>,\n",
       "   <p class=\"TweetTextSize js-tweet-text tweet-text\" data-aria-label-part=\"0\" lang=\"ko\">우유가 먼저면 어떻고 <strong>시리얼</strong>이 먼저면 어떻습니까 중요한 것은 먹겠다는 마음가짐..<img alt=\"😇\" aria-label=\"Emoji: 후광이 있는 웃는 얼굴\" class=\"Emoji Emoji--forText\" draggable=\"false\" src=\"https://abs.twimg.com/emoji/v2/72x72/1f607.png\" title=\"후광이 있는 웃는 얼굴\"/> 앞으로 치킨, <strong>시리얼</strong>, 빵을 먹을땐 꼭 덥즈쌤들의 가르침을 깊이 새길게요<img alt=\"🥰\" aria-label=\"Emoji: Smiling face with 3 hearts\" class=\"Emoji Emoji--forText\" draggable=\"false\" src=\"https://abs.twimg.com/emoji/v2/72x72/1f970.png\" title=\"Smiling face with 3 hearts\"/>\n",
       "   내일 밤 9시 스타인강 6강 수강도 잊지말기! <a class=\"twitter-hashtag pretty-link js-nav\" data-query-source=\"hashtag_click\" dir=\"ltr\" href=\"/hashtag/%EB%96%B4%EB%8D%A5?src=hash\"><s>#</s><b>떴덥</b></a> <a class=\"twitter-hashtag pretty-link js-nav\" data-query-source=\"hashtag_click\" dir=\"ltr\" href=\"/hashtag/%EB%96%B4%EB%8D%A5%EB%B3%B4%EC%8A%A4?src=hash\"><s>#</s><b>떴덥보스</b></a> <a class=\"twitter-hashtag pretty-link js-nav\" data-query-source=\"hashtag_click\" dir=\"ltr\" href=\"/hashtag/%EB%8D%94%EB%B3%B4%EC%9D%B4%EC%A6%88?src=hash\"><s>#</s><b>더보이즈</b></a> <a class=\"twitter-hashtag pretty-link js-nav\" data-query-source=\"hashtag_click\" dir=\"ltr\" href=\"/hashtag/THEBOYZ?src=hash\"><s>#</s><b>THEBOYZ</b></a> <a class=\"twitter-timeline-link\" data-pre-embedded=\"true\" dir=\"ltr\" href=\"https://t.co/nL92vU8ij7\">pic.twitter.com/nL92vU8ij7</a></p>,\n",
       "   <p class=\"TweetTextSize js-tweet-text tweet-text\" data-aria-label-part=\"0\" lang=\"ko\">점심은 배쿠노아사에 현미<strong>시리얼</strong> 부어먹기,, 진자 맛업서 <a class=\"twitter-timeline-link\" data-pre-embedded=\"true\" dir=\"ltr\" href=\"https://t.co/vbThazt3DN\">pic.twitter.com/vbThazt3DN</a></p>,\n",
       "   <p class=\"TweetTextSize js-tweet-text tweet-text\" data-aria-label-part=\"0\" lang=\"ko\">2. <strong>시리얼</strong>\n",
       "   \n",
       "   갓<strong>시리얼</strong> 홍보함 이거 먹고 <strong>시리얼</strong>계 광명 찾았으며 우유나 샐러드나 요거트나 안 어울리는게 없음 포스트 골든그래놀라 꼭 드세요 삼백만번 드세요 너무...너무너무 맛있음 나 <strong>시리얼</strong> 별로 안 좋아하는데 이거 먹구 훼까닥함 \n",
       "   \n",
       "   <a class=\"twitter-atreply pretty-link js-nav\" data-mentioned-user-id=\"875724689066254336\" dir=\"ltr\" href=\"/LOVNINGYOUUUU\"><s>@</s><b>LOVNINGYOUUUU</b></a> <a class=\"twitter-timeline-link\" data-pre-embedded=\"true\" dir=\"ltr\" href=\"https://t.co/VXYs6oWo3Z\">pic.twitter.com/VXYs6oWo3Z</a></p>,\n",
       "   <p class=\"TweetTextSize js-tweet-text tweet-text\" data-aria-label-part=\"0\" lang=\"ko\"><a class=\"twitter-hashtag pretty-link js-nav\" data-query-source=\"hashtag_click\" dir=\"ltr\" href=\"/hashtag/RT?src=hash\"><s>#</s><b>RT</b></a> <img alt=\"💜\" aria-label=\"Emoji: 보라색 하트\" class=\"Emoji Emoji--forText\" draggable=\"false\" src=\"https://abs.twimg.com/emoji/v2/72x72/1f49c.png\" title=\"보라색 하트\"/>쩡꾸&amp;찌미 <strong>시리얼</strong>컵 수량조사를 시작합니다<img alt=\"💜\" aria-label=\"Emoji: 보라색 하트\" class=\"Emoji Emoji--forText\" draggable=\"false\" src=\"https://abs.twimg.com/emoji/v2/72x72/1f49c.png\" title=\"보라색 하트\"/>\n",
       "   \n",
       "   발주수량을 정하는 조사니까 신중하게 참여해주세요^^\n",
       "   \n",
       "   용량은 450ml 입니다!\n",
       "   <a class=\"twitter-timeline-link\" data-expanded-url=\"http://naver.me/5bGQDYYW\" dir=\"ltr\" href=\"https://t.co/DqvXmFalk2\" rel=\"nofollow noopener\" target=\"_blank\" title=\"http://naver.me/5bGQDYYW\"><span class=\"tco-ellipsis\"></span><span class=\"invisible\">http://</span><span class=\"js-display-url\">naver.me/5bGQDYYW</span><span class=\"invisible\"></span><span class=\"tco-ellipsis\"><span class=\"invisible\"> </span></span></a>\n",
       "   <img alt=\"🗓️\" aria-label=\"Emoji: 스프링 달력\" class=\"Emoji Emoji--forText\" draggable=\"false\" src=\"https://abs.twimg.com/emoji/v2/72x72/1f5d3.png\" title=\"스프링 달력\"/>3/25~3/29<a class=\"twitter-timeline-link u-hidden\" data-pre-embedded=\"true\" dir=\"ltr\" href=\"https://t.co/FTUEUakDCL\">pic.twitter.com/FTUEUakDCL</a></p>,\n",
       "   <p class=\"TweetTextSize js-tweet-text tweet-text\" data-aria-label-part=\"0\" lang=\"ko\"><strong>시리얼</strong>..</p>,\n",
       "   <p class=\"TweetTextSize js-tweet-text tweet-text\" data-aria-label-part=\"0\" lang=\"ko\"><strong>시리얼</strong>에 누가 크랜베리 넣냐고</p>,\n",
       "   <p class=\"TweetTextSize js-tweet-text tweet-text\" data-aria-label-part=\"0\" lang=\"ko\"><strong>시리얼</strong> 먹던 사람 띠용</p>,\n",
       "   <p class=\"TweetTextSize js-tweet-text tweet-text\" data-aria-label-part=\"0\" lang=\"ko\">아하 <strong>시리얼</strong>도 간단히 먹이기엔 좋죠^^\n",
       "   <a class=\"twitter-atreply pretty-link js-nav\" data-mentioned-user-id=\"335141638\" dir=\"ltr\" href=\"/BTS_twt\"><s>@</s><b>BTS_twt</b></a></p>,\n",
       "   <p class=\"TweetTextSize js-tweet-text tweet-text\" data-aria-label-part=\"0\" lang=\"ko\">카루비 <strong>시리얼</strong> 맛있었는데..</p>,\n",
       "   <p class=\"TweetTextSize js-tweet-text tweet-text\" data-aria-label-part=\"0\" lang=\"ko\"><strong>시리얼</strong> 냠냠 <a class=\"twitter-timeline-link u-hidden\" data-pre-embedded=\"true\" dir=\"ltr\" href=\"https://t.co/couWolftk7\">pic.twitter.com/couWolftk7</a></p>,\n",
       "   <p class=\"TweetTextSize js-tweet-text tweet-text\" data-aria-label-part=\"0\" lang=\"ko\"><strong>시리얼</strong> 움냠냐 ,,!!!! 학교가기 싫어 <img alt=\"🥺\" aria-label=\"Emoji: Pleading face\" class=\"Emoji Emoji--forText\" draggable=\"false\" src=\"https://abs.twimg.com/emoji/v2/72x72/1f97a.png\" title=\"Pleading face\"/> 1교시부터 영어야 ㅠㅠ</p>,\n",
       "   <p class=\"TweetTextSize js-tweet-text tweet-text\" data-aria-label-part=\"0\" lang=\"ko\">&lt;그루브 코스터 아케이드 마이페이지 보는법&gt;\n",
       "   1. <a class=\"twitter-timeline-link\" data-expanded-url=\"http://mypage.groovecoaster.jp/\" dir=\"ltr\" href=\"https://t.co/KyXUA2hFvl\" rel=\"nofollow noopener\" target=\"_blank\" title=\"http://mypage.groovecoaster.jp/\"><span class=\"tco-ellipsis\"></span><span class=\"invisible\">http://</span><span class=\"js-display-url\">mypage.groovecoaster.jp</span><span class=\"invisible\">/</span><span class=\"tco-ellipsis\"><span class=\"invisible\"> </span></span></a>  에 접속\n",
       "   2. 윗칸에는 네시카의 <strong>시리얼</strong> 넘버(뒷면 개제)와 플레이어 이름(대소문자 구분함)을 입력\n",
       "   3. 마이페이지 보기 <a class=\"twitter-timeline-link u-hidden\" data-pre-embedded=\"true\" dir=\"ltr\" href=\"https://t.co/EE1pBhSe79\">pic.twitter.com/EE1pBhSe79</a></p>,\n",
       "   <p class=\"TweetTextSize js-tweet-text tweet-text\" data-aria-label-part=\"0\" lang=\"ko\">흘러가듯 말하는 제노스의 말에 아... 하고 탄식했다. 우유를 안사면 남은 <strong>시리얼</strong>들은 어떡해...집앞 편의점은 비싼데...그러니까 사려고 할때 그만 아주머니를 마주쳐서...예의 아까 그 얘기가 수면 위로 떠오르자 옆에서 자기를 뚫어져라 쳐다보는 제노스에 다시 침묵. 아 정말 불편하다 불편해...</p>,\n",
       "   <p class=\"TweetTextSize js-tweet-text tweet-text\" data-aria-label-part=\"0\" lang=\"ko\"><img alt=\"🍫\" aria-label=\"Emoji: 초콜릿 바 \" class=\"Emoji Emoji--forText\" draggable=\"false\" src=\"https://abs.twimg.com/emoji/v2/72x72/1f36b.png\" title=\"초콜릿 바 \"/> vs <img alt=\"🥖\" aria-label=\"Emoji: 바게트 빵\" class=\"Emoji Emoji--forText\" draggable=\"false\" src=\"https://abs.twimg.com/emoji/v2/72x72/1f956.png\" title=\"바게트 빵\"/>\n",
       "   키커바 <strong>시리얼</strong> 28g 150Kcal\n",
       "   vs\n",
       "   땅콩크림빵 275g 244Kcal(4/1)\n",
       "   (이건 반만 먹을거예요)\n",
       "   쓸데없는 이 진지함은 뭘까?\n",
       "   상대해주시니까 진지해져야지<img alt=\"🤔\" aria-label=\"Emoji: 생각하는 얼굴\" class=\"Emoji Emoji--forText\" draggable=\"false\" src=\"https://abs.twimg.com/emoji/v2/72x72/1f914.png\" title=\"생각하는 얼굴\"/>\n",
       "   <a class=\"twitter-atreply pretty-link js-nav\" data-mentioned-user-id=\"335141638\" dir=\"ltr\" href=\"/BTS_twt\"><s>@</s><b>BTS_twt</b></a><a class=\"twitter-timeline-link u-hidden\" data-pre-embedded=\"true\" dir=\"ltr\" href=\"https://t.co/N73ifTG6HP\">pic.twitter.com/N73ifTG6HP</a></p>]},\n",
       " {'Date': datetime.date(2019, 3, 26),\n",
       "  'tweets': [<p class=\"TweetTextSize js-tweet-text tweet-text\" data-aria-label-part=\"0\" lang=\"ko\"><strong>시리얼</strong>~~~~~!!!! <a class=\"twitter-timeline-link u-hidden\" data-pre-embedded=\"true\" dir=\"ltr\" href=\"https://t.co/0nwQUU3pGP\">pic.twitter.com/0nwQUU3pGP</a></p>,\n",
       "   <p class=\"TweetTextSize js-tweet-text tweet-text\" data-aria-label-part=\"0\" lang=\"ko\"><strong>시리얼</strong>은 바삭에서 눅눅으로 갈 때 먹는게 짱이야 <a class=\"twitter-timeline-link u-hidden\" data-pre-embedded=\"true\" dir=\"ltr\" href=\"https://t.co/VdTZ4wgIkU\">pic.twitter.com/VdTZ4wgIkU</a></p>,\n",
       "   <p class=\"TweetTextSize js-tweet-text tweet-text\" data-aria-label-part=\"0\" lang=\"ko\">1. 6월 6일 낀 주에 출발. 7일과 8일을 휴가내고 4박5일 일정. 인원은 엄마 아빠 나 신랑 4명. 남자빌런 둘을 데리고 출발. \n",
       "   \n",
       "   출발 럭키! 댄항공이서 무료 좌석 업글을 받아 비지니스를 타보게 됨. 한시간 반 거리지만 편안하더군요. 서비스도 굳. 하지만 기내식이 <strong>시리얼</strong>이었다는 것;; <a class=\"twitter-timeline-link\" data-pre-embedded=\"true\" dir=\"ltr\" href=\"https://t.co/y1gKj76JBs\">pic.twitter.com/y1gKj76JBs</a></p>,\n",
       "   <p class=\"TweetTextSize js-tweet-text tweet-text\" data-aria-label-part=\"0\" lang=\"ko\">오늘 봄 같아서 사진 좀 찍ㄹ었어 근데 친구가 개나리 사진 보고 불어터진 <strong>시리얼</strong> 같대 ㅋㅋㅋㅋㅌㅌㅋㅋㅋ 흥 <a class=\"twitter-timeline-link\" data-pre-embedded=\"true\" dir=\"ltr\" href=\"https://t.co/KQedKs4jh1\">pic.twitter.com/KQedKs4jh1</a></p>,\n",
       "   <p class=\"TweetTextSize js-tweet-text tweet-text\" data-aria-label-part=\"0\" lang=\"ko\">가챠 돌리고 싶어서 돌렸는데 텐 2장이 <strong>시리얼</strong>코드(?)필요하신분 드려요~ <a class=\"twitter-timeline-link u-hidden\" data-pre-embedded=\"true\" dir=\"ltr\" href=\"https://t.co/hDAdIhsGmh\">pic.twitter.com/hDAdIhsGmh</a></p>,\n",
       "   <p class=\"TweetTextSize js-tweet-text tweet-text\" data-aria-label-part=\"0\" lang=\"ko\"><strong>시리얼</strong> 먹구 학겨가야징</p>,\n",
       "   <p class=\"TweetTextSize js-tweet-text tweet-text\" data-aria-label-part=\"0\" lang=\"ko\"><strong>시리얼</strong>에 딸기 투척해봤다ㅋㅋ\n",
       "   \n",
       "   어렸을때 본 웹툰에서 이렇게 해먹었던 기억나서 난생처음 해봄 <a class=\"twitter-timeline-link\" data-pre-embedded=\"true\" dir=\"ltr\" href=\"https://t.co/OJruLYFlzm\">pic.twitter.com/OJruLYFlzm</a></p>,\n",
       "   <p class=\"TweetTextSize js-tweet-text tweet-text\" data-aria-label-part=\"0\" lang=\"ko\">어무니 계셔서 <strong>시리얼</strong> 못 먹음</p>,\n",
       "   <p class=\"TweetTextSize js-tweet-text tweet-text\" data-aria-label-part=\"0\" lang=\"ko\">오늘도 <strong>시리얼</strong> 챱챱 ,, 학교 다녀오겠숨니당 <img alt=\"🙋🏻‍♂️\" aria-label=\"Emoji: 손을 들고 있는 남자 (밝은 피부색)\" class=\"Emoji Emoji--forText\" draggable=\"false\" src=\"https://abs.twimg.com/emoji/v2/72x72/1f64b-1f3fb-200d-2642-fe0f.png\" title=\"손을 들고 있는 남자 (밝은 피부색)\"/> 다들 쫀하루 <img alt=\"✨\" aria-label=\"Emoji: 광채\" class=\"Emoji Emoji--forText\" draggable=\"false\" src=\"https://abs.twimg.com/emoji/v2/72x72/2728.png\" title=\"광채\"/><img alt=\"🎶\" aria-label=\"Emoji: 여러 악보 \" class=\"Emoji Emoji--forText\" draggable=\"false\" src=\"https://abs.twimg.com/emoji/v2/72x72/1f3b6.png\" title=\"여러 악보 \"/><img alt=\"🕺🏻\" aria-label=\"Emoji: 춤추는 남자 (밝은 피부색)\" class=\"Emoji Emoji--forText\" draggable=\"false\" src=\"https://abs.twimg.com/emoji/v2/72x72/1f57a-1f3fb.png\" title=\"춤추는 남자 (밝은 피부색)\"/><img alt=\"☃️\" aria-label=\"Emoji: 눈사람\" class=\"Emoji Emoji--forText\" draggable=\"false\" src=\"https://abs.twimg.com/emoji/v2/72x72/2603.png\" title=\"눈사람\"/><img alt=\"💓\" aria-label=\"Emoji: 두근거리는 하트 \" class=\"Emoji Emoji--forText\" draggable=\"false\" src=\"https://abs.twimg.com/emoji/v2/72x72/1f493.png\" title=\"두근거리는 하트 \"/> 되세용 <a class=\"twitter-timeline-link\" data-pre-embedded=\"true\" dir=\"ltr\" href=\"https://t.co/bWnKxQoPoc\">pic.twitter.com/bWnKxQoPoc</a></p>,\n",
       "   <p class=\"TweetTextSize js-tweet-text tweet-text\" data-aria-label-part=\"0\" lang=\"ko\">출근해서 <strong>시리얼</strong>먹기...<img alt=\"☺\" aria-label=\"Emoji: 웃는 얼굴\" class=\"Emoji Emoji--forText\" draggable=\"false\" src=\"https://abs.twimg.com/emoji/v2/72x72/263a.png\" title=\"웃는 얼굴\"/> <a class=\"twitter-timeline-link\" data-pre-embedded=\"true\" dir=\"ltr\" href=\"https://t.co/EXELgQ3XZc\">pic.twitter.com/EXELgQ3XZc</a></p>,\n",
       "   <p class=\"TweetTextSize js-tweet-text tweet-text\" data-aria-label-part=\"0\" lang=\"ko\">제 <strong>시리얼</strong>은 무려 오레오오즈입니디</p>,\n",
       "   <p class=\"TweetTextSize js-tweet-text tweet-text\" data-aria-label-part=\"0\" lang=\"ko\">[공유] 켈로그 <strong>시리얼</strong>의 리얼한 여정 알아보기! (출처 : ♡ | 블로그) <a class=\"twitter-timeline-link u-hidden\" data-expanded-url=\"https://m.blog.naver.com/dmswjddid37/221497889371\" dir=\"ltr\" href=\"https://t.co/L5rmhf62sY\" rel=\"nofollow noopener\" target=\"_blank\" title=\"https://m.blog.naver.com/dmswjddid37/221497889371\"><span class=\"tco-ellipsis\"></span><span class=\"invisible\">https://</span><span class=\"js-display-url\">m.blog.naver.com/dmswjddid37/22</span><span class=\"invisible\">1497889371</span><span class=\"tco-ellipsis\"><span class=\"invisible\"> </span>…</span></a></p>,\n",
       "   <p class=\"TweetTextSize js-tweet-text tweet-text\" data-aria-label-part=\"0\" lang=\"ko\">코렐 페인터 에센셜 5 체험판 받으려는데, 최신버전만 나와 있어서 링크 찾기가 힘들었어요. 다운로드 링크 여기 올려드립니다. <a class=\"twitter-timeline-link\" data-expanded-url=\"https://mid114.tistory.com/982\" dir=\"ltr\" href=\"https://t.co/V4LyoLRU8f\" rel=\"nofollow noopener\" target=\"_blank\" title=\"https://mid114.tistory.com/982\"><span class=\"tco-ellipsis\"></span><span class=\"invisible\">https://</span><span class=\"js-display-url\">mid114.tistory.com/982</span><span class=\"invisible\"></span><span class=\"tco-ellipsis\"><span class=\"invisible\"> </span></span></a> 코렐 페인터는 타블렛 그림 그리기 유틸인데 타블렛 살 때 <strong>시리얼</strong>키 주는 곳도 많으니 꼭 유틸 주는 타블렛 구매하세요.</p>,\n",
       "   <p class=\"TweetTextSize js-tweet-text tweet-text\" data-aria-label-part=\"0\" lang=\"ko\">후르츠링 <strong>시리얼</strong> 먹으면 입천장 뚝딱</p>,\n",
       "   <p class=\"TweetTextSize js-tweet-text tweet-text\" data-aria-label-part=\"0\" lang=\"ko\"><strong>시리얼</strong>먹고 잠깨자,,</p>,\n",
       "   <p class=\"TweetTextSize js-tweet-text tweet-text\" data-aria-label-part=\"0\" lang=\"ko\">나 지금 덴 “마크” 모닝<strong>시리얼</strong> 우유 마시면서 우는 닷누나야 <a class=\"twitter-timeline-link\" data-pre-embedded=\"true\" dir=\"ltr\" href=\"https://t.co/b21MihcdVv\">pic.twitter.com/b21MihcdVv</a></p>,\n",
       "   <p class=\"TweetTextSize js-tweet-text tweet-text\" data-aria-label-part=\"0\" lang=\"ko\">새벽 <strong>시리얼</strong>• • • <a class=\"twitter-timeline-link u-hidden\" data-pre-embedded=\"true\" dir=\"ltr\" href=\"https://t.co/glek0U7TJs\">pic.twitter.com/glek0U7TJs</a></p>,\n",
       "   <p class=\"TweetTextSize js-tweet-text tweet-text\" data-aria-label-part=\"0\" lang=\"ko\">아침 토스트 <strong>시리얼</strong> 방울토마토</p>,\n",
       "   <p class=\"TweetTextSize js-tweet-text tweet-text\" data-aria-label-part=\"0\" lang=\"ko\">이거 내가 여기와서 먹어본 <strong>시리얼</strong>중에 제일 마싯는데 한국에서 가격 두배 무엇 <a class=\"twitter-timeline-link\" data-pre-embedded=\"true\" dir=\"ltr\" href=\"https://t.co/rfseiMqQoe\">pic.twitter.com/rfseiMqQoe</a></p>,\n",
       "   <p class=\"TweetTextSize js-tweet-text tweet-text\" data-aria-label-part=\"0\" lang=\"ko\">처음에는 아침 대용으로 선식 사야지. 한건데 선식 타먹을 용기사야지 -&gt; 선식만 머금 튼튼한 이가 심심하니까 씹히게 <strong>시리얼</strong>두 사야지-&gt; 맨날 선식에 <strong>시리얼</strong> 머금 질리니까 한번씩 요거트로 바꿔야지\n",
       "   \n",
       "   = 결과물 : 난리난 장바구니</p>]},\n",
       " {'Date': datetime.date(2019, 3, 27),\n",
       "  'tweets': [<p class=\"TweetTextSize js-tweet-text tweet-text\" data-aria-label-part=\"0\" lang=\"ko\">방금 12시 지나면서 정식으로 비건첼린지 끝을 냈습니다 :)\n",
       "   \n",
       "   사실 고기를 참는것보다 고기랑 우유/치즈가 안 들어간 음식 찾는기 굉장히 힘들었어요;;; 대부분의 <strong>시리얼</strong>에 동물부위 들어간다는 사실, 아셨나요? <img alt=\"🤔\" aria-label=\"Emoji: 생각하는 얼굴\" class=\"Emoji Emoji--forText\" draggable=\"false\" src=\"https://abs.twimg.com/emoji/v2/72x72/1f914.png\" title=\"생각하는 얼굴\"/>\n",
       "   어쨋든 이제 며칠동안 고기와 치즈로 분을 풀겠습니다 뇸뇨뇨묘요묜ㄴ <a class=\"twitter-timeline-link\" data-pre-embedded=\"true\" dir=\"ltr\" href=\"https://t.co/8ZacJSp7ZE\">pic.twitter.com/8ZacJSp7ZE</a></p>,\n",
       "   <p class=\"TweetTextSize js-tweet-text tweet-text\" data-aria-label-part=\"0\" lang=\"ko\">알바비 개미응가만큼 나온걸로 식비로 쓰는데 이게 한 달 식비로 어케 가능하지??하고 생각해보니 나는 하루에 한끼만 먹고 나머지는 <strong>시리얼</strong>이나 밀크티로 대체해서 이정도 나오는게 가능한듯</p>,\n",
       "   <p class=\"TweetTextSize js-tweet-text tweet-text\" data-aria-label-part=\"0\" lang=\"ko\"><strong>시리얼</strong>카페 일하다가 많이 지나쳤는데\n",
       "   사먹기는 오늘이 처음.\n",
       "   \n",
       "   치리오스 처음 먹어봤는데 맛있당! <a class=\"twitter-timeline-link\" data-pre-embedded=\"true\" dir=\"ltr\" href=\"https://t.co/gqTU6C3oD5\">pic.twitter.com/gqTU6C3oD5</a></p>,\n",
       "   <p class=\"TweetTextSize js-tweet-text tweet-text\" data-aria-label-part=\"0\" lang=\"ko\">깔루아 밀크에 <strong>시리얼</strong>을 말아먹으면 맛있을까<img alt=\"🤔\" aria-label=\"Emoji: 생각하는 얼굴\" class=\"Emoji Emoji--forText\" draggable=\"false\" src=\"https://abs.twimg.com/emoji/v2/72x72/1f914.png\" title=\"생각하는 얼굴\"/></p>,\n",
       "   <p class=\"TweetTextSize js-tweet-text tweet-text\" data-aria-label-part=\"0\" lang=\"ko\">플래시딜\n",
       "   \n",
       "   캡쳐시간: p.m 1:30\n",
       "   \n",
       "   비타민이랑 <strong>시리얼</strong> 괜찮겠다! <a class=\"twitter-timeline-link u-hidden\" data-pre-embedded=\"true\" dir=\"ltr\" href=\"https://t.co/G8YbAiGXxN\">pic.twitter.com/G8YbAiGXxN</a></p>,\n",
       "   <p class=\"TweetTextSize js-tweet-text tweet-text\" data-aria-label-part=\"0\" lang=\"ko\">뭐야, 인간 <strong>시리얼</strong>? 난 인육 취향 아닌데.</p>,\n",
       "   <p class=\"TweetTextSize js-tweet-text tweet-text\" data-aria-label-part=\"0\" lang=\"ko\">기대와 달랐던 과일맛 <strong>시리얼</strong> 후르트링 리뷰 <a class=\"twitter-timeline-link u-hidden\" data-expanded-url=\"https://mid114.tistory.com/897\" dir=\"ltr\" href=\"https://t.co/zmYOV5X1we\" rel=\"nofollow noopener\" target=\"_blank\" title=\"https://mid114.tistory.com/897\"><span class=\"tco-ellipsis\"></span><span class=\"invisible\">https://</span><span class=\"js-display-url\">mid114.tistory.com/897</span><span class=\"invisible\"></span><span class=\"tco-ellipsis\"><span class=\"invisible\"> </span></span></a></p>,\n",
       "   <p class=\"TweetTextSize js-tweet-text tweet-text\" data-aria-label-part=\"0\" lang=\"ko\">땡! <strong>시리얼</strong> 먹었어요!</p>,\n",
       "   <p class=\"TweetTextSize js-tweet-text tweet-text\" data-aria-label-part=\"0\" lang=\"ko\">인터넷대출피해 &gt;&gt; &lt;출처&gt;<a class=\"twitter-timeline-link u-hidden\" data-expanded-url=\"https://faster.kr/2018/12/06/%ec%a1%b4%eb%a7%9b%ed%83%b1-%eb%af%b8%ea%b5%ad-%ec%8b%9c%eb%a6%ac%ec%96%bc-best9/\" dir=\"ltr\" href=\"https://t.co/WPv9YKUeku\" rel=\"nofollow noopener\" target=\"_blank\" title=\"https://faster.kr/2018/12/06/%ec%a1%b4%eb%a7%9b%ed%83%b1-%eb%af%b8%ea%b5%ad-%ec%8b%9c%eb%a6%ac%ec%96%bc-best9/\"><span class=\"tco-ellipsis\"></span><span class=\"invisible\">https://</span><span class=\"js-display-url\">faster.kr/2018/12/06/%ec</span><span class=\"invisible\">%a1%b4%eb%a7%9b%ed%83%b1-%eb%af%b8%ea%b5%ad-%ec%8b%9c%eb%a6%ac%ec%96%bc-best9/</span><span class=\"tco-ellipsis\"><span class=\"invisible\"> </span>…</span></a></p>,\n",
       "   <p class=\"TweetTextSize js-tweet-text tweet-text\" data-aria-label-part=\"0\" lang=\"ko\">사퍼에 플레이어블 안경신캐 하나 더 나오면 내가 걔 풀패키지 지르고 마스터 찍음</p>,\n",
       "   <p class=\"TweetTextSize js-tweet-text tweet-text\" data-aria-label-part=\"0\" lang=\"ko\">나의내일아침식사는군만두\n",
       "    <a class=\"twitter-hashtag pretty-link js-nav\" data-query-source=\"hashtag_click\" dir=\"ltr\" href=\"/hashtag/%EB%82%B4%EB%B0%B0%EC%9A%B0%EC%A1%B0%EC%8A%B9%EC%9A%B0_%EC%83%9D%EC%9D%BC%EC%B6%95%ED%95%98%ED%95%A9%EB%8B%88%EB%8B%A4?src=hash\"><s>#</s><b>내배우조승우_생일축하합니다</b></a>\n",
       "   스누는내일도<strong>시리얼</strong>먹을까?</p>,\n",
       "   <p class=\"TweetTextSize js-tweet-text tweet-text\" data-aria-label-part=\"0\" lang=\"ko\">+각 기사 맨 밑의 <strong>시리얼</strong> 코드를 입력하면 유닛별 수건 아이템을 받을 수 있습니다<img alt=\"😊\" aria-label=\"Emoji: 웃는 눈을 한 표정\" class=\"Emoji Emoji--forText\" draggable=\"false\" src=\"https://abs.twimg.com/emoji/v2/72x72/1f60a.png\" title=\"웃는 눈을 한 표정\"/>\n",
       "   \n",
       "   알스트로메리아\n",
       "   <a class=\"twitter-timeline-link\" data-expanded-url=\"http://dengekionline.com/elem/000/001/892/1892524/\" dir=\"ltr\" href=\"https://t.co/nlVfQqq3Y7\" rel=\"nofollow noopener\" target=\"_blank\" title=\"http://dengekionline.com/elem/000/001/892/1892524/\"><span class=\"tco-ellipsis\"></span><span class=\"invisible\">http://</span><span class=\"js-display-url\">dengekionline.com/elem/000/001/8</span><span class=\"invisible\">92/1892524/</span><span class=\"tco-ellipsis\"><span class=\"invisible\"> </span>…</span></a>\n",
       "   \n",
       "   방과후 클라이맥스 걸즈\n",
       "   <a class=\"twitter-timeline-link\" data-expanded-url=\"http://www.appbank.net/2019/03/26/pcgames/1723154.php\" dir=\"ltr\" href=\"https://t.co/jekXJAFaf5\" rel=\"nofollow noopener\" target=\"_blank\" title=\"http://www.appbank.net/2019/03/26/pcgames/1723154.php\"><span class=\"tco-ellipsis\"></span><span class=\"invisible\">http://www.</span><span class=\"js-display-url\">appbank.net/2019/03/26/pcg</span><span class=\"invisible\">ames/1723154.php</span><span class=\"tco-ellipsis\"><span class=\"invisible\"> </span>…</span></a>\n",
       "   \n",
       "   일루미네이션 스타즈\n",
       "   <a class=\"twitter-timeline-link\" data-expanded-url=\"https://www.famitsu.com/news/201903/26173418.html\" dir=\"ltr\" href=\"https://t.co/SwGajy1aGT\" rel=\"nofollow noopener\" target=\"_blank\" title=\"https://www.famitsu.com/news/201903/26173418.html\"><span class=\"tco-ellipsis\"></span><span class=\"invisible\">https://www.</span><span class=\"js-display-url\">famitsu.com/news/201903/26</span><span class=\"invisible\">173418.html</span><span class=\"tco-ellipsis\"><span class=\"invisible\"> </span>…</span></a>\n",
       "   \n",
       "   안티카\n",
       "   <a class=\"twitter-timeline-link\" data-expanded-url=\"https://www.4gamer.net/games/381/G038176/20190318098/\" dir=\"ltr\" href=\"https://t.co/Hu0trnEtQk\" rel=\"nofollow noopener\" target=\"_blank\" title=\"https://www.4gamer.net/games/381/G038176/20190318098/\"><span class=\"tco-ellipsis\"></span><span class=\"invisible\">https://www.</span><span class=\"js-display-url\">4gamer.net/games/381/G038</span><span class=\"invisible\">176/20190318098/</span><span class=\"tco-ellipsis\"><span class=\"invisible\"> </span>…</span></a></p>,\n",
       "   <p class=\"TweetTextSize js-tweet-text tweet-text\" data-aria-label-part=\"0\" lang=\"ko\">초코<strong>시리얼</strong>같이달콤하디달콤한 <a class=\"twitter-hashtag pretty-link js-nav\" data-query-source=\"hashtag_click\" dir=\"ltr\" href=\"/hashtag/%EC%96%BC%EC%94%A8%EA%B5%AC_%EB%B9%84%EB%B9%84%EC%94%A8_%ED%92%8D%EB%85%84%EC%9D%B4_%EC%99%94%EC%A7%80?src=hash\"><s>#</s><b>얼씨구_비비씨_풍년이_왔지</b></a> 시간들은자꾸왜금방사라질까이상해요초코<strong>시리얼</strong>땡긴다</p>,\n",
       "   <p class=\"TweetTextSize js-tweet-text tweet-text\" data-aria-label-part=\"0\" lang=\"ko\">샤니 <strong>시리얼</strong> 코드 잘 받았습니다.</p>,\n",
       "   <p class=\"TweetTextSize js-tweet-text tweet-text\" data-aria-label-part=\"0\" lang=\"ko\">힐러 맥주잔이랑 <strong>시리얼</strong>컵 누가만들어조 . . 이거 없어서 맥주랑 <strong>시리얼</strong>을 못먹어</p>,\n",
       "   <p class=\"TweetTextSize js-tweet-text tweet-text\" data-aria-label-part=\"0\" lang=\"ko\">노엘이 <strong>시리얼</strong>...? 저런, 벼룩은 먹는 거 아니란다.</p>,\n",
       "   <p class=\"TweetTextSize js-tweet-text tweet-text\" data-aria-label-part=\"0\" lang=\"ko\">야식은 <strong>시리얼</strong> <a class=\"twitter-timeline-link u-hidden\" data-pre-embedded=\"true\" dir=\"ltr\" href=\"https://t.co/utBGveRnuH\">pic.twitter.com/utBGveRnuH</a></p>,\n",
       "   <p class=\"TweetTextSize js-tweet-text tweet-text\" data-aria-label-part=\"0\" lang=\"ko\">어느정도 몸이 녹았는지 갱얼 쫌 움직이니까 맘놓는 뤔... 휴. 하면서 한숨 쉬는데 \"얌마 머하냥? <strong>시리얼</strong> 사오라니까 여기 앉아서 뭐해?\" \"..네???\" \"왜 놀라?.... 너 설마.\" 어케 별써 들켰나? 싶은 뤔 어케 설명하지 우물쭈물 대는데 한숨 쉬는 형님 \"허니 오레오즈로 사온거야?\" \"앗! 형님 그게...\" <a class=\"twitter-timeline-link\" data-pre-embedded=\"true\" dir=\"ltr\" href=\"https://t.co/vf9Dlpw2lH\">pic.twitter.com/vf9Dlpw2lH</a></p>,\n",
       "   <p class=\"TweetTextSize js-tweet-text tweet-text\" data-aria-label-part=\"0\" lang=\"ko\">아침 냠냠 <strong>시리얼</strong>은 여러번 나왔었지만 이런식으로 나오는건 처음이네 <a class=\"twitter-timeline-link\" data-pre-embedded=\"true\" dir=\"ltr\" href=\"https://t.co/pc5jzeX0qv\">pic.twitter.com/pc5jzeX0qv</a></p>,\n",
       "   <p class=\"TweetTextSize js-tweet-text tweet-text\" data-aria-label-part=\"0\" lang=\"ko\">자기 연성 퍼먹기 근데 인겜대로면 토마스가 착한것같아 봐주는거야 드라이도 안쓰고 데이트해주잖아<a class=\"twitter-timeline-link u-hidden\" data-pre-embedded=\"true\" dir=\"ltr\" href=\"https://t.co/L2uEQC5q0B\">pic.twitter.com/L2uEQC5q0B</a></p>]},\n",
       " {'Date': datetime.date(2019, 3, 28),\n",
       "  'tweets': [<p class=\"TweetTextSize js-tweet-text tweet-text\" data-aria-label-part=\"0\" lang=\"ko\"><img alt=\"💛\" aria-label=\"Emoji: 노란색 하트 \" class=\"Emoji Emoji--forText\" draggable=\"false\" src=\"https://abs.twimg.com/emoji/v2/72x72/1f49b.png\" title=\"노란색 하트 \"/>기범이의 아침 <img alt=\"🥞\" aria-label=\"Emoji: 팬케이크\" class=\"Emoji Emoji--forText\" draggable=\"false\" src=\"https://abs.twimg.com/emoji/v2/72x72/1f95e.png\" title=\"팬케이크\"/> <img alt=\"🍳\" aria-label=\"Emoji: 요리\" class=\"Emoji Emoji--forText\" draggable=\"false\" src=\"https://abs.twimg.com/emoji/v2/72x72/1f373.png\" title=\"요리\"/> <img alt=\"🖤\" aria-label=\"Emoji: 검정색 하트\" class=\"Emoji Emoji--forText\" draggable=\"false\" src=\"https://abs.twimg.com/emoji/v2/72x72/1f5a4.png\" title=\"검정색 하트\"/>\n",
       "   -북어채국\n",
       "   -돼지고기김치볶음\n",
       "   -맛김\n",
       "   -배추김치\n",
       "   \n",
       "   <img alt=\"💚\" aria-label=\"Emoji: 녹색 하트\" class=\"Emoji Emoji--forText\" draggable=\"false\" src=\"https://abs.twimg.com/emoji/v2/72x72/1f49a.png\" title=\"녹색 하트\"/>기범이의 점심<img alt=\"🥗\" aria-label=\"Emoji: 야채 샐러드\" class=\"Emoji Emoji--forText\" draggable=\"false\" src=\"https://abs.twimg.com/emoji/v2/72x72/1f957.png\" title=\"야채 샐러드\"/> <img alt=\"🥙\" aria-label=\"Emoji: 속을 채운 납작한 빵\" class=\"Emoji Emoji--forText\" draggable=\"false\" src=\"https://abs.twimg.com/emoji/v2/72x72/1f959.png\" title=\"속을 채운 납작한 빵\"/> <img alt=\"💙\" aria-label=\"Emoji: 파란색 하트\" class=\"Emoji Emoji--forText\" draggable=\"false\" src=\"https://abs.twimg.com/emoji/v2/72x72/1f499.png\" title=\"파란색 하트\"/>\n",
       "   -닭볶음탕\n",
       "   -만두튀김\n",
       "   -배추겉절이\n",
       "   -현미밥\n",
       "   -깍두기\n",
       "   \n",
       "   <img alt=\"🧡\" aria-label=\"Emoji: 주황색 하트\" class=\"Emoji Emoji--forText\" draggable=\"false\" src=\"https://abs.twimg.com/emoji/v2/72x72/1f9e1.png\" title=\"주황색 하트\"/>기범이의 저녁<img alt=\"🥘\" aria-label=\"Emoji: 빠에야\" class=\"Emoji Emoji--forText\" draggable=\"false\" src=\"https://abs.twimg.com/emoji/v2/72x72/1f958.png\" title=\"빠에야\"/> <img alt=\"🍽\" aria-label=\"Emoji: 접시 및 포크와 나이프\" class=\"Emoji Emoji--forText\" draggable=\"false\" src=\"https://abs.twimg.com/emoji/v2/72x72/1f37d.png\" title=\"접시 및 포크와 나이프\"/> <img alt=\"🖤\" aria-label=\"Emoji: 검정색 하트\" class=\"Emoji Emoji--forText\" draggable=\"false\" src=\"https://abs.twimg.com/emoji/v2/72x72/1f5a4.png\" title=\"검정색 하트\"/>\n",
       "   -햄치즈버거\n",
       "   -삶은달걀\n",
       "   -감자튀김\n",
       "   -<strong>시리얼</strong>(쌀/초코 혼합)\n",
       "   \n",
       "   <img alt=\"❤️\" aria-label=\"Emoji: 두꺼운 빨간색 하트\" class=\"Emoji Emoji--forText\" draggable=\"false\" src=\"https://abs.twimg.com/emoji/v2/72x72/2764.png\" title=\"두꺼운 빨간색 하트\"/>기범이의 후식<img alt=\"🥓\" aria-label=\"Emoji: 베이컨\" class=\"Emoji Emoji--forText\" draggable=\"false\" src=\"https://abs.twimg.com/emoji/v2/72x72/1f953.png\" title=\"베이컨\"/><img alt=\"🧁\" aria-label=\"Emoji: Cupcake\" class=\"Emoji Emoji--forText\" draggable=\"false\" src=\"https://abs.twimg.com/emoji/v2/72x72/1f9c1.png\" title=\"Cupcake\"/> <img alt=\"💛\" aria-label=\"Emoji: 노란색 하트 \" class=\"Emoji Emoji--forText\" draggable=\"false\" src=\"https://abs.twimg.com/emoji/v2/72x72/1f49b.png\" title=\"노란색 하트 \"/>\n",
       "   -우유\n",
       "   -딸기</p>,\n",
       "   <p class=\"TweetTextSize js-tweet-text tweet-text\" data-aria-label-part=\"0\" lang=\"ko\">제레미 : 이안이 잠이 덜 깼는지 멍한 눈으로 일어나서 그릇에 <strong>시리얼</strong>을 붓고 우유라고 생각했는지 커피 포트를 들어 그릇에 부어버렸어. 놀라는 날 보고 그제야 잠이 깼는지 급하게 \"아..아냐! 그런거 아냐! 그저 새로운 음식에 대한 시도를 했을 뿐이야\" 라고 하더라!</p>,\n",
       "   <p class=\"TweetTextSize js-tweet-text tweet-text\" data-aria-label-part=\"0\" lang=\"ko\"><img alt=\"🥣\" aria-label=\"Emoji: 스푼이 놓인 그릇\" class=\"Emoji Emoji--forText\" draggable=\"false\" src=\"https://abs.twimg.com/emoji/v2/72x72/1f963.png\" title=\"스푼이 놓인 그릇\"/>허쉬 초코크런치 다크초코 <strong>시리얼</strong>\n",
       "   6?7천원대..?\n",
       "   E마트 구매\n",
       "   \n",
       "   님들아 이 대박 존맛 <strong>시리얼</strong>을 아시는지요....네모난 쿠키베이스를 파삭 씹으면 안에 꾸덕한 초코가 가득 차있답니다 이거 그..까만초코가 먼저나왔던것같은데 갠적으로 이게 너무 넘사인것같아요 흑흑 완전 인간사료예요ㅜ <a class=\"twitter-timeline-link\" data-pre-embedded=\"true\" dir=\"ltr\" href=\"https://t.co/NM5cMHHmc5\">pic.twitter.com/NM5cMHHmc5</a></p>,\n",
       "   <p class=\"TweetTextSize js-tweet-text tweet-text\" data-aria-label-part=\"0\" lang=\"ko\">이럴거면 <strong>시리얼</strong>코드는 왜 뿌림???</p>,\n",
       "   <p class=\"TweetTextSize js-tweet-text tweet-text\" data-aria-label-part=\"0\" lang=\"ko\"><strong>시리얼</strong> 너무 조아~ <a class=\"twitter-timeline-link u-hidden\" data-pre-embedded=\"true\" dir=\"ltr\" href=\"https://t.co/haVQdHrDhS\">pic.twitter.com/haVQdHrDhS</a></p>,\n",
       "   <p class=\"TweetTextSize js-tweet-text tweet-text\" data-aria-label-part=\"0\" lang=\"ko\">게다가 지믽은 관리도 하고 있어서 많이 먹질 못 했지.\n",
       "   \n",
       "   오늘 스케줄 없지?\n",
       "   너 만나려고 약속도 다 취소했어.\n",
       "   굳이 그럴 필요까지는 없는데.\n",
       "   이때 아니면 얼굴 볼 일이 없어서 그래.\n",
       "   \n",
       "   고개를 끄덕이며 두 사람은 서로의 <strong>시리얼</strong>에 집중했어.</p>,\n",
       "   <p class=\"TweetTextSize js-tweet-text tweet-text\" data-aria-label-part=\"0\" lang=\"ko\"><a class=\"twitter-atreply pretty-link js-nav\" data-mentioned-user-id=\"2322626580\" dir=\"ltr\" href=\"/springonionss\"><s>@</s><b>springonionss</b></a> \n",
       "   \n",
       "   배쿠노아사랑 시우짱노요루 잘 받았습니다!!\n",
       "   너무 이뻐요ㅠㅠ 아침에 <strong>시리얼</strong>먹을 때마다 행복할 것 같네요\n",
       "   너무 감사드립니다♡♡ <a class=\"twitter-timeline-link\" data-pre-embedded=\"true\" dir=\"ltr\" href=\"https://t.co/JUEF3MUPQV\">pic.twitter.com/JUEF3MUPQV</a></p>,\n",
       "   <p class=\"TweetTextSize js-tweet-text tweet-text\" data-aria-label-part=\"4\" lang=\"ko\">약속안지켜서 파스타지옥에서 썩고있음\n",
       "   지금 식사 1시간째하고있음\n",
       "   미친거아냐 나진짜죽어\n",
       "   파스타 2131인분만들었어\n",
       "   살려주세요\n",
       "   다음부턴<strong>시리얼</strong>먹을게요 <a class=\"twitter-timeline-link u-hidden\" data-expanded-url=\"https://twitter.com/potatocorndog/status/1111128553536389120\" dir=\"ltr\" href=\"https://t.co/UaI19SWfNs\" rel=\"nofollow noopener\" target=\"_blank\" title=\"https://twitter.com/potatocorndog/status/1111128553536389120\"><span class=\"tco-ellipsis\"></span><span class=\"invisible\">https://</span><span class=\"js-display-url\">twitter.com/potatocorndog/</span><span class=\"invisible\">status/1111128553536389120</span><span class=\"tco-ellipsis\"><span class=\"invisible\"> </span>…</span></a></p>,\n",
       "   <p class=\"TweetTextSize js-tweet-text tweet-text\" data-aria-label-part=\"0\" lang=\"ko\">그릇마시멜로우 <strong>시리얼</strong>...</p>,\n",
       "   <p class=\"TweetTextSize js-tweet-text tweet-text\" data-aria-label-part=\"0\" lang=\"ko\"><a class=\"twitter-atreply pretty-link js-nav\" data-mentioned-user-id=\"2322626580\" dir=\"ltr\" href=\"/springonionss\"><s>@</s><b>springonionss</b></a>  송송님<img alt=\"✨\" aria-label=\"Emoji: 광채\" class=\"Emoji Emoji--forText\" draggable=\"false\" src=\"https://abs.twimg.com/emoji/v2/72x72/2728.png\" title=\"광채\"/> 시우짱노요루 잘 도착했습니다<img alt=\"🥰\" aria-label=\"Emoji: Smiling face with 3 hearts\" class=\"Emoji Emoji--forText\" draggable=\"false\" src=\"https://abs.twimg.com/emoji/v2/72x72/1f970.png\" title=\"Smiling face with 3 hearts\"/>너무 예쁘구 귀여워유ㅠㅠㅠㅠㅠ<strong>시리얼</strong> 매일 먹을게욥<img alt=\"💙\" aria-label=\"Emoji: 파란색 하트\" class=\"Emoji Emoji--forText\" draggable=\"false\" src=\"https://abs.twimg.com/emoji/v2/72x72/1f499.png\" title=\"파란색 하트\"/><img alt=\"💙\" aria-label=\"Emoji: 파란색 하트\" class=\"Emoji Emoji--forText\" draggable=\"false\" src=\"https://abs.twimg.com/emoji/v2/72x72/1f499.png\" title=\"파란색 하트\"/> <a class=\"twitter-timeline-link u-hidden\" data-pre-embedded=\"true\" dir=\"ltr\" href=\"https://t.co/LiUIA7HS6r\">pic.twitter.com/LiUIA7HS6r</a></p>,\n",
       "   <p class=\"TweetTextSize js-tweet-text tweet-text\" data-aria-label-part=\"0\" lang=\"ko\">여러분 '크레마 세트'가 있다는 거 알고계신가요??<img alt=\"🤔\" aria-label=\"Emoji: 생각하는 얼굴\" class=\"Emoji Emoji--forText\" draggable=\"false\" src=\"https://abs.twimg.com/emoji/v2/72x72/1f914.png\" title=\"생각하는 얼굴\"/>\n",
       "   예스24에서 단독 이벤트로 크레마와 다양한 책 및 ebook을 묶어 할인 판매를 하고있습니다<img alt=\"👏\" aria-label=\"Emoji: 손뼉을 치는 손 기호 \" class=\"Emoji Emoji--forText\" draggable=\"false\" src=\"https://abs.twimg.com/emoji/v2/72x72/1f44f.png\" title=\"손뼉을 치는 손 기호 \"/><img alt=\"👏\" aria-label=\"Emoji: 손뼉을 치는 손 기호 \" class=\"Emoji Emoji--forText\" draggable=\"false\" src=\"https://abs.twimg.com/emoji/v2/72x72/1f44f.png\" title=\"손뼉을 치는 손 기호 \"/>\n",
       "   구매 후 크레마 <strong>시리얼</strong> 넘버 인증하면 상품권도 증정해드려요<img alt=\"‼️\" aria-label=\"Emoji: 이중 느낌표 \" class=\"Emoji Emoji--forText\" draggable=\"false\" src=\"https://abs.twimg.com/emoji/v2/72x72/203c.png\" title=\"이중 느낌표 \"/>\n",
       "   사은품으로 히어로즈 크레마 파우치도 따라간답니다<img alt=\"😉\" aria-label=\"Emoji: 윙크한 표정\" class=\"Emoji Emoji--forText\" draggable=\"false\" src=\"https://abs.twimg.com/emoji/v2/72x72/1f609.png\" title=\"윙크한 표정\"/>\n",
       "   <a class=\"twitter-timeline-link\" data-expanded-url=\"http://m.yes24.com/Event/EventDetail?eventNo=156063\" dir=\"ltr\" href=\"https://t.co/YcdLbNpkfr\" rel=\"nofollow noopener\" target=\"_blank\" title=\"http://m.yes24.com/Event/EventDetail?eventNo=156063\"><span class=\"tco-ellipsis\"></span><span class=\"invisible\">http://</span><span class=\"js-display-url\">m.yes24.com/Event/EventDet</span><span class=\"invisible\">ail?eventNo=156063</span><span class=\"tco-ellipsis\"><span class=\"invisible\"> </span>…</span></a> <a class=\"twitter-timeline-link\" data-pre-embedded=\"true\" dir=\"ltr\" href=\"https://t.co/koIaZSpKvA\">pic.twitter.com/koIaZSpKvA</a></p>,\n",
       "   <p class=\"TweetTextSize js-tweet-text tweet-text\" data-aria-label-part=\"0\" lang=\"ko\">밀레니얼들의 취향이 바뀌곤 있지만, 실은 더 복잡한 원인이 존재하는 12가지 제품 분석: <strong>시리얼</strong>; 캐주얼 다이닝; 백화점; 명품; 케이블 TV; 헬스클럽; 치즈; 맥주; 참치캔; 오토바이; 골프; 건포도\n",
       "   <a class=\"twitter-timeline-link\" data-expanded-url=\"https://www.cbinsights.com/research/millennials-killing-industries/\" dir=\"ltr\" href=\"https://t.co/wyN9st6Vsc\" rel=\"nofollow noopener\" target=\"_blank\" title=\"https://www.cbinsights.com/research/millennials-killing-industries/\"><span class=\"tco-ellipsis\"></span><span class=\"invisible\">https://www.</span><span class=\"js-display-url\">cbinsights.com/research/mille</span><span class=\"invisible\">nnials-killing-industries/</span><span class=\"tco-ellipsis\"><span class=\"invisible\"> </span>…</span></a></p>,\n",
       "   <p class=\"TweetTextSize js-tweet-text tweet-text\" data-aria-label-part=\"0\" lang=\"ko\">우유없이 초코<strong>시리얼</strong> 머꼬싶다</p>,\n",
       "   <p class=\"TweetTextSize js-tweet-text tweet-text\" data-aria-label-part=\"0\" lang=\"ko\">사진 보고 개쩔어서 와 다이어트@해 볼까 .. 햇다가 식탁에서 날 부르는 오예스와 <strong>시리얼</strong>의 유혹을 참지 몯햇 아. <a class=\"twitter-timeline-link u-hidden\" data-pre-embedded=\"true\" dir=\"ltr\" href=\"https://t.co/YhUN8Nzb80\">pic.twitter.com/YhUN8Nzb80</a></p>,\n",
       "   <p class=\"TweetTextSize js-tweet-text tweet-text\" data-aria-label-part=\"0\" lang=\"ko\"><strong>시리얼</strong>머거야징</p>,\n",
       "   <p class=\"TweetTextSize js-tweet-text tweet-text\" data-aria-label-part=\"0\" lang=\"ko\">초코링 <strong>시리얼</strong>에 왜 간첩이 들어있냐고 <a class=\"twitter-timeline-link u-hidden\" data-pre-embedded=\"true\" dir=\"ltr\" href=\"https://t.co/e44ToMzldt\">pic.twitter.com/e44ToMzldt</a></p>,\n",
       "   <p class=\"TweetTextSize js-tweet-text tweet-text\" data-aria-label-part=\"0\" lang=\"ko\"><strong>시리얼</strong> 먹으면서 그리다가 점점 눅눅해지고 있다는걸 깨달았을 때..... <a class=\"twitter-timeline-link u-hidden\" data-pre-embedded=\"true\" dir=\"ltr\" href=\"https://t.co/5QdTVRIsJ0\">pic.twitter.com/5QdTVRIsJ0</a></p>,\n",
       "   <p class=\"TweetTextSize js-tweet-text tweet-text\" data-aria-label-part=\"0\" lang=\"ko\">커플<strong>시리얼</strong>그릇</p>,\n",
       "   <p class=\"TweetTextSize js-tweet-text tweet-text\" data-aria-label-part=\"0\" lang=\"ko\">페라리에 루이지가 와 있는데? <a class=\"twitter-timeline-link\" data-pre-embedded=\"true\" dir=\"ltr\" href=\"https://t.co/PFphAgwWSS\">pic.twitter.com/PFphAgwWSS</a></p>,\n",
       "   <p class=\"TweetTextSize js-tweet-text tweet-text\" data-aria-label-part=\"0\" lang=\"ko\">- 오늘 공강이랬지.\n",
       "   - 네, 완전 꿀.\n",
       "   - ....나 퇴근하고 와서도 너 있었으면 좋겠다.\n",
       "   \n",
       "   <strong>시리얼</strong> 먹으면서 툭 내뱉은 말에 국 그런 믽윤 흘깃 보구 암말 안한다,,\n",
       "   \n",
       "   - ...미안, 주책이다. 그냥 너랑 이러고 있으니까 마음이..약간..좋네..\n",
       "   - 출근 준비나 해여.\n",
       "   - ...응..</p>]}]"
      ]
     },
     "execution_count": 8,
     "metadata": {},
     "output_type": "execute_result"
    }
   ],
   "source": [
    "tweet_text # [ { date : date , tweet_text : []}  ]\n",
    "# str(tweet_text[0]['tweets'])"
   ]
  },
  {
   "cell_type": "markdown",
   "metadata": {},
   "source": [
    "한글만 남기기"
   ]
  },
  {
   "cell_type": "code",
   "execution_count": 9,
   "metadata": {},
   "outputs": [
    {
     "name": "stdout",
     "output_type": "stream",
     "text": [
      "        노란색 하트      노란색 하트 기범이의 아침    팬케이크     팬케이크    요리     요리    검정색 하트     검정색 하트북어채국돼지고기김치볶음맛김배추김치   녹색 하트     녹색 하트기범이의 점심   야채 샐러드     야채 샐러드    속을 채운 납작한 빵     속을 채운 납작한 빵    파란색 하트     파란색 하트닭볶음탕만두튀김배추겉절이현미밥깍두기   주황색 하트     주황색 하트기범이의 저녁   빠에야     빠에야    접시 및 포크와 나이프     접시 및 포크와 나이프    검정색 하트     검정색 하트햄치즈버거삶은달걀감자튀김시리얼쌀초코 혼합   두꺼운 빨간색 하트     두꺼운 빨간색 하트기범이의 후식   베이컨     베이컨            노란색 하트      노란색 하트 우유딸기      제레미  이안이 잠이 덜 깼는지 멍한 눈으로 일어나서 그릇에 시리얼을 붓고 우유라고 생각했는지 커피 포트를 들어 그릇에 부어버렸어 놀라는 날 보고 그제야 잠이 깼는지 급하게 아아냐 그런거 아냐 그저 새로운 음식에 대한 시도를 했을 뿐이야 라고 하더라         스푼이 놓인 그릇     스푼이 놓인 그릇허쉬 초코크런치 다크초코 시리얼천원대마트 구매님들아 이 대박 존맛 시리얼을 아시는지요네모난 쿠키베이스를 파삭 씹으면 안에 꾸덕한 초코가 가득 차있답니다 이거 그까만초코가 먼저나왔던것같은데 갠적으로 이게 너무 넘사인것같아요 흑흑 완전 인간사료예요ㅜ           이럴거면 시리얼코드는 왜 뿌림      시리얼 너무 조아            게다가 지믽은 관리도 하고 있어서 많이 먹질 못 했지오늘 스케줄 없지너 만나려고 약속도 다 취소했어굳이 그럴 필요까지는 없는데이때 아니면 얼굴 볼 일이 없어서 그래고개를 끄덕이며 두 사람은 서로의 시리얼에 집중했어             배쿠노아사랑 시우짱노요루 잘 받았습니다너무 이뻐요ㅠㅠ 아침에 시리얼먹을 때마다 행복할 것 같네요너무 감사드립니다           약속안지켜서 파스타지옥에서 썩고있음지금 식사 시간째하고있음미친거아냐 나진짜죽어파스타 인분만들었어살려주세요다음부턴시리얼먹을게요                      그릇마시멜로우 시리얼              송송님   광채     광채 시우짱노요루 잘 도착했습니다                너무 예쁘구 귀여워유ㅠㅠㅠㅠㅠ시리얼 매일 먹을게욥   파란색 하트     파란색 하트   파란색 하트     파란색 하트            여러분 크레마 세트가 있다는 거 알고계신가요   생각하는 얼굴     생각하는 얼굴예스에서 단독 이벤트로 크레마와 다양한 책 및 을 묶어 할인 판매를 하고있습니다   손뼉을 치는 손 기호      손뼉을 치는 손 기호    손뼉을 치는 손 기호      손뼉을 치는 손 기호 구매 후 크레마 시리얼 넘버 인증하면 상품권도 증정해드려요   이중 느낌표      이중 느낌표 사은품으로 히어로즈 크레마 파우치도 따라간답니다   윙크한 표정     윙크한 표정                         밀레니얼들의 취향이 바뀌곤 있지만 실은 더 복잡한 원인이 존재하는 가지 제품 분석 시리얼 캐주얼 다이닝 백화점 명품 케이블  헬스클럽 치즈 맥주 참치캔 오토바이 골프 건포도                    우유없이 초코시리얼 머꼬싶다      사진 보고 개쩔어서 와 다이어트해 볼까  햇다가 식탁에서 날 부르는 오예스와 시리얼의 유혹을 참지 몯햇 아            시리얼머거야징      초코링 시리얼에 왜 간첩이 들어있냐고            시리얼 먹으면서 그리다가 점점 눅눅해지고 있다는걸 깨달았을 때            커플시리얼그릇      페라리에 루이지가 와 있는데            오늘 공강이랬지 네 완전 꿀 나 퇴근하고 와서도 너 있었으면 좋겠다시리얼 먹으면서 툭 내뱉은 말에 국 그런 믽윤 흘깃 보구 암말 안한다 미안 주책이다 그냥 너랑 이러고 있으니까 마음이약간좋네 출근 준비나 해여 응\n"
     ]
    }
   ],
   "source": [
    "hangul = re.compile('[^ ㄱ-ㅣ가-힣]+') # 한글과 띄어쓰기를 제외한 모든 글자\n",
    "\n",
    "hangul_tweet = {}\n",
    "\n",
    "for t in tweet_text :\n",
    "    hangul_tweet = hangul.sub('', str(t['tweets'])) # 한글과 띄어쓰기를 제외한 모든 부분을 제거\n",
    "\n",
    "print(hangul_tweet)"
   ]
  },
  {
   "cell_type": "code",
   "execution_count": 137,
   "metadata": {},
   "outputs": [],
   "source": [
    "# import json\n",
    "\n",
    "# with open('uni_stu.data', 'w', encoding='utf=8') as f :\n",
    "#     json.dump(hangul_tweet, f)\n"
   ]
  },
  {
   "cell_type": "code",
   "execution_count": 12,
   "metadata": {},
   "outputs": [],
   "source": [
    "data_file = 'tw_cereal.data'\n",
    "\n",
    "with open(data_file, 'w', encoding='utf=8') as fp :\n",
    "    fp.write(\"\".join(hangul_tweet))"
   ]
  },
  {
   "cell_type": "code",
   "execution_count": null,
   "metadata": {},
   "outputs": [],
   "source": []
  }
 ],
 "metadata": {
  "kernelspec": {
   "display_name": "Python 3",
   "language": "python",
   "name": "python3"
  },
  "language_info": {
   "codemirror_mode": {
    "name": "ipython",
    "version": 3
   },
   "file_extension": ".py",
   "mimetype": "text/x-python",
   "name": "python",
   "nbconvert_exporter": "python",
   "pygments_lexer": "ipython3",
   "version": "3.7.1"
  }
 },
 "nbformat": 4,
 "nbformat_minor": 2
}
