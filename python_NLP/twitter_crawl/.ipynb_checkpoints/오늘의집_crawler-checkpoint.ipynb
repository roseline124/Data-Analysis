{
 "cells": [
  {
   "cell_type": "markdown",
   "metadata": {},
   "source": [
    "## Import Libraries"
   ]
  },
  {
   "cell_type": "code",
   "execution_count": 29,
   "metadata": {},
   "outputs": [],
   "source": [
    "import requests, re, time, random\n",
    "import datetime as dt\n",
    "import pandas as pd \n",
    "from bs4 import BeautifulSoup as bs \n",
    "from selenium import webdriver\n",
    "from selenium.webdriver.common.keys import Keys\n",
    "from tqdm import tqdm_notebook"
   ]
  },
  {
   "cell_type": "code",
   "execution_count": 34,
   "metadata": {},
   "outputs": [],
   "source": [
    "driver = webdriver.Chrome('C:/chrome/chromedriver.exe')"
   ]
  },
  {
   "cell_type": "markdown",
   "metadata": {},
   "source": [
    "## Setting Constant"
   ]
  },
  {
   "cell_type": "code",
   "execution_count": 38,
   "metadata": {},
   "outputs": [],
   "source": [
    "KEYWORD = '집+인테리어'\n",
    "START_DATE = dt.date(year=2019, month=5, day=1)\n",
    "UNTIL_DATE = dt.date(year=2019, month=5, day=2)\n",
    "END_DATE = dt.date(year=2019, month=6, day=2)\n",
    "SLEEP_RANDOM = random.randint(1,3)\n",
    "GET_HEIGHT = \"return document.body.scrollHeight\"\n",
    "GET_LAST_HEIGHT = \"return $(document).height() - $(window).height();\"\n",
    "MOVE_SCROLL = \"window.scrollTo(0, document.body.scrollHeight);\""
   ]
  },
  {
   "cell_type": "code",
   "execution_count": 39,
   "metadata": {},
   "outputs": [],
   "source": [
    "def parse() :\n",
    "    html = driver.page_source\n",
    "    soup = bs(html, 'html.parser')  \n",
    "    \n",
    "    return soup\n",
    "\n",
    "def control(driver, statement) :\n",
    "\n",
    "    if (statement == GET_HEIGHT) | (statement == GET_LAST_HEIGHT) :\n",
    "        result = driver.execute_script(statement)\n",
    "        return result\n",
    "\n",
    "    else : \n",
    "        driver.execute_script(statement)"
   ]
  },
  {
   "cell_type": "markdown",
   "metadata": {},
   "source": [
    "## Crawling Code"
   ]
  },
  {
   "cell_type": "code",
   "execution_count": 40,
   "metadata": {},
   "outputs": [],
   "source": [
    "from tqdm import tqdm_notebook\n",
    "\n",
    "tweet_text = [] \n",
    "\n",
    "while END_DATE != START_DATE :\n",
    "    URL = f'https://twitter.com/search?l=&q={KEYWORD}%20since%3A{str(START_DATE)}%20until%3A{str(UNTIL_DATE)}&src=typd'\n",
    "    driver.get(URL)\n",
    "    time.sleep(SLEEP_RANDOM)\n",
    "    \n",
    "    daily_tw = {'Date':START_DATE}\n",
    "    tweets = []\n",
    "    currHeight = control(driver, GET_HEIGHT)\n",
    "    \n",
    "    while True : \n",
    "        soup = parse()\n",
    "        \n",
    "        tmp = soup.find_all(\"p\", {\"class\" : \"TweetTextSize\"})\n",
    "        tweets.extend(tmp)\n",
    "        \n",
    "        control(driver, MOVE_SCROLL)\n",
    "        time.sleep(SLEEP_RANDOM)    \n",
    "\n",
    "        lastHeight = control(driver, GET_HEIGHT) #현재 스크롤 기준 마지막 높이\n",
    "\n",
    "\n",
    "        if lastHeight == currHeight : #현재 스크롤이 움직임이 더이상 없다면 맨 끝에 위치했다는 것. \n",
    "            daily_tw['tweets'] = tweets\n",
    "            tweet_text.append(daily_tw)\n",
    "            START_DATE = UNTIL_DATE\n",
    "            UNTIL_DATE += dt.timedelta(days=1) \n",
    "            \n",
    "            break\n",
    "            \n",
    "        currHeight = lastHeight"
   ]
  },
  {
   "cell_type": "markdown",
   "metadata": {},
   "source": [
    "한글만 남기기"
   ]
  },
  {
   "cell_type": "code",
   "execution_count": 41,
   "metadata": {},
   "outputs": [
    {
     "name": "stdout",
     "output_type": "stream",
     "text": [
      "     친구 둘이 살기 딱 좋은 구조                      구해줘홈즈       제주도       인테리어      엄마네 집 근처에 있는 카페갬성적인 인테리어가\n"
     ]
    }
   ],
   "source": [
    "hangul = re.compile('[^ ㄱ-ㅣ가-힣]+') # 한글과 띄어쓰기를 제외한 모든 글자\n",
    "\n",
    "hangul_tweet = {}\n",
    "\n",
    "for t in tweet_text :\n",
    "    hangul_tweet = hangul.sub('', str(t['tweets'])) # 한글과 띄어쓰기를 제외한 모든 부분을 제거\n",
    "\n",
    "print(hangul_tweet[:100])"
   ]
  },
  {
   "cell_type": "code",
   "execution_count": 42,
   "metadata": {},
   "outputs": [],
   "source": [
    "data_file = 'tw_todayhouse.data'\n",
    "\n",
    "with open(data_file, 'w', encoding='utf=8') as fp :\n",
    "    fp.write(\"\".join(hangul_tweet))"
   ]
  },
  {
   "cell_type": "code",
   "execution_count": null,
   "metadata": {},
   "outputs": [],
   "source": []
  }
 ],
 "metadata": {
  "kernelspec": {
   "display_name": "Python 3",
   "language": "python",
   "name": "python3"
  },
  "language_info": {
   "codemirror_mode": {
    "name": "ipython",
    "version": 3
   },
   "file_extension": ".py",
   "mimetype": "text/x-python",
   "name": "python",
   "nbconvert_exporter": "python",
   "pygments_lexer": "ipython3",
   "version": "3.7.1"
  }
 },
 "nbformat": 4,
 "nbformat_minor": 2
}
