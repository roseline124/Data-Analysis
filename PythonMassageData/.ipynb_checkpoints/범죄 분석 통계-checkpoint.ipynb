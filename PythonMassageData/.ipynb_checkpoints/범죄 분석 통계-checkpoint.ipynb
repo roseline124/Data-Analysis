{
 "cells": [
  {
   "cell_type": "code",
   "execution_count": 2,
   "metadata": {},
   "outputs": [],
   "source": [
    "import pandas as pd"
   ]
  },
  {
   "cell_type": "markdown",
   "metadata": {},
   "source": [
    "# 생활정도에 따른 범죄율"
   ]
  },
  {
   "cell_type": "code",
   "execution_count": 226,
   "metadata": {},
   "outputs": [
    {
     "data": {
      "text/html": [
       "<div>\n",
       "<style scoped>\n",
       "    .dataframe tbody tr th:only-of-type {\n",
       "        vertical-align: middle;\n",
       "    }\n",
       "\n",
       "    .dataframe tbody tr th {\n",
       "        vertical-align: top;\n",
       "    }\n",
       "\n",
       "    .dataframe thead th {\n",
       "        text-align: right;\n",
       "    }\n",
       "</style>\n",
       "<table border=\"1\" class=\"dataframe\">\n",
       "  <thead>\n",
       "    <tr style=\"text-align: right;\">\n",
       "      <th></th>\n",
       "      <th>범죄중분류</th>\n",
       "      <th>생활정도(계)</th>\n",
       "      <th>생활정도(하류)</th>\n",
       "      <th>생활정도(중류)</th>\n",
       "      <th>생활정도(상류)</th>\n",
       "    </tr>\n",
       "  </thead>\n",
       "  <tbody>\n",
       "    <tr>\n",
       "      <th>0</th>\n",
       "      <td>살인기수</td>\n",
       "      <td>379</td>\n",
       "      <td>238</td>\n",
       "      <td>70</td>\n",
       "      <td>3</td>\n",
       "    </tr>\n",
       "    <tr>\n",
       "      <th>1</th>\n",
       "      <td>살인미수등</td>\n",
       "      <td>616</td>\n",
       "      <td>429</td>\n",
       "      <td>114</td>\n",
       "      <td>7</td>\n",
       "    </tr>\n",
       "    <tr>\n",
       "      <th>2</th>\n",
       "      <td>강도</td>\n",
       "      <td>1,716</td>\n",
       "      <td>1,201</td>\n",
       "      <td>347</td>\n",
       "      <td>9</td>\n",
       "    </tr>\n",
       "    <tr>\n",
       "      <th>3</th>\n",
       "      <td>강간</td>\n",
       "      <td>5,829</td>\n",
       "      <td>2,361</td>\n",
       "      <td>1,714</td>\n",
       "      <td>81</td>\n",
       "    </tr>\n",
       "    <tr>\n",
       "      <th>4</th>\n",
       "      <td>유사강간</td>\n",
       "      <td>598</td>\n",
       "      <td>292</td>\n",
       "      <td>196</td>\n",
       "      <td>6</td>\n",
       "    </tr>\n",
       "  </tbody>\n",
       "</table>\n",
       "</div>"
      ],
      "text/plain": [
       "   범죄중분류 생활정도(계) 생활정도(하류) 생활정도(중류) 생활정도(상류)\n",
       "0   살인기수     379      238       70        3\n",
       "1  살인미수등     616      429      114        7\n",
       "2     강도   1,716    1,201      347        9\n",
       "3     강간   5,829    2,361    1,714       81\n",
       "4   유사강간     598      292      196        6"
      ]
     },
     "execution_count": 226,
     "metadata": {},
     "output_type": "execute_result"
    }
   ],
   "source": [
    "df = pd.read_csv('dataset/criminal_lifestyle.csv', \n",
    "                 encoding='utf-8')\n",
    "df_life = df.loc[:,\"범죄중분류\":\"생활정도(상류)\"]\n",
    "df_life.head()"
   ]
  },
  {
   "cell_type": "markdown",
   "metadata": {},
   "source": [
    "#### <font color=\"#007acc\"> row, column 뒤집기 :df.T </font>"
   ]
  },
  {
   "cell_type": "code",
   "execution_count": 207,
   "metadata": {},
   "outputs": [],
   "source": [
    "# df = df.T\n",
    "# df.head()"
   ]
  },
  {
   "cell_type": "code",
   "execution_count": 234,
   "metadata": {},
   "outputs": [
    {
     "ename": "KeyError",
     "evalue": "\"['생활정도(계)'] not found in axis\"",
     "output_type": "error",
     "traceback": [
      "\u001b[1;31m---------------------------------------------------------------------------\u001b[0m",
      "\u001b[1;31mKeyError\u001b[0m                                  Traceback (most recent call last)",
      "\u001b[1;32m<ipython-input-234-f1e4b3532e2d>\u001b[0m in \u001b[0;36m<module>\u001b[1;34m\u001b[0m\n\u001b[1;32m----> 1\u001b[1;33m \u001b[0mdf_life\u001b[0m\u001b[1;33m.\u001b[0m\u001b[0mdrop\u001b[0m\u001b[1;33m(\u001b[0m\u001b[1;33m[\u001b[0m\u001b[1;34m\"생활정도(계)\"\u001b[0m\u001b[1;33m]\u001b[0m\u001b[1;33m,\u001b[0m \u001b[0maxis\u001b[0m\u001b[1;33m=\u001b[0m\u001b[1;36m1\u001b[0m\u001b[1;33m,\u001b[0m \u001b[0minplace\u001b[0m\u001b[1;33m=\u001b[0m\u001b[1;32mTrue\u001b[0m\u001b[1;33m)\u001b[0m\u001b[1;33m\u001b[0m\u001b[1;33m\u001b[0m\u001b[0m\n\u001b[0m",
      "\u001b[1;32m~\\Anaconda3\\envs\\py36\\lib\\site-packages\\pandas\\core\\frame.py\u001b[0m in \u001b[0;36mdrop\u001b[1;34m(self, labels, axis, index, columns, level, inplace, errors)\u001b[0m\n\u001b[0;32m   3938\u001b[0m                                            \u001b[0mindex\u001b[0m\u001b[1;33m=\u001b[0m\u001b[0mindex\u001b[0m\u001b[1;33m,\u001b[0m \u001b[0mcolumns\u001b[0m\u001b[1;33m=\u001b[0m\u001b[0mcolumns\u001b[0m\u001b[1;33m,\u001b[0m\u001b[1;33m\u001b[0m\u001b[1;33m\u001b[0m\u001b[0m\n\u001b[0;32m   3939\u001b[0m                                            \u001b[0mlevel\u001b[0m\u001b[1;33m=\u001b[0m\u001b[0mlevel\u001b[0m\u001b[1;33m,\u001b[0m \u001b[0minplace\u001b[0m\u001b[1;33m=\u001b[0m\u001b[0minplace\u001b[0m\u001b[1;33m,\u001b[0m\u001b[1;33m\u001b[0m\u001b[1;33m\u001b[0m\u001b[0m\n\u001b[1;32m-> 3940\u001b[1;33m                                            errors=errors)\n\u001b[0m\u001b[0;32m   3941\u001b[0m \u001b[1;33m\u001b[0m\u001b[0m\n\u001b[0;32m   3942\u001b[0m     @rewrite_axis_style_signature('mapper', [('copy', True),\n",
      "\u001b[1;32m~\\Anaconda3\\envs\\py36\\lib\\site-packages\\pandas\\core\\generic.py\u001b[0m in \u001b[0;36mdrop\u001b[1;34m(self, labels, axis, index, columns, level, inplace, errors)\u001b[0m\n\u001b[0;32m   3778\u001b[0m         \u001b[1;32mfor\u001b[0m \u001b[0maxis\u001b[0m\u001b[1;33m,\u001b[0m \u001b[0mlabels\u001b[0m \u001b[1;32min\u001b[0m \u001b[0maxes\u001b[0m\u001b[1;33m.\u001b[0m\u001b[0mitems\u001b[0m\u001b[1;33m(\u001b[0m\u001b[1;33m)\u001b[0m\u001b[1;33m:\u001b[0m\u001b[1;33m\u001b[0m\u001b[1;33m\u001b[0m\u001b[0m\n\u001b[0;32m   3779\u001b[0m             \u001b[1;32mif\u001b[0m \u001b[0mlabels\u001b[0m \u001b[1;32mis\u001b[0m \u001b[1;32mnot\u001b[0m \u001b[1;32mNone\u001b[0m\u001b[1;33m:\u001b[0m\u001b[1;33m\u001b[0m\u001b[1;33m\u001b[0m\u001b[0m\n\u001b[1;32m-> 3780\u001b[1;33m                 \u001b[0mobj\u001b[0m \u001b[1;33m=\u001b[0m \u001b[0mobj\u001b[0m\u001b[1;33m.\u001b[0m\u001b[0m_drop_axis\u001b[0m\u001b[1;33m(\u001b[0m\u001b[0mlabels\u001b[0m\u001b[1;33m,\u001b[0m \u001b[0maxis\u001b[0m\u001b[1;33m,\u001b[0m \u001b[0mlevel\u001b[0m\u001b[1;33m=\u001b[0m\u001b[0mlevel\u001b[0m\u001b[1;33m,\u001b[0m \u001b[0merrors\u001b[0m\u001b[1;33m=\u001b[0m\u001b[0merrors\u001b[0m\u001b[1;33m)\u001b[0m\u001b[1;33m\u001b[0m\u001b[1;33m\u001b[0m\u001b[0m\n\u001b[0m\u001b[0;32m   3781\u001b[0m \u001b[1;33m\u001b[0m\u001b[0m\n\u001b[0;32m   3782\u001b[0m         \u001b[1;32mif\u001b[0m \u001b[0minplace\u001b[0m\u001b[1;33m:\u001b[0m\u001b[1;33m\u001b[0m\u001b[1;33m\u001b[0m\u001b[0m\n",
      "\u001b[1;32m~\\Anaconda3\\envs\\py36\\lib\\site-packages\\pandas\\core\\generic.py\u001b[0m in \u001b[0;36m_drop_axis\u001b[1;34m(self, labels, axis, level, errors)\u001b[0m\n\u001b[0;32m   3810\u001b[0m                 \u001b[0mnew_axis\u001b[0m \u001b[1;33m=\u001b[0m \u001b[0maxis\u001b[0m\u001b[1;33m.\u001b[0m\u001b[0mdrop\u001b[0m\u001b[1;33m(\u001b[0m\u001b[0mlabels\u001b[0m\u001b[1;33m,\u001b[0m \u001b[0mlevel\u001b[0m\u001b[1;33m=\u001b[0m\u001b[0mlevel\u001b[0m\u001b[1;33m,\u001b[0m \u001b[0merrors\u001b[0m\u001b[1;33m=\u001b[0m\u001b[0merrors\u001b[0m\u001b[1;33m)\u001b[0m\u001b[1;33m\u001b[0m\u001b[1;33m\u001b[0m\u001b[0m\n\u001b[0;32m   3811\u001b[0m             \u001b[1;32melse\u001b[0m\u001b[1;33m:\u001b[0m\u001b[1;33m\u001b[0m\u001b[1;33m\u001b[0m\u001b[0m\n\u001b[1;32m-> 3812\u001b[1;33m                 \u001b[0mnew_axis\u001b[0m \u001b[1;33m=\u001b[0m \u001b[0maxis\u001b[0m\u001b[1;33m.\u001b[0m\u001b[0mdrop\u001b[0m\u001b[1;33m(\u001b[0m\u001b[0mlabels\u001b[0m\u001b[1;33m,\u001b[0m \u001b[0merrors\u001b[0m\u001b[1;33m=\u001b[0m\u001b[0merrors\u001b[0m\u001b[1;33m)\u001b[0m\u001b[1;33m\u001b[0m\u001b[1;33m\u001b[0m\u001b[0m\n\u001b[0m\u001b[0;32m   3813\u001b[0m             \u001b[0mresult\u001b[0m \u001b[1;33m=\u001b[0m \u001b[0mself\u001b[0m\u001b[1;33m.\u001b[0m\u001b[0mreindex\u001b[0m\u001b[1;33m(\u001b[0m\u001b[1;33m**\u001b[0m\u001b[1;33m{\u001b[0m\u001b[0maxis_name\u001b[0m\u001b[1;33m:\u001b[0m \u001b[0mnew_axis\u001b[0m\u001b[1;33m}\u001b[0m\u001b[1;33m)\u001b[0m\u001b[1;33m\u001b[0m\u001b[1;33m\u001b[0m\u001b[0m\n\u001b[0;32m   3814\u001b[0m \u001b[1;33m\u001b[0m\u001b[0m\n",
      "\u001b[1;32m~\\Anaconda3\\envs\\py36\\lib\\site-packages\\pandas\\core\\indexes\\base.py\u001b[0m in \u001b[0;36mdrop\u001b[1;34m(self, labels, errors)\u001b[0m\n\u001b[0;32m   4962\u001b[0m             \u001b[1;32mif\u001b[0m \u001b[0merrors\u001b[0m \u001b[1;33m!=\u001b[0m \u001b[1;34m'ignore'\u001b[0m\u001b[1;33m:\u001b[0m\u001b[1;33m\u001b[0m\u001b[1;33m\u001b[0m\u001b[0m\n\u001b[0;32m   4963\u001b[0m                 raise KeyError(\n\u001b[1;32m-> 4964\u001b[1;33m                     '{} not found in axis'.format(labels[mask]))\n\u001b[0m\u001b[0;32m   4965\u001b[0m             \u001b[0mindexer\u001b[0m \u001b[1;33m=\u001b[0m \u001b[0mindexer\u001b[0m\u001b[1;33m[\u001b[0m\u001b[1;33m~\u001b[0m\u001b[0mmask\u001b[0m\u001b[1;33m]\u001b[0m\u001b[1;33m\u001b[0m\u001b[1;33m\u001b[0m\u001b[0m\n\u001b[0;32m   4966\u001b[0m         \u001b[1;32mreturn\u001b[0m \u001b[0mself\u001b[0m\u001b[1;33m.\u001b[0m\u001b[0mdelete\u001b[0m\u001b[1;33m(\u001b[0m\u001b[0mindexer\u001b[0m\u001b[1;33m)\u001b[0m\u001b[1;33m\u001b[0m\u001b[1;33m\u001b[0m\u001b[0m\n",
      "\u001b[1;31mKeyError\u001b[0m: \"['생활정도(계)'] not found in axis\""
     ]
    }
   ],
   "source": [
    "df_life.drop([\"생활정도(계)\"], axis=1, inplace=True)"
   ]
  },
  {
   "cell_type": "code",
   "execution_count": 235,
   "metadata": {},
   "outputs": [
    {
     "data": {
      "text/html": [
       "<div>\n",
       "<style scoped>\n",
       "    .dataframe tbody tr th:only-of-type {\n",
       "        vertical-align: middle;\n",
       "    }\n",
       "\n",
       "    .dataframe tbody tr th {\n",
       "        vertical-align: top;\n",
       "    }\n",
       "\n",
       "    .dataframe thead th {\n",
       "        text-align: right;\n",
       "    }\n",
       "</style>\n",
       "<table border=\"1\" class=\"dataframe\">\n",
       "  <thead>\n",
       "    <tr style=\"text-align: right;\">\n",
       "      <th></th>\n",
       "      <th>생활정도(하류)</th>\n",
       "      <th>생활정도(중류)</th>\n",
       "      <th>생활정도(상류)</th>\n",
       "    </tr>\n",
       "    <tr>\n",
       "      <th>범죄중분류</th>\n",
       "      <th></th>\n",
       "      <th></th>\n",
       "      <th></th>\n",
       "    </tr>\n",
       "  </thead>\n",
       "  <tbody>\n",
       "    <tr>\n",
       "      <th>살인기수</th>\n",
       "      <td>238</td>\n",
       "      <td>70</td>\n",
       "      <td>3</td>\n",
       "    </tr>\n",
       "    <tr>\n",
       "      <th>살인미수등</th>\n",
       "      <td>429</td>\n",
       "      <td>114</td>\n",
       "      <td>7</td>\n",
       "    </tr>\n",
       "    <tr>\n",
       "      <th>강도</th>\n",
       "      <td>1,201</td>\n",
       "      <td>347</td>\n",
       "      <td>9</td>\n",
       "    </tr>\n",
       "    <tr>\n",
       "      <th>강간</th>\n",
       "      <td>2,361</td>\n",
       "      <td>1,714</td>\n",
       "      <td>81</td>\n",
       "    </tr>\n",
       "    <tr>\n",
       "      <th>유사강간</th>\n",
       "      <td>292</td>\n",
       "      <td>196</td>\n",
       "      <td>6</td>\n",
       "    </tr>\n",
       "  </tbody>\n",
       "</table>\n",
       "</div>"
      ],
      "text/plain": [
       "      생활정도(하류) 생활정도(중류) 생활정도(상류)\n",
       "범죄중분류                           \n",
       "살인기수       238       70        3\n",
       "살인미수등      429      114        7\n",
       "강도       1,201      347        9\n",
       "강간       2,361    1,714       81\n",
       "유사강간       292      196        6"
      ]
     },
     "execution_count": 235,
     "metadata": {},
     "output_type": "execute_result"
    }
   ],
   "source": [
    "df_life.set_index('범죄중분류', inplace=True)\n",
    "df_life.head()"
   ]
  },
  {
   "cell_type": "code",
   "execution_count": 236,
   "metadata": {},
   "outputs": [
    {
     "name": "stdout",
     "output_type": "stream",
     "text": [
      "생활정도(하류)\n",
      "생활정도(중류)\n",
      "생활정도(상류)\n"
     ]
    },
    {
     "name": "stderr",
     "output_type": "stream",
     "text": [
      "C:\\Users\\guseo\\Anaconda3\\envs\\py36\\lib\\site-packages\\ipykernel_launcher.py:5: SettingWithCopyWarning: \n",
      "A value is trying to be set on a copy of a slice from a DataFrame.\n",
      "Try using .loc[row_indexer,col_indexer] = value instead\n",
      "\n",
      "See the caveats in the documentation: http://pandas.pydata.org/pandas-docs/stable/indexing.html#indexing-view-versus-copy\n",
      "  \"\"\"\n",
      "C:\\Users\\guseo\\Anaconda3\\envs\\py36\\lib\\site-packages\\ipykernel_launcher.py:6: SettingWithCopyWarning: \n",
      "A value is trying to be set on a copy of a slice from a DataFrame.\n",
      "Try using .loc[row_indexer,col_indexer] = value instead\n",
      "\n",
      "See the caveats in the documentation: http://pandas.pydata.org/pandas-docs/stable/indexing.html#indexing-view-versus-copy\n",
      "  \n"
     ]
    },
    {
     "data": {
      "text/html": [
       "<div>\n",
       "<style scoped>\n",
       "    .dataframe tbody tr th:only-of-type {\n",
       "        vertical-align: middle;\n",
       "    }\n",
       "\n",
       "    .dataframe tbody tr th {\n",
       "        vertical-align: top;\n",
       "    }\n",
       "\n",
       "    .dataframe thead th {\n",
       "        text-align: right;\n",
       "    }\n",
       "</style>\n",
       "<table border=\"1\" class=\"dataframe\">\n",
       "  <thead>\n",
       "    <tr style=\"text-align: right;\">\n",
       "      <th></th>\n",
       "      <th>생활정도(하류)</th>\n",
       "      <th>생활정도(중류)</th>\n",
       "      <th>생활정도(상류)</th>\n",
       "    </tr>\n",
       "    <tr>\n",
       "      <th>범죄중분류</th>\n",
       "      <th></th>\n",
       "      <th></th>\n",
       "      <th></th>\n",
       "    </tr>\n",
       "  </thead>\n",
       "  <tbody>\n",
       "    <tr>\n",
       "      <th>살인기수</th>\n",
       "      <td>238</td>\n",
       "      <td>70</td>\n",
       "      <td>3</td>\n",
       "    </tr>\n",
       "    <tr>\n",
       "      <th>살인미수등</th>\n",
       "      <td>429</td>\n",
       "      <td>114</td>\n",
       "      <td>7</td>\n",
       "    </tr>\n",
       "    <tr>\n",
       "      <th>강도</th>\n",
       "      <td>1201</td>\n",
       "      <td>347</td>\n",
       "      <td>9</td>\n",
       "    </tr>\n",
       "    <tr>\n",
       "      <th>강간</th>\n",
       "      <td>2361</td>\n",
       "      <td>1714</td>\n",
       "      <td>81</td>\n",
       "    </tr>\n",
       "    <tr>\n",
       "      <th>유사강간</th>\n",
       "      <td>292</td>\n",
       "      <td>196</td>\n",
       "      <td>6</td>\n",
       "    </tr>\n",
       "  </tbody>\n",
       "</table>\n",
       "</div>"
      ],
      "text/plain": [
       "       생활정도(하류)  생활정도(중류)  생활정도(상류)\n",
       "범죄중분류                              \n",
       "살인기수        238        70         3\n",
       "살인미수등       429       114         7\n",
       "강도         1201       347         9\n",
       "강간         2361      1714        81\n",
       "유사강간        292       196         6"
      ]
     },
     "execution_count": 236,
     "metadata": {},
     "output_type": "execute_result"
    }
   ],
   "source": [
    "column_list = list(df_life.columns)\n",
    "\n",
    "for c in column_list :\n",
    "    print(c)\n",
    "    df_life[c] = df_life[c].str.replace(',','')\n",
    "    df_life[c] = df_life[c].astype(int)\n",
    "\n",
    "df_life.head()"
   ]
  },
  {
   "cell_type": "code",
   "execution_count": 237,
   "metadata": {},
   "outputs": [
    {
     "data": {
      "text/html": [
       "<div>\n",
       "<style scoped>\n",
       "    .dataframe tbody tr th:only-of-type {\n",
       "        vertical-align: middle;\n",
       "    }\n",
       "\n",
       "    .dataframe tbody tr th {\n",
       "        vertical-align: top;\n",
       "    }\n",
       "\n",
       "    .dataframe thead th {\n",
       "        text-align: right;\n",
       "    }\n",
       "</style>\n",
       "<table border=\"1\" class=\"dataframe\">\n",
       "  <thead>\n",
       "    <tr style=\"text-align: right;\">\n",
       "      <th></th>\n",
       "      <th>생활정도(하류)</th>\n",
       "      <th>생활정도(중류)</th>\n",
       "      <th>생활정도(상류)</th>\n",
       "    </tr>\n",
       "    <tr>\n",
       "      <th>범죄중분류</th>\n",
       "      <th></th>\n",
       "      <th></th>\n",
       "      <th></th>\n",
       "    </tr>\n",
       "  </thead>\n",
       "  <tbody>\n",
       "    <tr>\n",
       "      <th>살인기수</th>\n",
       "      <td>238</td>\n",
       "      <td>70</td>\n",
       "      <td>3</td>\n",
       "    </tr>\n",
       "    <tr>\n",
       "      <th>살인미수등</th>\n",
       "      <td>429</td>\n",
       "      <td>114</td>\n",
       "      <td>7</td>\n",
       "    </tr>\n",
       "    <tr>\n",
       "      <th>강도</th>\n",
       "      <td>1201</td>\n",
       "      <td>347</td>\n",
       "      <td>9</td>\n",
       "    </tr>\n",
       "    <tr>\n",
       "      <th>강간</th>\n",
       "      <td>2361</td>\n",
       "      <td>1714</td>\n",
       "      <td>81</td>\n",
       "    </tr>\n",
       "    <tr>\n",
       "      <th>유사강간</th>\n",
       "      <td>292</td>\n",
       "      <td>196</td>\n",
       "      <td>6</td>\n",
       "    </tr>\n",
       "  </tbody>\n",
       "</table>\n",
       "</div>"
      ],
      "text/plain": [
       "       생활정도(하류)  생활정도(중류)  생활정도(상류)\n",
       "범죄중분류                              \n",
       "살인기수        238        70         3\n",
       "살인미수등       429       114         7\n",
       "강도         1201       347         9\n",
       "강간         2361      1714        81\n",
       "유사강간        292       196         6"
      ]
     },
     "execution_count": 237,
     "metadata": {},
     "output_type": "execute_result"
    }
   ],
   "source": [
    "# df_life = df_life.sort_values([\"생활정도(계)\"], ascending=False)\n",
    "df_life.head()"
   ]
  },
  {
   "cell_type": "code",
   "execution_count": 238,
   "metadata": {},
   "outputs": [
    {
     "name": "stderr",
     "output_type": "stream",
     "text": [
      "C:\\Users\\guseo\\Anaconda3\\envs\\py36\\lib\\site-packages\\pandas\\core\\frame.py:4025: SettingWithCopyWarning: \n",
      "A value is trying to be set on a copy of a slice from a DataFrame\n",
      "\n",
      "See the caveats in the documentation: http://pandas.pydata.org/pandas-docs/stable/indexing.html#indexing-view-versus-copy\n",
      "  return super(DataFrame, self).rename(**kwargs)\n"
     ]
    },
    {
     "data": {
      "text/html": [
       "<div>\n",
       "<style scoped>\n",
       "    .dataframe tbody tr th:only-of-type {\n",
       "        vertical-align: middle;\n",
       "    }\n",
       "\n",
       "    .dataframe tbody tr th {\n",
       "        vertical-align: top;\n",
       "    }\n",
       "\n",
       "    .dataframe thead th {\n",
       "        text-align: right;\n",
       "    }\n",
       "</style>\n",
       "<table border=\"1\" class=\"dataframe\">\n",
       "  <thead>\n",
       "    <tr style=\"text-align: right;\">\n",
       "      <th></th>\n",
       "      <th>저소득층</th>\n",
       "      <th>중산층</th>\n",
       "      <th>상류층</th>\n",
       "    </tr>\n",
       "    <tr>\n",
       "      <th>범죄중분류</th>\n",
       "      <th></th>\n",
       "      <th></th>\n",
       "      <th></th>\n",
       "    </tr>\n",
       "  </thead>\n",
       "  <tbody>\n",
       "    <tr>\n",
       "      <th>살인기수</th>\n",
       "      <td>238</td>\n",
       "      <td>70</td>\n",
       "      <td>3</td>\n",
       "    </tr>\n",
       "    <tr>\n",
       "      <th>살인미수등</th>\n",
       "      <td>429</td>\n",
       "      <td>114</td>\n",
       "      <td>7</td>\n",
       "    </tr>\n",
       "    <tr>\n",
       "      <th>강도</th>\n",
       "      <td>1201</td>\n",
       "      <td>347</td>\n",
       "      <td>9</td>\n",
       "    </tr>\n",
       "    <tr>\n",
       "      <th>강간</th>\n",
       "      <td>2361</td>\n",
       "      <td>1714</td>\n",
       "      <td>81</td>\n",
       "    </tr>\n",
       "    <tr>\n",
       "      <th>유사강간</th>\n",
       "      <td>292</td>\n",
       "      <td>196</td>\n",
       "      <td>6</td>\n",
       "    </tr>\n",
       "  </tbody>\n",
       "</table>\n",
       "</div>"
      ],
      "text/plain": [
       "       저소득층   중산층  상류층\n",
       "범죄중분류                 \n",
       "살인기수    238    70    3\n",
       "살인미수등   429   114    7\n",
       "강도     1201   347    9\n",
       "강간     2361  1714   81\n",
       "유사강간    292   196    6"
      ]
     },
     "execution_count": 238,
     "metadata": {},
     "output_type": "execute_result"
    }
   ],
   "source": [
    "df_life.rename(columns={\n",
    "            df_life.columns[0] : '저소득층',\n",
    "            df_life.columns[1] : '중산층',\n",
    "            df_life.columns[2] : '상류층',},\n",
    "            inplace=True)\n",
    "\n",
    "df_life.head()"
   ]
  },
  {
   "cell_type": "code",
   "execution_count": 260,
   "metadata": {},
   "outputs": [
    {
     "data": {
      "text/html": [
       "<div>\n",
       "<style scoped>\n",
       "    .dataframe tbody tr th:only-of-type {\n",
       "        vertical-align: middle;\n",
       "    }\n",
       "\n",
       "    .dataframe tbody tr th {\n",
       "        vertical-align: top;\n",
       "    }\n",
       "\n",
       "    .dataframe thead th {\n",
       "        text-align: right;\n",
       "    }\n",
       "</style>\n",
       "<table border=\"1\" class=\"dataframe\">\n",
       "  <thead>\n",
       "    <tr style=\"text-align: right;\">\n",
       "      <th></th>\n",
       "      <th>저소득층</th>\n",
       "      <th>중산층</th>\n",
       "      <th>상류층</th>\n",
       "      <th>합계</th>\n",
       "      <th>저소득층 범죄율</th>\n",
       "      <th>중산층 범죄율</th>\n",
       "      <th>상류층 범죄율</th>\n",
       "    </tr>\n",
       "    <tr>\n",
       "      <th>범죄중분류</th>\n",
       "      <th></th>\n",
       "      <th></th>\n",
       "      <th></th>\n",
       "      <th></th>\n",
       "      <th></th>\n",
       "      <th></th>\n",
       "      <th></th>\n",
       "    </tr>\n",
       "  </thead>\n",
       "  <tbody>\n",
       "    <tr>\n",
       "      <th>강도</th>\n",
       "      <td>1201</td>\n",
       "      <td>347</td>\n",
       "      <td>9</td>\n",
       "      <td>1557</td>\n",
       "      <td>77.135517</td>\n",
       "      <td>22.286448</td>\n",
       "      <td>0.578035</td>\n",
       "    </tr>\n",
       "    <tr>\n",
       "      <th>병역범죄</th>\n",
       "      <td>10193</td>\n",
       "      <td>4714</td>\n",
       "      <td>90</td>\n",
       "      <td>14997</td>\n",
       "      <td>67.966927</td>\n",
       "      <td>31.432953</td>\n",
       "      <td>0.600120</td>\n",
       "    </tr>\n",
       "    <tr>\n",
       "      <th>도박범죄</th>\n",
       "      <td>19806</td>\n",
       "      <td>12178</td>\n",
       "      <td>215</td>\n",
       "      <td>32199</td>\n",
       "      <td>61.511227</td>\n",
       "      <td>37.821050</td>\n",
       "      <td>0.667723</td>\n",
       "    </tr>\n",
       "    <tr>\n",
       "      <th>방화</th>\n",
       "      <td>903</td>\n",
       "      <td>350</td>\n",
       "      <td>9</td>\n",
       "      <td>1262</td>\n",
       "      <td>71.553090</td>\n",
       "      <td>27.733756</td>\n",
       "      <td>0.713154</td>\n",
       "    </tr>\n",
       "    <tr>\n",
       "      <th>교통범죄</th>\n",
       "      <td>234590</td>\n",
       "      <td>149783</td>\n",
       "      <td>2837</td>\n",
       "      <td>387210</td>\n",
       "      <td>60.584696</td>\n",
       "      <td>38.682627</td>\n",
       "      <td>0.732677</td>\n",
       "    </tr>\n",
       "  </tbody>\n",
       "</table>\n",
       "</div>"
      ],
      "text/plain": [
       "         저소득층     중산층   상류층      합계   저소득층 범죄율    중산층 범죄율   상류층 범죄율\n",
       "범죄중분류                                                              \n",
       "강도       1201     347     9    1557  77.135517  22.286448  0.578035\n",
       "병역범죄    10193    4714    90   14997  67.966927  31.432953  0.600120\n",
       "도박범죄    19806   12178   215   32199  61.511227  37.821050  0.667723\n",
       "방화        903     350     9    1262  71.553090  27.733756  0.713154\n",
       "교통범죄   234590  149783  2837  387210  60.584696  38.682627  0.732677"
      ]
     },
     "execution_count": 260,
     "metadata": {},
     "output_type": "execute_result"
    }
   ],
   "source": [
    "import numpy as np\n",
    "df_life['합계'] = df_life['저소득층'] + df_life['중산층'] + df_life['상류층']\n",
    "df_life['저소득층 범죄율'] = ((df_life['저소득층']/df_life['합계'])*100)\n",
    "df_life['중산층 범죄율'] = ((df_life['중산층']/df_life['합계'])*100)\n",
    "df_life['상류층 범죄율'] = ((df_life['상류층']/df_life['합계'])*100)\n",
    "\n",
    "df_life.head()"
   ]
  },
  {
   "cell_type": "code",
   "execution_count": 261,
   "metadata": {},
   "outputs": [
    {
     "data": {
      "text/html": [
       "<div>\n",
       "<style scoped>\n",
       "    .dataframe tbody tr th:only-of-type {\n",
       "        vertical-align: middle;\n",
       "    }\n",
       "\n",
       "    .dataframe tbody tr th {\n",
       "        vertical-align: top;\n",
       "    }\n",
       "\n",
       "    .dataframe thead th {\n",
       "        text-align: right;\n",
       "    }\n",
       "</style>\n",
       "<table border=\"1\" class=\"dataframe\">\n",
       "  <thead>\n",
       "    <tr style=\"text-align: right;\">\n",
       "      <th></th>\n",
       "      <th>저소득층</th>\n",
       "      <th>중산층</th>\n",
       "      <th>상류층</th>\n",
       "      <th>합계</th>\n",
       "      <th>저소득층 범죄율</th>\n",
       "      <th>중산층 범죄율</th>\n",
       "      <th>상류층 범죄율</th>\n",
       "    </tr>\n",
       "    <tr>\n",
       "      <th>범죄중분류</th>\n",
       "      <th></th>\n",
       "      <th></th>\n",
       "      <th></th>\n",
       "      <th></th>\n",
       "      <th></th>\n",
       "      <th></th>\n",
       "      <th></th>\n",
       "    </tr>\n",
       "  </thead>\n",
       "  <tbody>\n",
       "    <tr>\n",
       "      <th>살인미수등</th>\n",
       "      <td>429</td>\n",
       "      <td>114</td>\n",
       "      <td>7</td>\n",
       "      <td>550</td>\n",
       "      <td>78.000000</td>\n",
       "      <td>20.727273</td>\n",
       "      <td>1.272727</td>\n",
       "    </tr>\n",
       "    <tr>\n",
       "      <th>강도</th>\n",
       "      <td>1201</td>\n",
       "      <td>347</td>\n",
       "      <td>9</td>\n",
       "      <td>1557</td>\n",
       "      <td>77.135517</td>\n",
       "      <td>22.286448</td>\n",
       "      <td>0.578035</td>\n",
       "    </tr>\n",
       "    <tr>\n",
       "      <th>살인기수</th>\n",
       "      <td>238</td>\n",
       "      <td>70</td>\n",
       "      <td>3</td>\n",
       "      <td>311</td>\n",
       "      <td>76.527331</td>\n",
       "      <td>22.508039</td>\n",
       "      <td>0.964630</td>\n",
       "    </tr>\n",
       "    <tr>\n",
       "      <th>사기</th>\n",
       "      <td>80792</td>\n",
       "      <td>30107</td>\n",
       "      <td>908</td>\n",
       "      <td>111807</td>\n",
       "      <td>72.260234</td>\n",
       "      <td>26.927652</td>\n",
       "      <td>0.812114</td>\n",
       "    </tr>\n",
       "    <tr>\n",
       "      <th>통화</th>\n",
       "      <td>67</td>\n",
       "      <td>25</td>\n",
       "      <td>1</td>\n",
       "      <td>93</td>\n",
       "      <td>72.043011</td>\n",
       "      <td>26.881720</td>\n",
       "      <td>1.075269</td>\n",
       "    </tr>\n",
       "  </tbody>\n",
       "</table>\n",
       "</div>"
      ],
      "text/plain": [
       "        저소득층    중산층  상류층      합계   저소득층 범죄율    중산층 범죄율   상류층 범죄율\n",
       "범죄중분류                                                           \n",
       "살인미수등    429    114    7     550  78.000000  20.727273  1.272727\n",
       "강도      1201    347    9    1557  77.135517  22.286448  0.578035\n",
       "살인기수     238     70    3     311  76.527331  22.508039  0.964630\n",
       "사기     80792  30107  908  111807  72.260234  26.927652  0.812114\n",
       "통화        67     25    1      93  72.043011  26.881720  1.075269"
      ]
     },
     "execution_count": 261,
     "metadata": {},
     "output_type": "execute_result"
    }
   ],
   "source": [
    "df_life = df_life.sort_values([\"저소득층 범죄율\"], ascending=False)\n",
    "df_life.head()"
   ]
  },
  {
   "cell_type": "code",
   "execution_count": 262,
   "metadata": {},
   "outputs": [
    {
     "data": {
      "text/html": [
       "<div>\n",
       "<style scoped>\n",
       "    .dataframe tbody tr th:only-of-type {\n",
       "        vertical-align: middle;\n",
       "    }\n",
       "\n",
       "    .dataframe tbody tr th {\n",
       "        vertical-align: top;\n",
       "    }\n",
       "\n",
       "    .dataframe thead th {\n",
       "        text-align: right;\n",
       "    }\n",
       "</style>\n",
       "<table border=\"1\" class=\"dataframe\">\n",
       "  <thead>\n",
       "    <tr style=\"text-align: right;\">\n",
       "      <th></th>\n",
       "      <th>저소득층</th>\n",
       "      <th>중산층</th>\n",
       "      <th>상류층</th>\n",
       "      <th>합계</th>\n",
       "      <th>저소득층 범죄율</th>\n",
       "      <th>중산층 범죄율</th>\n",
       "      <th>상류층 범죄율</th>\n",
       "    </tr>\n",
       "    <tr>\n",
       "      <th>범죄중분류</th>\n",
       "      <th></th>\n",
       "      <th></th>\n",
       "      <th></th>\n",
       "      <th></th>\n",
       "      <th></th>\n",
       "      <th></th>\n",
       "      <th></th>\n",
       "    </tr>\n",
       "  </thead>\n",
       "  <tbody>\n",
       "    <tr>\n",
       "      <th>직무유기</th>\n",
       "      <td>30</td>\n",
       "      <td>126</td>\n",
       "      <td>2</td>\n",
       "      <td>158</td>\n",
       "      <td>18.987342</td>\n",
       "      <td>79.746835</td>\n",
       "      <td>1.265823</td>\n",
       "    </tr>\n",
       "    <tr>\n",
       "      <th>직권남용</th>\n",
       "      <td>22</td>\n",
       "      <td>69</td>\n",
       "      <td>7</td>\n",
       "      <td>98</td>\n",
       "      <td>22.448980</td>\n",
       "      <td>70.408163</td>\n",
       "      <td>7.142857</td>\n",
       "    </tr>\n",
       "    <tr>\n",
       "      <th>증수뢰</th>\n",
       "      <td>192</td>\n",
       "      <td>354</td>\n",
       "      <td>70</td>\n",
       "      <td>616</td>\n",
       "      <td>31.168831</td>\n",
       "      <td>57.467532</td>\n",
       "      <td>11.363636</td>\n",
       "    </tr>\n",
       "    <tr>\n",
       "      <th>환경범죄</th>\n",
       "      <td>1394</td>\n",
       "      <td>1766</td>\n",
       "      <td>182</td>\n",
       "      <td>3342</td>\n",
       "      <td>41.711550</td>\n",
       "      <td>52.842609</td>\n",
       "      <td>5.445841</td>\n",
       "    </tr>\n",
       "    <tr>\n",
       "      <th>선거범죄</th>\n",
       "      <td>416</td>\n",
       "      <td>563</td>\n",
       "      <td>93</td>\n",
       "      <td>1072</td>\n",
       "      <td>38.805970</td>\n",
       "      <td>52.518657</td>\n",
       "      <td>8.675373</td>\n",
       "    </tr>\n",
       "  </tbody>\n",
       "</table>\n",
       "</div>"
      ],
      "text/plain": [
       "       저소득층   중산층  상류층    합계   저소득층 범죄율    중산층 범죄율    상류층 범죄율\n",
       "범죄중분류                                                        \n",
       "직무유기     30   126    2   158  18.987342  79.746835   1.265823\n",
       "직권남용     22    69    7    98  22.448980  70.408163   7.142857\n",
       "증수뢰     192   354   70   616  31.168831  57.467532  11.363636\n",
       "환경범죄   1394  1766  182  3342  41.711550  52.842609   5.445841\n",
       "선거범죄    416   563   93  1072  38.805970  52.518657   8.675373"
      ]
     },
     "execution_count": 262,
     "metadata": {},
     "output_type": "execute_result"
    }
   ],
   "source": [
    "df_life = df_life.sort_values([\"중산층 범죄율\"], ascending=False)\n",
    "df_life.head()"
   ]
  },
  {
   "cell_type": "code",
   "execution_count": 263,
   "metadata": {},
   "outputs": [
    {
     "data": {
      "text/html": [
       "<div>\n",
       "<style scoped>\n",
       "    .dataframe tbody tr th:only-of-type {\n",
       "        vertical-align: middle;\n",
       "    }\n",
       "\n",
       "    .dataframe tbody tr th {\n",
       "        vertical-align: top;\n",
       "    }\n",
       "\n",
       "    .dataframe thead th {\n",
       "        text-align: right;\n",
       "    }\n",
       "</style>\n",
       "<table border=\"1\" class=\"dataframe\">\n",
       "  <thead>\n",
       "    <tr style=\"text-align: right;\">\n",
       "      <th></th>\n",
       "      <th>저소득층</th>\n",
       "      <th>중산층</th>\n",
       "      <th>상류층</th>\n",
       "      <th>합계</th>\n",
       "      <th>저소득층 범죄율</th>\n",
       "      <th>중산층 범죄율</th>\n",
       "      <th>상류층 범죄율</th>\n",
       "    </tr>\n",
       "    <tr>\n",
       "      <th>범죄중분류</th>\n",
       "      <th></th>\n",
       "      <th></th>\n",
       "      <th></th>\n",
       "      <th></th>\n",
       "      <th></th>\n",
       "      <th></th>\n",
       "      <th></th>\n",
       "    </tr>\n",
       "  </thead>\n",
       "  <tbody>\n",
       "    <tr>\n",
       "      <th>증수뢰</th>\n",
       "      <td>192</td>\n",
       "      <td>354</td>\n",
       "      <td>70</td>\n",
       "      <td>616</td>\n",
       "      <td>31.168831</td>\n",
       "      <td>57.467532</td>\n",
       "      <td>11.363636</td>\n",
       "    </tr>\n",
       "    <tr>\n",
       "      <th>안보범죄</th>\n",
       "      <td>48</td>\n",
       "      <td>21</td>\n",
       "      <td>8</td>\n",
       "      <td>77</td>\n",
       "      <td>62.337662</td>\n",
       "      <td>27.272727</td>\n",
       "      <td>10.389610</td>\n",
       "    </tr>\n",
       "    <tr>\n",
       "      <th>선거범죄</th>\n",
       "      <td>416</td>\n",
       "      <td>563</td>\n",
       "      <td>93</td>\n",
       "      <td>1072</td>\n",
       "      <td>38.805970</td>\n",
       "      <td>52.518657</td>\n",
       "      <td>8.675373</td>\n",
       "    </tr>\n",
       "    <tr>\n",
       "      <th>직권남용</th>\n",
       "      <td>22</td>\n",
       "      <td>69</td>\n",
       "      <td>7</td>\n",
       "      <td>98</td>\n",
       "      <td>22.448980</td>\n",
       "      <td>70.408163</td>\n",
       "      <td>7.142857</td>\n",
       "    </tr>\n",
       "    <tr>\n",
       "      <th>보건범죄</th>\n",
       "      <td>9561</td>\n",
       "      <td>7935</td>\n",
       "      <td>1331</td>\n",
       "      <td>18827</td>\n",
       "      <td>50.783449</td>\n",
       "      <td>42.146917</td>\n",
       "      <td>7.069634</td>\n",
       "    </tr>\n",
       "  </tbody>\n",
       "</table>\n",
       "</div>"
      ],
      "text/plain": [
       "       저소득층   중산층   상류층     합계   저소득층 범죄율    중산층 범죄율    상류층 범죄율\n",
       "범죄중분류                                                          \n",
       "증수뢰     192   354    70    616  31.168831  57.467532  11.363636\n",
       "안보범죄     48    21     8     77  62.337662  27.272727  10.389610\n",
       "선거범죄    416   563    93   1072  38.805970  52.518657   8.675373\n",
       "직권남용     22    69     7     98  22.448980  70.408163   7.142857\n",
       "보건범죄   9561  7935  1331  18827  50.783449  42.146917   7.069634"
      ]
     },
     "execution_count": 263,
     "metadata": {},
     "output_type": "execute_result"
    }
   ],
   "source": [
    "df_life = df_life.sort_values([\"상류층 범죄율\"], ascending=False)\n",
    "df_life.head()"
   ]
  },
  {
   "cell_type": "markdown",
   "metadata": {},
   "source": [
    "#### <font color=\"#007acc\">상관 계수 구하기</font>\n",
    "\n",
    "상관 계수의 절댓값이 클 수록 두 데이터는 관계가 높다.\n",
    "\n",
    "참고 : [위키 - 상관분석](https://ko.wikipedia.org/wiki/%EC%83%81%EA%B4%80_%EB%B6%84%EC%84%9D)\n",
    "\n",
    "1. 상관계수 0.1 이하 : 거의 무시 \n",
    "2. 상관계수 0.3 이하 : 약한 상관 관계 \n",
    "3. 상관계수 0.7 이하 : 뚜렷한 상관관계\n",
    "4. 상관계수 0.7 이상 : 강한 상관관계"
   ]
  },
  {
   "cell_type": "code",
   "execution_count": 264,
   "metadata": {},
   "outputs": [
    {
     "data": {
      "text/plain": [
       "array([[1.       , 0.1137274],\n",
       "       [0.1137274, 1.       ]])"
      ]
     },
     "execution_count": 264,
     "metadata": {},
     "output_type": "execute_result"
    }
   ],
   "source": [
    "np.corrcoef(df_life['저소득층 범죄율'], df_life['합계'])"
   ]
  },
  {
   "cell_type": "code",
   "execution_count": 265,
   "metadata": {},
   "outputs": [
    {
     "data": {
      "text/plain": [
       "array([[ 1.        , -0.07703699],\n",
       "       [-0.07703699,  1.        ]])"
      ]
     },
     "execution_count": 265,
     "metadata": {},
     "output_type": "execute_result"
    }
   ],
   "source": [
    "np.corrcoef(df_life['중산층 범죄율'], df_life['합계'])"
   ]
  },
  {
   "cell_type": "code",
   "execution_count": 266,
   "metadata": {},
   "outputs": [
    {
     "data": {
      "text/plain": [
       "array([[ 1.        , -0.21591087],\n",
       "       [-0.21591087,  1.        ]])"
      ]
     },
     "execution_count": 266,
     "metadata": {},
     "output_type": "execute_result"
    }
   ],
   "source": [
    "np.corrcoef(df_life['상류층 범죄율'], df_life['합계'])"
   ]
  },
  {
   "cell_type": "code",
   "execution_count": 267,
   "metadata": {},
   "outputs": [],
   "source": [
    "import matplotlib.pyplot as plt\n",
    "%matplotlib inline"
   ]
  },
  {
   "cell_type": "code",
   "execution_count": 268,
   "metadata": {},
   "outputs": [],
   "source": [
    "from matplotlib import font_manager, rc\n",
    "plt.rcParams['axes.unicode_minus'] = False\n",
    "\n",
    "path = \"c:/Windows/Fonts/malgun.ttf\"\n",
    "font_name = font_manager.FontProperties(fname=path).get_name()\n",
    "rc('font', family=font_name)"
   ]
  },
  {
   "cell_type": "code",
   "execution_count": 269,
   "metadata": {},
   "outputs": [
    {
     "data": {
      "image/png": "[encoded data removed]",
      "text/plain": [
       "<Figure size 864x864 with 1 Axes>"
      ]
     },
     "metadata": {
      "needs_background": "light"
     },
     "output_type": "display_data"
    }
   ],
   "source": [
    "df_life['합계'].sort_values().plot(kind='barh', grid=True, figsize=(12,12))\n",
    "plt.show()"
   ]
  },
  {
   "cell_type": "code",
   "execution_count": 296,
   "metadata": {},
   "outputs": [
    {
     "data": {
      "image/png": "[encoded data removed]",
      "text/plain": [
       "<Figure size 720x720 with 1 Axes>"
      ]
     },
     "metadata": {
      "needs_background": "light"
     },
     "output_type": "display_data"
    }
   ],
   "source": [
    "low = df_life['저소득층 범죄율'].sort_values().plot(kind='barh', grid=True, figsize=(10,10), color='r')\n",
    "plt.show()"
   ]
  },
  {
   "cell_type": "code",
   "execution_count": 297,
   "metadata": {},
   "outputs": [
    {
     "data": {
      "image/png": "[encoded data removed]",
      "text/plain": [
       "<Figure size 720x720 with 1 Axes>"
      ]
     },
     "metadata": {
      "needs_background": "light"
     },
     "output_type": "display_data"
    }
   ],
   "source": [
    "middle = df_life['중산층 범죄율'].sort_values().plot(kind='barh', grid=True, figsize=(10,10), color='g')\n",
    "plt.show()"
   ]
  },
  {
   "cell_type": "code",
   "execution_count": 312,
   "metadata": {},
   "outputs": [
    {
     "data": {
      "image/png": "[encoded data removed]",
      "text/plain": [
       "<Figure size 720x720 with 1 Axes>"
      ]
     },
     "metadata": {
      "needs_background": "light"
     },
     "output_type": "display_data"
    }
   ],
   "source": [
    "high = df_life['상류층 범죄율'].sort_values().plot(kind='barh', grid=True, color='y',figsize=(10,10))\n",
    "plt.show()"
   ]
  },
  {
   "cell_type": "code",
   "execution_count": 311,
   "metadata": {},
   "outputs": [
    {
     "data": {
      "image/png": "[encoded data removed]",
      "text/plain": [
       "<Figure size 720x720 with 1 Axes>"
      ]
     },
     "metadata": {
      "needs_background": "light"
     },
     "output_type": "display_data"
    }
   ],
   "source": [
    "plt.figure(figsize=(14,10))\n",
    "df_life['저소득층 범죄율'].plot(kind='barh', stacked=True, grid=True, figsize=(10,10), color='r')\n",
    "df_life['중산층 범죄율'].plot(kind='barh', stacked=True, grid=True, figsize=(10,10), color='g')\n",
    "df_life['상류층 범죄율'].plot(kind='barh', grid=True, figsize=(10,10), color='y')\n",
    "plt.legend()\n",
    "plt.show()"
   ]
  },
  {
   "cell_type": "code",
   "execution_count": null,
   "metadata": {},
   "outputs": [],
   "source": [
    "http://statkclee.github.io/raspberry-pi/rpi-sorting-matplotlib.html\n",
    "    \n",
    "움직이는 그래프 "
   ]
  }
 ],
 "metadata": {
  "kernelspec": {
   "display_name": "python3.6",
   "language": "python",
   "name": "py36"
  },
  "language_info": {
   "codemirror_mode": {
    "name": "ipython",
    "version": 3
   },
   "file_extension": ".py",
   "mimetype": "text/x-python",
   "name": "python",
   "nbconvert_exporter": "python",
   "pygments_lexer": "ipython3",
   "version": "3.6.8"
  }
 },
 "nbformat": 4,
 "nbformat_minor": 2
}
