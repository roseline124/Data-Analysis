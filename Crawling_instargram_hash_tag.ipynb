{
 "cells": [
  {
   "cell_type": "markdown",
   "metadata": {},
   "source": [
    "### Crawling \n",
    "\n",
    "**headers**\n",
    "\n",
    "- referer\n",
    "- user-agent\n",
    "- language \n",
    "\n",
    "보안 있는 사이트는 보통 이 3가지 중에서 설정한다.\n",
    "요청값을 많이 둘 수록 서버에 부담이 되므로 보통 1~2개만 설정한다."
   ]
  },
  {
   "cell_type": "code",
   "execution_count": 1,
   "metadata": {},
   "outputs": [],
   "source": [
    "# -*- coding:utf-8 -*-\n",
    "\n",
    "import requests, bs4, re\n",
    "\n",
    "head = { \n",
    "    'Accept':'text/html,application/xhtml+xml,application/xml;q=0.9,image/webp,image/apng,*/*;q=0.8,application/signed-exchange;v=b3',\n",
    "    'Accept-Encoding' : 'gzip, deflate, br',\n",
    "    'Accept-Language' : 'ko-KR,ko;q=0.9,en-US;q=0.8,en;q=0.7',\n",
    "    'Content-Type': 'application/x-www-form-urlencoded',\n",
    "    'Host': 'startag.io',\n",
    "    'Referer':'https://startag.io/',\n",
    "    'Upgrade-Insecure-Requests': '1',\n",
    "    'User-Agent' : \"Mozilla/5.0 (Windows NT 10.0; Win64; x64) AppleWebKit/537.36 (KHTML, like Gecko) Chrome/74.0.3729.169 Safari/537.36\",\n",
    "} \n",
    "\n",
    "query_keyword = \"인테리어\"\n",
    "\n",
    "# 누적게시물 내림차순으로, 해시태그 정보 가져오기 \n",
    "url = f\"https://startag.io/search.php?q={query_keyword}&mode=0&order=total_cnt&order_asc=desc\"\n",
    "\n",
    "res = requests.get(url, headers=head)\n",
    "\n",
    "html = res.text\n",
    "\n",
    "soup = bs4.BeautifulSoup(html, 'html.parser')"
   ]
  },
  {
   "cell_type": "markdown",
   "metadata": {},
   "source": [
    "### 인스타그램 타이틀 "
   ]
  },
  {
   "cell_type": "code",
   "execution_count": 2,
   "metadata": {},
   "outputs": [
    {
     "data": {
      "text/plain": [
       "['인테리어', '인테리어소품', '셀프인테리어', '홈인테리어', '카페인테리어']"
      ]
     },
     "execution_count": 2,
     "metadata": {},
     "output_type": "execute_result"
    }
   ],
   "source": [
    "titles = soup.find_all(\"td\", class_=\"result_td01\" )\n",
    "\n",
    "keywords = [t.get(\"title\")[1:] for t in titles[1:]] # title의 속성값 가져옴\n",
    "keywords[:5]"
   ]
  },
  {
   "cell_type": "markdown",
   "metadata": {},
   "source": [
    "### 누적게시물 수, 인기글 평균 좋아요 수, 인기글 평균 유지시간(h), 게시물 생산지수, 반응도, 트렌드 지수\n",
    "\n",
    "**지표설명**\n",
    "\n",
    "1. 누적 게시물 수\n",
    "현재까지 해당 해시태그를 포함하여 업로드된 게시물의 총개수입니다. \n",
    "\n",
    "<br>\n",
    "\n",
    "2. 인기글 평균 좋아요 수\n",
    "해당 태그에서 인기 게시물에 오르기 위해 필요한 게시글의 평균적인 좋아요 수입니다. (인기 게시물은 게시물 업로더에 대한 팔로우 여부에 따라 개인마다 편차가 존재합니다.)\n",
    "\n",
    "<br>\n",
    "\n",
    "3. 인기글 평균 체류시간\n",
    "인기 게시물에 올라가고 난 뒤 유지되는 평균 시간입니다. (인기 게시물은 게시물 업로더에 대한 팔로우 여부에 따라 개인마다 편차가 존재합니다.)\n",
    "\n",
    "<br>\n",
    "\n",
    "4. 게시물 생산지수\n",
    "해당 태그가 포함된 게시물이 1분 동안 얼마나 빨리 올라오는지를 나타내는 지표입니다. (수집 날짜와 시간에 따른 편차가 있습니다.)\n",
    "\n",
    "<br>\n",
    "\n",
    "5. 반응도\n",
    "해당 태그에 대한 조회 수, 생산지수, 좋아요 수, 댓글 수 등에 비례하여 얼마나 고객 반응을 이끌어 내는지가 합산된 수치입니다.\n",
    "\n",
    "<br>\n",
    "\n",
    "6. 트렌드지수\n",
    "게시물의 반응도에 비례하며, 반응도의 증감 추이에 따라 수치가 결정됩니다. 오래되거나 반응이 저조한 해시태그는 트렌드 지수가 낮으며, 새로 등장하였거나 반응이 높은 해시태그는 트렌드 지수가 높습니다. 평균 이상과 이하의 기준은 1.00은 기준으로 합니다."
   ]
  },
  {
   "cell_type": "code",
   "execution_count": 3,
   "metadata": {},
   "outputs": [
    {
     "data": {
      "text/plain": [
       "[6980309, 1696425, 993264, 668397, 649570]"
      ]
     },
     "execution_count": 3,
     "metadata": {},
     "output_type": "execute_result"
    }
   ],
   "source": [
    "# 누적 게시물 수 \n",
    "total_nums = soup.find_all(\"td\", class_=\"result_td02\" )\n",
    "\n",
    "total_cnt = [ int(t.getText().replace(\",\",\"\")) for t in total_nums[1:] ]\n",
    "total_cnt[:5]"
   ]
  },
  {
   "cell_type": "code",
   "execution_count": 4,
   "metadata": {},
   "outputs": [
    {
     "data": {
      "text/plain": [
       "[328, 326, 1139, 784, 364]"
      ]
     },
     "execution_count": 4,
     "metadata": {},
     "output_type": "execute_result"
    }
   ],
   "source": [
    "# 평균 좋아요 수 \n",
    "good_avgs = soup.find_all(\"td\", class_=\"result_td03\" )\n",
    "\n",
    "hearts_avgs = [ int(g.getText().replace(\",\",\"\")) for g in good_avgs[1:] ]\n",
    "hearts_avgs[:5]"
   ]
  },
  {
   "cell_type": "code",
   "execution_count": 5,
   "metadata": {},
   "outputs": [
    {
     "data": {
      "text/plain": [
       "[0.0, 0.6, 0.79, 0.32, 1.4]"
      ]
     },
     "execution_count": 5,
     "metadata": {},
     "output_type": "execute_result"
    }
   ],
   "source": [
    "# 게시물 생산지수 \n",
    "producivity_pnt = soup.find_all(\"td\", class_=\"result_td05\")\n",
    "productivities = [float(p.getText()) for p in producivity_pnt[1:]]\n",
    "productivities[:5]"
   ]
  },
  {
   "cell_type": "code",
   "execution_count": 6,
   "metadata": {},
   "outputs": [
    {
     "data": {
      "text/plain": [
       "[0, 20, 27, 9, 42]"
      ]
     },
     "execution_count": 6,
     "metadata": {},
     "output_type": "execute_result"
    }
   ],
   "source": [
    "# 반응도 \n",
    "reaction_pnt = soup.find_all(\"td\", class_=\"result_td06\")\n",
    "\n",
    "reactions = [ int(r.getText()) for r in reaction_pnt[1:] ]\n",
    "reactions[:5]"
   ]
  },
  {
   "cell_type": "markdown",
   "metadata": {},
   "source": [
    "### List 병합"
   ]
  },
  {
   "cell_type": "code",
   "execution_count": 7,
   "metadata": {},
   "outputs": [
    {
     "data": {
      "text/plain": [
       "[('인테리어', 6980309, 328, 0.0, 0),\n",
       " ('인테리어소품', 1696425, 326, 0.6, 20),\n",
       " ('셀프인테리어', 993264, 1139, 0.79, 27),\n",
       " ('홈인테리어', 668397, 784, 0.32, 9),\n",
       " ('카페인테리어', 649570, 364, 1.4, 42)]"
      ]
     },
     "execution_count": 7,
     "metadata": {},
     "output_type": "execute_result"
    }
   ],
   "source": [
    "results = list(zip(keywords, total_cnt, hearts_avgs, productivities, reactions))\n",
    "results[:5]"
   ]
  },
  {
   "cell_type": "code",
   "execution_count": 8,
   "metadata": {},
   "outputs": [],
   "source": [
    "import pandas as pd"
   ]
  },
  {
   "cell_type": "code",
   "execution_count": 9,
   "metadata": {},
   "outputs": [
    {
     "data": {
      "text/html": [
       "<div>\n",
       "<style scoped>\n",
       "    .dataframe tbody tr th:only-of-type {\n",
       "        vertical-align: middle;\n",
       "    }\n",
       "\n",
       "    .dataframe tbody tr th {\n",
       "        vertical-align: top;\n",
       "    }\n",
       "\n",
       "    .dataframe thead th {\n",
       "        text-align: right;\n",
       "    }\n",
       "</style>\n",
       "<table border=\"1\" class=\"dataframe\">\n",
       "  <thead>\n",
       "    <tr style=\"text-align: right;\">\n",
       "      <th></th>\n",
       "      <th>태그</th>\n",
       "      <th>누적게시물 수</th>\n",
       "      <th>인기글 평균 좋아요 수</th>\n",
       "      <th>게시물 생산지수</th>\n",
       "      <th>반응도</th>\n",
       "    </tr>\n",
       "  </thead>\n",
       "  <tbody>\n",
       "    <tr>\n",
       "      <th>0</th>\n",
       "      <td>인테리어</td>\n",
       "      <td>6980309</td>\n",
       "      <td>328</td>\n",
       "      <td>0.00</td>\n",
       "      <td>0</td>\n",
       "    </tr>\n",
       "    <tr>\n",
       "      <th>1</th>\n",
       "      <td>인테리어소품</td>\n",
       "      <td>1696425</td>\n",
       "      <td>326</td>\n",
       "      <td>0.60</td>\n",
       "      <td>20</td>\n",
       "    </tr>\n",
       "    <tr>\n",
       "      <th>2</th>\n",
       "      <td>셀프인테리어</td>\n",
       "      <td>993264</td>\n",
       "      <td>1139</td>\n",
       "      <td>0.79</td>\n",
       "      <td>27</td>\n",
       "    </tr>\n",
       "    <tr>\n",
       "      <th>3</th>\n",
       "      <td>홈인테리어</td>\n",
       "      <td>668397</td>\n",
       "      <td>784</td>\n",
       "      <td>0.32</td>\n",
       "      <td>9</td>\n",
       "    </tr>\n",
       "    <tr>\n",
       "      <th>4</th>\n",
       "      <td>카페인테리어</td>\n",
       "      <td>649570</td>\n",
       "      <td>364</td>\n",
       "      <td>1.40</td>\n",
       "      <td>42</td>\n",
       "    </tr>\n",
       "  </tbody>\n",
       "</table>\n",
       "</div>"
      ],
      "text/plain": [
       "       태그  누적게시물 수  인기글 평균 좋아요 수  게시물 생산지수  반응도\n",
       "0    인테리어  6980309           328      0.00    0\n",
       "1  인테리어소품  1696425           326      0.60   20\n",
       "2  셀프인테리어   993264          1139      0.79   27\n",
       "3   홈인테리어   668397           784      0.32    9\n",
       "4  카페인테리어   649570           364      1.40   42"
      ]
     },
     "execution_count": 9,
     "metadata": {},
     "output_type": "execute_result"
    }
   ],
   "source": [
    "df = pd.DataFrame(results)\n",
    "df.columns = [\"태그\",\"누적게시물 수\", \"인기글 평균 좋아요 수\", \"게시물 생산지수\",\"반응도\"]\n",
    "df.head()"
   ]
  },
  {
   "cell_type": "code",
   "execution_count": 10,
   "metadata": {},
   "outputs": [
    {
     "data": {
      "text/html": [
       "<div>\n",
       "<style scoped>\n",
       "    .dataframe tbody tr th:only-of-type {\n",
       "        vertical-align: middle;\n",
       "    }\n",
       "\n",
       "    .dataframe tbody tr th {\n",
       "        vertical-align: top;\n",
       "    }\n",
       "\n",
       "    .dataframe thead th {\n",
       "        text-align: right;\n",
       "    }\n",
       "</style>\n",
       "<table border=\"1\" class=\"dataframe\">\n",
       "  <thead>\n",
       "    <tr style=\"text-align: right;\">\n",
       "      <th></th>\n",
       "      <th>태그</th>\n",
       "      <th>누적게시물 수</th>\n",
       "      <th>인기글 평균 좋아요 수</th>\n",
       "      <th>게시물 생산지수</th>\n",
       "      <th>반응도</th>\n",
       "    </tr>\n",
       "  </thead>\n",
       "  <tbody>\n",
       "    <tr>\n",
       "      <th>64</th>\n",
       "      <td>인테리어견적</td>\n",
       "      <td>25605</td>\n",
       "      <td>2647</td>\n",
       "      <td>0.04</td>\n",
       "      <td>6</td>\n",
       "    </tr>\n",
       "    <tr>\n",
       "      <th>44</th>\n",
       "      <td>미용실인테리어</td>\n",
       "      <td>44327</td>\n",
       "      <td>1865</td>\n",
       "      <td>0.06</td>\n",
       "      <td>10</td>\n",
       "    </tr>\n",
       "    <tr>\n",
       "      <th>38</th>\n",
       "      <td>모던인테리어</td>\n",
       "      <td>58707</td>\n",
       "      <td>1817</td>\n",
       "      <td>0.04</td>\n",
       "      <td>3</td>\n",
       "    </tr>\n",
       "    <tr>\n",
       "      <th>65</th>\n",
       "      <td>인테리어공사</td>\n",
       "      <td>25021</td>\n",
       "      <td>1781</td>\n",
       "      <td>0.02</td>\n",
       "      <td>4</td>\n",
       "    </tr>\n",
       "    <tr>\n",
       "      <th>29</th>\n",
       "      <td>사무실인테리어</td>\n",
       "      <td>75669</td>\n",
       "      <td>1736</td>\n",
       "      <td>0.07</td>\n",
       "      <td>6</td>\n",
       "    </tr>\n",
       "  </tbody>\n",
       "</table>\n",
       "</div>"
      ],
      "text/plain": [
       "         태그  누적게시물 수  인기글 평균 좋아요 수  게시물 생산지수  반응도\n",
       "64   인테리어견적    25605          2647      0.04    6\n",
       "44  미용실인테리어    44327          1865      0.06   10\n",
       "38   모던인테리어    58707          1817      0.04    3\n",
       "65   인테리어공사    25021          1781      0.02    4\n",
       "29  사무실인테리어    75669          1736      0.07    6"
      ]
     },
     "execution_count": 10,
     "metadata": {},
     "output_type": "execute_result"
    }
   ],
   "source": [
    "df.sort_values(\"인기글 평균 좋아요 수\", ascending=False).head()"
   ]
  },
  {
   "cell_type": "markdown",
   "metadata": {},
   "source": [
    "### 함수로 만들기 "
   ]
  },
  {
   "cell_type": "code",
   "execution_count": 11,
   "metadata": {},
   "outputs": [],
   "source": [
    "def crawl_tags(query_keyword) :\n",
    "    \"\"\"\n",
    "    method : 인스타그램 해시태그 정보 크롤링 \n",
    "    param : query_keyword에 여러단어를 지정할 수 있다. 예를 들어, \"신혼+인테리어\"\n",
    "    return : 누적게시물 기준 내림차순으로 정렬된 데이터프레임 반환\n",
    "    \"\"\"\n",
    "\n",
    "    import requests, bs4, re\n",
    "    import pandas as pd\n",
    "    \n",
    "    HEADER = { \n",
    "        'Accept':'text/html,application/xhtml+xml,application/xml;q=0.9,image/webp,image/apng,*/*;q=0.8,application/signed-exchange;v=b3',\n",
    "        'Accept-Encoding' : 'gzip, deflate, br',\n",
    "        'Accept-Language' : 'ko-KR,ko;q=0.9,en-US;q=0.8,en;q=0.7',\n",
    "        'Content-Type': 'application/x-www-form-urlencoded',\n",
    "        'Host': 'startag.io',\n",
    "        'Referer':'https://startag.io/',\n",
    "        'Upgrade-Insecure-Requests': '1',\n",
    "        'User-Agent' : \"Mozilla/5.0 (Windows NT 10.0; Win64; x64) AppleWebKit/537.36 (KHTML, like Gecko) Chrome/74.0.3729.169 Safari/537.36\",\n",
    "    } \n",
    "    \n",
    "    url = f\"https://startag.io/search.php?q={query_keyword}&mode=0&order=total_cnt&order_asc=desc\"\n",
    "    res = requests.get(url, headers=HEADER)\n",
    "\n",
    "    html = res.text\n",
    "    soup = bs4.BeautifulSoup(html, 'html.parser')\n",
    "    \n",
    "    # 인스타그램 타이틀 \n",
    "    titles = soup.find_all(\"td\", class_=\"result_td01\" )\n",
    "    keywords = [t.get(\"title\")[1:] for t in titles[1:]] # title의 속성값 가져옴\n",
    "    \n",
    "    # 누적 게시물 수 \n",
    "    total_nums = soup.find_all(\"td\", class_=\"result_td02\" )\n",
    "    total_cnt = [ int(t.getText().replace(\",\",\"\")) for t in total_nums[1:] ]\n",
    "\n",
    "    # 평균 좋아요 수 \n",
    "    good_avgs = soup.find_all(\"td\", class_=\"result_td03\" )\n",
    "    hearts_avgs = [ int(g.getText().replace(\",\",\"\")) for g in good_avgs[1:] ]\n",
    "\n",
    "    # 게시물 생산지수 \n",
    "    producivity_pnt = soup.find_all(\"td\", class_=\"result_td05\")\n",
    "    productivities = [float(p.getText()) for p in producivity_pnt[1:]]\n",
    "\n",
    "    # 반응도 \n",
    "    reaction_pnt = soup.find_all(\"td\", class_=\"result_td06\")\n",
    "    reactions = [ int(r.getText()) for r in reaction_pnt[1:] ]\n",
    "\n",
    "    # 리스트 병합\n",
    "    results = list(zip(keywords, total_cnt, hearts_avgs, productivities, reactions))\n",
    "\n",
    "    df = pd.DataFrame(results)\n",
    "    df.columns = [\"태그\",\"누적게시물 수\", \"인기글 평균 좋아요 수\", \"게시물 생산지수\",\"반응도\"]\n",
    "    \n",
    "    return df"
   ]
  },
  {
   "cell_type": "code",
   "execution_count": 12,
   "metadata": {},
   "outputs": [
    {
     "data": {
      "text/html": [
       "<div>\n",
       "<style scoped>\n",
       "    .dataframe tbody tr th:only-of-type {\n",
       "        vertical-align: middle;\n",
       "    }\n",
       "\n",
       "    .dataframe tbody tr th {\n",
       "        vertical-align: top;\n",
       "    }\n",
       "\n",
       "    .dataframe thead th {\n",
       "        text-align: right;\n",
       "    }\n",
       "</style>\n",
       "<table border=\"1\" class=\"dataframe\">\n",
       "  <thead>\n",
       "    <tr style=\"text-align: right;\">\n",
       "      <th></th>\n",
       "      <th>태그</th>\n",
       "      <th>누적게시물 수</th>\n",
       "      <th>인기글 평균 좋아요 수</th>\n",
       "      <th>게시물 생산지수</th>\n",
       "      <th>반응도</th>\n",
       "    </tr>\n",
       "  </thead>\n",
       "  <tbody>\n",
       "    <tr>\n",
       "      <th>0</th>\n",
       "      <td>인테리어</td>\n",
       "      <td>6980309</td>\n",
       "      <td>328</td>\n",
       "      <td>0.00</td>\n",
       "      <td>0</td>\n",
       "    </tr>\n",
       "    <tr>\n",
       "      <th>1</th>\n",
       "      <td>인테리어소품</td>\n",
       "      <td>1696425</td>\n",
       "      <td>326</td>\n",
       "      <td>0.60</td>\n",
       "      <td>20</td>\n",
       "    </tr>\n",
       "    <tr>\n",
       "      <th>2</th>\n",
       "      <td>셀프인테리어</td>\n",
       "      <td>993264</td>\n",
       "      <td>1139</td>\n",
       "      <td>0.79</td>\n",
       "      <td>27</td>\n",
       "    </tr>\n",
       "    <tr>\n",
       "      <th>3</th>\n",
       "      <td>홈인테리어</td>\n",
       "      <td>668397</td>\n",
       "      <td>784</td>\n",
       "      <td>0.32</td>\n",
       "      <td>9</td>\n",
       "    </tr>\n",
       "    <tr>\n",
       "      <th>4</th>\n",
       "      <td>카페인테리어</td>\n",
       "      <td>649570</td>\n",
       "      <td>364</td>\n",
       "      <td>1.40</td>\n",
       "      <td>42</td>\n",
       "    </tr>\n",
       "    <tr>\n",
       "      <th>5</th>\n",
       "      <td>신혼집인테리어</td>\n",
       "      <td>581272</td>\n",
       "      <td>624</td>\n",
       "      <td>1.17</td>\n",
       "      <td>49</td>\n",
       "    </tr>\n",
       "    <tr>\n",
       "      <th>6</th>\n",
       "      <td>인테리어디자인</td>\n",
       "      <td>477971</td>\n",
       "      <td>176</td>\n",
       "      <td>0.23</td>\n",
       "      <td>12</td>\n",
       "    </tr>\n",
       "    <tr>\n",
       "      <th>7</th>\n",
       "      <td>거실인테리어</td>\n",
       "      <td>409214</td>\n",
       "      <td>754</td>\n",
       "      <td>0.36</td>\n",
       "      <td>28</td>\n",
       "    </tr>\n",
       "    <tr>\n",
       "      <th>8</th>\n",
       "      <td>자취</td>\n",
       "      <td>406047</td>\n",
       "      <td>671</td>\n",
       "      <td>0.23</td>\n",
       "      <td>14</td>\n",
       "    </tr>\n",
       "    <tr>\n",
       "      <th>9</th>\n",
       "      <td>아파트인테리어</td>\n",
       "      <td>305972</td>\n",
       "      <td>359</td>\n",
       "      <td>0.57</td>\n",
       "      <td>30</td>\n",
       "    </tr>\n",
       "  </tbody>\n",
       "</table>\n",
       "</div>"
      ],
      "text/plain": [
       "        태그  누적게시물 수  인기글 평균 좋아요 수  게시물 생산지수  반응도\n",
       "0     인테리어  6980309           328      0.00    0\n",
       "1   인테리어소품  1696425           326      0.60   20\n",
       "2   셀프인테리어   993264          1139      0.79   27\n",
       "3    홈인테리어   668397           784      0.32    9\n",
       "4   카페인테리어   649570           364      1.40   42\n",
       "5  신혼집인테리어   581272           624      1.17   49\n",
       "6  인테리어디자인   477971           176      0.23   12\n",
       "7   거실인테리어   409214           754      0.36   28\n",
       "8       자취   406047           671      0.23   14\n",
       "9  아파트인테리어   305972           359      0.57   30"
      ]
     },
     "execution_count": 12,
     "metadata": {},
     "output_type": "execute_result"
    }
   ],
   "source": [
    "df = crawl_tags(\"인테리어 자취\")\n",
    "df.head(10)"
   ]
  },
  {
   "cell_type": "code",
   "execution_count": 13,
   "metadata": {},
   "outputs": [
    {
     "data": {
      "text/html": [
       "<div>\n",
       "<style scoped>\n",
       "    .dataframe tbody tr th:only-of-type {\n",
       "        vertical-align: middle;\n",
       "    }\n",
       "\n",
       "    .dataframe tbody tr th {\n",
       "        vertical-align: top;\n",
       "    }\n",
       "\n",
       "    .dataframe thead th {\n",
       "        text-align: right;\n",
       "    }\n",
       "</style>\n",
       "<table border=\"1\" class=\"dataframe\">\n",
       "  <thead>\n",
       "    <tr style=\"text-align: right;\">\n",
       "      <th></th>\n",
       "      <th>태그</th>\n",
       "      <th>누적게시물 수</th>\n",
       "      <th>인기글 평균 좋아요 수</th>\n",
       "      <th>게시물 생산지수</th>\n",
       "      <th>반응도</th>\n",
       "    </tr>\n",
       "  </thead>\n",
       "  <tbody>\n",
       "    <tr>\n",
       "      <th>74</th>\n",
       "      <td>인테리어견적</td>\n",
       "      <td>25605</td>\n",
       "      <td>2647</td>\n",
       "      <td>0.04</td>\n",
       "      <td>6</td>\n",
       "    </tr>\n",
       "    <tr>\n",
       "      <th>53</th>\n",
       "      <td>미용실인테리어</td>\n",
       "      <td>44327</td>\n",
       "      <td>1865</td>\n",
       "      <td>0.06</td>\n",
       "      <td>10</td>\n",
       "    </tr>\n",
       "    <tr>\n",
       "      <th>45</th>\n",
       "      <td>모던인테리어</td>\n",
       "      <td>58707</td>\n",
       "      <td>1817</td>\n",
       "      <td>0.04</td>\n",
       "      <td>3</td>\n",
       "    </tr>\n",
       "    <tr>\n",
       "      <th>75</th>\n",
       "      <td>인테리어공사</td>\n",
       "      <td>25021</td>\n",
       "      <td>1781</td>\n",
       "      <td>0.02</td>\n",
       "      <td>4</td>\n",
       "    </tr>\n",
       "    <tr>\n",
       "      <th>16</th>\n",
       "      <td>자취방</td>\n",
       "      <td>207693</td>\n",
       "      <td>1757</td>\n",
       "      <td>0.09</td>\n",
       "      <td>11</td>\n",
       "    </tr>\n",
       "    <tr>\n",
       "      <th>36</th>\n",
       "      <td>사무실인테리어</td>\n",
       "      <td>75669</td>\n",
       "      <td>1736</td>\n",
       "      <td>0.07</td>\n",
       "      <td>6</td>\n",
       "    </tr>\n",
       "    <tr>\n",
       "      <th>41</th>\n",
       "      <td>주택인테리어</td>\n",
       "      <td>65196</td>\n",
       "      <td>1656</td>\n",
       "      <td>0.07</td>\n",
       "      <td>6</td>\n",
       "    </tr>\n",
       "    <tr>\n",
       "      <th>42</th>\n",
       "      <td>집인테리어</td>\n",
       "      <td>64633</td>\n",
       "      <td>1636</td>\n",
       "      <td>0.06</td>\n",
       "      <td>16</td>\n",
       "    </tr>\n",
       "    <tr>\n",
       "      <th>113</th>\n",
       "      <td>자취음식</td>\n",
       "      <td>10337</td>\n",
       "      <td>1526</td>\n",
       "      <td>0.01</td>\n",
       "      <td>3</td>\n",
       "    </tr>\n",
       "    <tr>\n",
       "      <th>111</th>\n",
       "      <td>자취방인테리어</td>\n",
       "      <td>15910</td>\n",
       "      <td>1509</td>\n",
       "      <td>0.03</td>\n",
       "      <td>6</td>\n",
       "    </tr>\n",
       "  </tbody>\n",
       "</table>\n",
       "</div>"
      ],
      "text/plain": [
       "          태그  누적게시물 수  인기글 평균 좋아요 수  게시물 생산지수  반응도\n",
       "74    인테리어견적    25605          2647      0.04    6\n",
       "53   미용실인테리어    44327          1865      0.06   10\n",
       "45    모던인테리어    58707          1817      0.04    3\n",
       "75    인테리어공사    25021          1781      0.02    4\n",
       "16       자취방   207693          1757      0.09   11\n",
       "36   사무실인테리어    75669          1736      0.07    6\n",
       "41    주택인테리어    65196          1656      0.07    6\n",
       "42     집인테리어    64633          1636      0.06   16\n",
       "113     자취음식    10337          1526      0.01    3\n",
       "111  자취방인테리어    15910          1509      0.03    6"
      ]
     },
     "execution_count": 13,
     "metadata": {},
     "output_type": "execute_result"
    }
   ],
   "source": [
    "df.sort_values(\"인기글 평균 좋아요 수\", ascending=False).head(10)"
   ]
  },
  {
   "cell_type": "markdown",
   "metadata": {},
   "source": [
    "### 그래프 "
   ]
  },
  {
   "cell_type": "code",
   "execution_count": 14,
   "metadata": {},
   "outputs": [],
   "source": [
    "import numpy as np\n",
    "import pandas as pd\n",
    "import matplotlib.pyplot as plt\n",
    "import seaborn as sns \n",
    "import warnings\n",
    "from tqdm import tqdm\n",
    "from datetime import datetime\n",
    "import json\n",
    "from sklearn.preprocessing import LabelEncoder\n",
    "warnings.filterwarnings(\"ignore\")\n",
    "%matplotlib inline\n",
    "\n",
    "from matplotlib import font_manager, rc \n",
    "\n",
    "path = \"C:/Windows/Fonts/malgun.ttf\"\n",
    "\n",
    "font_name = font_manager.FontProperties(fname=path).get_name()\n",
    "rc('font', family=font_name)\n",
    "\n",
    "plt.rcParams['axes.unicode_minus'] = False"
   ]
  },
  {
   "cell_type": "code",
   "execution_count": 15,
   "metadata": {},
   "outputs": [],
   "source": [
    "df = df.sort_values(\"인기글 평균 좋아요 수\", ascending=False)\n",
    "df2 = df.set_index(\"태그\")"
   ]
  },
  {
   "cell_type": "code",
   "execution_count": 16,
   "metadata": {},
   "outputs": [
    {
     "data": {
      "text/plain": [
       "<matplotlib.axes._subplots.AxesSubplot at 0x194d8a18160>"
      ]
     },
     "execution_count": 16,
     "metadata": {},
     "output_type": "execute_result"
    },
    {
     "data": {
      "image/png": "[encoded data removed]",
      "text/plain": [
       "<Figure size 432x288 with 1 Axes>"
      ]
     },
     "metadata": {
      "needs_background": "light"
     },
     "output_type": "display_data"
    }
   ],
   "source": [
    "df2[:5][\"인기글 평균 좋아요 수\"].plot()"
   ]
  },
  {
   "cell_type": "code",
   "execution_count": 20,
   "metadata": {},
   "outputs": [],
   "source": [
    "# -*- coding:utf-8 -*-\n",
    "\n",
    "try :\n",
    "    keyword = \"인테리어+앱\"\n",
    "    df = crawl_tags(keyword)\n",
    "    df = df.sort_values([\"누적게시물 수\", \"게시물 생산지수\"], ascending=False)\n",
    "    df.to_csv(f\"{keyword}.csv\", encoding=\"cp949\", index=False)\n",
    "except UnicodeEncodeError :\n",
    "    print(\"beep!\")"
   ]
  },
  {
   "cell_type": "code",
   "execution_count": null,
   "metadata": {},
   "outputs": [],
   "source": []
  }
 ],
 "metadata": {
  "kernelspec": {
   "display_name": "python3.6",
   "language": "python",
   "name": "py36"
  },
  "language_info": {
   "codemirror_mode": {
    "name": "ipython",
    "version": 3
   },
   "file_extension": ".py",
   "mimetype": "text/x-python",
   "name": "python",
   "nbconvert_exporter": "python",
   "pygments_lexer": "ipython3",
   "version": "3.6.8"
  }
 },
 "nbformat": 4,
 "nbformat_minor": 2
}
