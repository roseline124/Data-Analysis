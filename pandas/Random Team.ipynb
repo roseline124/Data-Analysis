{
 "cells": [
  {
   "cell_type": "markdown",
   "metadata": {},
   "source": [
    "# <font color=\"#ff8104\"> Let's Make Random Team </font>"
   ]
  },
  {
   "cell_type": "code",
   "execution_count": 121,
   "metadata": {},
   "outputs": [],
   "source": [
    "import pandas as pd\n",
    "import numpy as np"
   ]
  },
  {
   "cell_type": "code",
   "execution_count": 29,
   "metadata": {},
   "outputs": [],
   "source": [
    "df = pd.read_excel('DA.xlsx',header=9)"
   ]
  },
  {
   "cell_type": "code",
   "execution_count": 35,
   "metadata": {},
   "outputs": [],
   "source": [
    "df.drop([0], inplace=True)"
   ]
  },
  {
   "cell_type": "code",
   "execution_count": 36,
   "metadata": {},
   "outputs": [
    {
     "data": {
      "text/html": [
       "<div>\n",
       "<style scoped>\n",
       "    .dataframe tbody tr th:only-of-type {\n",
       "        vertical-align: middle;\n",
       "    }\n",
       "\n",
       "    .dataframe tbody tr th {\n",
       "        vertical-align: top;\n",
       "    }\n",
       "\n",
       "    .dataframe thead th {\n",
       "        text-align: right;\n",
       "    }\n",
       "</style>\n",
       "<table border=\"1\" class=\"dataframe\">\n",
       "  <thead>\n",
       "    <tr style=\"text-align: right;\">\n",
       "      <th></th>\n",
       "      <th>순\n",
       "번</th>\n",
       "      <th>대  학</th>\n",
       "      <th>Unnamed: 2</th>\n",
       "      <th>학과(부) 및 전공</th>\n",
       "      <th>학년</th>\n",
       "      <th>학     번</th>\n",
       "      <th>성     명</th>\n",
       "      <th>Unnamed: 7</th>\n",
       "      <th>Unnamed: 8</th>\n",
       "      <th>Unnamed: 9</th>\n",
       "      <th>...</th>\n",
       "      <th>Unnamed: 43</th>\n",
       "      <th>과제\n",
       "1</th>\n",
       "      <th>과제\n",
       "2</th>\n",
       "      <th>과제\n",
       "3</th>\n",
       "      <th>출석</th>\n",
       "      <th>중간</th>\n",
       "      <th>기말</th>\n",
       "      <th>합계</th>\n",
       "      <th>비고</th>\n",
       "      <th>Unnamed: 52</th>\n",
       "    </tr>\n",
       "  </thead>\n",
       "  <tbody>\n",
       "    <tr>\n",
       "      <th>1</th>\n",
       "      <td>1.0</td>\n",
       "      <td>언론정보대학</td>\n",
       "      <td>NaN</td>\n",
       "      <td>광고홍보학과</td>\n",
       "      <td>4.0</td>\n",
       "      <td>2.013051e+09</td>\n",
       "      <td>곽종현</td>\n",
       "      <td>NaN</td>\n",
       "      <td>NaN</td>\n",
       "      <td>NaN</td>\n",
       "      <td>...</td>\n",
       "      <td>NaN</td>\n",
       "      <td>NaN</td>\n",
       "      <td>NaN</td>\n",
       "      <td>NaN</td>\n",
       "      <td>NaN</td>\n",
       "      <td>NaN</td>\n",
       "      <td>NaN</td>\n",
       "      <td>NaN</td>\n",
       "      <td>NaN</td>\n",
       "      <td>NaN</td>\n",
       "    </tr>\n",
       "    <tr>\n",
       "      <th>2</th>\n",
       "      <td>2.0</td>\n",
       "      <td>언론정보대학</td>\n",
       "      <td>NaN</td>\n",
       "      <td>광고홍보학과</td>\n",
       "      <td>4.0</td>\n",
       "      <td>2.013051e+09</td>\n",
       "      <td>윤준범</td>\n",
       "      <td>NaN</td>\n",
       "      <td>NaN</td>\n",
       "      <td>NaN</td>\n",
       "      <td>...</td>\n",
       "      <td>NaN</td>\n",
       "      <td>NaN</td>\n",
       "      <td>NaN</td>\n",
       "      <td>NaN</td>\n",
       "      <td>NaN</td>\n",
       "      <td>NaN</td>\n",
       "      <td>NaN</td>\n",
       "      <td>NaN</td>\n",
       "      <td>NaN</td>\n",
       "      <td>NaN</td>\n",
       "    </tr>\n",
       "    <tr>\n",
       "      <th>3</th>\n",
       "      <td>3.0</td>\n",
       "      <td>언론정보대학</td>\n",
       "      <td>NaN</td>\n",
       "      <td>광고홍보학과</td>\n",
       "      <td>4.0</td>\n",
       "      <td>2.013051e+09</td>\n",
       "      <td>전종하</td>\n",
       "      <td>NaN</td>\n",
       "      <td>NaN</td>\n",
       "      <td>NaN</td>\n",
       "      <td>...</td>\n",
       "      <td>NaN</td>\n",
       "      <td>NaN</td>\n",
       "      <td>NaN</td>\n",
       "      <td>NaN</td>\n",
       "      <td>NaN</td>\n",
       "      <td>NaN</td>\n",
       "      <td>NaN</td>\n",
       "      <td>NaN</td>\n",
       "      <td>NaN</td>\n",
       "      <td>NaN</td>\n",
       "    </tr>\n",
       "    <tr>\n",
       "      <th>4</th>\n",
       "      <td>4.0</td>\n",
       "      <td>언론정보대학</td>\n",
       "      <td>NaN</td>\n",
       "      <td>광고홍보학과</td>\n",
       "      <td>4.0</td>\n",
       "      <td>2.014047e+09</td>\n",
       "      <td>김남웅</td>\n",
       "      <td>NaN</td>\n",
       "      <td>NaN</td>\n",
       "      <td>NaN</td>\n",
       "      <td>...</td>\n",
       "      <td>NaN</td>\n",
       "      <td>NaN</td>\n",
       "      <td>NaN</td>\n",
       "      <td>NaN</td>\n",
       "      <td>NaN</td>\n",
       "      <td>NaN</td>\n",
       "      <td>NaN</td>\n",
       "      <td>NaN</td>\n",
       "      <td>NaN</td>\n",
       "      <td>NaN</td>\n",
       "    </tr>\n",
       "    <tr>\n",
       "      <th>5</th>\n",
       "      <td>5.0</td>\n",
       "      <td>언론정보대학</td>\n",
       "      <td>NaN</td>\n",
       "      <td>광고홍보학과</td>\n",
       "      <td>4.0</td>\n",
       "      <td>2.014047e+09</td>\n",
       "      <td>김주환</td>\n",
       "      <td>NaN</td>\n",
       "      <td>NaN</td>\n",
       "      <td>NaN</td>\n",
       "      <td>...</td>\n",
       "      <td>NaN</td>\n",
       "      <td>NaN</td>\n",
       "      <td>NaN</td>\n",
       "      <td>NaN</td>\n",
       "      <td>NaN</td>\n",
       "      <td>NaN</td>\n",
       "      <td>NaN</td>\n",
       "      <td>NaN</td>\n",
       "      <td>NaN</td>\n",
       "      <td>NaN</td>\n",
       "    </tr>\n",
       "  </tbody>\n",
       "</table>\n",
       "<p>5 rows × 53 columns</p>\n",
       "</div>"
      ],
      "text/plain": [
       "   순\\n번    대  학  Unnamed: 2 학과(부) 및 전공   학년       학     번 성     명  Unnamed: 7  \\\n",
       "1   1.0  언론정보대학         NaN     광고홍보학과  4.0  2.013051e+09     곽종현         NaN   \n",
       "2   2.0  언론정보대학         NaN     광고홍보학과  4.0  2.013051e+09     윤준범         NaN   \n",
       "3   3.0  언론정보대학         NaN     광고홍보학과  4.0  2.013051e+09     전종하         NaN   \n",
       "4   4.0  언론정보대학         NaN     광고홍보학과  4.0  2.014047e+09     김남웅         NaN   \n",
       "5   5.0  언론정보대학         NaN     광고홍보학과  4.0  2.014047e+09     김주환         NaN   \n",
       "\n",
       "   Unnamed: 8  Unnamed: 9     ...       Unnamed: 43  과제\\n1  과제\\n2  과제\\n3  출석  \\\n",
       "1         NaN         NaN     ...               NaN    NaN    NaN    NaN NaN   \n",
       "2         NaN         NaN     ...               NaN    NaN    NaN    NaN NaN   \n",
       "3         NaN         NaN     ...               NaN    NaN    NaN    NaN NaN   \n",
       "4         NaN         NaN     ...               NaN    NaN    NaN    NaN NaN   \n",
       "5         NaN         NaN     ...               NaN    NaN    NaN    NaN NaN   \n",
       "\n",
       "   중간  기말  합계  비고  Unnamed: 52  \n",
       "1 NaN NaN NaN NaN          NaN  \n",
       "2 NaN NaN NaN NaN          NaN  \n",
       "3 NaN NaN NaN NaN          NaN  \n",
       "4 NaN NaN NaN NaN          NaN  \n",
       "5 NaN NaN NaN NaN          NaN  \n",
       "\n",
       "[5 rows x 53 columns]"
      ]
     },
     "execution_count": 36,
     "metadata": {},
     "output_type": "execute_result"
    }
   ],
   "source": [
    "df.head()"
   ]
  },
  {
   "cell_type": "code",
   "execution_count": 37,
   "metadata": {},
   "outputs": [],
   "source": [
    "df.drop(df.columns[7:], axis=1, inplace=True)"
   ]
  },
  {
   "cell_type": "code",
   "execution_count": 48,
   "metadata": {},
   "outputs": [],
   "source": [
    "df.drop(df.index[17:33], inplace=True)"
   ]
  },
  {
   "cell_type": "code",
   "execution_count": 54,
   "metadata": {},
   "outputs": [],
   "source": [
    "df.drop(df.columns[2], axis=1, inplace=True)"
   ]
  },
  {
   "cell_type": "code",
   "execution_count": 63,
   "metadata": {
    "scrolled": true
   },
   "outputs": [
    {
     "data": {
      "text/html": [
       "<div>\n",
       "<style scoped>\n",
       "    .dataframe tbody tr th:only-of-type {\n",
       "        vertical-align: middle;\n",
       "    }\n",
       "\n",
       "    .dataframe tbody tr th {\n",
       "        vertical-align: top;\n",
       "    }\n",
       "\n",
       "    .dataframe thead th {\n",
       "        text-align: right;\n",
       "    }\n",
       "</style>\n",
       "<table border=\"1\" class=\"dataframe\">\n",
       "  <thead>\n",
       "    <tr style=\"text-align: right;\">\n",
       "      <th></th>\n",
       "      <th>순\n",
       "번</th>\n",
       "      <th>대  학</th>\n",
       "      <th>학과(부) 및 전공</th>\n",
       "      <th>학년</th>\n",
       "      <th>학     번</th>\n",
       "      <th>성     명</th>\n",
       "    </tr>\n",
       "  </thead>\n",
       "  <tbody>\n",
       "    <tr>\n",
       "      <th>1</th>\n",
       "      <td>1.0</td>\n",
       "      <td>언론정보대학</td>\n",
       "      <td>광고홍보학과</td>\n",
       "      <td>4.0</td>\n",
       "      <td>2.013051e+09</td>\n",
       "      <td>곽종현</td>\n",
       "    </tr>\n",
       "    <tr>\n",
       "      <th>2</th>\n",
       "      <td>2.0</td>\n",
       "      <td>언론정보대학</td>\n",
       "      <td>광고홍보학과</td>\n",
       "      <td>4.0</td>\n",
       "      <td>2.013051e+09</td>\n",
       "      <td>윤준범</td>\n",
       "    </tr>\n",
       "    <tr>\n",
       "      <th>3</th>\n",
       "      <td>3.0</td>\n",
       "      <td>언론정보대학</td>\n",
       "      <td>광고홍보학과</td>\n",
       "      <td>4.0</td>\n",
       "      <td>2.013051e+09</td>\n",
       "      <td>전종하</td>\n",
       "    </tr>\n",
       "    <tr>\n",
       "      <th>4</th>\n",
       "      <td>4.0</td>\n",
       "      <td>언론정보대학</td>\n",
       "      <td>광고홍보학과</td>\n",
       "      <td>4.0</td>\n",
       "      <td>2.014047e+09</td>\n",
       "      <td>김남웅</td>\n",
       "    </tr>\n",
       "    <tr>\n",
       "      <th>5</th>\n",
       "      <td>5.0</td>\n",
       "      <td>언론정보대학</td>\n",
       "      <td>광고홍보학과</td>\n",
       "      <td>4.0</td>\n",
       "      <td>2.014047e+09</td>\n",
       "      <td>김주환</td>\n",
       "    </tr>\n",
       "  </tbody>\n",
       "</table>\n",
       "</div>"
      ],
      "text/plain": [
       "   순\\n번    대  학 학과(부) 및 전공   학년       학     번 성     명\n",
       "1   1.0  언론정보대학     광고홍보학과  4.0  2.013051e+09     곽종현\n",
       "2   2.0  언론정보대학     광고홍보학과  4.0  2.013051e+09     윤준범\n",
       "3   3.0  언론정보대학     광고홍보학과  4.0  2.013051e+09     전종하\n",
       "4   4.0  언론정보대학     광고홍보학과  4.0  2.014047e+09     김남웅\n",
       "5   5.0  언론정보대학     광고홍보학과  4.0  2.014047e+09     김주환"
      ]
     },
     "execution_count": 63,
     "metadata": {},
     "output_type": "execute_result"
    }
   ],
   "source": [
    "df.head()"
   ]
  },
  {
   "cell_type": "code",
   "execution_count": 58,
   "metadata": {},
   "outputs": [
    {
     "name": "stdout",
     "output_type": "stream",
     "text": [
      "팀 개수 입력하세요. >4\n"
     ]
    }
   ],
   "source": [
    "teamNum = int(input(\"팀 개수 입력하세요. >\"))"
   ]
  },
  {
   "cell_type": "code",
   "execution_count": 140,
   "metadata": {},
   "outputs": [
    {
     "name": "stdout",
     "output_type": "stream",
     "text": [
      "팀장을 입력하세요. ex) 김철수 김영희 >송현지 신준섭 정효선 윤준범\n"
     ]
    }
   ],
   "source": [
    "leaders = input(\"팀장을 입력하세요. ex) 김철수 김영희 >\").split(\" \")"
   ]
  },
  {
   "cell_type": "code",
   "execution_count": 141,
   "metadata": {},
   "outputs": [
    {
     "data": {
      "text/plain": [
       "['송현지', '신준섭', '정효선', '윤준범']"
      ]
     },
     "execution_count": 141,
     "metadata": {},
     "output_type": "execute_result"
    }
   ],
   "source": [
    "leaders"
   ]
  },
  {
   "cell_type": "code",
   "execution_count": 68,
   "metadata": {},
   "outputs": [
    {
     "data": {
      "text/plain": [
       "4"
      ]
     },
     "execution_count": 68,
     "metadata": {},
     "output_type": "execute_result"
    }
   ],
   "source": [
    "# 각 팀의 팀원 수\n",
    "mateNum = len(df)//teamNum\n",
    "mateNum"
   ]
  },
  {
   "cell_type": "code",
   "execution_count": 142,
   "metadata": {},
   "outputs": [],
   "source": [
    "team = {}\n",
    "\n",
    "for i, n in enumerate(leaders) :\n",
    "    team[n] = i "
   ]
  },
  {
   "cell_type": "code",
   "execution_count": 143,
   "metadata": {},
   "outputs": [
    {
     "data": {
      "text/plain": [
       "{'송현지': 0, '신준섭': 1, '정효선': 2, '윤준범': 3}"
      ]
     },
     "execution_count": 143,
     "metadata": {},
     "output_type": "execute_result"
    }
   ],
   "source": [
    "team"
   ]
  },
  {
   "cell_type": "code",
   "execution_count": 88,
   "metadata": {},
   "outputs": [],
   "source": [
    "# for t in team : \n",
    "#     if df.columns[6] == t : \n",
    "#         df['team'] = team[t]\n",
    "\n",
    "df['team'] = 0"
   ]
  },
  {
   "cell_type": "code",
   "execution_count": 101,
   "metadata": {},
   "outputs": [],
   "source": [
    "df.drop(df.columns[7], axis=1, inplace=True)"
   ]
  },
  {
   "cell_type": "code",
   "execution_count": 103,
   "metadata": {},
   "outputs": [
    {
     "data": {
      "text/html": [
       "<div>\n",
       "<style scoped>\n",
       "    .dataframe tbody tr th:only-of-type {\n",
       "        vertical-align: middle;\n",
       "    }\n",
       "\n",
       "    .dataframe tbody tr th {\n",
       "        vertical-align: top;\n",
       "    }\n",
       "\n",
       "    .dataframe thead th {\n",
       "        text-align: right;\n",
       "    }\n",
       "</style>\n",
       "<table border=\"1\" class=\"dataframe\">\n",
       "  <thead>\n",
       "    <tr style=\"text-align: right;\">\n",
       "      <th></th>\n",
       "      <th>순\n",
       "번</th>\n",
       "      <th>대  학</th>\n",
       "      <th>학과(부) 및 전공</th>\n",
       "      <th>학년</th>\n",
       "      <th>학     번</th>\n",
       "      <th>성     명</th>\n",
       "      <th>team</th>\n",
       "    </tr>\n",
       "  </thead>\n",
       "  <tbody>\n",
       "    <tr>\n",
       "      <th>1</th>\n",
       "      <td>1.0</td>\n",
       "      <td>언론정보대학</td>\n",
       "      <td>광고홍보학과</td>\n",
       "      <td>4.0</td>\n",
       "      <td>2.013051e+09</td>\n",
       "      <td>곽종현</td>\n",
       "      <td>0</td>\n",
       "    </tr>\n",
       "    <tr>\n",
       "      <th>2</th>\n",
       "      <td>2.0</td>\n",
       "      <td>언론정보대학</td>\n",
       "      <td>광고홍보학과</td>\n",
       "      <td>4.0</td>\n",
       "      <td>2.013051e+09</td>\n",
       "      <td>윤준범</td>\n",
       "      <td>0</td>\n",
       "    </tr>\n",
       "    <tr>\n",
       "      <th>3</th>\n",
       "      <td>3.0</td>\n",
       "      <td>언론정보대학</td>\n",
       "      <td>광고홍보학과</td>\n",
       "      <td>4.0</td>\n",
       "      <td>2.013051e+09</td>\n",
       "      <td>전종하</td>\n",
       "      <td>0</td>\n",
       "    </tr>\n",
       "    <tr>\n",
       "      <th>4</th>\n",
       "      <td>4.0</td>\n",
       "      <td>언론정보대학</td>\n",
       "      <td>광고홍보학과</td>\n",
       "      <td>4.0</td>\n",
       "      <td>2.014047e+09</td>\n",
       "      <td>김남웅</td>\n",
       "      <td>0</td>\n",
       "    </tr>\n",
       "    <tr>\n",
       "      <th>5</th>\n",
       "      <td>5.0</td>\n",
       "      <td>언론정보대학</td>\n",
       "      <td>광고홍보학과</td>\n",
       "      <td>4.0</td>\n",
       "      <td>2.014047e+09</td>\n",
       "      <td>김주환</td>\n",
       "      <td>0</td>\n",
       "    </tr>\n",
       "  </tbody>\n",
       "</table>\n",
       "</div>"
      ],
      "text/plain": [
       "   순\\n번    대  학 학과(부) 및 전공   학년       학     번 성     명  team\n",
       "1   1.0  언론정보대학     광고홍보학과  4.0  2.013051e+09     곽종현     0\n",
       "2   2.0  언론정보대학     광고홍보학과  4.0  2.013051e+09     윤준범     0\n",
       "3   3.0  언론정보대학     광고홍보학과  4.0  2.013051e+09     전종하     0\n",
       "4   4.0  언론정보대학     광고홍보학과  4.0  2.014047e+09     김남웅     0\n",
       "5   5.0  언론정보대학     광고홍보학과  4.0  2.014047e+09     김주환     0"
      ]
     },
     "execution_count": 103,
     "metadata": {},
     "output_type": "execute_result"
    }
   ],
   "source": [
    "df.head()"
   ]
  },
  {
   "cell_type": "code",
   "execution_count": 108,
   "metadata": {},
   "outputs": [],
   "source": [
    "df.rename(columns={df.columns[5] : 'name'}, inplace=True )"
   ]
  },
  {
   "cell_type": "code",
   "execution_count": 210,
   "metadata": {},
   "outputs": [],
   "source": [
    "def is_leader(row) : \n",
    "        if row in team : \n",
    "            return 'Leader'\n",
    "        else :\n",
    "            return 'NaN'\n",
    "        \n",
    "df.leader = df.name.apply(is_leader)"
   ]
  },
  {
   "cell_type": "code",
   "execution_count": null,
   "metadata": {},
   "outputs": [],
   "source": [
    "df.rename(columns={df.columns[6] : 'leader'}, inplace=True )"
   ]
  },
  {
   "cell_type": "code",
   "execution_count": 211,
   "metadata": {},
   "outputs": [],
   "source": [
    "df['team'] = 0"
   ]
  },
  {
   "cell_type": "code",
   "execution_count": 221,
   "metadata": {},
   "outputs": [
    {
     "data": {
      "text/plain": [
       "4"
      ]
     },
     "execution_count": 221,
     "metadata": {},
     "output_type": "execute_result"
    }
   ],
   "source": [
    "import random"
   ]
  },
  {
   "cell_type": "code",
   "execution_count": 235,
   "metadata": {},
   "outputs": [
    {
     "name": "stdout",
     "output_type": "stream",
     "text": [
      "Leader\n",
      "Leader\n",
      "Leader\n",
      "Leader\n"
     ]
    }
   ],
   "source": [
    "def randTeam(row) :\n",
    "    if row == 'Leader' :\n",
    "        print(row)\n",
    "        return 'Leader'\n",
    "    else :\n",
    "        return random.randrange(0,len(team))\n",
    "    \n",
    "df.team = df.leader.apply(randTeam)"
   ]
  },
  {
   "cell_type": "code",
   "execution_count": 237,
   "metadata": {},
   "outputs": [
    {
     "data": {
      "text/plain": [
       "1          1\n",
       "2     Leader\n",
       "3          1\n",
       "4          1\n",
       "5          3\n",
       "6     Leader\n",
       "7          1\n",
       "8          2\n",
       "9          0\n",
       "10    Leader\n",
       "11         2\n",
       "12         2\n",
       "13         3\n",
       "14         1\n",
       "15         1\n",
       "16    Leader\n",
       "17         1\n",
       "Name: leader, dtype: object"
      ]
     },
     "execution_count": 237,
     "metadata": {},
     "output_type": "execute_result"
    }
   ],
   "source": [
    "df.team"
   ]
  },
  {
   "cell_type": "code",
   "execution_count": 197,
   "metadata": {},
   "outputs": [],
   "source": []
  },
  {
   "cell_type": "code",
   "execution_count": 238,
   "metadata": {},
   "outputs": [
    {
     "data": {
      "text/plain": [
       "team\n",
       "0    [곽종현, 윤준범, 전종하, 김남웅, 김주환, 송현지, 도윤석, 이주영, 정서윤, ...\n",
       "Name: name, dtype: object"
      ]
     },
     "execution_count": 238,
     "metadata": {},
     "output_type": "execute_result"
    }
   ],
   "source": [
    "df.groupby('team')['name'].apply(list)"
   ]
  },
  {
   "cell_type": "code",
   "execution_count": 160,
   "metadata": {},
   "outputs": [
    {
     "data": {
      "text/plain": [
       "array([2.19525402, 2.86075747, 2.4110535 , 2.17953273, 1.6946192 ,\n",
       "       2.58357645, 1.75034885, 3.567092  , 3.85465104, 1.53376608,\n",
       "       3.16690015, 2.11557968, 2.27217824])"
      ]
     },
     "execution_count": 160,
     "metadata": {},
     "output_type": "execute_result"
    }
   ],
   "source": [
    "np.random.seed(0)\n",
    "np.random.rand(len(df)-len(team))*4"
   ]
  },
  {
   "cell_type": "code",
   "execution_count": 170,
   "metadata": {},
   "outputs": [],
   "source": []
  },
  {
   "cell_type": "code",
   "execution_count": 169,
   "metadata": {},
   "outputs": [
    {
     "data": {
      "text/plain": [
       "<function __main__.<lambda>(obj)>"
      ]
     },
     "execution_count": 169,
     "metadata": {},
     "output_type": "execute_result"
    }
   ],
   "source": []
  },
  {
   "cell_type": "code",
   "execution_count": null,
   "metadata": {},
   "outputs": [],
   "source": []
  }
 ],
 "metadata": {
  "kernelspec": {
   "display_name": "py35",
   "language": "python",
   "name": "py35"
  },
  "language_info": {
   "codemirror_mode": {
    "name": "ipython",
    "version": 3
   },
   "file_extension": ".py",
   "mimetype": "text/x-python",
   "name": "python",
   "nbconvert_exporter": "python",
   "pygments_lexer": "ipython3",
   "version": "3.7.1"
  }
 },
 "nbformat": 4,
 "nbformat_minor": 2
}
