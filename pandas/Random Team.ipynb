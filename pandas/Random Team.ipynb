{
 "cells": [
  {
   "cell_type": "markdown",
   "metadata": {},
   "source": [
    "# <font color=\"#ff8104\"> Let's Make Random Team </font>"
   ]
  },
  {
   "cell_type": "code",
   "execution_count": 2,
   "metadata": {},
   "outputs": [],
   "source": [
    "import pandas as pd\n",
    "import numpy as np"
   ]
  },
  {
   "cell_type": "code",
   "execution_count": 32,
   "metadata": {},
   "outputs": [
    {
     "data": {
      "text/html": [
       "<div>\n",
       "<style scoped>\n",
       "    .dataframe tbody tr th:only-of-type {\n",
       "        vertical-align: middle;\n",
       "    }\n",
       "\n",
       "    .dataframe tbody tr th {\n",
       "        vertical-align: top;\n",
       "    }\n",
       "\n",
       "    .dataframe thead th {\n",
       "        text-align: right;\n",
       "    }\n",
       "</style>\n",
       "<table border=\"1\" class=\"dataframe\">\n",
       "  <thead>\n",
       "    <tr style=\"text-align: right;\">\n",
       "      <th></th>\n",
       "      <th>학과(부) 및 전공</th>\n",
       "      <th>학     번</th>\n",
       "      <th>성     명</th>\n",
       "    </tr>\n",
       "  </thead>\n",
       "  <tbody>\n",
       "    <tr>\n",
       "      <th>1</th>\n",
       "      <td>광고홍보학과</td>\n",
       "      <td>2.013051e+09</td>\n",
       "      <td>곽종현</td>\n",
       "    </tr>\n",
       "    <tr>\n",
       "      <th>2</th>\n",
       "      <td>광고홍보학과</td>\n",
       "      <td>2.013051e+09</td>\n",
       "      <td>윤준범</td>\n",
       "    </tr>\n",
       "    <tr>\n",
       "      <th>3</th>\n",
       "      <td>광고홍보학과</td>\n",
       "      <td>2.013051e+09</td>\n",
       "      <td>전종하</td>\n",
       "    </tr>\n",
       "    <tr>\n",
       "      <th>4</th>\n",
       "      <td>광고홍보학과</td>\n",
       "      <td>2.014047e+09</td>\n",
       "      <td>김남웅</td>\n",
       "    </tr>\n",
       "    <tr>\n",
       "      <th>5</th>\n",
       "      <td>광고홍보학과</td>\n",
       "      <td>2.014047e+09</td>\n",
       "      <td>김주환</td>\n",
       "    </tr>\n",
       "    <tr>\n",
       "      <th>6</th>\n",
       "      <td>광고홍보학과</td>\n",
       "      <td>2.014048e+09</td>\n",
       "      <td>송현지</td>\n",
       "    </tr>\n",
       "    <tr>\n",
       "      <th>7</th>\n",
       "      <td>광고홍보학과</td>\n",
       "      <td>2.015048e+09</td>\n",
       "      <td>도윤석</td>\n",
       "    </tr>\n",
       "    <tr>\n",
       "      <th>8</th>\n",
       "      <td>광고홍보학과</td>\n",
       "      <td>2.015048e+09</td>\n",
       "      <td>이주영</td>\n",
       "    </tr>\n",
       "    <tr>\n",
       "      <th>9</th>\n",
       "      <td>광고홍보학과</td>\n",
       "      <td>2.015048e+09</td>\n",
       "      <td>정서윤</td>\n",
       "    </tr>\n",
       "    <tr>\n",
       "      <th>10</th>\n",
       "      <td>광고홍보학과</td>\n",
       "      <td>2.015048e+09</td>\n",
       "      <td>정효선</td>\n",
       "    </tr>\n",
       "    <tr>\n",
       "      <th>11</th>\n",
       "      <td>광고홍보학과</td>\n",
       "      <td>2.015062e+09</td>\n",
       "      <td>이수진</td>\n",
       "    </tr>\n",
       "    <tr>\n",
       "      <th>12</th>\n",
       "      <td>광고홍보학과</td>\n",
       "      <td>2.016014e+09</td>\n",
       "      <td>최연주</td>\n",
       "    </tr>\n",
       "    <tr>\n",
       "      <th>13</th>\n",
       "      <td>광고홍보학과</td>\n",
       "      <td>2.016063e+09</td>\n",
       "      <td>김호정</td>\n",
       "    </tr>\n",
       "    <tr>\n",
       "      <th>14</th>\n",
       "      <td>광고홍보학과</td>\n",
       "      <td>2.016063e+09</td>\n",
       "      <td>이준기</td>\n",
       "    </tr>\n",
       "    <tr>\n",
       "      <th>15</th>\n",
       "      <td>광고홍보학과</td>\n",
       "      <td>2.017019e+09</td>\n",
       "      <td>주준태</td>\n",
       "    </tr>\n",
       "    <tr>\n",
       "      <th>16</th>\n",
       "      <td>산업경영공학과</td>\n",
       "      <td>2.013046e+09</td>\n",
       "      <td>신준섭</td>\n",
       "    </tr>\n",
       "    <tr>\n",
       "      <th>17</th>\n",
       "      <td>테크노프로덕트디자인학과</td>\n",
       "      <td>2.016018e+09</td>\n",
       "      <td>허은주</td>\n",
       "    </tr>\n",
       "  </tbody>\n",
       "</table>\n",
       "</div>"
      ],
      "text/plain": [
       "      학과(부) 및 전공       학     번 성     명\n",
       "1         광고홍보학과  2.013051e+09     곽종현\n",
       "2         광고홍보학과  2.013051e+09     윤준범\n",
       "3         광고홍보학과  2.013051e+09     전종하\n",
       "4         광고홍보학과  2.014047e+09     김남웅\n",
       "5         광고홍보학과  2.014047e+09     김주환\n",
       "6         광고홍보학과  2.014048e+09     송현지\n",
       "7         광고홍보학과  2.015048e+09     도윤석\n",
       "8         광고홍보학과  2.015048e+09     이주영\n",
       "9         광고홍보학과  2.015048e+09     정서윤\n",
       "10        광고홍보학과  2.015048e+09     정효선\n",
       "11        광고홍보학과  2.015062e+09     이수진\n",
       "12        광고홍보학과  2.016014e+09     최연주\n",
       "13        광고홍보학과  2.016063e+09     김호정\n",
       "14        광고홍보학과  2.016063e+09     이준기\n",
       "15        광고홍보학과  2.017019e+09     주준태\n",
       "16       산업경영공학과  2.013046e+09     신준섭\n",
       "17  테크노프로덕트디자인학과  2.016018e+09     허은주"
      ]
     },
     "execution_count": 32,
     "metadata": {},
     "output_type": "execute_result"
    }
   ],
   "source": [
    "# df = pd.read_excel('DA.xlsx',\n",
    "#                        header=9,\n",
    "#                        usecols = 'D, F, G', \n",
    "#                        encoding='utf-8')\n",
    "df = pd.read_csv('DA.csv', \n",
    "                header=9, \n",
    "                usecols=[\"학과(부) 및 전공\", \"학     번\", \"성     명\"],\n",
    "                encoding='utf-8')\n",
    "# df.drop([0], inplace=True)\n",
    "# df.dropna(axis=1, inplace=True) #결측값 제거. axis = 1하면 열 기준 제거 \n",
    "df.dropna(axis=0, inplace=True) #결측값 제거. axis = 1하면 열 기준 제거 \n",
    "df"
   ]
  },
  {
   "cell_type": "code",
   "execution_count": 41,
   "metadata": {},
   "outputs": [
    {
     "data": {
      "text/plain": [
       "Index(['학과(부) 및 전공', '학     번', '성     명'], dtype='object')"
      ]
     },
     "execution_count": 41,
     "metadata": {},
     "output_type": "execute_result"
    }
   ],
   "source": [
    "df.columns"
   ]
  },
  {
   "cell_type": "code",
   "execution_count": 10,
   "metadata": {},
   "outputs": [
    {
     "ename": "KeyError",
     "evalue": "'labels [0] not contained in axis'",
     "output_type": "error",
     "traceback": [
      "\u001b[1;31m---------------------------------------------------------------------------\u001b[0m",
      "\u001b[1;31mKeyError\u001b[0m                                  Traceback (most recent call last)",
      "\u001b[1;32m<ipython-input-10-e114c761e0b1>\u001b[0m in \u001b[0;36m<module>\u001b[1;34m()\u001b[0m\n\u001b[0;32m      1\u001b[0m \u001b[0mdf\u001b[0m\u001b[1;33m.\u001b[0m\u001b[0mdrop\u001b[0m\u001b[1;33m(\u001b[0m\u001b[0mdf\u001b[0m\u001b[1;33m.\u001b[0m\u001b[0mcolumns\u001b[0m\u001b[1;33m[\u001b[0m\u001b[1;36m7\u001b[0m\u001b[1;33m:\u001b[0m\u001b[1;33m]\u001b[0m\u001b[1;33m,\u001b[0m \u001b[0maxis\u001b[0m\u001b[1;33m=\u001b[0m\u001b[1;36m1\u001b[0m\u001b[1;33m,\u001b[0m \u001b[0minplace\u001b[0m\u001b[1;33m=\u001b[0m\u001b[1;32mTrue\u001b[0m\u001b[1;33m)\u001b[0m\u001b[1;33m\u001b[0m\u001b[0m\n\u001b[0;32m      2\u001b[0m \u001b[0mdf\u001b[0m\u001b[1;33m.\u001b[0m\u001b[0mdrop\u001b[0m\u001b[1;33m(\u001b[0m\u001b[0mdf\u001b[0m\u001b[1;33m.\u001b[0m\u001b[0mcolumns\u001b[0m\u001b[1;33m[\u001b[0m\u001b[1;36m2\u001b[0m\u001b[1;33m]\u001b[0m\u001b[1;33m,\u001b[0m \u001b[0maxis\u001b[0m\u001b[1;33m=\u001b[0m\u001b[1;36m1\u001b[0m\u001b[1;33m,\u001b[0m \u001b[0minplace\u001b[0m\u001b[1;33m=\u001b[0m\u001b[1;32mTrue\u001b[0m\u001b[1;33m)\u001b[0m\u001b[1;33m\u001b[0m\u001b[0m\n\u001b[1;32m----> 3\u001b[1;33m \u001b[0mdf\u001b[0m\u001b[1;33m.\u001b[0m\u001b[0mdrop\u001b[0m\u001b[1;33m(\u001b[0m\u001b[1;33m[\u001b[0m\u001b[1;36m0\u001b[0m\u001b[1;33m]\u001b[0m\u001b[1;33m,\u001b[0m \u001b[0minplace\u001b[0m\u001b[1;33m=\u001b[0m\u001b[1;32mTrue\u001b[0m\u001b[1;33m)\u001b[0m\u001b[1;33m\u001b[0m\u001b[0m\n\u001b[0m\u001b[0;32m      4\u001b[0m \u001b[0mdf\u001b[0m\u001b[1;33m.\u001b[0m\u001b[0mdrop\u001b[0m\u001b[1;33m(\u001b[0m\u001b[0mdf\u001b[0m\u001b[1;33m.\u001b[0m\u001b[0mindex\u001b[0m\u001b[1;33m[\u001b[0m\u001b[1;36m17\u001b[0m\u001b[1;33m:\u001b[0m\u001b[1;36m33\u001b[0m\u001b[1;33m]\u001b[0m\u001b[1;33m,\u001b[0m \u001b[0minplace\u001b[0m\u001b[1;33m=\u001b[0m\u001b[1;32mTrue\u001b[0m\u001b[1;33m)\u001b[0m \u001b[1;31m#rows 삭제\u001b[0m\u001b[1;33m\u001b[0m\u001b[0m\n\u001b[0;32m      5\u001b[0m \u001b[0mdf\u001b[0m\u001b[1;33m.\u001b[0m\u001b[0mhead\u001b[0m\u001b[1;33m(\u001b[0m\u001b[1;33m)\u001b[0m\u001b[1;33m\u001b[0m\u001b[0m\n",
      "\u001b[1;32m~\\AppData\\Local\\conda\\conda\\envs\\py35\\lib\\site-packages\\pandas\\core\\frame.py\u001b[0m in \u001b[0;36mdrop\u001b[1;34m(self, labels, axis, index, columns, level, inplace, errors)\u001b[0m\n\u001b[0;32m   3692\u001b[0m                                            \u001b[0mindex\u001b[0m\u001b[1;33m=\u001b[0m\u001b[0mindex\u001b[0m\u001b[1;33m,\u001b[0m \u001b[0mcolumns\u001b[0m\u001b[1;33m=\u001b[0m\u001b[0mcolumns\u001b[0m\u001b[1;33m,\u001b[0m\u001b[1;33m\u001b[0m\u001b[0m\n\u001b[0;32m   3693\u001b[0m                                            \u001b[0mlevel\u001b[0m\u001b[1;33m=\u001b[0m\u001b[0mlevel\u001b[0m\u001b[1;33m,\u001b[0m \u001b[0minplace\u001b[0m\u001b[1;33m=\u001b[0m\u001b[0minplace\u001b[0m\u001b[1;33m,\u001b[0m\u001b[1;33m\u001b[0m\u001b[0m\n\u001b[1;32m-> 3694\u001b[1;33m                                            errors=errors)\n\u001b[0m\u001b[0;32m   3695\u001b[0m \u001b[1;33m\u001b[0m\u001b[0m\n\u001b[0;32m   3696\u001b[0m     @rewrite_axis_style_signature('mapper', [('copy', True),\n",
      "\u001b[1;32m~\\AppData\\Local\\conda\\conda\\envs\\py35\\lib\\site-packages\\pandas\\core\\generic.py\u001b[0m in \u001b[0;36mdrop\u001b[1;34m(self, labels, axis, index, columns, level, inplace, errors)\u001b[0m\n\u001b[0;32m   3106\u001b[0m         \u001b[1;32mfor\u001b[0m \u001b[0maxis\u001b[0m\u001b[1;33m,\u001b[0m \u001b[0mlabels\u001b[0m \u001b[1;32min\u001b[0m \u001b[0maxes\u001b[0m\u001b[1;33m.\u001b[0m\u001b[0mitems\u001b[0m\u001b[1;33m(\u001b[0m\u001b[1;33m)\u001b[0m\u001b[1;33m:\u001b[0m\u001b[1;33m\u001b[0m\u001b[0m\n\u001b[0;32m   3107\u001b[0m             \u001b[1;32mif\u001b[0m \u001b[0mlabels\u001b[0m \u001b[1;32mis\u001b[0m \u001b[1;32mnot\u001b[0m \u001b[1;32mNone\u001b[0m\u001b[1;33m:\u001b[0m\u001b[1;33m\u001b[0m\u001b[0m\n\u001b[1;32m-> 3108\u001b[1;33m                 \u001b[0mobj\u001b[0m \u001b[1;33m=\u001b[0m \u001b[0mobj\u001b[0m\u001b[1;33m.\u001b[0m\u001b[0m_drop_axis\u001b[0m\u001b[1;33m(\u001b[0m\u001b[0mlabels\u001b[0m\u001b[1;33m,\u001b[0m \u001b[0maxis\u001b[0m\u001b[1;33m,\u001b[0m \u001b[0mlevel\u001b[0m\u001b[1;33m=\u001b[0m\u001b[0mlevel\u001b[0m\u001b[1;33m,\u001b[0m \u001b[0merrors\u001b[0m\u001b[1;33m=\u001b[0m\u001b[0merrors\u001b[0m\u001b[1;33m)\u001b[0m\u001b[1;33m\u001b[0m\u001b[0m\n\u001b[0m\u001b[0;32m   3109\u001b[0m \u001b[1;33m\u001b[0m\u001b[0m\n\u001b[0;32m   3110\u001b[0m         \u001b[1;32mif\u001b[0m \u001b[0minplace\u001b[0m\u001b[1;33m:\u001b[0m\u001b[1;33m\u001b[0m\u001b[0m\n",
      "\u001b[1;32m~\\AppData\\Local\\conda\\conda\\envs\\py35\\lib\\site-packages\\pandas\\core\\generic.py\u001b[0m in \u001b[0;36m_drop_axis\u001b[1;34m(self, labels, axis, level, errors)\u001b[0m\n\u001b[0;32m   3138\u001b[0m                 \u001b[0mnew_axis\u001b[0m \u001b[1;33m=\u001b[0m \u001b[0maxis\u001b[0m\u001b[1;33m.\u001b[0m\u001b[0mdrop\u001b[0m\u001b[1;33m(\u001b[0m\u001b[0mlabels\u001b[0m\u001b[1;33m,\u001b[0m \u001b[0mlevel\u001b[0m\u001b[1;33m=\u001b[0m\u001b[0mlevel\u001b[0m\u001b[1;33m,\u001b[0m \u001b[0merrors\u001b[0m\u001b[1;33m=\u001b[0m\u001b[0merrors\u001b[0m\u001b[1;33m)\u001b[0m\u001b[1;33m\u001b[0m\u001b[0m\n\u001b[0;32m   3139\u001b[0m             \u001b[1;32melse\u001b[0m\u001b[1;33m:\u001b[0m\u001b[1;33m\u001b[0m\u001b[0m\n\u001b[1;32m-> 3140\u001b[1;33m                 \u001b[0mnew_axis\u001b[0m \u001b[1;33m=\u001b[0m \u001b[0maxis\u001b[0m\u001b[1;33m.\u001b[0m\u001b[0mdrop\u001b[0m\u001b[1;33m(\u001b[0m\u001b[0mlabels\u001b[0m\u001b[1;33m,\u001b[0m \u001b[0merrors\u001b[0m\u001b[1;33m=\u001b[0m\u001b[0merrors\u001b[0m\u001b[1;33m)\u001b[0m\u001b[1;33m\u001b[0m\u001b[0m\n\u001b[0m\u001b[0;32m   3141\u001b[0m             \u001b[0mdropped\u001b[0m \u001b[1;33m=\u001b[0m \u001b[0mself\u001b[0m\u001b[1;33m.\u001b[0m\u001b[0mreindex\u001b[0m\u001b[1;33m(\u001b[0m\u001b[1;33m**\u001b[0m\u001b[1;33m{\u001b[0m\u001b[0maxis_name\u001b[0m\u001b[1;33m:\u001b[0m \u001b[0mnew_axis\u001b[0m\u001b[1;33m}\u001b[0m\u001b[1;33m)\u001b[0m\u001b[1;33m\u001b[0m\u001b[0m\n\u001b[0;32m   3142\u001b[0m             \u001b[1;32mtry\u001b[0m\u001b[1;33m:\u001b[0m\u001b[1;33m\u001b[0m\u001b[0m\n",
      "\u001b[1;32m~\\AppData\\Local\\conda\\conda\\envs\\py35\\lib\\site-packages\\pandas\\core\\indexes\\base.py\u001b[0m in \u001b[0;36mdrop\u001b[1;34m(self, labels, errors)\u001b[0m\n\u001b[0;32m   4385\u001b[0m             \u001b[1;32mif\u001b[0m \u001b[0merrors\u001b[0m \u001b[1;33m!=\u001b[0m \u001b[1;34m'ignore'\u001b[0m\u001b[1;33m:\u001b[0m\u001b[1;33m\u001b[0m\u001b[0m\n\u001b[0;32m   4386\u001b[0m                 raise KeyError(\n\u001b[1;32m-> 4387\u001b[1;33m                     'labels %s not contained in axis' % labels[mask])\n\u001b[0m\u001b[0;32m   4388\u001b[0m             \u001b[0mindexer\u001b[0m \u001b[1;33m=\u001b[0m \u001b[0mindexer\u001b[0m\u001b[1;33m[\u001b[0m\u001b[1;33m~\u001b[0m\u001b[0mmask\u001b[0m\u001b[1;33m]\u001b[0m\u001b[1;33m\u001b[0m\u001b[0m\n\u001b[0;32m   4389\u001b[0m         \u001b[1;32mreturn\u001b[0m \u001b[0mself\u001b[0m\u001b[1;33m.\u001b[0m\u001b[0mdelete\u001b[0m\u001b[1;33m(\u001b[0m\u001b[0mindexer\u001b[0m\u001b[1;33m)\u001b[0m\u001b[1;33m\u001b[0m\u001b[0m\n",
      "\u001b[1;31mKeyError\u001b[0m: 'labels [0] not contained in axis'"
     ]
    }
   ],
   "source": [
    "df.drop(df.columns[7:], axis=1, inplace=True)\n",
    "df.drop(df.columns[2], axis=1, inplace=True)\n",
    "df.drop([0], inplace=True)\n",
    "df.drop(df.index[17:33], inplace=True) #rows 삭제 \n",
    "df.head()"
   ]
  },
  {
   "cell_type": "code",
   "execution_count": null,
   "metadata": {},
   "outputs": [],
   "source": [
    "pop_Seoul= pd.read_excel('dataset/population_seoul.xlsx',\n",
    "                       header=2,\n",
    "                       usecols = 'B, D, G, J, N', #parse_cols raised warning\n",
    "                       encoding='utf-8')"
   ]
  },
  {
   "cell_type": "markdown",
   "metadata": {},
   "source": [
    "팀장 그룹 구하기"
   ]
  },
  {
   "cell_type": "code",
   "execution_count": 64,
   "metadata": {},
   "outputs": [
    {
     "name": "stdout",
     "output_type": "stream",
     "text": [
      "팀장을 입력하세요. ex) 김철수 김영희 >전종하 김남웅 송현지 김주환\n"
     ]
    },
    {
     "data": {
      "text/plain": [
       "['전종하', '김남웅', '송현지', '김주환']"
      ]
     },
     "execution_count": 64,
     "metadata": {},
     "output_type": "execute_result"
    }
   ],
   "source": [
    "leaders = input(\"팀장을 입력하세요. ex) 김철수 김영희 >\").split(\" \")\n",
    "leaders"
   ]
  },
  {
   "cell_type": "code",
   "execution_count": 65,
   "metadata": {},
   "outputs": [],
   "source": [
    "# 각 팀의 팀원 수 \n",
    "mateNum = (len(df)//len(leaders))-1\n",
    "mateNum\n",
    "\n",
    "# 추가 팀원 수 \n",
    "plusMate = len(df)%len(leaders)"
   ]
  },
  {
   "cell_type": "code",
   "execution_count": 66,
   "metadata": {},
   "outputs": [
    {
     "data": {
      "text/plain": [
       "1"
      ]
     },
     "execution_count": 66,
     "metadata": {},
     "output_type": "execute_result"
    }
   ],
   "source": [
    "plusMate"
   ]
  },
  {
   "cell_type": "code",
   "execution_count": 67,
   "metadata": {},
   "outputs": [
    {
     "data": {
      "text/html": [
       "<div>\n",
       "<style scoped>\n",
       "    .dataframe tbody tr th:only-of-type {\n",
       "        vertical-align: middle;\n",
       "    }\n",
       "\n",
       "    .dataframe tbody tr th {\n",
       "        vertical-align: top;\n",
       "    }\n",
       "\n",
       "    .dataframe thead th {\n",
       "        text-align: right;\n",
       "    }\n",
       "</style>\n",
       "<table border=\"1\" class=\"dataframe\">\n",
       "  <thead>\n",
       "    <tr style=\"text-align: right;\">\n",
       "      <th></th>\n",
       "      <th>순\n",
       "번</th>\n",
       "      <th>대  학</th>\n",
       "      <th>학과(부) 및 전공</th>\n",
       "      <th>학년</th>\n",
       "      <th>학     번</th>\n",
       "      <th>name</th>\n",
       "    </tr>\n",
       "  </thead>\n",
       "  <tbody>\n",
       "    <tr>\n",
       "      <th>1</th>\n",
       "      <td>1.0</td>\n",
       "      <td>언론정보대학</td>\n",
       "      <td>광고홍보학과</td>\n",
       "      <td>4.0</td>\n",
       "      <td>2.013051e+09</td>\n",
       "      <td>곽종현</td>\n",
       "    </tr>\n",
       "    <tr>\n",
       "      <th>2</th>\n",
       "      <td>2.0</td>\n",
       "      <td>언론정보대학</td>\n",
       "      <td>광고홍보학과</td>\n",
       "      <td>4.0</td>\n",
       "      <td>2.013051e+09</td>\n",
       "      <td>윤준범</td>\n",
       "    </tr>\n",
       "    <tr>\n",
       "      <th>3</th>\n",
       "      <td>3.0</td>\n",
       "      <td>언론정보대학</td>\n",
       "      <td>광고홍보학과</td>\n",
       "      <td>4.0</td>\n",
       "      <td>2.013051e+09</td>\n",
       "      <td>전종하</td>\n",
       "    </tr>\n",
       "    <tr>\n",
       "      <th>4</th>\n",
       "      <td>4.0</td>\n",
       "      <td>언론정보대학</td>\n",
       "      <td>광고홍보학과</td>\n",
       "      <td>4.0</td>\n",
       "      <td>2.014047e+09</td>\n",
       "      <td>김남웅</td>\n",
       "    </tr>\n",
       "    <tr>\n",
       "      <th>5</th>\n",
       "      <td>5.0</td>\n",
       "      <td>언론정보대학</td>\n",
       "      <td>광고홍보학과</td>\n",
       "      <td>4.0</td>\n",
       "      <td>2.014047e+09</td>\n",
       "      <td>김주환</td>\n",
       "    </tr>\n",
       "  </tbody>\n",
       "</table>\n",
       "</div>"
      ],
      "text/plain": [
       "   순\\n번    대  학 학과(부) 및 전공   학년       학     번 name\n",
       "1   1.0  언론정보대학     광고홍보학과  4.0  2.013051e+09  곽종현\n",
       "2   2.0  언론정보대학     광고홍보학과  4.0  2.013051e+09  윤준범\n",
       "3   3.0  언론정보대학     광고홍보학과  4.0  2.013051e+09  전종하\n",
       "4   4.0  언론정보대학     광고홍보학과  4.0  2.014047e+09  김남웅\n",
       "5   5.0  언론정보대학     광고홍보학과  4.0  2.014047e+09  김주환"
      ]
     },
     "execution_count": 67,
     "metadata": {},
     "output_type": "execute_result"
    }
   ],
   "source": [
    "df.rename(columns={df.columns[5] : 'name'}, inplace=True )\n",
    "df.head()"
   ]
  },
  {
   "cell_type": "code",
   "execution_count": 68,
   "metadata": {},
   "outputs": [
    {
     "data": {
      "text/plain": [
       "{'전종하': [], '김남웅': [], '송현지': [], '김주환': []}"
      ]
     },
     "execution_count": 68,
     "metadata": {},
     "output_type": "execute_result"
    }
   ],
   "source": [
    "team = {}\n",
    "\n",
    "for n in leaders :\n",
    "    team[n] = []\n",
    "    \n",
    "team"
   ]
  },
  {
   "cell_type": "markdown",
   "metadata": {},
   "source": [
    "팀원 무작위 섞기"
   ]
  },
  {
   "cell_type": "code",
   "execution_count": 140,
   "metadata": {},
   "outputs": [
    {
     "data": {
      "text/plain": [
       "[]"
      ]
     },
     "execution_count": 140,
     "metadata": {},
     "output_type": "execute_result"
    }
   ],
   "source": [
    "team['곽종현']"
   ]
  },
  {
   "cell_type": "code",
   "execution_count": 69,
   "metadata": {},
   "outputs": [
    {
     "data": {
      "text/plain": [
       "1     곽종현\n",
       "2     윤준범\n",
       "3     전종하\n",
       "4     김남웅\n",
       "5     김주환\n",
       "6     송현지\n",
       "7     도윤석\n",
       "8     이주영\n",
       "9     정서윤\n",
       "10    정효선\n",
       "11    이수진\n",
       "12    최연주\n",
       "13    김호정\n",
       "14    이준기\n",
       "15    주준태\n",
       "16    신준섭\n",
       "17    허은주\n",
       "Name: name, dtype: object"
      ]
     },
     "execution_count": 69,
     "metadata": {},
     "output_type": "execute_result"
    }
   ],
   "source": [
    "df.name"
   ]
  },
  {
   "cell_type": "code",
   "execution_count": 70,
   "metadata": {},
   "outputs": [
    {
     "data": {
      "text/plain": [
       "['정서윤',\n",
       " '김남웅',\n",
       " '정효선',\n",
       " '이준기',\n",
       " '주준태',\n",
       " '윤준범',\n",
       " '김주환',\n",
       " '최연주',\n",
       " '이수진',\n",
       " '전종하',\n",
       " '곽종현',\n",
       " '허은주',\n",
       " '이주영',\n",
       " '송현지',\n",
       " '신준섭',\n",
       " '도윤석',\n",
       " '김호정']"
      ]
     },
     "execution_count": 70,
     "metadata": {},
     "output_type": "execute_result"
    }
   ],
   "source": [
    "import random\n",
    "\n",
    "mates = list(df.name)\n",
    "random.shuffle(mates)\n",
    "mates"
   ]
  },
  {
   "cell_type": "markdown",
   "metadata": {},
   "source": [
    "팀원 그룹 : 전체 팀원 - 팀장"
   ]
  },
  {
   "cell_type": "code",
   "execution_count": 71,
   "metadata": {},
   "outputs": [
    {
     "data": {
      "text/plain": [
       "['정서윤',\n",
       " '정효선',\n",
       " '이준기',\n",
       " '주준태',\n",
       " '윤준범',\n",
       " '최연주',\n",
       " '이수진',\n",
       " '곽종현',\n",
       " '허은주',\n",
       " '이주영',\n",
       " '신준섭',\n",
       " '도윤석',\n",
       " '김호정']"
      ]
     },
     "execution_count": 71,
     "metadata": {},
     "output_type": "execute_result"
    }
   ],
   "source": [
    "mates = [m for m in mates if m not in leaders]\n",
    "mates"
   ]
  },
  {
   "cell_type": "code",
   "execution_count": 72,
   "metadata": {},
   "outputs": [],
   "source": [
    "def assignTeam(team) :\n",
    "    i = 0 \n",
    "\n",
    "    for l in leaders : \n",
    "        while len(team[l]) < mateNum : \n",
    "            team[l].append(mates[i]) \n",
    "            i += 1\n",
    "            \n",
    "assignTeam(team)"
   ]
  },
  {
   "cell_type": "code",
   "execution_count": 73,
   "metadata": {},
   "outputs": [],
   "source": [
    "while plusMate != 0 :\n",
    "    plusMate -= 1\n",
    "    team[leaders[plusMate]].append(mates[-(plusMate+1)])"
   ]
  },
  {
   "cell_type": "code",
   "execution_count": 74,
   "metadata": {},
   "outputs": [
    {
     "data": {
      "text/plain": [
       "{'전종하': ['정서윤', '정효선', '이준기', '김호정'],\n",
       " '김남웅': ['주준태', '윤준범', '최연주'],\n",
       " '송현지': ['이수진', '곽종현', '허은주'],\n",
       " '김주환': ['이주영', '신준섭', '도윤석']}"
      ]
     },
     "execution_count": 74,
     "metadata": {},
     "output_type": "execute_result"
    }
   ],
   "source": [
    "team"
   ]
  },
  {
   "cell_type": "code",
   "execution_count": 75,
   "metadata": {},
   "outputs": [
    {
     "data": {
      "text/plain": [
       "[['정서윤', '정효선', '이준기', '김호정'],\n",
       " ['주준태', '윤준범', '최연주'],\n",
       " ['이수진', '곽종현', '허은주'],\n",
       " ['이주영', '신준섭', '도윤석']]"
      ]
     },
     "execution_count": 75,
     "metadata": {},
     "output_type": "execute_result"
    }
   ],
   "source": [
    "team_mates = [t for t in team.values()]\n",
    "team_mates"
   ]
  },
  {
   "cell_type": "code",
   "execution_count": 76,
   "metadata": {},
   "outputs": [
    {
     "data": {
      "text/html": [
       "<div>\n",
       "<style scoped>\n",
       "    .dataframe tbody tr th:only-of-type {\n",
       "        vertical-align: middle;\n",
       "    }\n",
       "\n",
       "    .dataframe tbody tr th {\n",
       "        vertical-align: top;\n",
       "    }\n",
       "\n",
       "    .dataframe thead th {\n",
       "        text-align: right;\n",
       "    }\n",
       "</style>\n",
       "<table border=\"1\" class=\"dataframe\">\n",
       "  <thead>\n",
       "    <tr style=\"text-align: right;\">\n",
       "      <th></th>\n",
       "      <th>팀</th>\n",
       "      <th>팀원</th>\n",
       "    </tr>\n",
       "  </thead>\n",
       "  <tbody>\n",
       "    <tr>\n",
       "      <th>0</th>\n",
       "      <td>전종하</td>\n",
       "      <td>[정서윤, 정효선, 이준기, 김호정]</td>\n",
       "    </tr>\n",
       "    <tr>\n",
       "      <th>1</th>\n",
       "      <td>김남웅</td>\n",
       "      <td>[주준태, 윤준범, 최연주]</td>\n",
       "    </tr>\n",
       "    <tr>\n",
       "      <th>2</th>\n",
       "      <td>송현지</td>\n",
       "      <td>[이수진, 곽종현, 허은주]</td>\n",
       "    </tr>\n",
       "    <tr>\n",
       "      <th>3</th>\n",
       "      <td>김주환</td>\n",
       "      <td>[이주영, 신준섭, 도윤석]</td>\n",
       "    </tr>\n",
       "  </tbody>\n",
       "</table>\n",
       "</div>"
      ],
      "text/plain": [
       "     팀                    팀원\n",
       "0  전종하  [정서윤, 정효선, 이준기, 김호정]\n",
       "1  김남웅       [주준태, 윤준범, 최연주]\n",
       "2  송현지       [이수진, 곽종현, 허은주]\n",
       "3  김주환       [이주영, 신준섭, 도윤석]"
      ]
     },
     "execution_count": 76,
     "metadata": {},
     "output_type": "execute_result"
    }
   ],
   "source": [
    "df = pd.DataFrame({'팀' : pd.Series(leaders), '팀원': pd.Series(team_mates)})\n",
    "df"
   ]
  },
  {
   "cell_type": "markdown",
   "metadata": {},
   "source": [
    "결과 저장"
   ]
  },
  {
   "cell_type": "code",
   "execution_count": 77,
   "metadata": {},
   "outputs": [],
   "source": [
    "df.to_csv('random_team.csv', index=False, na_rep = 'null', encoding='ms949')"
   ]
  },
  {
   "cell_type": "markdown",
   "metadata": {},
   "source": [
    "이 밑은 삽질"
   ]
  },
  {
   "cell_type": "code",
   "execution_count": 88,
   "metadata": {},
   "outputs": [],
   "source": [
    "df['team'] = 0"
   ]
  },
  {
   "cell_type": "code",
   "execution_count": 108,
   "metadata": {},
   "outputs": [],
   "source": [
    "df.rename(columns={df.columns[6] : 'leader'}, inplace=True )"
   ]
  },
  {
   "cell_type": "code",
   "execution_count": 210,
   "metadata": {},
   "outputs": [],
   "source": [
    "def is_leader(row) : \n",
    "        if row in team : \n",
    "            return 'Leader'\n",
    "        else :\n",
    "            return 'NaN'\n",
    "        \n",
    "df.leader = df.name.apply(is_leader)"
   ]
  },
  {
   "cell_type": "code",
   "execution_count": 56,
   "metadata": {},
   "outputs": [
    {
     "data": {
      "text/plain": [
       "['곽종현',\n",
       " '윤준범',\n",
       " '전종하',\n",
       " '김남웅',\n",
       " '김주환',\n",
       " '송현지',\n",
       " '도윤석',\n",
       " '이주영',\n",
       " '정서윤',\n",
       " '정효선',\n",
       " '이수진',\n",
       " '최연주',\n",
       " '김호정',\n",
       " '이준기',\n",
       " '주준태',\n",
       " '신준섭',\n",
       " '허은주']"
      ]
     },
     "execution_count": 56,
     "metadata": {},
     "output_type": "execute_result"
    }
   ],
   "source": []
  },
  {
   "cell_type": "code",
   "execution_count": 211,
   "metadata": {},
   "outputs": [],
   "source": [
    "df['team'] = 0"
   ]
  },
  {
   "cell_type": "code",
   "execution_count": 221,
   "metadata": {},
   "outputs": [
    {
     "data": {
      "text/plain": [
       "4"
      ]
     },
     "execution_count": 221,
     "metadata": {},
     "output_type": "execute_result"
    }
   ],
   "source": [
    "import random"
   ]
  },
  {
   "cell_type": "code",
   "execution_count": 235,
   "metadata": {},
   "outputs": [
    {
     "name": "stdout",
     "output_type": "stream",
     "text": [
      "Leader\n",
      "Leader\n",
      "Leader\n",
      "Leader\n"
     ]
    }
   ],
   "source": [
    "def randTeam(row) :\n",
    "    if row == 'Leader' :\n",
    "        print(row)\n",
    "        return 'Leader'\n",
    "    else :\n",
    "        return random.randrange(0,len(team))\n",
    "    \n",
    "df.team = df.leader.apply(randTeam)"
   ]
  },
  {
   "cell_type": "code",
   "execution_count": 237,
   "metadata": {},
   "outputs": [
    {
     "data": {
      "text/plain": [
       "1          1\n",
       "2     Leader\n",
       "3          1\n",
       "4          1\n",
       "5          3\n",
       "6     Leader\n",
       "7          1\n",
       "8          2\n",
       "9          0\n",
       "10    Leader\n",
       "11         2\n",
       "12         2\n",
       "13         3\n",
       "14         1\n",
       "15         1\n",
       "16    Leader\n",
       "17         1\n",
       "Name: leader, dtype: object"
      ]
     },
     "execution_count": 237,
     "metadata": {},
     "output_type": "execute_result"
    }
   ],
   "source": [
    "df.team"
   ]
  },
  {
   "cell_type": "code",
   "execution_count": 238,
   "metadata": {},
   "outputs": [
    {
     "data": {
      "text/plain": [
       "team\n",
       "0    [곽종현, 윤준범, 전종하, 김남웅, 김주환, 송현지, 도윤석, 이주영, 정서윤, ...\n",
       "Name: name, dtype: object"
      ]
     },
     "execution_count": 238,
     "metadata": {},
     "output_type": "execute_result"
    }
   ],
   "source": [
    "df.groupby('team')['name'].apply(list)"
   ]
  },
  {
   "cell_type": "markdown",
   "metadata": {},
   "source": [
    "추가적인 기능 넣기"
   ]
  },
  {
   "cell_type": "code",
   "execution_count": 30,
   "metadata": {},
   "outputs": [],
   "source": [
    "df = pd.read_excel('DA.xlsx',\n",
    "                       header=9,\n",
    "                       usecols = 'D, F, G', \n",
    "                       encoding='utf-8')\n",
    "\n",
    "#필요없는 행 삭제 \n",
    "df.drop([0], inplace=True)\n",
    "df.drop(df.index[17:33], inplace=True) #rows 삭제 \n",
    "\n",
    "#rename\n",
    "df.rename(columns={df.columns[0]: 'major', df.columns[1]: 'student_id', df.columns[2]: 'name'}, inplace=True )"
   ]
  },
  {
   "cell_type": "code",
   "execution_count": 31,
   "metadata": {},
   "outputs": [
    {
     "data": {
      "text/html": [
       "<div>\n",
       "<style scoped>\n",
       "    .dataframe tbody tr th:only-of-type {\n",
       "        vertical-align: middle;\n",
       "    }\n",
       "\n",
       "    .dataframe tbody tr th {\n",
       "        vertical-align: top;\n",
       "    }\n",
       "\n",
       "    .dataframe thead th {\n",
       "        text-align: right;\n",
       "    }\n",
       "</style>\n",
       "<table border=\"1\" class=\"dataframe\">\n",
       "  <thead>\n",
       "    <tr style=\"text-align: right;\">\n",
       "      <th></th>\n",
       "      <th>student_id</th>\n",
       "      <th>major</th>\n",
       "      <th>name</th>\n",
       "    </tr>\n",
       "  </thead>\n",
       "  <tbody>\n",
       "    <tr>\n",
       "      <th>1</th>\n",
       "      <td>2.013051e+09</td>\n",
       "      <td>광고홍보학과</td>\n",
       "      <td>곽종현</td>\n",
       "    </tr>\n",
       "    <tr>\n",
       "      <th>2</th>\n",
       "      <td>2.013051e+09</td>\n",
       "      <td>광고홍보학과</td>\n",
       "      <td>윤준범</td>\n",
       "    </tr>\n",
       "    <tr>\n",
       "      <th>3</th>\n",
       "      <td>2.013051e+09</td>\n",
       "      <td>광고홍보학과</td>\n",
       "      <td>전종하</td>\n",
       "    </tr>\n",
       "    <tr>\n",
       "      <th>4</th>\n",
       "      <td>2.014047e+09</td>\n",
       "      <td>광고홍보학과</td>\n",
       "      <td>김남웅</td>\n",
       "    </tr>\n",
       "    <tr>\n",
       "      <th>5</th>\n",
       "      <td>2.014047e+09</td>\n",
       "      <td>광고홍보학과</td>\n",
       "      <td>김주환</td>\n",
       "    </tr>\n",
       "  </tbody>\n",
       "</table>\n",
       "</div>"
      ],
      "text/plain": [
       "     student_id   major name\n",
       "1  2.013051e+09  광고홍보학과  곽종현\n",
       "2  2.013051e+09  광고홍보학과  윤준범\n",
       "3  2.013051e+09  광고홍보학과  전종하\n",
       "4  2.014047e+09  광고홍보학과  김남웅\n",
       "5  2.014047e+09  광고홍보학과  김주환"
      ]
     },
     "execution_count": 31,
     "metadata": {},
     "output_type": "execute_result"
    }
   ],
   "source": [
    "df = df.reindex(columns=columnsTitles)\n",
    "df.head()"
   ]
  },
  {
   "cell_type": "markdown",
   "metadata": {},
   "source": [
    "### output\n",
    "\n",
    "1. 원본 데이터에서 행 별로 리스트 만든 후 매핑 \n",
    "2. 팀장 그룹 / 팀원 그룹 나누고\n",
    "3. 팀원 그룹 셔플 \n",
    "4. 그룹핑\n",
    "5. 조건 확인 : 조건 충족할 때까지 셔플 "
   ]
  },
  {
   "cell_type": "markdown",
   "metadata": {},
   "source": [
    "데이터프레임 -> 리스트로 변환"
   ]
  },
  {
   "cell_type": "code",
   "execution_count": 99,
   "metadata": {
    "scrolled": false
   },
   "outputs": [
    {
     "data": {
      "text/plain": [
       "[[2013050986.0, '광고홍보학과', '곽종현'],\n",
       " [2013051224.0, '광고홍보학과', '윤준범'],\n",
       " [2013051291.0, '광고홍보학과', '전종하'],\n",
       " [2014047210.0, '광고홍보학과', '김남웅'],\n",
       " [2014047356.0, '광고홍보학과', '김주환'],\n",
       " [2014047538.0, '광고홍보학과', '송현지'],\n",
       " [2015047501.0, '광고홍보학과', '도윤석'],\n",
       " [2015047974.0, '광고홍보학과', '이주영'],\n",
       " [2015048031.0, '광고홍보학과', '정서윤'],\n",
       " [2015048040.0, '광고홍보학과', '정효선'],\n",
       " [2015061894.0, '광고홍보학과', '이수진'],\n",
       " [2016013590.0, '광고홍보학과', '최연주'],\n",
       " [2016062642.0, '광고홍보학과', '김호정'],\n",
       " [2016062651.0, '광고홍보학과', '이준기'],\n",
       " [2017018722.0, '광고홍보학과', '주준태'],\n",
       " [2013045850.0, '산업경영공학과', '신준섭'],\n",
       " [2016018486.0, '테크노프로덕트디자인학과', '허은주']]"
      ]
     },
     "execution_count": 99,
     "metadata": {},
     "output_type": "execute_result"
    }
   ],
   "source": [
    "# df_list = df.apply(lambda x: x.tolist(), axis=1)\n",
    "stu = df.values.tolist()\n",
    "stu"
   ]
  },
  {
   "cell_type": "markdown",
   "metadata": {},
   "source": [
    "팀장 그룹"
   ]
  },
  {
   "cell_type": "code",
   "execution_count": 97,
   "metadata": {},
   "outputs": [
    {
     "name": "stdout",
     "output_type": "stream",
     "text": [
      "팀장을 입력하세요. ex) 김철수 김영희 >송현지 이주영 정서윤 김호정\n"
     ]
    },
    {
     "data": {
      "text/plain": [
       "['송현지', '이주영', '정서윤', '김호정']"
      ]
     },
     "execution_count": 97,
     "metadata": {},
     "output_type": "execute_result"
    }
   ],
   "source": [
    "leaders = input(\"팀장을 입력하세요. ex) 김철수 김영희 >\").split(\" \")\n",
    "leaders"
   ]
  },
  {
   "cell_type": "markdown",
   "metadata": {},
   "source": [
    "데이터 프레임 : 팀장 그룹"
   ]
  },
  {
   "cell_type": "code",
   "execution_count": 130,
   "metadata": {},
   "outputs": [],
   "source": [
    "df_leaders = df[df['name'].isin(leaders)]\n",
    "df_leaders\n",
    "\n",
    "#list\n",
    "df_leaders_list = df_leaders.values.tolist()"
   ]
  },
  {
   "cell_type": "markdown",
   "metadata": {},
   "source": [
    "데이터 프레임 : 팀원 그룹"
   ]
  },
  {
   "cell_type": "code",
   "execution_count": 123,
   "metadata": {},
   "outputs": [
    {
     "data": {
      "text/html": [
       "<div>\n",
       "<style scoped>\n",
       "    .dataframe tbody tr th:only-of-type {\n",
       "        vertical-align: middle;\n",
       "    }\n",
       "\n",
       "    .dataframe tbody tr th {\n",
       "        vertical-align: top;\n",
       "    }\n",
       "\n",
       "    .dataframe thead th {\n",
       "        text-align: right;\n",
       "    }\n",
       "</style>\n",
       "<table border=\"1\" class=\"dataframe\">\n",
       "  <thead>\n",
       "    <tr style=\"text-align: right;\">\n",
       "      <th></th>\n",
       "      <th>student_id</th>\n",
       "      <th>major</th>\n",
       "      <th>name</th>\n",
       "    </tr>\n",
       "  </thead>\n",
       "  <tbody>\n",
       "    <tr>\n",
       "      <th>1</th>\n",
       "      <td>2.013051e+09</td>\n",
       "      <td>광고홍보학과</td>\n",
       "      <td>곽종현</td>\n",
       "    </tr>\n",
       "    <tr>\n",
       "      <th>2</th>\n",
       "      <td>2.013051e+09</td>\n",
       "      <td>광고홍보학과</td>\n",
       "      <td>윤준범</td>\n",
       "    </tr>\n",
       "    <tr>\n",
       "      <th>3</th>\n",
       "      <td>2.013051e+09</td>\n",
       "      <td>광고홍보학과</td>\n",
       "      <td>전종하</td>\n",
       "    </tr>\n",
       "    <tr>\n",
       "      <th>4</th>\n",
       "      <td>2.014047e+09</td>\n",
       "      <td>광고홍보학과</td>\n",
       "      <td>김남웅</td>\n",
       "    </tr>\n",
       "    <tr>\n",
       "      <th>5</th>\n",
       "      <td>2.014047e+09</td>\n",
       "      <td>광고홍보학과</td>\n",
       "      <td>김주환</td>\n",
       "    </tr>\n",
       "  </tbody>\n",
       "</table>\n",
       "</div>"
      ],
      "text/plain": [
       "     student_id   major name\n",
       "1  2.013051e+09  광고홍보학과  곽종현\n",
       "2  2.013051e+09  광고홍보학과  윤준범\n",
       "3  2.013051e+09  광고홍보학과  전종하\n",
       "4  2.014047e+09  광고홍보학과  김남웅\n",
       "5  2.014047e+09  광고홍보학과  김주환"
      ]
     },
     "execution_count": 123,
     "metadata": {},
     "output_type": "execute_result"
    }
   ],
   "source": [
    "df_mates = df[~df['name'].isin(leaders)]\n",
    "df_mates.head()\n"
   ]
  },
  {
   "cell_type": "markdown",
   "metadata": {},
   "source": [
    "shuffle rows"
   ]
  },
  {
   "cell_type": "code",
   "execution_count": 152,
   "metadata": {},
   "outputs": [],
   "source": [
    "df_mates = df_mates.apply(np.random.permutation)  #axis = 1 : columns을 무작위로 섞는다."
   ]
  },
  {
   "cell_type": "code",
   "execution_count": 153,
   "metadata": {},
   "outputs": [],
   "source": [
    "df_mates\n",
    "df_mates_list = df_mates.values.tolist()"
   ]
  },
  {
   "cell_type": "code",
   "execution_count": 154,
   "metadata": {},
   "outputs": [
    {
     "data": {
      "text/plain": [
       "[[2015047501.0, '광고홍보학과', '김주환'],\n",
       " [2014047356.0, '광고홍보학과', '전종하'],\n",
       " [2016018486.0, '광고홍보학과', '정효선'],\n",
       " [2015061894.0, '광고홍보학과', '곽종현'],\n",
       " [2013051224.0, '광고홍보학과', '주준태'],\n",
       " [2016013590.0, '광고홍보학과', '이수진'],\n",
       " [2016062651.0, '광고홍보학과', '신준섭'],\n",
       " [2015048040.0, '광고홍보학과', '김남웅'],\n",
       " [2017018722.0, '광고홍보학과', '이준기'],\n",
       " [2013050986.0, '테크노프로덕트디자인학과', '도윤석'],\n",
       " [2014047210.0, '산업경영공학과', '윤준범'],\n",
       " [2013051291.0, '광고홍보학과', '허은주'],\n",
       " [2013045850.0, '광고홍보학과', '최연주']]"
      ]
     },
     "execution_count": 154,
     "metadata": {},
     "output_type": "execute_result"
    }
   ],
   "source": [
    "df_mates_list"
   ]
  },
  {
   "cell_type": "code",
   "execution_count": 155,
   "metadata": {},
   "outputs": [
    {
     "data": {
      "text/plain": [
       "[[2014047538.0, '광고홍보학과', '송현지'],\n",
       " [2015047974.0, '광고홍보학과', '이주영'],\n",
       " [2015048031.0, '광고홍보학과', '정서윤'],\n",
       " [2016062642.0, '광고홍보학과', '김호정']]"
      ]
     },
     "execution_count": 155,
     "metadata": {},
     "output_type": "execute_result"
    }
   ],
   "source": [
    "df_leaders_list"
   ]
  },
  {
   "cell_type": "code",
   "execution_count": 172,
   "metadata": {},
   "outputs": [],
   "source": [
    "from collections import defaultdict"
   ]
  },
  {
   "cell_type": "code",
   "execution_count": 180,
   "metadata": {},
   "outputs": [],
   "source": [
    "\n",
    "teams_dict = defaultdict(lambda x : list)\n",
    "\n",
    "# for i, m in enumerate(df_mates_list) : \n",
    "#     teams_dict[leaders[i%len(leaders)]] = [m]"
   ]
  },
  {
   "cell_type": "code",
   "execution_count": 181,
   "metadata": {},
   "outputs": [],
   "source": [
    "teams_dict['k'] = 0"
   ]
  },
  {
   "cell_type": "code",
   "execution_count": 182,
   "metadata": {},
   "outputs": [
    {
     "data": {
      "text/plain": [
       "defaultdict(<function __main__.<lambda>(x)>, {'k': 0})"
      ]
     },
     "execution_count": 182,
     "metadata": {},
     "output_type": "execute_result"
    }
   ],
   "source": [
    "teams_dict"
   ]
  },
  {
   "cell_type": "code",
   "execution_count": null,
   "metadata": {},
   "outputs": [],
   "source": []
  }
 ],
 "metadata": {
  "kernelspec": {
   "display_name": "py35",
   "language": "python",
   "name": "py35"
  },
  "language_info": {
   "codemirror_mode": {
    "name": "ipython",
    "version": 3
   },
   "file_extension": ".py",
   "mimetype": "text/x-python",
   "name": "python",
   "nbconvert_exporter": "python",
   "pygments_lexer": "ipython3",
   "version": "3.5.5"
  }
 },
 "nbformat": 4,
 "nbformat_minor": 2
}
