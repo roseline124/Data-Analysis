{
 "cells": [
  {
   "cell_type": "markdown",
   "metadata": {},
   "source": [
    "# <font color=\"#4285f4\">Jupyter Tutorials</font>"
   ]
  },
  {
   "cell_type": "markdown",
   "metadata": {},
   "source": [
    "### 1. equation\n",
    "\n",
    ": 수학 식을 깔끔하게 표현할 수 있다. "
   ]
  },
  {
   "cell_type": "markdown",
   "metadata": {},
   "source": [
    "### 2. timeit 함수\n",
    "\n",
    ": 함수의 performance를 측정할 수 있다. <br>\n",
    ": [레퍼런스](https://docs.python.org/2/library/timeit.html)"
   ]
  },
  {
   "cell_type": "markdown",
   "metadata": {},
   "source": [
    "# <font color=\"#4285f4\">KNN 최근접 이웃 알고리즘</font>"
   ]
  },
  {
   "cell_type": "markdown",
   "metadata": {},
   "source": [
    "<img src=\"./images/KNN.PNG\">"
   ]
  },
  {
   "cell_type": "markdown",
   "metadata": {},
   "source": [
    ": kick count가 많으면 액션 영화 <br>\n",
    ": kiss count가 많으면 로맨스 영화 <br>\n",
    "\n",
    "<hr>\n",
    "<br>\n",
    "\n",
    "**K 할당하기 : 최근접점을 몇 개까지 줄 거냐**\n",
    "\n",
    "<p>K는 기본적으로 홀수를 쓴다. 짝수를 쓰면 2:2와 같은 상황이 되어 답을 낼수 없다. 그래서 보통 작은 수, 홀수를 쓴다. </p>\n",
    "<br>"
   ]
  },
  {
   "cell_type": "markdown",
   "metadata": {},
   "source": [
    "<img src=\"./images/K.PNG\">\n",
    "\n",
    "<br>\n",
    "<br>\n",
    "\n",
    "**범위 안에 가장 가까운 3개의 count에서 kick이 제일 많으므로 액션 영화**"
   ]
  },
  {
   "cell_type": "markdown",
   "metadata": {},
   "source": [
    "<br>\n",
    "\n",
    "**프로그래밍으로 어떻게 나타낼까?**\n",
    "\n",
    ": 피타고라스의 정리로 **'좌표 위의 점과 점 사이의 거리'**를 구한다"
   ]
  },
  {
   "cell_type": "markdown",
   "metadata": {},
   "source": [
    "# <font color=\"#4285f4\">의사결정트리 알고리즘(Decision Tree)</font>"
   ]
  },
  {
   "cell_type": "markdown",
   "metadata": {},
   "source": [
    "<학습 과정>\n",
    "1. define problem \n",
    "2. collect training data \n",
    "3. extract data\n",
    "4. build a tree\n",
    "5. deploy machine \n",
    "6. test"
   ]
  },
  {
   "cell_type": "markdown",
   "metadata": {},
   "source": [
    "**어떻게 필터링해야할까?**\n",
    "\n",
    "필터링했을 때 많은 것을 걸러낼 수 있는 기준이 제일 효율적이다.\n",
    "\n",
    "<br>\n",
    "\n",
    "**Entropy**\n",
    "1. high : 어지러운 상태 (messy)\n",
    "2. low : 깔끔한 상태 (clean) -> 필터링하면서 오답들을 걸러낼 때 \n",
    "\n",
    "<br>\n",
    "\n",
    "**information gain**\n",
    "\n",
    "information gain이 가장 높은 걸로 attribute(기준)을 선정한다."
   ]
  },
  {
   "cell_type": "markdown",
   "metadata": {},
   "source": [
    "# <font color=\"#4285f4\">의사결정 트리 - ID3 알고리즘 수학적 접근</font>"
   ]
  },
  {
   "cell_type": "markdown",
   "metadata": {},
   "source": [
    "1. entropy 를 구한다 : 학습 데이터가 주어졌을 때 엔트로피를 구해야 함\n",
    "\n",
    "<pre><code>\n",
    "//예제 코드\n",
    "Entropy([1+, 7-])\n",
    "    = -(1/8)*log(1/8)-(7/8)*log(7/8)\n",
    "    = 0.543\n",
    "    \n",
    "// 공식\n",
    "Entropy = -p(+)\\*log(p(+)) - p(-)\\*log(p(-))\n",
    "</code></pre>\n",
    "\n",
    "<br>\n",
    "\n",
    "2. information gain : 각각의 경우에서의 엔트로피를 계산. 엔트로피가 낮을 수록 information gain이 높다. information gain이 높은 것을 attribute로 삼으면 된다."
   ]
  },
  {
   "cell_type": "markdown",
   "metadata": {},
   "source": [
    "# <font color=\"#4285f4\">확률(Probability) 쉽게 이해하기</font>"
   ]
  },
  {
   "cell_type": "markdown",
   "metadata": {},
   "source": [
    "**조건부 확률 : 어떤 상황이 주어졌을 때, 다른 상황이 일어날 확률**\n",
    "  \n",
    "- 서로 영향을 끼치지 않을 때 \n",
    "- 서로 영향을 끼칠 때 \n",
    "  \n",
    "  \n",
    "ex) 베가스에 녹색 티셔츠를 입고 갔을 때 잭팟이 일어날 확률은? 서로 독립적이다.  \n",
    "-> P(A|B) : B는 A에 영향을 미치지 않는다.  \n",
    "\n",
    "ex) 비가 오는 날에는 우산이 더 잘 팔린다? 서로 영향이 있다.  \n",
    "-> P(A^B)\n"
   ]
  },
  {
   "cell_type": "markdown",
   "metadata": {},
   "source": [
    "# <font color=\"#4285f4\">나이브 베이즈 이론(Bayes' Theorem)</font>"
   ]
  },
  {
   "cell_type": "markdown",
   "metadata": {},
   "source": [
    "\n",
    "**spam 메일 구별하기**\n",
    "\n",
    "p(spam) = 3/10 <br>\n",
    "p(free) = 4/10 <br>\n",
    "p(free|spam) 2/3 # spam일 때 free라는 말이 들어가 있는가 <br>"
   ]
  },
  {
   "cell_type": "markdown",
   "metadata": {},
   "source": [
    "# <font color=\"#4285f4\">선형 회귀(Linear Regression)</font>"
   ]
  },
  {
   "cell_type": "markdown",
   "metadata": {},
   "source": [
    "1. classification  \n",
    "    - classifier 에 트레이닝시킨다. \n",
    "    - 색깔을 하나 주고, 이미 학습된 class로만 학습한다.\n",
    "\n",
    "<br>\n",
    "\n",
    "2. regression  \n",
    "    - 이 사람의 몸무게가 주어졌을 때 키를 예측해라와 같은 문제들 \n",
    "    - 일차 함수의 직선을 그려 예측한다.\n",
    "    - 정답과의 차이를 error로 나타낸다. \n",
    "    - square error : 거리가 아니라 너비로 본다. 에러를 제곱한 값 (눈에 보이기 쉽고, 수학적으로 봤을 때 값을 증폭시킴으로써 에러의 크고 작음을 한 눈에 확인)\n",
    "    - mean square error : square 에러를 평균 낸 값\n",
    "    - 가장 가능성이 높은 쪽으로 선을 그린 게 linear regression\n",
    "\n",
    "<br>    \n",
    "\n",
    "3. Least Mean Square(LMS) Error \n",
    "    - cost function = Mean Square Error (실제 값과 가설과의 차이)\n",
    "    - objective function : cost를 줄이는 게 우리 목표이므로 objective function이라고도 한다. \n",
    "    - 세타x : 세타는 기울기\n",
    "    - gradient decent \n",
    "    - 첫번째 세타 = 1 \n",
    "    - 왼쪽의 세타는 오른쪽의 식을 평가한 값으로 대체한다. \n",
    "    - converage(컨버지) : gradient decent가 로컬 minimum(0이라면 0)에 접근할 때까지 계속 반복한다. \n",
    "\n",
    "<br>\n",
    "\n",
    "4. Learning rate 를 어떻게 결정할까?\n",
    "    - 너무 작게도, 크게도 잡지 않는다. "
   ]
  },
  {
   "cell_type": "markdown",
   "metadata": {},
   "source": [
    "# <font color=\"#4285f4\">kmean 클러스터링 알고리즘</font>"
   ]
  },
  {
   "cell_type": "markdown",
   "metadata": {},
   "source": [
    "비지도 학습(unsupervised) 중 하나\n",
    "\n",
    "<br>\n",
    "\n",
    "**k-mean steps**\n",
    "\n",
    "[영상 참고](https://youtu.be/9TR54u08IGU)\n",
    "\n",
    "1. prepare data\n",
    "2. decide how many clusters you need <br>\n",
    ": 집단을 형성  \n",
    "3. choose initial center of cluster (centroid) <br> \n",
    ": 집단의 중심을 잡는다. <br>\n",
    ": 3가지 방법이 있다( 랜덤하게 잡거나...)\n",
    "4. assign data point to nearest cluster <br>\n",
    ": 주어진 데이터 포인트들을 위치시켜서 어떤 클러스터의 센트로이드에 가까운지 본다. \n",
    "5. move centroid to the center of its cluster <br>\n",
    ": 모든 데이터들을 클러스터에 지정해준 후, 센트로이드를 클러스터의 가장 중심으로 옮겨준다. \n",
    "6. repeat step 4 and step 5 until there is no assigned cluster change <br>\n",
    ": 클러스터에 아무런 변화가 없을 때, 혹은 우리가 지정한 횟수(k : 몇 번 반복할 것인가)를 지나칠 때까지 반복한다."
   ]
  },
  {
   "cell_type": "markdown",
   "metadata": {},
   "source": [
    "**centroid를 지정하는 법** \n",
    "\n",
    "1. 랜덤하게 지정\n",
    "2. 수동으로 init centroid 지정 : 위도와 경도로 지역의 중심을 설정 \n",
    "3. k-mean++ init centroid : c1은 데이터 포인트 1에, c2는 c1에서 가장 먼 데이터 포인트에, c3는 c1과 c2에서 공통적으로 먼 곳에 c3를 지정한다."
   ]
  },
  {
   "cell_type": "code",
   "execution_count": 7,
   "metadata": {},
   "outputs": [],
   "source": [
    "import pandas as pd\n",
    "import numpy as np\n",
    "from sklearn.cluster import KMeans \n",
    "import matplotlib.pyplot as plt\n",
    "import seaborn as sns\n",
    "%matplotlib inline"
   ]
  },
  {
   "cell_type": "code",
   "execution_count": 8,
   "metadata": {},
   "outputs": [],
   "source": [
    "df = pd.DataFrame(columns=['x','y'])"
   ]
  },
  {
   "cell_type": "code",
   "execution_count": 9,
   "metadata": {},
   "outputs": [],
   "source": [
    "df.loc[0] = [3,1]\n",
    "df.loc[1] = [3,1]\n",
    "df.loc[2] = [3,2]\n",
    "df.loc[3] = [4,2]\n",
    "df.loc[4] = [10,5]\n",
    "df.loc[5] = [10,6]\n",
    "df.loc[6] = [11,5]\n",
    "df.loc[7] = [11,6]\n",
    "df.loc[8] = [15,1]\n",
    "df.loc[9] = [15,2]\n",
    "df.loc[10] = [16,1]\n",
    "df.loc[11] = [16,1]"
   ]
  },
  {
   "cell_type": "code",
   "execution_count": 10,
   "metadata": {},
   "outputs": [
    {
     "data": {
      "text/html": [
       "<div>\n",
       "<style scoped>\n",
       "    .dataframe tbody tr th:only-of-type {\n",
       "        vertical-align: middle;\n",
       "    }\n",
       "\n",
       "    .dataframe tbody tr th {\n",
       "        vertical-align: top;\n",
       "    }\n",
       "\n",
       "    .dataframe thead th {\n",
       "        text-align: right;\n",
       "    }\n",
       "</style>\n",
       "<table border=\"1\" class=\"dataframe\">\n",
       "  <thead>\n",
       "    <tr style=\"text-align: right;\">\n",
       "      <th></th>\n",
       "      <th>x</th>\n",
       "      <th>y</th>\n",
       "    </tr>\n",
       "  </thead>\n",
       "  <tbody>\n",
       "    <tr>\n",
       "      <th>0</th>\n",
       "      <td>3</td>\n",
       "      <td>1</td>\n",
       "    </tr>\n",
       "    <tr>\n",
       "      <th>1</th>\n",
       "      <td>3</td>\n",
       "      <td>1</td>\n",
       "    </tr>\n",
       "    <tr>\n",
       "      <th>2</th>\n",
       "      <td>3</td>\n",
       "      <td>2</td>\n",
       "    </tr>\n",
       "    <tr>\n",
       "      <th>3</th>\n",
       "      <td>4</td>\n",
       "      <td>2</td>\n",
       "    </tr>\n",
       "    <tr>\n",
       "      <th>4</th>\n",
       "      <td>10</td>\n",
       "      <td>5</td>\n",
       "    </tr>\n",
       "    <tr>\n",
       "      <th>5</th>\n",
       "      <td>10</td>\n",
       "      <td>6</td>\n",
       "    </tr>\n",
       "    <tr>\n",
       "      <th>6</th>\n",
       "      <td>11</td>\n",
       "      <td>5</td>\n",
       "    </tr>\n",
       "    <tr>\n",
       "      <th>7</th>\n",
       "      <td>11</td>\n",
       "      <td>6</td>\n",
       "    </tr>\n",
       "    <tr>\n",
       "      <th>8</th>\n",
       "      <td>15</td>\n",
       "      <td>1</td>\n",
       "    </tr>\n",
       "    <tr>\n",
       "      <th>9</th>\n",
       "      <td>15</td>\n",
       "      <td>2</td>\n",
       "    </tr>\n",
       "    <tr>\n",
       "      <th>10</th>\n",
       "      <td>16</td>\n",
       "      <td>1</td>\n",
       "    </tr>\n",
       "    <tr>\n",
       "      <th>11</th>\n",
       "      <td>16</td>\n",
       "      <td>1</td>\n",
       "    </tr>\n",
       "  </tbody>\n",
       "</table>\n",
       "</div>"
      ],
      "text/plain": [
       "     x  y\n",
       "0    3  1\n",
       "1    3  1\n",
       "2    3  2\n",
       "3    4  2\n",
       "4   10  5\n",
       "5   10  6\n",
       "6   11  5\n",
       "7   11  6\n",
       "8   15  1\n",
       "9   15  2\n",
       "10  16  1\n",
       "11  16  1"
      ]
     },
     "execution_count": 10,
     "metadata": {},
     "output_type": "execute_result"
    }
   ],
   "source": [
    "df.head(20)"
   ]
  },
  {
   "cell_type": "markdown",
   "metadata": {},
   "source": [
    "### Visualization data point"
   ]
  },
  {
   "cell_type": "code",
   "execution_count": 13,
   "metadata": {},
   "outputs": [
    {
     "data": {
      "text/plain": [
       "Text(16.3,0.5,'y')"
      ]
     },
     "execution_count": 13,
     "metadata": {},
     "output_type": "execute_result"
    },
    {
     "data": {
      "image/png": "[encoded data removed]",
      "text/plain": [
       "<Figure size 360x360 with 1 Axes>"
      ]
     },
     "metadata": {},
     "output_type": "display_data"
    }
   ],
   "source": [
    "#visualization\n",
    "sns.lmplot('x', 'y', data =df, fit_reg=False, scatter_kws= {'s':200}) #x-axis, y-axis, data, no line, marker size\n",
    "\n",
    "#title\n",
    "plt.title('KMean plot')\n",
    "\n",
    "#x-axis label\n",
    "plt.xlabel('x')\n",
    "\n",
    "#y-axis label\n",
    "plt.ylabel('y')"
   ]
  },
  {
   "cell_type": "markdown",
   "metadata": {},
   "source": [
    "### K-Mean Clustering "
   ]
  },
  {
   "cell_type": "code",
   "execution_count": 20,
   "metadata": {},
   "outputs": [],
   "source": [
    "# convert dataframe to numpy array \n",
    "data_points = df.values"
   ]
  },
  {
   "cell_type": "code",
   "execution_count": 21,
   "metadata": {},
   "outputs": [],
   "source": [
    "#initial centroid를 쓰지 않으면 kmean ++ 방법으로 설정된다.\n",
    "kmeans = KMeans(n_clusters=3).fit(data_points) "
   ]
  },
  {
   "cell_type": "code",
   "execution_count": 22,
   "metadata": {},
   "outputs": [
    {
     "data": {
      "text/plain": [
       "array([1, 1, 1, 1, 2, 2, 2, 2, 0, 0, 0, 0])"
      ]
     },
     "execution_count": 22,
     "metadata": {},
     "output_type": "execute_result"
    }
   ],
   "source": [
    "#cluster id for each data point \n",
    "kmeans.labels_"
   ]
  },
  {
   "cell_type": "code",
   "execution_count": 23,
   "metadata": {},
   "outputs": [
    {
     "data": {
      "text/plain": [
       "array([[15.5 ,  1.25],\n",
       "       [ 3.25,  1.5 ],\n",
       "       [10.5 ,  5.5 ]])"
      ]
     },
     "execution_count": 23,
     "metadata": {},
     "output_type": "execute_result"
    }
   ],
   "source": [
    "#this is final centroids position\n",
    "kmeans.cluster_centers_"
   ]
  },
  {
   "cell_type": "code",
   "execution_count": 24,
   "metadata": {},
   "outputs": [],
   "source": [
    "df['cluster_id'] = kmeans.labels_"
   ]
  },
  {
   "cell_type": "code",
   "execution_count": 25,
   "metadata": {},
   "outputs": [
    {
     "data": {
      "text/html": [
       "<div>\n",
       "<style scoped>\n",
       "    .dataframe tbody tr th:only-of-type {\n",
       "        vertical-align: middle;\n",
       "    }\n",
       "\n",
       "    .dataframe tbody tr th {\n",
       "        vertical-align: top;\n",
       "    }\n",
       "\n",
       "    .dataframe thead th {\n",
       "        text-align: right;\n",
       "    }\n",
       "</style>\n",
       "<table border=\"1\" class=\"dataframe\">\n",
       "  <thead>\n",
       "    <tr style=\"text-align: right;\">\n",
       "      <th></th>\n",
       "      <th>x</th>\n",
       "      <th>y</th>\n",
       "      <th>cluster_id</th>\n",
       "    </tr>\n",
       "  </thead>\n",
       "  <tbody>\n",
       "    <tr>\n",
       "      <th>0</th>\n",
       "      <td>3</td>\n",
       "      <td>1</td>\n",
       "      <td>1</td>\n",
       "    </tr>\n",
       "    <tr>\n",
       "      <th>1</th>\n",
       "      <td>3</td>\n",
       "      <td>1</td>\n",
       "      <td>1</td>\n",
       "    </tr>\n",
       "    <tr>\n",
       "      <th>2</th>\n",
       "      <td>3</td>\n",
       "      <td>2</td>\n",
       "      <td>1</td>\n",
       "    </tr>\n",
       "    <tr>\n",
       "      <th>3</th>\n",
       "      <td>4</td>\n",
       "      <td>2</td>\n",
       "      <td>1</td>\n",
       "    </tr>\n",
       "    <tr>\n",
       "      <th>4</th>\n",
       "      <td>10</td>\n",
       "      <td>5</td>\n",
       "      <td>2</td>\n",
       "    </tr>\n",
       "    <tr>\n",
       "      <th>5</th>\n",
       "      <td>10</td>\n",
       "      <td>6</td>\n",
       "      <td>2</td>\n",
       "    </tr>\n",
       "    <tr>\n",
       "      <th>6</th>\n",
       "      <td>11</td>\n",
       "      <td>5</td>\n",
       "      <td>2</td>\n",
       "    </tr>\n",
       "    <tr>\n",
       "      <th>7</th>\n",
       "      <td>11</td>\n",
       "      <td>6</td>\n",
       "      <td>2</td>\n",
       "    </tr>\n",
       "    <tr>\n",
       "      <th>8</th>\n",
       "      <td>15</td>\n",
       "      <td>1</td>\n",
       "      <td>0</td>\n",
       "    </tr>\n",
       "    <tr>\n",
       "      <th>9</th>\n",
       "      <td>15</td>\n",
       "      <td>2</td>\n",
       "      <td>0</td>\n",
       "    </tr>\n",
       "    <tr>\n",
       "      <th>10</th>\n",
       "      <td>16</td>\n",
       "      <td>1</td>\n",
       "      <td>0</td>\n",
       "    </tr>\n",
       "    <tr>\n",
       "      <th>11</th>\n",
       "      <td>16</td>\n",
       "      <td>1</td>\n",
       "      <td>0</td>\n",
       "    </tr>\n",
       "  </tbody>\n",
       "</table>\n",
       "</div>"
      ],
      "text/plain": [
       "     x  y  cluster_id\n",
       "0    3  1           1\n",
       "1    3  1           1\n",
       "2    3  2           1\n",
       "3    4  2           1\n",
       "4   10  5           2\n",
       "5   10  6           2\n",
       "6   11  5           2\n",
       "7   11  6           2\n",
       "8   15  1           0\n",
       "9   15  2           0\n",
       "10  16  1           0\n",
       "11  16  1           0"
      ]
     },
     "execution_count": 25,
     "metadata": {},
     "output_type": "execute_result"
    }
   ],
   "source": [
    "df.head(12)"
   ]
  },
  {
   "cell_type": "code",
   "execution_count": 27,
   "metadata": {
    "scrolled": true
   },
   "outputs": [
    {
     "data": {
      "text/plain": [
       "Text(0.5,1,'After Kmean Clustering')"
      ]
     },
     "execution_count": 27,
     "metadata": {},
     "output_type": "execute_result"
    },
    {
     "data": {
      "image/png": "[encoded data removed]",
      "text/plain": [
       "<Figure size 416.375x360 with 1 Axes>"
      ]
     },
     "metadata": {},
     "output_type": "display_data"
    }
   ],
   "source": [
    "#visualization\n",
    "sns.lmplot('x', 'y', data =df, fit_reg=False, #x-axis, y-axis, data, no line\n",
    "           scatter_kws= {'s':150}, # marker size\n",
    "          hue=\"cluster_id\") # color\n",
    "\n",
    "#title\n",
    "plt.title('After Kmean Clustering')"
   ]
  },
  {
   "cell_type": "markdown",
   "metadata": {},
   "source": [
    "ㅏ"
   ]
  },
  {
   "cell_type": "code",
   "execution_count": null,
   "metadata": {},
   "outputs": [],
   "source": []
  }
 ],
 "metadata": {
  "kernelspec": {
   "display_name": "py35",
   "language": "python",
   "name": "py35"
  },
  "language_info": {
   "codemirror_mode": {
    "name": "ipython",
    "version": 3
   },
   "file_extension": ".py",
   "mimetype": "text/x-python",
   "name": "python",
   "nbconvert_exporter": "python",
   "pygments_lexer": "ipython3",
   "version": "3.5.5"
  }
 },
 "nbformat": 4,
 "nbformat_minor": 2
}
