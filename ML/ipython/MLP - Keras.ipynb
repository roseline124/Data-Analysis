{
 "cells": [
  {
   "cell_type": "markdown",
   "metadata": {},
   "source": [
    "**텍스트 분류 과정**\n",
    "\n",
    "1. 불필요한 품사 제거\n",
    "2. 사전을 기반으로 단어를 숫자로 변환\n",
    "3. 파일 내부의 단어 출현 비율을 계산\n",
    "4. 데이터를 학습시킨다.\n",
    "5. 테스트 데이터를 넣어 성공률 확인"
   ]
  },
  {
   "cell_type": "markdown",
   "metadata": {},
   "source": [
    "### 1번은 데이터가 없으므로 2번부터"
   ]
  },
  {
   "cell_type": "code",
   "execution_count": null,
   "metadata": {},
   "outputs": [],
   "source": [
    "import os, glob, json\n",
    "\n",
    "rood_dir = "
   ]
  }
 ],
 "metadata": {
  "kernelspec": {
   "display_name": "python3.6",
   "language": "python",
   "name": "py36"
  },
  "language_info": {
   "codemirror_mode": {
    "name": "ipython",
    "version": 3
   },
   "file_extension": ".py",
   "mimetype": "text/x-python",
   "name": "python",
   "nbconvert_exporter": "python",
   "pygments_lexer": "ipython3",
   "version": "3.6.8"
  }
 },
 "nbformat": 4,
 "nbformat_minor": 2
}
