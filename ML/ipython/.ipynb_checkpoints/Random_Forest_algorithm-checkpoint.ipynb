{
 "cells": [
  {
   "cell_type": "markdown",
   "metadata": {},
   "source": [
    "# Random Forest"
   ]
  },
  {
   "cell_type": "markdown",
   "metadata": {},
   "source": [
    "UCI 머신러닝 레포지토리 > 버섯 데이터\n",
    "\n",
    "https://archive.ics.uci.edu/ml/datasets/Mushroom"
   ]
  },
  {
   "cell_type": "markdown",
   "metadata": {},
   "source": [
    "### mushroom-download.py"
   ]
  },
  {
   "cell_type": "code",
   "execution_count": 2,
   "metadata": {},
   "outputs": [
    {
     "name": "stdout",
     "output_type": "stream",
     "text": [
      "Finished\n"
     ]
    }
   ],
   "source": [
    "import urllib.request as req\n",
    "\n",
    "msh = \"mushroom.csv\"\n",
    "url = \"https://archive.ics.uci.edu/ml/machine-learning-databases/mushroom/agaricus-lepiota.data\"\n",
    "req.urlretrieve(url, msh)\n",
    "print(\"Finished\")"
   ]
  },
  {
   "cell_type": "markdown",
   "metadata": {},
   "source": [
    "### mushroom-train.py"
   ]
  },
  {
   "cell_type": "code",
   "execution_count": 11,
   "metadata": {},
   "outputs": [],
   "source": [
    "import pandas as pd\n",
    "import warnings\n",
    "from sklearn.ensemble import RandomForestClassifier\n",
    "from sklearn import metrics\n",
    "from sklearn.model_selection import train_test_split\n",
    "\n",
    "warnings.filterwarnings(action=\"ignore\") # 경고 메시지 출력 x \n",
    "\n",
    "# 데이터 불러오기 \n",
    "\n",
    "mr = pd.read_csv(\"mushroom.csv\", header=None)\n",
    "\n",
    "# 데이터 내부 기호를 숫자로 변환 : 각 컬럼 별로 버섯의 특징을 나타냄 첫번째 칼럼은 독의 여부 : P(poison), E(edible, 식용)\n",
    "\n",
    "label = []\n",
    "data = []\n",
    "attr_list = []\n",
    "\n",
    "for row_index, row in mr.iterrows():\n",
    "    label.append(row.ix[0]) # ix[0] : 23개 컬럼 중 첫번째 컬럼 # label 컬럼이 된다 (Poison 여부)\n",
    "    row_data = []\n",
    "    \n",
    "    for v in row.ix[1:] : \n",
    "        row_data.append(ord(v)) # 그 외 컬럼들의 알파벳 데이터들을 유니코드 변환으로 '숫자'로 만든다. 'A' -> 65\n",
    "    \n",
    "    data.append(row_data)"
   ]
  },
  {
   "cell_type": "code",
   "execution_count": 16,
   "metadata": {},
   "outputs": [
    {
     "data": {
      "text/plain": [
       "'# 다른 방법 2\\n\\nfor row_index, row in mr.iterrows() : \\n    label.append(row.ix[0])\\n    exdata = []\\n    \\n    for i, v in enumerate(row.ix[1:]) :\\n        if row_index == 0 : \\n            attr = {\"dic\" : {}, \"cnt\" : 0}\\n            attr_list.append(attr)\\n        else : \\n            attr = attr_list[i]\\n            \\n        # 버섯의 특징 기호(알파벳)를 배열로 나타낸다.\\n        d = [0,0,0,0,0,0,0,0,0,0,0,0]\\n        if v in attr[\"dic\"] : \\n            idx = attr[\"dic\"][v]\\n        else : \\n            idx = attr[\"cnt\"]\\n            attr[\"dic\"][v] = idx\\n            attr[\"cnt\"] += 1\\n        d[idx] = 1\\n        exdata += d\\n        data.append(exdata)'"
      ]
     },
     "execution_count": 16,
     "metadata": {},
     "output_type": "execute_result"
    }
   ],
   "source": [
    "\"\"\"# 다른 방법 2\n",
    "\n",
    "for row_index, row in mr.iterrows() : \n",
    "    label.append(row.ix[0])\n",
    "    exdata = []\n",
    "    \n",
    "    for i, v in enumerate(row.ix[1:]) :\n",
    "        if row_index == 0 : \n",
    "            attr = {\"dic\" : {}, \"cnt\" : 0}\n",
    "            attr_list.append(attr)\n",
    "        else : \n",
    "            attr = attr_list[i]\n",
    "            \n",
    "        # 버섯의 특징 기호(알파벳)를 배열로 나타낸다.\n",
    "        d = [0,0,0,0,0,0,0,0,0,0,0,0]\n",
    "        if v in attr[\"dic\"] : \n",
    "            idx = attr[\"dic\"][v]\n",
    "        else : \n",
    "            idx = attr[\"cnt\"]\n",
    "            attr[\"dic\"][v] = idx\n",
    "            attr[\"cnt\"] += 1\n",
    "        d[idx] = 1\n",
    "        exdata += d\n",
    "        data.append(exdata)\"\"\""
   ]
  },
  {
   "cell_type": "code",
   "execution_count": 12,
   "metadata": {},
   "outputs": [],
   "source": [
    "# 학습 전용과 테스트 전용 데이터로 나누기 \n",
    "\n",
    "train, test, train_label, test_label = \\\n",
    "    train_test_split(data, label)"
   ]
  },
  {
   "cell_type": "code",
   "execution_count": 13,
   "metadata": {},
   "outputs": [
    {
     "data": {
      "text/plain": [
       "RandomForestClassifier(bootstrap=True, class_weight=None, criterion='gini',\n",
       "            max_depth=None, max_features='auto', max_leaf_nodes=None,\n",
       "            min_impurity_decrease=0.0, min_impurity_split=None,\n",
       "            min_samples_leaf=1, min_samples_split=2,\n",
       "            min_weight_fraction_leaf=0.0, n_estimators=10, n_jobs=None,\n",
       "            oob_score=False, random_state=None, verbose=0,\n",
       "            warm_start=False)"
      ]
     },
     "execution_count": 13,
     "metadata": {},
     "output_type": "execute_result"
    }
   ],
   "source": [
    "# 데이터 학습 시키기 \n",
    "\n",
    "clf = RandomForestClassifier()\n",
    "clf.fit(train, train_label)"
   ]
  },
  {
   "cell_type": "code",
   "execution_count": 14,
   "metadata": {},
   "outputs": [],
   "source": [
    "# 데이터 예측하기\n",
    "\n",
    "predict = clf.predict(test)"
   ]
  },
  {
   "cell_type": "code",
   "execution_count": 15,
   "metadata": {},
   "outputs": [
    {
     "name": "stdout",
     "output_type": "stream",
     "text": [
      "정확도 : 1.0\n",
      "보고서 :\n",
      "               precision    recall  f1-score   support\n",
      "\n",
      "           e       1.00      1.00      1.00      1025\n",
      "           p       1.00      1.00      1.00      1006\n",
      "\n",
      "   micro avg       1.00      1.00      1.00      2031\n",
      "   macro avg       1.00      1.00      1.00      2031\n",
      "weighted avg       1.00      1.00      1.00      2031\n",
      "\n"
     ]
    }
   ],
   "source": [
    "# 결과 테스트하기 \n",
    "\n",
    "ac_score = metrics.accuracy_score(test_label, predict)\n",
    "cl_report = metrics.classification_report(test_label, predict)\n",
    "\n",
    "print(\"정확도 :\", ac_score)\n",
    "print(\"보고서 :\\n\", cl_report)"
   ]
  },
  {
   "cell_type": "code",
   "execution_count": null,
   "metadata": {},
   "outputs": [],
   "source": []
  }
 ],
 "metadata": {
  "kernelspec": {
   "display_name": "python3.6",
   "language": "python",
   "name": "py36"
  },
  "language_info": {
   "codemirror_mode": {
    "name": "ipython",
    "version": 3
   },
   "file_extension": ".py",
   "mimetype": "text/x-python",
   "name": "python",
   "nbconvert_exporter": "python",
   "pygments_lexer": "ipython3",
   "version": "3.6.8"
  }
 },
 "nbformat": 4,
 "nbformat_minor": 2
}
