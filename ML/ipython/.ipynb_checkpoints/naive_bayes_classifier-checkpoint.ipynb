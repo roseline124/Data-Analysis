{
 "cells": [
  {
   "cell_type": "code",
   "execution_count": 1,
   "metadata": {},
   "outputs": [],
   "source": [
    "import math, sys\n",
    "from konlpy.tag import Okt"
   ]
  },
  {
   "cell_type": "markdown",
   "metadata": {},
   "source": [
    "베이지안 필터 클래스 \n",
    "\n",
    "긍/부정도 구분 가능할 듯."
   ]
  },
  {
   "cell_type": "code",
   "execution_count": 4,
   "metadata": {},
   "outputs": [],
   "source": [
    "class BayesianFilter:\n",
    "    \"\"\"베이지안 필터\"\"\"\n",
    "    def __init__(self):\n",
    "        self.words = set() # 출현한 단어 기록\n",
    "        self.word_dict = {} # 카테고리마다의 출현 기록\n",
    "        self.category_dict = {} # 카테고리 출현 횟수 기록 \n",
    "        \n",
    "        \n",
    "    # 형태소 분석\n",
    "    def txt_split(self, text): \n",
    "        results = []\n",
    "        okt = Okt()\n",
    "        \n",
    "        #단어 기본형 사용\n",
    "        malist = okt.pos(text, norm=True, stem=True)\n",
    "        for word in malist:\n",
    "            # 어미/조사/구두점 등은 대상에서 제외\n",
    "            if not word[1] in [\"Josa\", \"Eomi\", \"Punctuation\"]:\n",
    "                results.append(word[0])\n",
    "        \n",
    "        return results\n",
    "    \n",
    "    \n",
    "    # 단어와 카테고리 출현 횟수 기록\n",
    "    def cnt_word(self, word, category):\n",
    "        # 단어를 카테고리에 추가 \n",
    "        if not category in self.word_dict:\n",
    "            self.word_dict[category] = {}\n",
    "            \n",
    "        if not word in self.word_dict[category]:\n",
    "            self.word_dict[category][word] = 0\n",
    "            \n",
    "        self.word_dict[category][word] += 1\n",
    "        self.words.add(word)\n",
    "        \n",
    "    \n",
    "    def cnt_category(self, category):\n",
    "        #카테고리 기록\n",
    "        if not category in self.category_dict:\n",
    "            self.category_dict[category] = 0\n",
    "        \n",
    "        self.category_dict[category] += 1\n",
    "        \n",
    "    \n",
    "    def fit(self, text, category):\n",
    "        \"\"\"텍스트 학습\"\"\"\n",
    "        word_list = self.txt_split(text)\n",
    "        \n",
    "        for word in word_list:\n",
    "            self.cnt_word(word, category)\n",
    "        \n",
    "        self.cnt_category(category)\n",
    "    \n",
    "    \n",
    "    # 단어 리스트 점수 기록\n",
    "    def score(self, words, category):\n",
    "        score = math.log(self.category_prob(category)) # 확률을 곱할 때 값이 너무 작으면 다운 플로 발생하므로 log함수 사용 \n",
    "        \n",
    "        for word in words:\n",
    "            score += math.log(self.word_prob(word, category))\n",
    "        \n",
    "        return score\n",
    "     \n",
    "        \n",
    "    # 예측 \n",
    "    def predict(self, text):\n",
    "        best_category = None\n",
    "        max_score = -sys.maxsize\n",
    "        words = self.txt_split(text)\n",
    "        score_list = []\n",
    "        \n",
    "        for category in self.category_dict.keys():\n",
    "            score = self.score(words, category)\n",
    "            score_list.append((category, score))\n",
    "            \n",
    "            if score > max_score:\n",
    "                max_score = score\n",
    "                best_category = category\n",
    "        \n",
    "        return best_category, score_list\n",
    "    \n",
    "    \n",
    "    # 카테고리 내부의 단어 출현 횟수 구하기 \n",
    "    def get_word_count(self, word, category):\n",
    "        \n",
    "        if word in self.word_dict[category]:\n",
    "            return self.word_dict[category][word]\n",
    "    \n",
    "        else:\n",
    "            return 0\n",
    "    \n",
    "    # 카테고리 계산\n",
    "    def category_prob(self, category):\n",
    "        sum_categories = sum(self.category_dict.values())\n",
    "        category_v = self.category_dict[category]\n",
    "        \n",
    "        return category_v / sum_categories\n",
    "    \n",
    "    \n",
    "    # 카테고리 내부의 단어 출현 비율 계산\n",
    "    def word_prob(self, word, category):\n",
    "        n = self.get_word_count(word, category) + 1 # 학습 사전에 없는 단어가 나오면 확률이 0이 되므로 이를 방지하기 위해 1을 더한다. \n",
    "        d = sum(self.word_dict[category].values()) + len(self.words)\n",
    "        \n",
    "        return n / d"
   ]
  },
  {
   "cell_type": "markdown",
   "metadata": {},
   "source": [
    "Bayes Test"
   ]
  },
  {
   "cell_type": "code",
   "execution_count": 5,
   "metadata": {},
   "outputs": [
    {
     "name": "stdout",
     "output_type": "stream",
     "text": [
      "결과 : 광고\n",
      "점수 : [('광고', -19.329379270837773), ('중요', -20.544606748320554)]\n"
     ]
    }
   ],
   "source": [
    "bf = BayesianFilter()\n",
    "\n",
    "# 텍스트 학습\n",
    "bf.fit(\"파격 세일 - 오늘까지만 30% 할인\", \"광고\")\n",
    "bf.fit(\"쿠폰 선물 & 무료 배송\", \"광고\")\n",
    "bf.fit(\"현대 신세계 백화점 세일\", \"광고\")\n",
    "bf.fit(\"봄과 함께 찾아온 따뜻한 신제품 소식\", \"광고\")\n",
    "bf.fit(\"인기 제품 기간 한정 세일\", \"광고\")\n",
    "bf.fit(\"오늘 일정 확인\", \"중요\")\n",
    "bf.fit(\"프로젝트 진행 상황 보고\", \"중요\")\n",
    "bf.fit(\"계약 잘 부탁드립니다.\", \"중요\")\n",
    "bf.fit(\"회의 일정이 등록되었습니다.\", \"중요\")\n",
    "bf.fit(\"오늘 일정이 없습니다.\", \"중요\")\n",
    "\n",
    "\n",
    "# 예측\n",
    "pre, scorelist = bf.predict(\"재고 정리 할인, 무료 배송\")\n",
    "print(\"결과 :\", pre)\n",
    "print(\"점수 :\", scorelist)"
   ]
  },
  {
   "cell_type": "code",
   "execution_count": null,
   "metadata": {},
   "outputs": [],
   "source": []
  }
 ],
 "metadata": {
  "kernelspec": {
   "display_name": "python3.6",
   "language": "python",
   "name": "py36"
  },
  "language_info": {
   "codemirror_mode": {
    "name": "ipython",
    "version": 3
   },
   "file_extension": ".py",
   "mimetype": "text/x-python",
   "name": "python",
   "nbconvert_exporter": "python",
   "pygments_lexer": "ipython3",
   "version": "3.6.8"
  }
 },
 "nbformat": 4,
 "nbformat_minor": 2
}
