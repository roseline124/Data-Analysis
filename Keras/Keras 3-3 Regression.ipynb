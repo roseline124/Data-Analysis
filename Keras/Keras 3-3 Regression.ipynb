{
 "cells": [
  {
   "cell_type": "markdown",
   "metadata": {},
   "source": [
    "# 주택 가격 예측 : 회귀 \n",
    "\n",
    "1. 분류 : 입력 데이터 포인트의 개별적인 레이블 하나를 예측하는 게 목적\n",
    "\n",
    "2. 회귀 : 개별적인 레이블 대신 연속적인 값을 예측 \n",
    "    - ex) 기상 데이터가 주어졌을 때 내일 기온 예측\n",
    "    - ex) 소프트웨어 명세서가 주어졌을 때 프로젝트가 완료될 시간 예측 \n",
    "    \n",
    "※로지스틱 회귀 : 회귀 알고리즘이 아니라 분류 알고리즘이다."
   ]
  },
  {
   "cell_type": "markdown",
   "metadata": {},
   "source": [
    "### 데이터 로드"
   ]
  },
  {
   "cell_type": "code",
   "execution_count": 1,
   "metadata": {},
   "outputs": [
    {
     "name": "stderr",
     "output_type": "stream",
     "text": [
      "Using TensorFlow backend.\n"
     ]
    },
    {
     "name": "stdout",
     "output_type": "stream",
     "text": [
      "Downloading data from https://s3.amazonaws.com/keras-datasets/boston_housing.npz\n",
      "57344/57026 [==============================] - 1s 10us/step\n"
     ]
    }
   ],
   "source": [
    "from keras.datasets import boston_housing\n",
    "\n",
    "(train_data, train_targets), (test_data, test_targets) = \\\n",
    "boston_housing.load_data()"
   ]
  },
  {
   "cell_type": "code",
   "execution_count": 3,
   "metadata": {},
   "outputs": [
    {
     "data": {
      "text/plain": [
       "(404, 13)"
      ]
     },
     "execution_count": 3,
     "metadata": {},
     "output_type": "execute_result"
    }
   ],
   "source": [
    "train_data.shape"
   ]
  },
  {
   "cell_type": "code",
   "execution_count": 4,
   "metadata": {},
   "outputs": [
    {
     "data": {
      "text/plain": [
       "(102, 13)"
      ]
     },
     "execution_count": 4,
     "metadata": {},
     "output_type": "execute_result"
    }
   ],
   "source": [
    "test_data.shape"
   ]
  },
  {
   "cell_type": "code",
   "execution_count": 6,
   "metadata": {},
   "outputs": [
    {
     "data": {
      "text/plain": [
       "array([15.2, 42.3, 50. , 21.1, 17.7])"
      ]
     },
     "execution_count": 6,
     "metadata": {},
     "output_type": "execute_result"
    }
   ],
   "source": [
    "train_targets[:5] #주택의 중간 가격. 천 달러 단위"
   ]
  },
  {
   "cell_type": "markdown",
   "metadata": {},
   "source": [
    "### 데이터 준비 \n",
    "\n",
    "이 데이터들은 상이한 스케일을 갖고 있다.\n",
    "\n",
    "어떤 값은 0과 1사이의 비율을 나타내며, 어떤 것은 1과 12 사이의 값, 또 어떤 값을 1과 100 사이의 값을 가진다. 이대로 신경망에 주입하면 문제가 된다. (특성의 스케일이 다르면 전역 최소 점을 찾아가는 경사 하강법의 경로가 스케일이 큰 특성에 영향을 많이 받는다) \n",
    "\n",
    "따라서 해법은 **특성 별로 표준화**하는 것이다. \n",
    "입력 데이터에 있는 각 특성(입력 데이터 행렬의 열)에 대해 **특성의 평균을 빼고 표준 편차로 나눈다**. 특성의 중앙이 0 근처에 맞추어지고 표준 편차는 1이 된다. "
   ]
  },
  {
   "cell_type": "markdown",
   "metadata": {},
   "source": [
    "### 데이터 정규화(표준화)하기"
   ]
  },
  {
   "cell_type": "markdown",
   "metadata": {},
   "source": [
    "※주의 : 테스트 데이터는 오직 예측에만 쓸 것. 아래에서도 훈련 데이터만으로 표준화했다. \n",
    "\n",
    "훈련 데이터와 테스트 데이터를 각각 다른 스케일로 변환하면 훈련 데이터에서 학습한 정보가 쓸모 없어지게 된다. 마찬가지로 실전에 투입하여 **새로운 데이터에 대한 예측을 만들 때도, 훈련 데이터에서 계산한 값을 사용해 표준화**해야 한다."
   ]
  },
  {
   "cell_type": "code",
   "execution_count": 8,
   "metadata": {},
   "outputs": [],
   "source": [
    "mean = train_data.mean(axis=0)\n",
    "train_data -= mean\n",
    "std = train_data.std(axis=0)\n",
    "train_data /= std\n",
    "\n",
    "test_data -= mean\n",
    "test_data /= std"
   ]
  },
  {
   "cell_type": "markdown",
   "metadata": {},
   "source": [
    "### 모델 구성\n",
    "\n",
    "샘플 개수가 적으므로 64개 유닛을 가진 2개의 은닉 층으로 작은 네트워크 구성. 훈련 데이터의 개수가 적을 수록 오버피팅이 쉽게 일어나므로 작은 모델을 사용해야 한다."
   ]
  },
  {
   "cell_type": "code",
   "execution_count": 11,
   "metadata": {},
   "outputs": [],
   "source": [
    "from keras import models\n",
    "from keras import layers\n",
    "\n",
    "def build_model() : # 동일 모델을 여러 번 생성할 것이므로 함수를 만들어 사용\n",
    "    model = models.Sequential()\n",
    "    model.add(layers.Dense(64, activation='relu', input_shape=(train_data.shape[1],)))\n",
    "    model.add(layers.Dense(64, activation='relu'))\n",
    "    model.add(layers.Dense(1))\n",
    "    \n",
    "    model.compile(optimizer='rmsprop', loss='mse', metrics=['mae'])\n",
    "    \n",
    "    return model"
   ]
  },
  {
   "cell_type": "markdown",
   "metadata": {},
   "source": [
    "`model.add(layers.Dense(1))` : 하나의 유닛. 그리고 활성화 함수가 없다.\n",
    "\n",
    "이런 층을 '선형 층'이라고 한다. 전형적인 스칼라 회귀(하나의 연속적인 값을 예측하는 회귀) 구성이다. 활성화 함수를 적용하면 출력 값의 범위를 제한한다. 여기서는 마지막 층이 순수한 선형이므로 네트워크는 어떤 범위 값이라도 예측하도록 자유롭게 학습한다.\n",
    "\n",
    "`model.compile(optimizer='rmsprop', loss='mse', metrics=['mae'])` : \n",
    "mse 손실 함수는 평균 제곱 오차(meas squared error)의 약어로 예측과 타깃 사이 거리의 제곱이다. 회귀 문제에서 널리 사용되는 손실 함수이다. \n",
    "\n",
    "평균 절대 오차(Mean Absolute Error, mae)를 측정한다. 예측과 타깃 사이 거리의 절댓값이다. ex) 이 예제에서 mae가 0.5면 예측이 평균적으로 500달러 정도 차이가 난다."
   ]
  },
  {
   "cell_type": "markdown",
   "metadata": {},
   "source": [
    "### K-겹 검증을 사용한 훈련 검증\n",
    "\n",
    "이렇게 샘플이 적은 데이터에서는 검증 세트를 나눌 때 어떤 데이터 포인트들이 선택되었는지에 따라 검증 점수가 크게 달라진다. 따라서 **K-겹 교차 검증**을 사용한다. \n",
    "\n",
    "데이터를 K개의 '분할(fold, 폴드)'로 나누고(일반적으로 4, 5개) K개 모델을 각각 만들어 k-1개 분할에서 훈련하고 나머지 분할에서 평가하는 방법. \n",
    "\n",
    "모델의 검증 점수는 k개 검증 점수를 평균낸 것이다.\n",
    "\n",
    "![k겹 검증](images/k.png \"k\")"
   ]
  },
  {
   "cell_type": "code",
   "execution_count": 19,
   "metadata": {},
   "outputs": [
    {
     "name": "stdout",
     "output_type": "stream",
     "text": [
      "처리 중인 폴드# 0\n",
      "처리 중인 폴드# 1\n",
      "처리 중인 폴드# 2\n",
      "처리 중인 폴드# 3\n"
     ]
    }
   ],
   "source": [
    "import numpy as np \n",
    "\n",
    "k = 4\n",
    "num_val_samples = len(train_data) // k\n",
    "num_epochs = 100\n",
    "all_scores = []\n",
    "for i in range(k) :\n",
    "    print('처리 중인 폴드#', i)\n",
    "    val_data = train_data[i*num_val_samples : (i+1)*num_val_samples]\n",
    "    val_targets = train_targets[i*num_val_samples : (i+1)*num_val_samples]\n",
    "\n",
    "    partial_train_data = np.concatenate( #훈련 데이터 준비 : 다른 분할 전체\n",
    "        [train_data[:i*num_val_samples],\n",
    "        train_data[(i+1)*num_val_samples:]],\n",
    "        axis=0)\n",
    "\n",
    "    partial_train_targets = np.concatenate(\n",
    "        [train_targets[:i*num_val_samples],\n",
    "        train_targets[(i+1)*num_val_samples:]],\n",
    "        axis=0)\n",
    "\n",
    "    model = build_model() #케라스 모델 구성(컴파일 포함)\n",
    "\n",
    "    #모델 훈련(verbose=0이므로 훈련 과정이 출력되지는 않는다.)\n",
    "    model.fit(partial_train_data, partial_train_targets,\n",
    "             epochs=num_epochs, batch_size=1, verbose=0)\n",
    "\n",
    "    #var_targets : 검증 세트로 모델 평가\n",
    "    val_mse, val_mae = model.evaluate(val_data, val_targets, verbose=0)\n",
    "    all_scores.append(val_mae)"
   ]
  },
  {
   "cell_type": "code",
   "execution_count": 20,
   "metadata": {},
   "outputs": [
    {
     "data": {
      "text/plain": [
       "[2.1856382436091355, 2.3448428706367417, 2.5057740187881015, 2.47945762742864]"
      ]
     },
     "execution_count": 20,
     "metadata": {},
     "output_type": "execute_result"
    }
   ],
   "source": [
    "all_scores"
   ]
  },
  {
   "cell_type": "code",
   "execution_count": 21,
   "metadata": {},
   "outputs": [
    {
     "data": {
      "text/plain": [
       "2.3789281901156545"
      ]
     },
     "execution_count": 21,
     "metadata": {},
     "output_type": "execute_result"
    }
   ],
   "source": [
    "np.mean(all_scores)"
   ]
  },
  {
   "cell_type": "code",
   "execution_count": 22,
   "metadata": {},
   "outputs": [
    {
     "name": "stdout",
     "output_type": "stream",
     "text": [
      "처리 중인 폴드# 0\n",
      "처리 중인 폴드# 1\n",
      "처리 중인 폴드# 2\n",
      "처리 중인 폴드# 3\n"
     ]
    }
   ],
   "source": [
    "num_epochs = 500\n",
    "all_mae_histories = []\n",
    "\n",
    "for i in range(k) :\n",
    "    print('처리 중인 폴드#', i)\n",
    "    #k번째 폴드 : 검증 데이터 준비\n",
    "    val_data = train_data[i*num_val_samples : (i+1)*num_val_samples] \n",
    "    val_targets = train_targets[i*num_val_samples : (i+1)*num_val_samples]\n",
    "\n",
    "    partial_train_data = np.concatenate( #훈련 데이터 준비 : 다른 폴드 전체\n",
    "        [train_data[:i*num_val_samples],\n",
    "        train_data[(i+1)*num_val_samples:]],\n",
    "        axis=0)\n",
    "\n",
    "    partial_train_targets = np.concatenate(\n",
    "        [train_targets[:i*num_val_samples],\n",
    "        train_targets[(i+1)*num_val_samples:]],\n",
    "        axis=0)\n",
    "\n",
    "    model = build_model() #케라스 모델 구성(컴파일 포함)\n",
    "\n",
    "    #모델 훈련(verbose=0이므로 훈련 과정이 출력되지는 않는다.)\n",
    "    history = model.fit(partial_train_data, partial_train_targets,\n",
    "                        validation_data=(val_data, val_targets),\n",
    "                        epochs=num_epochs, batch_size=1, verbose=0)\n",
    "\n",
    "    mae_history = history.history['val_mean_absolute_error']\n",
    "    all_mae_histories.append(mae_history)"
   ]
  },
  {
   "cell_type": "markdown",
   "metadata": {},
   "source": [
    "### K-겹 검증 점수 평균 기록하기 "
   ]
  },
  {
   "cell_type": "code",
   "execution_count": 23,
   "metadata": {},
   "outputs": [],
   "source": [
    "avg_mae_history = [\n",
    "    np.mean([ x[i] for x in all_mae_histories ]) for i in range(num_epochs) ]\n"
   ]
  },
  {
   "cell_type": "markdown",
   "metadata": {},
   "source": [
    "### 검증 점수 그래프 "
   ]
  },
  {
   "cell_type": "code",
   "execution_count": 24,
   "metadata": {},
   "outputs": [
    {
     "data": {
      "image/png": "[encoded data removed]",
      "text/plain": [
       "<Figure size 432x288 with 1 Axes>"
      ]
     },
     "metadata": {
      "needs_background": "light"
     },
     "output_type": "display_data"
    }
   ],
   "source": [
    "import matplotlib.pyplot as plt\n",
    "%matplotlib inline\n",
    "\n",
    "plt.plot(range(1, len(avg_mae_history) + 1), avg_mae_history)\n",
    "plt.xlabel('Epochs')\n",
    "plt.ylabel('Validation MAE')\n",
    "plt.show()"
   ]
  },
  {
   "cell_type": "markdown",
   "metadata": {},
   "source": [
    "### 처음 10개의 데이터 포인트를 제외한 검증 점수 그리기 \n",
    "\n",
    "1. 곡선의 다른 부분과 스케일이 많이 다른 첫 10개의 데이터 포인트를 제외\n",
    "\n",
    "2. 부드러운 곡선을 얻기 위해 각 포인트를 이전 포인트의 지수 이동 평균(exponential moving average)로 대체한다. \n",
    "\n",
    "※지수 이동 평균 : 시계열 데이터를 부드럽게 만드는 기법 중 하나이다. 아래 코드에서 계산된 이동 평균에 factor를 곱하고 현재 포인트에 (1 - factor)를 곱해 합산한 것을 가리킨다."
   ]
  },
  {
   "cell_type": "code",
   "execution_count": 25,
   "metadata": {},
   "outputs": [],
   "source": [
    "def smooth_curve(points, factor=0.9) :\n",
    "    smoothed_points = []\n",
    "    \n",
    "    for point in points : \n",
    "        if smoothed_points :\n",
    "            previous = smoothed_points[-1]\n",
    "            smoothed_points.append(previous*factor + point*(1-factor))\n",
    "            \n",
    "        else : \n",
    "            smoothed_points.append(point)\n",
    "        \n",
    "    return smoothed_points"
   ]
  },
  {
   "cell_type": "code",
   "execution_count": 26,
   "metadata": {},
   "outputs": [],
   "source": [
    "smoothed_mae_history = smooth_curve(avg_mae_history[10:])"
   ]
  },
  {
   "cell_type": "code",
   "execution_count": 29,
   "metadata": {},
   "outputs": [
    {
     "data": {
      "image/png": "[encoded data removed]",
      "text/plain": [
       "<Figure size 432x288 with 1 Axes>"
      ]
     },
     "metadata": {
      "needs_background": "light"
     },
     "output_type": "display_data"
    }
   ],
   "source": [
    "plt.plot(range(1, len(smoothed_mae_history) + 1), smoothed_mae_history)\n",
    "plt.xlabel('Epochs')\n",
    "plt.ylabel('Validation MAE')\n",
    "plt.show()"
   ]
  },
  {
   "cell_type": "markdown",
   "metadata": {},
   "source": [
    "모델의 여러 매개변수에 대한 튜닝이 끝나면(에포크 수뿐 아니라 은닉 층 크기도 조절 가능하다) 모든 훈련 데이터를 사용하고 최상의 매개변수로 최종 실전에 투입될 모델을 훈련한다. 그 뒤, 테스트 데이터로 성능을 확인한다."
   ]
  },
  {
   "cell_type": "markdown",
   "metadata": {},
   "source": [
    "### 최종 모델 훈련하기 "
   ]
  },
  {
   "cell_type": "code",
   "execution_count": 31,
   "metadata": {},
   "outputs": [
    {
     "name": "stdout",
     "output_type": "stream",
     "text": [
      "102/102 [==============================] - 0s 2ms/step\n"
     ]
    }
   ],
   "source": [
    "model = build_model() #새롭게 컴파일 된 모델을 얻는다.\n",
    "model.fit(train_data, train_targets, #전체 데이터로 훈련시킨다.\n",
    "         epochs=80, batch_size=16, verbose=0)\n",
    "\n",
    "test_mse_score, test_mae_score = model.evaluate(test_data, test_targets)"
   ]
  },
  {
   "cell_type": "code",
   "execution_count": 34,
   "metadata": {},
   "outputs": [
    {
     "data": {
      "text/plain": [
       "45.15549543792126"
      ]
     },
     "execution_count": 34,
     "metadata": {},
     "output_type": "execute_result"
    }
   ],
   "source": [
    "test_mae_score"
   ]
  },
  {
   "cell_type": "markdown",
   "metadata": {},
   "source": [
    "# 정리\n",
    "\n",
    "\n",
    "1. 회귀는 분류에서 사용했던 것과는 다른 손실 함수를 사용한다. MSE\n",
    "\n",
    "2. 회귀에서 사용되는 평가 지표는 분류와 다르다. 정확도 개념은 회귀에 적용되지 않는다. 일반적인 회귀 지표는 평균 절대 오차 MAE이다.\n",
    "\n",
    "3. 입력 데이터의 특성이 서로 다른 범위를 가지면 전처리 단계에서 개별적으로 스케일을 조정해야 한다.\n",
    "\n",
    "4. 가용 데이터가 적다면 k-겹 검증을 사용하는 것이 신뢰할 수 있는 모델 평가 방법이다. \n",
    "\n",
    "5. 가용한 훈련 데이터가 적다면 과대적합을 피하기 위해 은닉 층의 수를 줄인다.(일반적으로 1개 또는 2개)"
   ]
  },
  {
   "cell_type": "code",
   "execution_count": null,
   "metadata": {},
   "outputs": [],
   "source": []
  }
 ],
 "metadata": {
  "kernelspec": {
   "display_name": "python3.6",
   "language": "python",
   "name": "py36"
  },
  "language_info": {
   "codemirror_mode": {
    "name": "ipython",
    "version": 3
   },
   "file_extension": ".py",
   "mimetype": "text/x-python",
   "name": "python",
   "nbconvert_exporter": "python",
   "pygments_lexer": "ipython3",
   "version": "3.6.8"
  }
 },
 "nbformat": 4,
 "nbformat_minor": 2
}
