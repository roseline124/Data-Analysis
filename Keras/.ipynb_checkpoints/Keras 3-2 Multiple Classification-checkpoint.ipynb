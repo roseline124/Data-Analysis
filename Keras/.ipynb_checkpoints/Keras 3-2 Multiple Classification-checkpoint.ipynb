{
 "cells": [
  {
   "cell_type": "markdown",
   "metadata": {},
   "source": [
    "# 로이터 데이터셋"
   ]
  },
  {
   "cell_type": "markdown",
   "metadata": {},
   "source": [
    "num_words = 10000 : 단어 개수 1만 개로 제한"
   ]
  },
  {
   "cell_type": "code",
   "execution_count": 1,
   "metadata": {},
   "outputs": [
    {
     "name": "stderr",
     "output_type": "stream",
     "text": [
      "Using TensorFlow backend.\n"
     ]
    },
    {
     "name": "stdout",
     "output_type": "stream",
     "text": [
      "Downloading data from https://s3.amazonaws.com/text-datasets/reuters.npz\n",
      "2113536/2110848 [==============================] - 2s 1us/step\n"
     ]
    }
   ],
   "source": [
    "from keras.datasets import reuters\n",
    "\n",
    "(train_data, train_labels), (test_data, test_labels) = reuters.load_data(num_words=10000)"
   ]
  },
  {
   "cell_type": "code",
   "execution_count": 4,
   "metadata": {},
   "outputs": [
    {
     "data": {
      "text/plain": [
       "2246"
      ]
     },
     "execution_count": 4,
     "metadata": {},
     "output_type": "execute_result"
    }
   ],
   "source": [
    "len(test_data)"
   ]
  },
  {
   "cell_type": "markdown",
   "metadata": {},
   "source": [
    "### 문자 디코딩"
   ]
  },
  {
   "cell_type": "markdown",
   "metadata": {},
   "source": [
    "[python dictionary get()](https://www.tutorialspoint.com/python/dictionary_get.htm)"
   ]
  },
  {
   "cell_type": "code",
   "execution_count": 5,
   "metadata": {},
   "outputs": [
    {
     "name": "stdout",
     "output_type": "stream",
     "text": [
      "Downloading data from https://s3.amazonaws.com/text-datasets/reuters_word_index.json\n",
      "557056/550378 [==============================] - 1s 2us/step\n"
     ]
    }
   ],
   "source": [
    "word_index = reuters.get_word_index()\n",
    "reverse_word_index = dict( [(v, k) for (k, v) in word_index.items() ]  )\n",
    "decode_newswire = ' '.join([reverse_word_index.get(i-3, '?') for i in train_data[0]])"
   ]
  },
  {
   "cell_type": "code",
   "execution_count": 6,
   "metadata": {},
   "outputs": [
    {
     "data": {
      "text/plain": [
       "'? ? ? said as a result of its december acquisition of space co it expects earnings per share in 1987 of 1 15 to 1 30 dlrs per share up from 70 cts in 1986 the company said pretax net should rise to nine to 10 mln dlrs from six mln dlrs in 1986 and rental operation revenues to 19 to 22 mln dlrs from 12 5 mln dlrs it said cash flow per share this year should be 2 50 to three dlrs reuter 3'"
      ]
     },
     "execution_count": 6,
     "metadata": {},
     "output_type": "execute_result"
    }
   ],
   "source": [
    "decode_newswire"
   ]
  },
  {
   "cell_type": "markdown",
   "metadata": {},
   "source": [
    "### 데이터 준비 \n",
    "\n",
    "데이터를 벡터로 변환"
   ]
  },
  {
   "cell_type": "markdown",
   "metadata": {},
   "source": [
    "**첫번째 방법 : 레이블 리스트를 정수 텐서로 변환**"
   ]
  },
  {
   "cell_type": "code",
   "execution_count": 8,
   "metadata": {},
   "outputs": [],
   "source": [
    "import numpy as np\n",
    "\n",
    "def vectorize_seq(seq, dimension=10000) :\n",
    "    results = np.zeros((len(seq), dimension))\n",
    "    \n",
    "    for i, seq in enumerate(seq) :\n",
    "        results[i, seq] = 1.\n",
    "        \n",
    "    return results\n",
    "\n",
    "x_train = vectorize_seq(train_data)\n",
    "x_test = vectorize_seq(test_data)"
   ]
  },
  {
   "cell_type": "markdown",
   "metadata": {},
   "source": [
    "**두번째 방법 : 원-핫 인코딩**"
   ]
  },
  {
   "cell_type": "code",
   "execution_count": 11,
   "metadata": {},
   "outputs": [],
   "source": [
    "\"\"\"import numpy as np\n",
    "\n",
    "def to_one_hot(labels, dimension=46) :\n",
    "    results = np.zeros((len(labels), dimension))\n",
    "    for i, label in enumerate(labels) :\n",
    "        results[i, label] = 1.\n",
    "        \n",
    "    return results\n",
    "\n",
    "one_hot_train_labels = to_one_hot(train_labels)\n",
    "one_hot_test_labels = to_one_hot(test_labels)\"\"\"\n",
    "\n",
    "#케라스에는 이를 위한 내장 함수가 있다.\n",
    "from keras.utils.np_utils import to_categorical\n",
    "\n",
    "one_hot_train_labels = to_categorical(train_labels)\n",
    "one_hot_test_labels = to_categorical(test_labels)"
   ]
  },
  {
   "cell_type": "markdown",
   "metadata": {},
   "source": [
    "### 모델 구성\n",
    "\n",
    "출력 클래스 46개.\n",
    "한 층에서 정보가 누락되면 이를 복원할 방법이 없어 병목 현상이 일어날 수 있다. 따라서 더 많은 유닛을 사용해 정보 병목을 줄인다."
   ]
  },
  {
   "cell_type": "markdown",
   "metadata": {},
   "source": [
    "**마지막 층에 softmax** : 각 입력 샘플마다 46개의 출력 클래스에 대한 확률 분포 출력. 46차원의 출력 벡터를 만든다. output\\[i\\]는 어떤 샘플이 클래스 i에 속할 확률이다. 46개의 값을 모두 더하면 1이 된다."
   ]
  },
  {
   "cell_type": "code",
   "execution_count": 12,
   "metadata": {},
   "outputs": [],
   "source": [
    "from keras import models\n",
    "from keras import layers\n",
    "\n",
    "model = models.Sequential()\n",
    "model.add(layers.Dense(64, activation='relu', input_shape=(10000,)))\n",
    "model.add(layers.Dense(64, activation='relu'))\n",
    "model.add(layers.Dense(46, activation='softmax'))"
   ]
  },
  {
   "cell_type": "markdown",
   "metadata": {},
   "source": [
    "### 모델 컴파일\n",
    "\n",
    "**categorical_crossentropy** : 두 확률 분포 사이의 거리를 측정. **네트워크(신경망)가 출력한 확률 분포와 진짜 레이블의 분포 사이의 거리**. 두 분포 사이의 거리를 최소화하면 진짜 레이블에 가능한 가까운 출력을 내도록 모델을 훈련한다. "
   ]
  },
  {
   "cell_type": "code",
   "execution_count": 13,
   "metadata": {},
   "outputs": [],
   "source": [
    "model.compile(optimizer='rmsprop', \n",
    "             loss='categorical_crossentropy', \n",
    "             metrics=['accuracy'])"
   ]
  },
  {
   "cell_type": "markdown",
   "metadata": {},
   "source": [
    "### 훈련 검증"
   ]
  },
  {
   "cell_type": "markdown",
   "metadata": {},
   "source": [
    "검증세트 준비하기"
   ]
  },
  {
   "cell_type": "code",
   "execution_count": 16,
   "metadata": {},
   "outputs": [],
   "source": [
    "x_val = x_train[:1000]\n",
    "partial_x_train = x_train[1000:]\n",
    "\n",
    "y_val = one_hot_train_labels[:1000]\n",
    "partial_y_train = one_hot_train_labels[1000:]"
   ]
  },
  {
   "cell_type": "markdown",
   "metadata": {},
   "source": [
    "### 모델 훈련하기"
   ]
  },
  {
   "cell_type": "code",
   "execution_count": 17,
   "metadata": {},
   "outputs": [
    {
     "name": "stdout",
     "output_type": "stream",
     "text": [
      "Train on 7982 samples, validate on 1000 samples\n",
      "Epoch 1/20\n",
      "7982/7982 [==============================] - 1s 179us/step - loss: 2.5322 - acc: 0.4955 - val_loss: 1.7217 - val_acc: 0.6100\n",
      "Epoch 2/20\n",
      "7982/7982 [==============================] - 1s 95us/step - loss: 1.4487 - acc: 0.6877 - val_loss: 1.3495 - val_acc: 0.7070\n",
      "Epoch 3/20\n",
      "7982/7982 [==============================] - 1s 94us/step - loss: 1.0999 - acc: 0.7643 - val_loss: 1.1726 - val_acc: 0.7410\n",
      "Epoch 4/20\n",
      "7982/7982 [==============================] - 1s 97us/step - loss: 0.8727 - acc: 0.8145 - val_loss: 1.0795 - val_acc: 0.7590\n",
      "Epoch 5/20\n",
      "7982/7982 [==============================] - 1s 96us/step - loss: 0.7055 - acc: 0.8474 - val_loss: 0.9856 - val_acc: 0.7790\n",
      "Epoch 6/20\n",
      "7982/7982 [==============================] - 1s 96us/step - loss: 0.5692 - acc: 0.8794 - val_loss: 0.9403 - val_acc: 0.8030\n",
      "Epoch 7/20\n",
      "7982/7982 [==============================] - 1s 95us/step - loss: 0.4621 - acc: 0.9033 - val_loss: 0.9092 - val_acc: 0.8010\n",
      "Epoch 8/20\n",
      "7982/7982 [==============================] - 1s 95us/step - loss: 0.3730 - acc: 0.9213 - val_loss: 0.9366 - val_acc: 0.7890\n",
      "Epoch 9/20\n",
      "7982/7982 [==============================] - 1s 103us/step - loss: 0.3058 - acc: 0.9308 - val_loss: 0.8917 - val_acc: 0.8060\n",
      "Epoch 10/20\n",
      "7982/7982 [==============================] - 1s 105us/step - loss: 0.2554 - acc: 0.9410 - val_loss: 0.9066 - val_acc: 0.8130\n",
      "Epoch 11/20\n",
      "7982/7982 [==============================] - 1s 100us/step - loss: 0.2199 - acc: 0.9480 - val_loss: 0.9171 - val_acc: 0.8120\n",
      "Epoch 12/20\n",
      "7982/7982 [==============================] - 1s 98us/step - loss: 0.1883 - acc: 0.9508 - val_loss: 0.9069 - val_acc: 0.8130\n",
      "Epoch 13/20\n",
      "7982/7982 [==============================] - 1s 96us/step - loss: 0.1709 - acc: 0.9528 - val_loss: 0.9342 - val_acc: 0.8100\n",
      "Epoch 14/20\n",
      "7982/7982 [==============================] - 1s 95us/step - loss: 0.1539 - acc: 0.9551 - val_loss: 0.9666 - val_acc: 0.8060\n",
      "Epoch 15/20\n",
      "7982/7982 [==============================] - 1s 98us/step - loss: 0.1393 - acc: 0.9562 - val_loss: 0.9702 - val_acc: 0.8140\n",
      "Epoch 16/20\n",
      "7982/7982 [==============================] - 1s 95us/step - loss: 0.1318 - acc: 0.9559 - val_loss: 1.0246 - val_acc: 0.8060\n",
      "Epoch 17/20\n",
      "7982/7982 [==============================] - 1s 97us/step - loss: 0.1219 - acc: 0.9582 - val_loss: 1.0297 - val_acc: 0.7950\n",
      "Epoch 18/20\n",
      "7982/7982 [==============================] - 1s 101us/step - loss: 0.1200 - acc: 0.9579 - val_loss: 1.0451 - val_acc: 0.8070\n",
      "Epoch 19/20\n",
      "7982/7982 [==============================] - 1s 96us/step - loss: 0.1138 - acc: 0.9595 - val_loss: 1.1009 - val_acc: 0.7980\n",
      "Epoch 20/20\n",
      "7982/7982 [==============================] - 1s 96us/step - loss: 0.1111 - acc: 0.9595 - val_loss: 1.0720 - val_acc: 0.8010\n"
     ]
    }
   ],
   "source": [
    "history = model.fit(partial_x_train, \n",
    "                   partial_y_train,\n",
    "                   epochs=20,\n",
    "                   batch_size=512,\n",
    "                   validation_data=(x_val,y_val))"
   ]
  },
  {
   "cell_type": "markdown",
   "metadata": {},
   "source": [
    "### 손실과 정확도 체크"
   ]
  },
  {
   "cell_type": "code",
   "execution_count": 20,
   "metadata": {},
   "outputs": [
    {
     "data": {
      "image/png": "[encoded data removed]",
      "text/plain": [
       "<Figure size 432x288 with 1 Axes>"
      ]
     },
     "metadata": {
      "needs_background": "light"
     },
     "output_type": "display_data"
    }
   ],
   "source": [
    "import matplotlib.pyplot as plt\n",
    "%matplotlib inline\n",
    "\n",
    "loss = history.history['loss']\n",
    "val_loss = history.history['val_loss']\n",
    "\n",
    "epochs = range(1, len(loss) + 1)\n",
    "\n",
    "plt.plot(epochs, loss, 'bo', label='Training loss')\n",
    "plt.plot(epochs, val_loss, 'b', label='Validation loss')\n",
    "plt.title('Training and Validation loss')\n",
    "plt.xlabel('Epochs')\n",
    "plt.ylabel('Loss')\n",
    "\n",
    "plt.legend()\n",
    "\n",
    "plt.show()"
   ]
  },
  {
   "cell_type": "code",
   "execution_count": 23,
   "metadata": {},
   "outputs": [
    {
     "data": {
      "image/png": "[encoded data removed]",
      "text/plain": [
       "<Figure size 432x288 with 1 Axes>"
      ]
     },
     "metadata": {
      "needs_background": "light"
     },
     "output_type": "display_data"
    }
   ],
   "source": [
    "plt.clf() #그래프 초기화 \n",
    "\n",
    "acc = history.history['acc']\n",
    "val_acc = history.history['val_acc']\n",
    "\n",
    "plt.plot(epochs, acc, 'bo', label='Training acc')\n",
    "plt.plot(epochs, val_acc, 'b', label='Validation acc')\n",
    "\n",
    "plt.title('Training and Validation Accuracy')\n",
    "plt.xlabel('Epochs')\n",
    "plt.ylabel('Accuracy')\n",
    "\n",
    "plt.legend()\n",
    "\n",
    "plt.show()\n"
   ]
  },
  {
   "cell_type": "markdown",
   "metadata": {},
   "source": [
    "### 모델 재구성\n",
    "\n",
    "9번째 epochs 부터 오버피팅 시작됨. 다시 훈련하자."
   ]
  },
  {
   "cell_type": "code",
   "execution_count": 25,
   "metadata": {},
   "outputs": [
    {
     "name": "stdout",
     "output_type": "stream",
     "text": [
      "Train on 7982 samples, validate on 1000 samples\n",
      "Epoch 1/9\n",
      "7982/7982 [==============================] - 1s 141us/step - loss: 2.6133 - acc: 0.4643 - val_loss: 1.7303 - val_acc: 0.6350\n",
      "Epoch 2/9\n",
      "7982/7982 [==============================] - 1s 94us/step - loss: 1.4080 - acc: 0.7086 - val_loss: 1.2757 - val_acc: 0.7310\n",
      "Epoch 3/9\n",
      "7982/7982 [==============================] - 1s 96us/step - loss: 1.0429 - acc: 0.7786 - val_loss: 1.1035 - val_acc: 0.7620\n",
      "Epoch 4/9\n",
      "7982/7982 [==============================] - 1s 94us/step - loss: 0.8181 - acc: 0.8314 - val_loss: 1.0272 - val_acc: 0.7830\n",
      "Epoch 5/9\n",
      "7982/7982 [==============================] - 1s 97us/step - loss: 0.6503 - acc: 0.8624 - val_loss: 0.9520 - val_acc: 0.8050\n",
      "Epoch 6/9\n",
      "7982/7982 [==============================] - 1s 97us/step - loss: 0.5290 - acc: 0.8903 - val_loss: 0.9202 - val_acc: 0.8110\n",
      "Epoch 7/9\n",
      "7982/7982 [==============================] - 1s 94us/step - loss: 0.4203 - acc: 0.9116 - val_loss: 0.8998 - val_acc: 0.8150\n",
      "Epoch 8/9\n",
      "7982/7982 [==============================] - 1s 95us/step - loss: 0.3475 - acc: 0.9256 - val_loss: 0.8902 - val_acc: 0.8150\n",
      "Epoch 9/9\n",
      "7982/7982 [==============================] - 1s 95us/step - loss: 0.2852 - acc: 0.9357 - val_loss: 0.8856 - val_acc: 0.8220\n",
      "2246/2246 [==============================] - 0s 123us/step\n"
     ]
    }
   ],
   "source": [
    "model = models.Sequential()\n",
    "model.add(layers.Dense(64, activation='relu', input_shape=(10000,)))\n",
    "model.add(layers.Dense(64, activation='relu'))\n",
    "model.add(layers.Dense(46, activation='softmax'))\n",
    "\n",
    "model.compile(optimizer='rmsprop', \n",
    "             loss='categorical_crossentropy', \n",
    "             metrics=['accuracy'])\n",
    "\n",
    "model.fit(partial_x_train, \n",
    "           partial_y_train,\n",
    "           epochs=9,\n",
    "           batch_size=512,\n",
    "           validation_data=(x_val,y_val))\n",
    "\n",
    "results = model.evaluate(x_test, one_hot_test_labels)"
   ]
  },
  {
   "cell_type": "code",
   "execution_count": 26,
   "metadata": {},
   "outputs": [
    {
     "data": {
      "text/plain": [
       "[0.9837482115676758, 0.7858414960459524]"
      ]
     },
     "execution_count": 26,
     "metadata": {},
     "output_type": "execute_result"
    }
   ],
   "source": [
    "results"
   ]
  },
  {
   "cell_type": "markdown",
   "metadata": {},
   "source": [
    "### 무작위 분류와 비교"
   ]
  },
  {
   "cell_type": "markdown",
   "metadata": {},
   "source": [
    "정확도 19 %"
   ]
  },
  {
   "cell_type": "code",
   "execution_count": 28,
   "metadata": {},
   "outputs": [
    {
     "data": {
      "text/plain": [
       "0.19056099732858414"
      ]
     },
     "execution_count": 28,
     "metadata": {},
     "output_type": "execute_result"
    }
   ],
   "source": [
    "import copy\n",
    "\n",
    "test_labels_copy = copy.copy(test_labels)\n",
    "np.random.shuffle(test_labels_copy)\n",
    "hits_array = np.array(test_labels) == np.array(test_labels_copy)\n",
    "float(np.sum(hits_array)) / len(test_labels)"
   ]
  },
  {
   "cell_type": "markdown",
   "metadata": {},
   "source": [
    "### 새로운 데이터 예측하기\n",
    "\n",
    "모델 객체의 predict 메서드는 46개의 토픽에 대한 확률 분포를 반환한다.\n",
    "테스트 데이터 전체에 대한 토픽을 예측한다."
   ]
  },
  {
   "cell_type": "code",
   "execution_count": 29,
   "metadata": {},
   "outputs": [],
   "source": [
    "predictions = model.predict(x_test)"
   ]
  },
  {
   "cell_type": "code",
   "execution_count": 30,
   "metadata": {},
   "outputs": [
    {
     "data": {
      "text/plain": [
       "(46,)"
      ]
     },
     "execution_count": 30,
     "metadata": {},
     "output_type": "execute_result"
    }
   ],
   "source": [
    "predictions[0].shape #각 항목의 길이"
   ]
  },
  {
   "cell_type": "code",
   "execution_count": 31,
   "metadata": {},
   "outputs": [
    {
     "data": {
      "text/plain": [
       "1.0000001"
      ]
     },
     "execution_count": 31,
     "metadata": {},
     "output_type": "execute_result"
    }
   ],
   "source": [
    "np.sum(predictions[0])"
   ]
  },
  {
   "cell_type": "code",
   "execution_count": 32,
   "metadata": {},
   "outputs": [
    {
     "data": {
      "text/plain": [
       "3"
      ]
     },
     "execution_count": 32,
     "metadata": {},
     "output_type": "execute_result"
    }
   ],
   "source": [
    "#가장 큰 값이 예측 클래스가 된다. 즉, 가장 확률이 높은 클래스\n",
    "np.argmax(predictions[0]) "
   ]
  },
  {
   "cell_type": "markdown",
   "metadata": {},
   "source": [
    "### 레이블과 손실을 다루는 다른 방법"
   ]
  },
  {
   "cell_type": "markdown",
   "metadata": {},
   "source": [
    "레이블 인코딩 : 정수 텐서로 변환"
   ]
  },
  {
   "cell_type": "code",
   "execution_count": 34,
   "metadata": {},
   "outputs": [],
   "source": [
    "y_train = np.array(train_labels)\n",
    "y_test = np.array(test_labels)"
   ]
  },
  {
   "cell_type": "markdown",
   "metadata": {},
   "source": [
    "이 방식을 사용하려면 손실 함수 하나만 바꾸면 된다. <br>\n",
    "categorical_crossentropy는 레이블이 범주형 인코딩이 되어있어야 하므로<br> 정수 레이블 사용 시, sparse_categorical_crossentropy를 사용해야 한다. <br> 두 손실 함수는 인터페이스만 다를 뿐 수학적으로 동일하다."
   ]
  },
  {
   "cell_type": "code",
   "execution_count": 35,
   "metadata": {},
   "outputs": [],
   "source": [
    "model.compile(optimizer='rmsprop', \n",
    "             loss='sparse_categorical_crossentropy', \n",
    "             metrics=['acc'])"
   ]
  },
  {
   "cell_type": "markdown",
   "metadata": {},
   "source": [
    "### 충분히 큰 중간층을 두어야 하는 이유\n",
    "\n",
    "마지막 출력이 46차원이므로 중간층의 히든 유닛(은닉 유닛)이 46개보다 많이 적어서는 안된다. 46차원보다 훨씬 작은 중간층(예를 들어 4차원)을 두면 정보의 병목 현상이 일어난다."
   ]
  },
  {
   "cell_type": "code",
   "execution_count": 50,
   "metadata": {},
   "outputs": [
    {
     "name": "stdout",
     "output_type": "stream",
     "text": [
      "Train on 7982 samples, validate on 1000 samples\n",
      "Epoch 1/9\n",
      "7982/7982 [==============================] - 2s 192us/step - loss: 3.0497 - acc: 0.2096 - val_loss: 2.4514 - val_acc: 0.4220\n",
      "Epoch 2/9\n",
      "7982/7982 [==============================] - 1s 125us/step - loss: 2.0394 - acc: 0.4662 - val_loss: 1.7695 - val_acc: 0.6070\n",
      "Epoch 3/9\n",
      "7982/7982 [==============================] - 1s 125us/step - loss: 1.5095 - acc: 0.6347 - val_loss: 1.4894 - val_acc: 0.6380\n",
      "Epoch 4/9\n",
      "7982/7982 [==============================] - 1s 128us/step - loss: 1.2562 - acc: 0.6984 - val_loss: 1.3973 - val_acc: 0.6600\n",
      "Epoch 5/9\n",
      "7982/7982 [==============================] - 1s 126us/step - loss: 1.0931 - acc: 0.7301 - val_loss: 1.3339 - val_acc: 0.6950\n",
      "Epoch 6/9\n",
      "7982/7982 [==============================] - 1s 127us/step - loss: 0.9743 - acc: 0.7612 - val_loss: 1.2919 - val_acc: 0.7040\n",
      "Epoch 7/9\n",
      "7982/7982 [==============================] - 1s 126us/step - loss: 0.8834 - acc: 0.7754 - val_loss: 1.2851 - val_acc: 0.7050\n",
      "Epoch 8/9\n",
      "7982/7982 [==============================] - 1s 128us/step - loss: 0.8115 - acc: 0.7848 - val_loss: 1.2905 - val_acc: 0.7060\n",
      "Epoch 9/9\n",
      "7982/7982 [==============================] - 1s 126us/step - loss: 0.7521 - acc: 0.7992 - val_loss: 1.3160 - val_acc: 0.7140\n",
      "2246/2246 [==============================] - 0s 107us/step\n"
     ]
    }
   ],
   "source": [
    "model = models.Sequential()\n",
    "model.add(layers.Dense(64, activation='relu', input_shape=(10000,)))\n",
    "model.add(layers.Dense(4, activation='relu'))\n",
    "model.add(layers.Dense(46, activation='softmax'))\n",
    "\n",
    "model.compile(optimizer='rmsprop', \n",
    "             loss='categorical_crossentropy', \n",
    "             metrics=['acc'])\n",
    "\n",
    "model.fit(partial_x_train, \n",
    "           partial_y_train,\n",
    "           epochs=9,\n",
    "           batch_size=128,\n",
    "           validation_data=(x_val,y_val))\n",
    "\n",
    "results = model.evaluate(x_test, one_hot_test_labels)"
   ]
  },
  {
   "cell_type": "markdown",
   "metadata": {},
   "source": [
    "정확도가 69%로 감소. 많은 정보(클래스 46개의 분할 초평면을 복원하기에 충분한 정보)를 중간층의 저차원 표현 공간으로 압축하려고 했기 때문이다. 이 신경망은 필요한 정보 대부분을 4차원 표현 안에 구겨 넣었지만 전부 넣지는 못했다. "
   ]
  },
  {
   "cell_type": "code",
   "execution_count": 51,
   "metadata": {},
   "outputs": [
    {
     "data": {
      "text/plain": [
       "[1.4469677815985065, 0.6967943009795191]"
      ]
     },
     "execution_count": 51,
     "metadata": {},
     "output_type": "execute_result"
    }
   ],
   "source": [
    "results"
   ]
  },
  {
   "cell_type": "markdown",
   "metadata": {},
   "source": [
    "### 추가 실험\n",
    "\n",
    "1. 더 크거나 작은 층 사용하기. 32개 유닛, 128개 유닛\n",
    "2. 여기서는 2개의 은닉층 사용함. 1개 또는 3개 은닉 층 사용"
   ]
  },
  {
   "cell_type": "markdown",
   "metadata": {},
   "source": [
    "유닛 32개"
   ]
  },
  {
   "cell_type": "code",
   "execution_count": 39,
   "metadata": {},
   "outputs": [
    {
     "name": "stdout",
     "output_type": "stream",
     "text": [
      "Train on 7982 samples, validate on 1000 samples\n",
      "Epoch 1/9\n",
      "7982/7982 [==============================] - 1s 145us/step - loss: 3.1650 - acc: 0.4481 - val_loss: 2.4918 - val_acc: 0.6300\n",
      "Epoch 2/9\n",
      "7982/7982 [==============================] - 1s 89us/step - loss: 2.0286 - acc: 0.6734 - val_loss: 1.7649 - val_acc: 0.6550\n",
      "Epoch 3/9\n",
      "7982/7982 [==============================] - 1s 89us/step - loss: 1.4786 - acc: 0.7086 - val_loss: 1.4471 - val_acc: 0.6910\n",
      "Epoch 4/9\n",
      "7982/7982 [==============================] - 1s 88us/step - loss: 1.1997 - acc: 0.7444 - val_loss: 1.2864 - val_acc: 0.7190\n",
      "Epoch 5/9\n",
      "7982/7982 [==============================] - 1s 90us/step - loss: 1.0213 - acc: 0.7719 - val_loss: 1.1878 - val_acc: 0.7360\n",
      "Epoch 6/9\n",
      "7982/7982 [==============================] - 1s 90us/step - loss: 0.8858 - acc: 0.8033 - val_loss: 1.1326 - val_acc: 0.7510\n",
      "Epoch 7/9\n",
      "7982/7982 [==============================] - 1s 90us/step - loss: 0.7712 - acc: 0.8306 - val_loss: 1.0683 - val_acc: 0.7670\n",
      "Epoch 8/9\n",
      "7982/7982 [==============================] - 1s 90us/step - loss: 0.6671 - acc: 0.8539 - val_loss: 1.0244 - val_acc: 0.7780\n",
      "Epoch 9/9\n",
      "7982/7982 [==============================] - 1s 90us/step - loss: 0.5783 - acc: 0.8733 - val_loss: 0.9949 - val_acc: 0.7920\n",
      "2246/2246 [==============================] - 0s 103us/step\n"
     ]
    }
   ],
   "source": [
    "model = models.Sequential()\n",
    "model.add(layers.Dense(32, activation='relu', input_shape=(10000,)))\n",
    "model.add(layers.Dense(32, activation='relu'))\n",
    "model.add(layers.Dense(46, activation='softmax'))\n",
    "\n",
    "model.compile(optimizer='rmsprop', \n",
    "             loss='categorical_crossentropy', \n",
    "             metrics=['acc'])\n",
    "\n",
    "model.fit(partial_x_train, \n",
    "           partial_y_train,\n",
    "           epochs=9,\n",
    "           batch_size=512,\n",
    "           validation_data=(x_val,y_val))\n",
    "\n",
    "results = model.evaluate(x_test, one_hot_test_labels)"
   ]
  },
  {
   "cell_type": "code",
   "execution_count": 40,
   "metadata": {},
   "outputs": [
    {
     "data": {
      "text/plain": [
       "[1.0497400951725187, 0.7622439893143366]"
      ]
     },
     "execution_count": 40,
     "metadata": {},
     "output_type": "execute_result"
    }
   ],
   "source": [
    "results"
   ]
  },
  {
   "cell_type": "markdown",
   "metadata": {},
   "source": [
    "유닛 128개"
   ]
  },
  {
   "cell_type": "code",
   "execution_count": 41,
   "metadata": {},
   "outputs": [
    {
     "name": "stdout",
     "output_type": "stream",
     "text": [
      "Train on 7982 samples, validate on 1000 samples\n",
      "Epoch 1/9\n",
      "7982/7982 [==============================] - 1s 174us/step - loss: 2.1292 - acc: 0.5610 - val_loss: 1.3582 - val_acc: 0.7020\n",
      "Epoch 2/9\n",
      "7982/7982 [==============================] - 1s 116us/step - loss: 1.0847 - acc: 0.7656 - val_loss: 1.1119 - val_acc: 0.7460\n",
      "Epoch 3/9\n",
      "7982/7982 [==============================] - 1s 113us/step - loss: 0.7609 - acc: 0.8338 - val_loss: 0.9964 - val_acc: 0.7900\n",
      "Epoch 4/9\n",
      "7982/7982 [==============================] - 1s 114us/step - loss: 0.5550 - acc: 0.8825 - val_loss: 0.9591 - val_acc: 0.8030\n",
      "Epoch 5/9\n",
      "7982/7982 [==============================] - 1s 118us/step - loss: 0.4113 - acc: 0.9146 - val_loss: 0.9089 - val_acc: 0.8110\n",
      "Epoch 6/9\n",
      "7982/7982 [==============================] - 1s 113us/step - loss: 0.3026 - acc: 0.9349 - val_loss: 0.9074 - val_acc: 0.8080\n",
      "Epoch 7/9\n",
      "7982/7982 [==============================] - 1s 114us/step - loss: 0.2441 - acc: 0.9436 - val_loss: 0.9461 - val_acc: 0.8100\n",
      "Epoch 8/9\n",
      "7982/7982 [==============================] - 1s 114us/step - loss: 0.2001 - acc: 0.9510 - val_loss: 0.9510 - val_acc: 0.8170\n",
      "Epoch 9/9\n",
      "7982/7982 [==============================] - 1s 114us/step - loss: 0.1779 - acc: 0.9518 - val_loss: 1.0224 - val_acc: 0.8000\n",
      "2246/2246 [==============================] - 0s 112us/step\n"
     ]
    }
   ],
   "source": [
    "model = models.Sequential()\n",
    "model.add(layers.Dense(128, activation='relu', input_shape=(10000,)))\n",
    "model.add(layers.Dense(128, activation='relu'))\n",
    "model.add(layers.Dense(46, activation='softmax'))\n",
    "\n",
    "model.compile(optimizer='rmsprop', \n",
    "             loss='categorical_crossentropy', \n",
    "             metrics=['acc'])\n",
    "\n",
    "model.fit(partial_x_train, \n",
    "           partial_y_train,\n",
    "           epochs=9,\n",
    "           batch_size=512,\n",
    "           validation_data=(x_val,y_val))\n",
    "\n",
    "results = model.evaluate(x_test, one_hot_test_labels)"
   ]
  },
  {
   "cell_type": "code",
   "execution_count": 42,
   "metadata": {},
   "outputs": [
    {
     "data": {
      "text/plain": [
       "[1.1203305939957169, 0.772039180792344]"
      ]
     },
     "execution_count": 42,
     "metadata": {},
     "output_type": "execute_result"
    }
   ],
   "source": [
    "results"
   ]
  },
  {
   "cell_type": "markdown",
   "metadata": {},
   "source": [
    "은닉층 1개"
   ]
  },
  {
   "cell_type": "code",
   "execution_count": 45,
   "metadata": {},
   "outputs": [
    {
     "name": "stdout",
     "output_type": "stream",
     "text": [
      "Train on 7982 samples, validate on 1000 samples\n",
      "Epoch 1/9\n",
      "7982/7982 [==============================] - 1s 151us/step - loss: 2.4975 - acc: 0.5649 - val_loss: 1.7439 - val_acc: 0.6520\n",
      "Epoch 2/9\n",
      "7982/7982 [==============================] - 1s 97us/step - loss: 1.4276 - acc: 0.7196 - val_loss: 1.3166 - val_acc: 0.7210\n",
      "Epoch 3/9\n",
      "7982/7982 [==============================] - 1s 98us/step - loss: 1.0490 - acc: 0.7861 - val_loss: 1.1205 - val_acc: 0.7700\n",
      "Epoch 4/9\n",
      "7982/7982 [==============================] - 1s 99us/step - loss: 0.8225 - acc: 0.8348 - val_loss: 1.0051 - val_acc: 0.7920\n",
      "Epoch 5/9\n",
      "7982/7982 [==============================] - 1s 97us/step - loss: 0.6641 - acc: 0.8730 - val_loss: 0.9360 - val_acc: 0.8040\n",
      "Epoch 6/9\n",
      "7982/7982 [==============================] - 1s 94us/step - loss: 0.5414 - acc: 0.8933 - val_loss: 0.8922 - val_acc: 0.8170\n",
      "Epoch 7/9\n",
      "7982/7982 [==============================] - 1s 94us/step - loss: 0.4466 - acc: 0.9097 - val_loss: 0.8564 - val_acc: 0.8200\n",
      "Epoch 8/9\n",
      "7982/7982 [==============================] - 1s 96us/step - loss: 0.3732 - acc: 0.9238 - val_loss: 0.8352 - val_acc: 0.8180\n",
      "Epoch 9/9\n",
      "7982/7982 [==============================] - 1s 98us/step - loss: 0.3124 - acc: 0.9360 - val_loss: 0.8363 - val_acc: 0.8140\n",
      "2246/2246 [==============================] - 0s 103us/step\n"
     ]
    }
   ],
   "source": [
    "model = models.Sequential()\n",
    "model.add(layers.Dense(64, activation='relu', input_shape=(10000,)))\n",
    "model.add(layers.Dense(46, activation='softmax'))\n",
    "\n",
    "model.compile(optimizer='rmsprop', \n",
    "             loss='categorical_crossentropy', \n",
    "             metrics=['acc'])\n",
    "\n",
    "model.fit(partial_x_train, \n",
    "           partial_y_train,\n",
    "           epochs=9,\n",
    "           batch_size=512,\n",
    "           validation_data=(x_val,y_val))\n",
    "\n",
    "results = model.evaluate(x_test, one_hot_test_labels)"
   ]
  },
  {
   "cell_type": "code",
   "execution_count": 46,
   "metadata": {},
   "outputs": [
    {
     "data": {
      "text/plain": [
       "[0.9138101996424361, 0.7960819234194123]"
      ]
     },
     "execution_count": 46,
     "metadata": {},
     "output_type": "execute_result"
    }
   ],
   "source": [
    "results"
   ]
  },
  {
   "cell_type": "markdown",
   "metadata": {},
   "source": [
    "은닉층 3개"
   ]
  },
  {
   "cell_type": "code",
   "execution_count": 48,
   "metadata": {},
   "outputs": [
    {
     "name": "stdout",
     "output_type": "stream",
     "text": [
      "Train on 7982 samples, validate on 1000 samples\n",
      "Epoch 1/9\n",
      "7982/7982 [==============================] - 1s 173us/step - loss: 2.5774 - acc: 0.5070 - val_loss: 1.6912 - val_acc: 0.6430\n",
      "Epoch 2/9\n",
      "7982/7982 [==============================] - 1s 98us/step - loss: 1.4234 - acc: 0.7003 - val_loss: 1.3504 - val_acc: 0.7010\n",
      "Epoch 3/9\n",
      "7982/7982 [==============================] - 1s 98us/step - loss: 1.0842 - acc: 0.7582 - val_loss: 1.1659 - val_acc: 0.7470\n",
      "Epoch 4/9\n",
      "7982/7982 [==============================] - 1s 95us/step - loss: 0.8636 - acc: 0.8064 - val_loss: 1.0720 - val_acc: 0.7650\n",
      "Epoch 5/9\n",
      "7982/7982 [==============================] - 1s 98us/step - loss: 0.6932 - acc: 0.8428 - val_loss: 1.0001 - val_acc: 0.7850\n",
      "Epoch 6/9\n",
      "7982/7982 [==============================] - 1s 98us/step - loss: 0.5600 - acc: 0.8752 - val_loss: 0.9903 - val_acc: 0.8070\n",
      "Epoch 7/9\n",
      "7982/7982 [==============================] - 1s 95us/step - loss: 0.4421 - acc: 0.9035 - val_loss: 1.0697 - val_acc: 0.7680\n",
      "Epoch 8/9\n",
      "7982/7982 [==============================] - 1s 96us/step - loss: 0.3736 - acc: 0.9188 - val_loss: 0.9355 - val_acc: 0.8200\n",
      "Epoch 9/9\n",
      "7982/7982 [==============================] - 1s 97us/step - loss: 0.3053 - acc: 0.9336 - val_loss: 0.9627 - val_acc: 0.8050\n",
      "2246/2246 [==============================] - 0s 108us/step\n"
     ]
    }
   ],
   "source": [
    "model = models.Sequential()\n",
    "model.add(layers.Dense(64, activation='relu', input_shape=(10000,)))\n",
    "model.add(layers.Dense(64, activation='relu'))\n",
    "model.add(layers.Dense(64, activation='relu'))\n",
    "model.add(layers.Dense(46, activation='softmax'))\n",
    "\n",
    "model.compile(optimizer='rmsprop', \n",
    "             loss='categorical_crossentropy', \n",
    "             metrics=['acc'])\n",
    "\n",
    "model.fit(partial_x_train, \n",
    "           partial_y_train,\n",
    "           epochs=9,\n",
    "           batch_size=512,\n",
    "           validation_data=(x_val,y_val))\n",
    "\n",
    "results = model.evaluate(x_test, one_hot_test_labels)"
   ]
  },
  {
   "cell_type": "code",
   "execution_count": 49,
   "metadata": {},
   "outputs": [
    {
     "data": {
      "text/plain": [
       "[1.0908934017004759, 0.7769367765446168]"
      ]
     },
     "execution_count": 49,
     "metadata": {},
     "output_type": "execute_result"
    }
   ],
   "source": [
    "results"
   ]
  },
  {
   "cell_type": "markdown",
   "metadata": {},
   "source": [
    "# 정리"
   ]
  },
  {
   "cell_type": "markdown",
   "metadata": {},
   "source": [
    "1. N개 클래스로 데이터를 분류하려면 네트워크의 마지막 Dense 층 크기는 N이어야 한다.\n",
    "\n",
    "<br>\n",
    "\n",
    "2. 단일 레이블, 다중 분류 문제(클래스는 여러개이지만 매칭되는 레이블은 하나인 것)에서는...\n",
    "    - N개의 클래스에 대한 확률 분포를 출력하기 위해 softmax 활성화 함수를 사용해야 한다.\n",
    "    - 범주형 크로스엔트로피를 사용해야 한다. 모델이 출력한 확률 분포와 타깃 분포 사이의 거리를 최소화한다.\n",
    "<br>\n",
    "\n",
    "\n",
    "※다중 레이블, 다중 분류는 '클래스가 여러 개이며, 매칭될 수 있는 레이블도 여러 개인 것'이다.\n",
    "<br>\n",
    "<br>\n",
    "\n",
    "3. 다중 분류에서 레이블을 다루는 두 가지 방법 \n",
    "    - 레이블을 범주형 인코딩(또는 원-핫 인코딩)으로 인코딩하고 범주형 크로스엔트로피 손실 함수 사용\n",
    "    - 레이블을 정수로 인코딩하고 sparse 범주형 크로스엔트로피 사용\n",
    "<br><br>\n",
    "\n",
    "\n",
    "4. 많은 수의 범주를 분류할 때 중간층의 유닛 수가 너무 작으면 네트워크에 정보 병목이 생기므로 충분히 크게 한다."
   ]
  },
  {
   "cell_type": "code",
   "execution_count": null,
   "metadata": {},
   "outputs": [],
   "source": []
  }
 ],
 "metadata": {
  "kernelspec": {
   "display_name": "python3.6",
   "language": "python",
   "name": "py36"
  },
  "language_info": {
   "codemirror_mode": {
    "name": "ipython",
    "version": 3
   },
   "file_extension": ".py",
   "mimetype": "text/x-python",
   "name": "python",
   "nbconvert_exporter": "python",
   "pygments_lexer": "ipython3",
   "version": "3.6.8"
  }
 },
 "nbformat": 4,
 "nbformat_minor": 2
}
