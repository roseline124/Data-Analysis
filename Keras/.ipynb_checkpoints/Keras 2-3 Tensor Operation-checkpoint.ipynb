{
 "cells": [
  {
   "cell_type": "markdown",
   "metadata": {},
   "source": [
    "# <font color=\"#ff8104\">텐서 연산</font>"
   ]
  },
  {
   "cell_type": "markdown",
   "metadata": {},
   "source": [
    "### 텐서 연산\n",
    "\n",
    "케라스의 층은 다음과 같이 생성\n",
    "\n",
    "`keras.layers.Dense(512, activation='relu')`"
   ]
  },
  {
   "cell_type": "markdown",
   "metadata": {},
   "source": [
    "### 코드로 나타내면?\n",
    "\n",
    "이는 다음 코드와 같다.\n",
    "\n",
    "`output = relu(dot(W, input) + b)`"
   ]
  },
  {
   "cell_type": "markdown",
   "metadata": {},
   "source": [
    "### 연산 과정\n",
    "\n",
    "1. `dot(W, input)`은 입력 텐서와 텐서 W 사이의 점곱 결과를 반환한다.<br>\n",
    "텐서 점곱이란? 입력 텐서들의 원소들을 곱해 결합하는 것 <br><br>\n",
    "\n",
    "2. 그런 뒤, 점곱의 결과인 2D 텐서와 벡터 b를 더한다. 크기가 다른 두 텐서를 연산하기 위해 브로드캐스팅을 한다.  <br><br>\n",
    "\n",
    "3. relu는 값이 0보다 크면 그 값을, 0보다 작으면 0을 반환한다. "
   ]
  },
  {
   "cell_type": "markdown",
   "metadata": {},
   "source": [
    "### 2D 텐서와 벡터는 크기가 다른데 어떻게 연산할까?\n",
    "\n",
    "작은 텐서가 큰 텐서의 크기에 맞춰서 브로드 캐스팅된다. \n",
    "\n",
    "1. 큰 텐서의 ndim에 맞게 작은 텐서에 '브로드캐스팅'이라 불리는 축이 추가됨 <br><br>\n",
    "2. 작은 텐서가 새 축을 따라 큰 텐서의 크기에 맞도록 반복된다."
   ]
  },
  {
   "cell_type": "markdown",
   "metadata": {},
   "source": [
    "![shape](images/shape.png \"shape\")\n",
    "\n",
    "x의 열과 y의 행이 같아야 한다."
   ]
  },
  {
   "cell_type": "markdown",
   "metadata": {},
   "source": [
    "### 텐서 크기 변환 reshape()\n",
    "\n",
    "특정 크기에 맞게 열과 행을 재배열한다. "
   ]
  },
  {
   "cell_type": "code",
   "execution_count": null,
   "metadata": {},
   "outputs": [],
   "source": []
  }
 ],
 "metadata": {
  "kernelspec": {
   "display_name": "python3.6",
   "language": "python",
   "name": "py36"
  },
  "language_info": {
   "codemirror_mode": {
    "name": "ipython",
    "version": 3
   },
   "file_extension": ".py",
   "mimetype": "text/x-python",
   "name": "python",
   "nbconvert_exporter": "python",
   "pygments_lexer": "ipython3",
   "version": "3.6.8"
  }
 },
 "nbformat": 4,
 "nbformat_minor": 2
}
