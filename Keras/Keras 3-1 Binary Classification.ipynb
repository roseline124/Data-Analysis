{
 "cells": [
  {
   "cell_type": "markdown",
   "metadata": {},
   "source": [
    "# <font color=\"#ff8104\">영화 리뷰 분류 - 이진 분류 예제</font>"
   ]
  },
  {
   "cell_type": "code",
   "execution_count": 1,
   "metadata": {},
   "outputs": [],
   "source": [
    "from keras.datasets import imdb"
   ]
  },
  {
   "cell_type": "markdown",
   "metadata": {},
   "source": [
    "`num_words = 10000` : 최빈 단어 1만 개만 사용하겠다는 의미\n",
    "`train_data, test_data` : 리뷰의 목록, 각 리뷰는 단어 인덱스의 리스트. \\[5, 2185, 3, ...\\]\n",
    "`train_labels, test_labes` : 부정을 나타내는 0, 긍정을 나타내는 1의 리스트"
   ]
  },
  {
   "cell_type": "code",
   "execution_count": 2,
   "metadata": {
    "scrolled": true
   },
   "outputs": [
    {
     "name": "stdout",
     "output_type": "stream",
     "text": [
      "Downloading data from https://s3.amazonaws.com/text-datasets/imdb.npz\n",
      "17465344/17464789 [==============================] - 16s 1us/step\n"
     ]
    }
   ],
   "source": [
    "(train_data, train_labels), (test_data, test_labels) = imdb.load_data(num_words=10000)"
   ]
  },
  {
   "cell_type": "code",
   "execution_count": 3,
   "metadata": {},
   "outputs": [
    {
     "data": {
      "text/plain": [
       "[1,\n",
       " 14,\n",
       " 22,\n",
       " 16,\n",
       " 43,\n",
       " 530,\n",
       " 973,\n",
       " 1622,\n",
       " 1385,\n",
       " 65,\n",
       " 458,\n",
       " 4468,\n",
       " 66,\n",
       " 3941,\n",
       " 4,\n",
       " 173,\n",
       " 36,\n",
       " 256,\n",
       " 5,\n",
       " 25,\n",
       " 100,\n",
       " 43,\n",
       " 838,\n",
       " 112,\n",
       " 50,\n",
       " 670,\n",
       " 2,\n",
       " 9,\n",
       " 35,\n",
       " 480,\n",
       " 284,\n",
       " 5,\n",
       " 150,\n",
       " 4,\n",
       " 172,\n",
       " 112,\n",
       " 167,\n",
       " 2,\n",
       " 336,\n",
       " 385,\n",
       " 39,\n",
       " 4,\n",
       " 172,\n",
       " 4536,\n",
       " 1111,\n",
       " 17,\n",
       " 546,\n",
       " 38,\n",
       " 13,\n",
       " 447,\n",
       " 4,\n",
       " 192,\n",
       " 50,\n",
       " 16,\n",
       " 6,\n",
       " 147,\n",
       " 2025,\n",
       " 19,\n",
       " 14,\n",
       " 22,\n",
       " 4,\n",
       " 1920,\n",
       " 4613,\n",
       " 469,\n",
       " 4,\n",
       " 22,\n",
       " 71,\n",
       " 87,\n",
       " 12,\n",
       " 16,\n",
       " 43,\n",
       " 530,\n",
       " 38,\n",
       " 76,\n",
       " 15,\n",
       " 13,\n",
       " 1247,\n",
       " 4,\n",
       " 22,\n",
       " 17,\n",
       " 515,\n",
       " 17,\n",
       " 12,\n",
       " 16,\n",
       " 626,\n",
       " 18,\n",
       " 2,\n",
       " 5,\n",
       " 62,\n",
       " 386,\n",
       " 12,\n",
       " 8,\n",
       " 316,\n",
       " 8,\n",
       " 106,\n",
       " 5,\n",
       " 4,\n",
       " 2223,\n",
       " 5244,\n",
       " 16,\n",
       " 480,\n",
       " 66,\n",
       " 3785,\n",
       " 33,\n",
       " 4,\n",
       " 130,\n",
       " 12,\n",
       " 16,\n",
       " 38,\n",
       " 619,\n",
       " 5,\n",
       " 25,\n",
       " 124,\n",
       " 51,\n",
       " 36,\n",
       " 135,\n",
       " 48,\n",
       " 25,\n",
       " 1415,\n",
       " 33,\n",
       " 6,\n",
       " 22,\n",
       " 12,\n",
       " 215,\n",
       " 28,\n",
       " 77,\n",
       " 52,\n",
       " 5,\n",
       " 14,\n",
       " 407,\n",
       " 16,\n",
       " 82,\n",
       " 2,\n",
       " 8,\n",
       " 4,\n",
       " 107,\n",
       " 117,\n",
       " 5952,\n",
       " 15,\n",
       " 256,\n",
       " 4,\n",
       " 2,\n",
       " 7,\n",
       " 3766,\n",
       " 5,\n",
       " 723,\n",
       " 36,\n",
       " 71,\n",
       " 43,\n",
       " 530,\n",
       " 476,\n",
       " 26,\n",
       " 400,\n",
       " 317,\n",
       " 46,\n",
       " 7,\n",
       " 4,\n",
       " 2,\n",
       " 1029,\n",
       " 13,\n",
       " 104,\n",
       " 88,\n",
       " 4,\n",
       " 381,\n",
       " 15,\n",
       " 297,\n",
       " 98,\n",
       " 32,\n",
       " 2071,\n",
       " 56,\n",
       " 26,\n",
       " 141,\n",
       " 6,\n",
       " 194,\n",
       " 7486,\n",
       " 18,\n",
       " 4,\n",
       " 226,\n",
       " 22,\n",
       " 21,\n",
       " 134,\n",
       " 476,\n",
       " 26,\n",
       " 480,\n",
       " 5,\n",
       " 144,\n",
       " 30,\n",
       " 5535,\n",
       " 18,\n",
       " 51,\n",
       " 36,\n",
       " 28,\n",
       " 224,\n",
       " 92,\n",
       " 25,\n",
       " 104,\n",
       " 4,\n",
       " 226,\n",
       " 65,\n",
       " 16,\n",
       " 38,\n",
       " 1334,\n",
       " 88,\n",
       " 12,\n",
       " 16,\n",
       " 283,\n",
       " 5,\n",
       " 16,\n",
       " 4472,\n",
       " 113,\n",
       " 103,\n",
       " 32,\n",
       " 15,\n",
       " 16,\n",
       " 5345,\n",
       " 19,\n",
       " 178,\n",
       " 32]"
      ]
     },
     "execution_count": 3,
     "metadata": {},
     "output_type": "execute_result"
    }
   ],
   "source": [
    "train_data[0]"
   ]
  },
  {
   "cell_type": "code",
   "execution_count": 5,
   "metadata": {},
   "outputs": [
    {
     "data": {
      "text/plain": [
       "1"
      ]
     },
     "execution_count": 5,
     "metadata": {},
     "output_type": "execute_result"
    }
   ],
   "source": [
    "train_labels[0]"
   ]
  },
  {
   "cell_type": "markdown",
   "metadata": {},
   "source": [
    "단어의 최고 인덱스는 9999을 넘지 않는다(1만 개로 제한했기 때문에)"
   ]
  },
  {
   "cell_type": "code",
   "execution_count": 6,
   "metadata": {},
   "outputs": [
    {
     "data": {
      "text/plain": [
       "9999"
      ]
     },
     "execution_count": 6,
     "metadata": {},
     "output_type": "execute_result"
    }
   ],
   "source": [
    "max([max(seq) for seq in train_data])"
   ]
  },
  {
   "cell_type": "markdown",
   "metadata": {},
   "source": [
    "### 원래 영단어로는 어떻게 바꿀까?"
   ]
  },
  {
   "cell_type": "markdown",
   "metadata": {},
   "source": [
    "`i-3` : word_index에서 0, 1, 2 각각은 패딩, 문서 시작, 사전에 없는 단어를 처리하기 위한 인덱스이므로 3을 뺀다."
   ]
  },
  {
   "cell_type": "code",
   "execution_count": 21,
   "metadata": {},
   "outputs": [],
   "source": [
    "#word_index : 단어와 정수 인덱스를 매핑한 딕셔너리\n",
    "word_index = imdb.get_word_index() \n",
    "reverse_word_index = dict([ (v, k) for (k, v) in word_index.items() ])\n",
    "\n",
    "decode_review = ' '.join( [reverse_word_index.get(i-3, '?') for i in train_data[0] ] )"
   ]
  },
  {
   "cell_type": "code",
   "execution_count": 22,
   "metadata": {},
   "outputs": [
    {
     "data": {
      "text/plain": [
       "\"? this film was just brilliant casting location scenery story direction everyone's really suited the part they played and you could just imagine being there robert ? is an amazing actor and now the same being director ? father came from the same scottish island as myself so i loved the fact there was a real connection with this film the witty remarks throughout the film were great it was just brilliant so much that i bought the film as soon as it was released for ? and would recommend it to everyone to watch and the fly fishing was amazing really cried at the end it was so sad and you know what they say if you cry at a film it must have been good and this definitely was also ? to the two little boy's that played the ? of norman and paul they were just brilliant children are often left out of the ? list i think because the stars that play them all grown up are such a big profile for the whole film but these children are amazing and should be praised for what they have done don't you think the whole story was so lovely because it was true and was someone's life after all that was shared with us all\""
      ]
     },
     "execution_count": 22,
     "metadata": {},
     "output_type": "execute_result"
    }
   ],
   "source": [
    "decode_review"
   ]
  },
  {
   "cell_type": "markdown",
   "metadata": {},
   "source": [
    "### 리스트를 텐서로 바꾸기 \n",
    "\n",
    "신경망에 숫자 리스트를 주입할 수 없다. 리스트를 텐서로 바꾼다.\n",
    "\n",
    "**리스트를 텐서로 바꾸는 2가지 방법**\n",
    "<hr>\n",
    "\n",
    "\n",
    "1. 같은 길이가 되도록 리스트에 패딩 추가. \n",
    "2. (samples, sequence_length) 크기의 정수 텐서로 변환 \n",
    "3. 정수 텐서를 다룰 층을 신경망의 첫번째 층으로 사용(Embedding layer)\n",
    "\n",
    "\n",
    "<hr>\n",
    "\n",
    "1. 리스트를 원-핫 인코딩(one-hot encoding)하여 0과 1의 벡터로 변환\n",
    "- ex) \\[3, 5\\]를 인덱스 3과 5의 위치는 1이고 그 외는 모두 0인 10000차원의 벡터로 각각 변환\n",
    "2. 부동 소수 벡터 데이터를 다룰 Dense 층을 신경망의 첫번째 층으로 사용\n",
    "\n",
    "우리는 두 번째 방식을 사용한다."
   ]
  },
  {
   "cell_type": "code",
   "execution_count": 24,
   "metadata": {},
   "outputs": [],
   "source": [
    "import numpy as np\n",
    "\n",
    "def vectorize_sequence(seq, dimension=10000) :\n",
    "    #크기가 (len(seq), dimension )이고 모든 원소가 0인 행렬 \n",
    "    result = np.zeros((len(seq), dimension ))\n",
    "    \n",
    "    for i, s in enumerate(seq) :\n",
    "        result[i, s] = 1. #특정 인덱스의 위치를 1로 만든다.\n",
    "        \n",
    "    return result"
   ]
  },
  {
   "cell_type": "markdown",
   "metadata": {},
   "source": [
    "**훈련 데이터 벡터화**"
   ]
  },
  {
   "cell_type": "code",
   "execution_count": 25,
   "metadata": {},
   "outputs": [],
   "source": [
    "x_train = vectorize_sequence(train_data)\n",
    "x_test = vectorize_sequence(test_data)"
   ]
  },
  {
   "cell_type": "code",
   "execution_count": 26,
   "metadata": {},
   "outputs": [
    {
     "data": {
      "text/plain": [
       "array([0., 1., 1., ..., 0., 0., 0.])"
      ]
     },
     "execution_count": 26,
     "metadata": {},
     "output_type": "execute_result"
    }
   ],
   "source": [
    "x_train[0]"
   ]
  },
  {
   "cell_type": "markdown",
   "metadata": {},
   "source": [
    "**레이블 벡터화**"
   ]
  },
  {
   "cell_type": "code",
   "execution_count": 27,
   "metadata": {},
   "outputs": [],
   "source": [
    "y_train = np.asarray(train_labels).astype('float32')\n",
    "y_test = np.asarray(test_labels).astype('float32')"
   ]
  },
  {
   "cell_type": "code",
   "execution_count": 28,
   "metadata": {},
   "outputs": [
    {
     "data": {
      "text/plain": [
       "1.0"
      ]
     },
     "execution_count": 28,
     "metadata": {},
     "output_type": "execute_result"
    }
   ],
   "source": [
    "y_train[0]"
   ]
  },
  {
   "cell_type": "markdown",
   "metadata": {},
   "source": [
    "### 신경망 모델 만들기\n",
    "\n",
    "입력 데이터는 벡터, 레이블은 스칼라 (1 or 0) <br>\n",
    "은닉 유닛 : 은닉층(입력값과 출력값 사이에 존재하는 무수히 많은 층)에 있는 하나하나의 유닛들\n",
    "\n",
    "<hr>\n",
    "\n",
    "Dense 층을 쌓을 때 고려할 것 2가지\n",
    "\n",
    "1. 층의 수 : 얼마나 많은 층을 사용할 것인가 \n",
    "2. 유닛의 수 : 각 층에 얼마나 많은 유닛을 둘 것인가 "
   ]
  },
  {
   "cell_type": "markdown",
   "metadata": {},
   "source": [
    "### 활성화 함수\n",
    "\n",
    "**※활성화 함수가 필요한 이유** : 활성화 함수가 없다면 신경망 층은 (선형 연산인) 점곱과 덧셈 2개로 구성된다. 선형 연산의 결과를 다시 다음 층의 입력값으로 주게 되면, 그 다음층의 결과값도 선형 연산이 되어 층을 여러 개로 구성하는 의미가 없어진다. 그래서 은닉층의 결과를 풍부하게 만들기 위해서는 활성화 함수가 필요하다. \n",
    "\n",
    "중간에 있는 은닉 층에는 활성화 함수 relu를 사용\n",
    "\n",
    "마지막층은 확률을 출력하기 위해서(1에 가까우면 리뷰가 긍정일 가능성이 높다) 시그모이드 함수 사용.\n",
    "\n",
    "※relu : 음수를 0으로 만드는 함수 <br>\n",
    "※시그모이드 : 임의의 값을 \\[0,1\\] 사이로 압축한다.\n"
   ]
  },
  {
   "cell_type": "code",
   "execution_count": 29,
   "metadata": {},
   "outputs": [],
   "source": [
    "from keras import models\n",
    "from keras import layers\n",
    "\n",
    "model = models.Sequential()\n",
    "model.add(layers.Dense(16, activation='relu', input_shape=(10000,)))\n",
    "model.add(layers.Dense(16, activation='relu'))\n",
    "model.add(layers.Dense(1, activation='sigmoid'))"
   ]
  },
  {
   "cell_type": "markdown",
   "metadata": {},
   "source": [
    "### 모델 컴파일하기\n",
    "\n",
    "마지막으로 손실 함수(오차를 구하는 함수)와 옵티마이저를 선택한다.\n",
    "\n",
    "여기서는 `binary_crossentropy` 손실이 적합하다.\n",
    "확률을 출력하는 모델을 사용할 때는 크로스엔트로피가 최선의 선택이다.\n",
    "\n",
    "※크로스엔트로피 : 확률 분포 간의 차이를 측정한다. 여기서는 원본 분포와 예측 분포 사이를 측정한다.\n",
    "\n",
    "`mean_squared_error`, `mean_absolute_error`: 회귀 문제에 사용되는 대표적인 손실 함수"
   ]
  },
  {
   "cell_type": "code",
   "execution_count": 30,
   "metadata": {},
   "outputs": [],
   "source": [
    "model.compile(optimizer='rmsprop',\n",
    "             loss='binary_crossentropy',\n",
    "             metrics=['accuracy'])"
   ]
  },
  {
   "cell_type": "markdown",
   "metadata": {},
   "source": [
    "#### 옵티마이저의 매개변수를 바꾸는 경우\n",
    "<pre><code>\n",
    "from keras import optimizers\n",
    "model.compile(optimizer=optimizers.RMSprop(lr=0.001),\n",
    "              loss='binary_crossentropy',\n",
    "              metrics=['accuracy'])\n",
    "</code></pre>\n",
    "\n",
    "\n",
    "#### 자신만의 손실 함수, 측정 함수를 전달해야할 경우\n",
    "<pre><code>\n",
    "from keras import losses\n",
    "from keras import metrics\n",
    "\n",
    "model.compile(optimizer=optimizers.RMSprop(lr=0.001),\n",
    "              loss=losses.binary_crossentropy,\n",
    "              metrics=[metrics.binary_accuracy])\n",
    "</code></pre>\n"
   ]
  },
  {
   "cell_type": "markdown",
   "metadata": {},
   "source": [
    "### 훈련 검증을 위한 데이터 세트 떼어내기\n",
    "\n",
    "훈련하는 동안 처음 본 데이터에 대한 모델의 정확도를 측정하기 위해 <br>\n",
    "원본 훈련 데이터에서 10000 샘플을 떼어 검증세트를 만든다."
   ]
  },
  {
   "cell_type": "code",
   "execution_count": 31,
   "metadata": {},
   "outputs": [],
   "source": [
    "x_val = x_train[:10000]\n",
    "partial_x_train = x_train[10000:]\n",
    "\n",
    "y_val = y_train[:10000]\n",
    "partial_y_train = y_train[10000:]"
   ]
  },
  {
   "cell_type": "markdown",
   "metadata": {},
   "source": [
    "### 모델 훈련하기\n",
    "\n",
    "512개의 샘플 = 1개의 미니 배치\n",
    "20번의 에포크(횟수)만큼 훈련시킨다. \n",
    "\n",
    "동시에 따로 떼어놓은 1만 개의 샘플에서 손실, 정확도를 측정해야 하므로, validation_data 매개변수에 위에서 만든 검증 데이터를 전달한다."
   ]
  },
  {
   "cell_type": "code",
   "execution_count": 32,
   "metadata": {},
   "outputs": [
    {
     "name": "stdout",
     "output_type": "stream",
     "text": [
      "Train on 15000 samples, validate on 10000 samples\n",
      "Epoch 1/20\n",
      "15000/15000 [==============================] - 3s 178us/step - loss: 0.4976 - acc: 0.7948 - val_loss: 0.3716 - val_acc: 0.8720\n",
      "Epoch 2/20\n",
      "15000/15000 [==============================] - 2s 122us/step - loss: 0.2958 - acc: 0.9046 - val_loss: 0.2990 - val_acc: 0.8906\n",
      "Epoch 3/20\n",
      "15000/15000 [==============================] - 2s 120us/step - loss: 0.2160 - acc: 0.9284 - val_loss: 0.3089 - val_acc: 0.8712\n",
      "Epoch 4/20\n",
      "15000/15000 [==============================] - 2s 122us/step - loss: 0.1741 - acc: 0.9437 - val_loss: 0.2829 - val_acc: 0.8844\n",
      "Epoch 5/20\n",
      "15000/15000 [==============================] - 2s 121us/step - loss: 0.1414 - acc: 0.9543 - val_loss: 0.2863 - val_acc: 0.8852\n",
      "Epoch 6/20\n",
      "15000/15000 [==============================] - 2s 126us/step - loss: 0.1143 - acc: 0.9653 - val_loss: 0.3089 - val_acc: 0.8808\n",
      "Epoch 7/20\n",
      "15000/15000 [==============================] - 2s 142us/step - loss: 0.0970 - acc: 0.9709 - val_loss: 0.3148 - val_acc: 0.8843\n",
      "Epoch 8/20\n",
      "15000/15000 [==============================] - 2s 142us/step - loss: 0.0803 - acc: 0.9765 - val_loss: 0.3870 - val_acc: 0.8661\n",
      "Epoch 9/20\n",
      "15000/15000 [==============================] - 2s 144us/step - loss: 0.0658 - acc: 0.9819 - val_loss: 0.3650 - val_acc: 0.8778\n",
      "Epoch 10/20\n",
      "15000/15000 [==============================] - 2s 145us/step - loss: 0.0554 - acc: 0.9851 - val_loss: 0.3864 - val_acc: 0.8792\n",
      "Epoch 11/20\n",
      "15000/15000 [==============================] - 2s 124us/step - loss: 0.0455 - acc: 0.9887 - val_loss: 0.4181 - val_acc: 0.8762\n",
      "Epoch 12/20\n",
      "15000/15000 [==============================] - 2s 122us/step - loss: 0.0386 - acc: 0.9913 - val_loss: 0.4522 - val_acc: 0.8697\n",
      "Epoch 13/20\n",
      "15000/15000 [==============================] - 2s 122us/step - loss: 0.0297 - acc: 0.9940 - val_loss: 0.4716 - val_acc: 0.8738\n",
      "Epoch 14/20\n",
      "15000/15000 [==============================] - 2s 124us/step - loss: 0.0244 - acc: 0.9948 - val_loss: 0.5026 - val_acc: 0.8715\n",
      "Epoch 15/20\n",
      "15000/15000 [==============================] - 2s 124us/step - loss: 0.0185 - acc: 0.9975 - val_loss: 0.5319 - val_acc: 0.8694\n",
      "Epoch 16/20\n",
      "15000/15000 [==============================] - 2s 125us/step - loss: 0.0155 - acc: 0.9983 - val_loss: 0.5692 - val_acc: 0.8694\n",
      "Epoch 17/20\n",
      "15000/15000 [==============================] - 2s 122us/step - loss: 0.0158 - acc: 0.9971 - val_loss: 0.6002 - val_acc: 0.8685\n",
      "Epoch 18/20\n",
      "15000/15000 [==============================] - 2s 122us/step - loss: 0.0084 - acc: 0.9993 - val_loss: 0.6894 - val_acc: 0.8618\n",
      "Epoch 19/20\n",
      "15000/15000 [==============================] - 2s 125us/step - loss: 0.0066 - acc: 0.9997 - val_loss: 0.7425 - val_acc: 0.8548\n",
      "Epoch 20/20\n",
      "15000/15000 [==============================] - 2s 123us/step - loss: 0.0082 - acc: 0.9983 - val_loss: 0.7034 - val_acc: 0.8651\n"
     ]
    }
   ],
   "source": [
    "model.compile(optimizer='rmsprop',\n",
    "             loss='binary_crossentropy',\n",
    "             metrics=['acc'])\n",
    "\n",
    "history = model.fit(partial_x_train,\n",
    "                   partial_y_train,\n",
    "                   epochs=20,\n",
    "                   batch_size=512,\n",
    "                   validation_data=(x_val, y_val))"
   ]
  },
  {
   "cell_type": "code",
   "execution_count": 33,
   "metadata": {},
   "outputs": [
    {
     "data": {
      "text/plain": [
       "dict_keys(['val_loss', 'val_acc', 'loss', 'acc'])"
      ]
     },
     "execution_count": 33,
     "metadata": {},
     "output_type": "execute_result"
    }
   ],
   "source": [
    "history_dict = history.history\n",
    "history_dict.keys()"
   ]
  },
  {
   "cell_type": "markdown",
   "metadata": {},
   "source": [
    "### 훈련과 검증의 손실 그리기"
   ]
  },
  {
   "cell_type": "code",
   "execution_count": 35,
   "metadata": {},
   "outputs": [
    {
     "data": {
      "image/png": "[encoded data removed]",
      "text/plain": [
       "<Figure size 432x288 with 1 Axes>"
      ]
     },
     "metadata": {
      "needs_background": "light"
     },
     "output_type": "display_data"
    }
   ],
   "source": [
    "import matplotlib.pyplot as plt\n",
    "%matplotlib inline\n",
    "\n",
    "history_dict = history.history\n",
    "loss = history_dict['loss']\n",
    "val_loss = history_dict['val_loss']\n",
    "\n",
    "epochs = range(1, len(loss)+1)\n",
    "\n",
    "plt.plot(epochs, loss, 'go', label='Training loss') #go : green dot\n",
    "plt.plot(epochs, val_loss, 'g', label='Validation loss') #g : green line\n",
    "plt.title('Training & Validation Loss')\n",
    "plt.xlabel('Epochs')\n",
    "plt.ylabel('Loss')\n",
    "plt.legend()\n",
    "\n",
    "plt.show()"
   ]
  },
  {
   "cell_type": "markdown",
   "metadata": {},
   "source": [
    "### 훈련과 검증의 정확도 그리기"
   ]
  },
  {
   "cell_type": "code",
   "execution_count": 36,
   "metadata": {},
   "outputs": [
    {
     "data": {
      "image/png": "[encoded data removed]",
      "text/plain": [
       "<Figure size 432x288 with 1 Axes>"
      ]
     },
     "metadata": {
      "needs_background": "light"
     },
     "output_type": "display_data"
    }
   ],
   "source": [
    "plt.clf() #그래프 초기화하기\n",
    "acc = history_dict['acc']\n",
    "val_acc = history_dict['val_acc']\n",
    "\n",
    "plt.plot(epochs, acc, 'go', label='Training acc') #go : green dot\n",
    "plt.plot(epochs, val_acc, 'g', label='Validation acc') #g : green line\n",
    "plt.title('Training & Validation accuracy')\n",
    "plt.xlabel('Epochs')\n",
    "plt.ylabel('Accuracy')\n",
    "plt.legend()\n",
    "\n",
    "plt.show()"
   ]
  },
  {
   "cell_type": "markdown",
   "metadata": {},
   "source": [
    "### Overfitting (과대적함)\n",
    "\n",
    "너무 많은 학습을 시켜서 훈련 데이터에 편향된 판단을 하게 하는 오류.\n",
    "\n",
    "위의 결과를 보면 훈련 데이터는 갈수록 손실(오차)이 줄어들고, 정확도는 높아지지만 검증 데이터는 반대이다. 훈련 데이터의 레이블에 편향된 판단을 해서 새로운 데이터를 일반화하여 판단하지 못하는 것이다.\n",
    "\n",
    "위에서 보면 손실이 4번 에포크 정도에서 역전되고 있으므로 4번까지만 진행한다."
   ]
  },
  {
   "cell_type": "markdown",
   "metadata": {},
   "source": [
    "### 다시 훈련시키기"
   ]
  },
  {
   "cell_type": "code",
   "execution_count": 37,
   "metadata": {},
   "outputs": [
    {
     "name": "stdout",
     "output_type": "stream",
     "text": [
      "Epoch 1/4\n",
      "25000/25000 [==============================] - 2s 96us/step - loss: 0.4724 - acc: 0.8221\n",
      "Epoch 2/4\n",
      "25000/25000 [==============================] - 2s 76us/step - loss: 0.2621 - acc: 0.9109\n",
      "Epoch 3/4\n",
      "25000/25000 [==============================] - 2s 76us/step - loss: 0.1983 - acc: 0.9308\n",
      "Epoch 4/4\n",
      "25000/25000 [==============================] - 2s 80us/step - loss: 0.1676 - acc: 0.9406\n",
      "25000/25000 [==============================] - 3s 129us/step\n"
     ]
    }
   ],
   "source": [
    "model = models.Sequential()\n",
    "model.add(layers.Dense(16, activation='relu', input_shape=(10000,)))\n",
    "model.add(layers.Dense(16, activation='relu'))\n",
    "model.add(layers.Dense(1, activation='sigmoid'))\n",
    "\n",
    "model.compile(optimizer='rmsprop',\n",
    "             loss='binary_crossentropy',\n",
    "             metrics=['acc'])\n",
    "\n",
    "model.fit(x_train, y_train, epochs=4, batch_size=512)\n",
    "result = model.evaluate(x_test, y_test)"
   ]
  },
  {
   "cell_type": "code",
   "execution_count": 38,
   "metadata": {},
   "outputs": [
    {
     "data": {
      "text/plain": [
       "[0.32421983805656435, 0.87252]"
      ]
     },
     "execution_count": 38,
     "metadata": {},
     "output_type": "execute_result"
    }
   ],
   "source": [
    "result"
   ]
  },
  {
   "cell_type": "markdown",
   "metadata": {},
   "source": [
    "### 이진 분류에서의 양성, 음성 샘플\n",
    "\n",
    "양성 샘플 : 예측하려는 대상 <br>\n",
    "음성 샘플 : 예측 대상이 아닌 샘플\n",
    "\n",
    "예를 들어, 암 진단에 관한 문제에서는 악성 종양이 양성 샘플이 된다."
   ]
  },
  {
   "cell_type": "code",
   "execution_count": 39,
   "metadata": {},
   "outputs": [
    {
     "data": {
      "text/plain": [
       "array([[0.13329636],\n",
       "       [0.9997123 ],\n",
       "       [0.2768759 ],\n",
       "       ...,\n",
       "       [0.07479665],\n",
       "       [0.0465392 ],\n",
       "       [0.47521412]], dtype=float32)"
      ]
     },
     "execution_count": 39,
     "metadata": {},
     "output_type": "execute_result"
    }
   ],
   "source": [
    "model.predict(x_test)"
   ]
  },
  {
   "cell_type": "markdown",
   "metadata": {},
   "source": [
    "### 정리 \n",
    "\n",
    "1. 데이터 전처리 : 원본 데이터를 신경망에 텐서로 주입하기 전 데이터 표현을 적절하게 바꾼다. \n",
    "<br><br>\n",
    "2. relu 활성화 함수와 Dense 층을 쌓은 네트워크는 앞으로 자주 사용하게 될 것이다.\n",
    "<br><br>\n",
    "3. 이진 분류 문제(출력 클래스가 2개)의 네트워크는 하나의 유닛과 sigmoid 활성화 함수를 가진 Dense 층으로 끝나야 한다. 이 결과값(출력)은 확률이므로, 0과 1사이의 스칼라 값이다. \n",
    "<br><br>\n",
    "4. 이진 분류 문제에서 이런 스칼라 시그모이드 출력에 대해 사용할 손실 한수는 binary_crossentropy이다.\n",
    "<br><br>\n",
    "5. rmsprop 옵티마이저 : 일반적인 경우에서 충분히 많이 쓰인다.\n",
    "<br><br>\n",
    "6. 검증 데이터에서 overfitting 문제를 확인해야 한다."
   ]
  },
  {
   "cell_type": "markdown",
   "metadata": {},
   "source": [
    "# <font color=\"#ff8104\">추가 실험</font>\n",
    "\n",
    "1. 은닉 층의 개수를 바꿔보자. 여기서는 2개(dense 16 2개)를 사용했으니 이번에는 1개 또는 3개를 사용하고 검증, 테스트 정확도에 어떤 영향을 미치는지 확인한다.\n",
    "<br><br>\n",
    "\n",
    "2. 은닉 유닛을 추가하거나 줄여본다. 16개 유닛에서 32개 유닛, 64개 유닛\n",
    "<br><br>\n",
    "\n",
    "3. binary_crossentropy 대신 mse 손실 함수를 쓴다.\n",
    "<br><br>\n",
    "\n",
    "4. relu 대신 tanh 활성화 함수를 사용한다.(초창기 신경망에서 인기있던 함수)"
   ]
  },
  {
   "cell_type": "markdown",
   "metadata": {},
   "source": [
    "### 은닉 층의 개수 = 1"
   ]
  },
  {
   "cell_type": "code",
   "execution_count": 40,
   "metadata": {},
   "outputs": [],
   "source": [
    "from keras import models\n",
    "from keras import layers"
   ]
  },
  {
   "cell_type": "code",
   "execution_count": 42,
   "metadata": {},
   "outputs": [],
   "source": [
    "model.compile(optimizer='rmsprop',\n",
    "             loss='binary_crossentropy',\n",
    "             metrics=['acc'])"
   ]
  },
  {
   "cell_type": "code",
   "execution_count": 43,
   "metadata": {},
   "outputs": [],
   "source": [
    "x_val = x_train[:10000]\n",
    "partial_x_train = x_train[10000:]\n",
    "\n",
    "y_val = y_train[:10000]\n",
    "partial_y_train = y_train[10000:]"
   ]
  },
  {
   "cell_type": "code",
   "execution_count": 49,
   "metadata": {},
   "outputs": [
    {
     "name": "stdout",
     "output_type": "stream",
     "text": [
      "Epoch 1/4\n",
      "25000/25000 [==============================] - 2s 95us/step - loss: 0.4524 - acc: 0.8247\n",
      "Epoch 2/4\n",
      "25000/25000 [==============================] - 2s 81us/step - loss: 0.2787 - acc: 0.9066\n",
      "Epoch 3/4\n",
      "25000/25000 [==============================] - 2s 77us/step - loss: 0.2210 - acc: 0.9241\n",
      "Epoch 4/4\n",
      "25000/25000 [==============================] - 2s 75us/step - loss: 0.1874 - acc: 0.9365\n",
      "25000/25000 [==============================] - 3s 110us/step\n"
     ]
    }
   ],
   "source": [
    "model = models.Sequential()\n",
    "model.add(layers.Dense(16, activation='relu', input_shape=(10000,)))\n",
    "model.add(layers.Dense(1, activation='sigmoid'))\n",
    "\n",
    "model.compile(optimizer='rmsprop',\n",
    "             loss='binary_crossentropy',\n",
    "             metrics=['acc'])\n",
    "\n",
    "model.fit(x_train, y_train, epochs=4, batch_size=512)\n",
    "result = model.evaluate(x_test, y_test)"
   ]
  },
  {
   "cell_type": "code",
   "execution_count": 50,
   "metadata": {},
   "outputs": [
    {
     "data": {
      "text/plain": [
       "[0.28099623825073244, 0.8868]"
      ]
     },
     "execution_count": 50,
     "metadata": {},
     "output_type": "execute_result"
    }
   ],
   "source": [
    "result"
   ]
  },
  {
   "cell_type": "code",
   "execution_count": 51,
   "metadata": {},
   "outputs": [
    {
     "data": {
      "text/plain": [
       "array([[0.22865619],\n",
       "       [0.999311  ],\n",
       "       [0.8305484 ],\n",
       "       ...,\n",
       "       [0.11621344],\n",
       "       [0.09972212],\n",
       "       [0.5236768 ]], dtype=float32)"
      ]
     },
     "execution_count": 51,
     "metadata": {},
     "output_type": "execute_result"
    }
   ],
   "source": [
    "model.predict(x_test)"
   ]
  },
  {
   "cell_type": "markdown",
   "metadata": {},
   "source": [
    "### 은닉 층의 개수 = 3"
   ]
  },
  {
   "cell_type": "code",
   "execution_count": 52,
   "metadata": {},
   "outputs": [
    {
     "name": "stdout",
     "output_type": "stream",
     "text": [
      "Epoch 1/4\n",
      "25000/25000 [==============================] - 3s 100us/step - loss: 0.4805 - acc: 0.8142\n",
      "Epoch 2/4\n",
      "25000/25000 [==============================] - 2s 78us/step - loss: 0.2563 - acc: 0.9086\n",
      "Epoch 3/4\n",
      "25000/25000 [==============================] - 2s 77us/step - loss: 0.1941 - acc: 0.9281\n",
      "Epoch 4/4\n",
      "25000/25000 [==============================] - 2s 78us/step - loss: 0.1599 - acc: 0.9424\n",
      "25000/25000 [==============================] - 3s 105us/step\n"
     ]
    }
   ],
   "source": [
    "model = models.Sequential()\n",
    "model.add(layers.Dense(16, activation='relu', input_shape=(10000,)))\n",
    "model.add(layers.Dense(16, activation='relu' ))\n",
    "model.add(layers.Dense(16, activation='relu' ))\n",
    "model.add(layers.Dense(1, activation='sigmoid'))\n",
    "\n",
    "model.compile(optimizer='rmsprop',\n",
    "             loss='binary_crossentropy',\n",
    "             metrics=['acc'])\n",
    "\n",
    "model.fit(x_train, y_train, epochs=4, batch_size=512)\n",
    "result = model.evaluate(x_test, y_test)"
   ]
  },
  {
   "cell_type": "code",
   "execution_count": 53,
   "metadata": {},
   "outputs": [
    {
     "name": "stdout",
     "output_type": "stream",
     "text": [
      "result :  [0.31312030488967896, 0.88124]\n",
      "predict :  [[0.1174596 ]\n",
      " [0.99996376]\n",
      " [0.96743405]\n",
      " ...\n",
      " [0.09286369]\n",
      " [0.06370354]\n",
      " [0.61341065]]\n"
     ]
    }
   ],
   "source": [
    "print(\"result : \", result)\n",
    "print(\"predict : \", model.predict(x_test))"
   ]
  },
  {
   "cell_type": "markdown",
   "metadata": {},
   "source": [
    "### 은닉 유닛의 개수 = 32"
   ]
  },
  {
   "cell_type": "code",
   "execution_count": 59,
   "metadata": {},
   "outputs": [
    {
     "name": "stdout",
     "output_type": "stream",
     "text": [
      "Epoch 1/4\n",
      "25000/25000 [==============================] - 3s 103us/step - loss: 0.4240 - acc: 0.8196\n",
      "Epoch 2/4\n",
      "25000/25000 [==============================] - 2s 81us/step - loss: 0.2373 - acc: 0.9116\n",
      "Epoch 3/4\n",
      "25000/25000 [==============================] - 2s 84us/step - loss: 0.1881 - acc: 0.9300\n",
      "Epoch 4/4\n",
      "25000/25000 [==============================] - 2s 81us/step - loss: 0.1520 - acc: 0.9442\n",
      "25000/25000 [==============================] - 3s 108us/step\n"
     ]
    }
   ],
   "source": [
    "model = models.Sequential()\n",
    "model.add(layers.Dense(32, activation='relu', input_shape=(10000,)))\n",
    "model.add(layers.Dense(32, activation='relu' ))\n",
    "model.add(layers.Dense(1, activation='sigmoid'))\n",
    "\n",
    "model.compile(optimizer='rmsprop',\n",
    "             loss='binary_crossentropy',\n",
    "             metrics=['acc'])\n",
    "\n",
    "model.fit(x_train, y_train, epochs=4, batch_size=512)\n",
    "result = model.evaluate(x_test, y_test)"
   ]
  },
  {
   "cell_type": "code",
   "execution_count": 60,
   "metadata": {},
   "outputs": [
    {
     "name": "stdout",
     "output_type": "stream",
     "text": [
      "result :  [0.31570848007202146, 0.87816]\n",
      "predict :  [[0.1785149 ]\n",
      " [0.9998078 ]\n",
      " [0.8610383 ]\n",
      " ...\n",
      " [0.10780071]\n",
      " [0.04514994]\n",
      " [0.74309075]]\n"
     ]
    }
   ],
   "source": [
    "print(\"result : \", result)\n",
    "print(\"predict : \", model.predict(x_test))"
   ]
  },
  {
   "cell_type": "markdown",
   "metadata": {},
   "source": [
    "### 은닉 유닛의 개수 = 64"
   ]
  },
  {
   "cell_type": "code",
   "execution_count": 56,
   "metadata": {},
   "outputs": [
    {
     "name": "stdout",
     "output_type": "stream",
     "text": [
      "Epoch 1/4\n",
      "25000/25000 [==============================] - 3s 118us/step - loss: 0.4213 - acc: 0.8126\n",
      "Epoch 2/4\n",
      "25000/25000 [==============================] - 2s 87us/step - loss: 0.2362 - acc: 0.9101\n",
      "Epoch 3/4\n",
      "25000/25000 [==============================] - 2s 87us/step - loss: 0.1805 - acc: 0.9310\n",
      "Epoch 4/4\n",
      "25000/25000 [==============================] - 2s 92us/step - loss: 0.1444 - acc: 0.9456\n",
      "25000/25000 [==============================] - 3s 108us/step\n"
     ]
    }
   ],
   "source": [
    "model = models.Sequential()\n",
    "model.add(layers.Dense(64, activation='relu', input_shape=(10000,)))\n",
    "model.add(layers.Dense(64, activation='relu' ))\n",
    "model.add(layers.Dense(1, activation='sigmoid'))\n",
    "\n",
    "model.compile(optimizer='rmsprop',\n",
    "             loss='binary_crossentropy',\n",
    "             metrics=['acc'])\n",
    "\n",
    "model.fit(x_train, y_train, epochs=4, batch_size=512)\n",
    "result = model.evaluate(x_test, y_test)"
   ]
  },
  {
   "cell_type": "code",
   "execution_count": 58,
   "metadata": {},
   "outputs": [
    {
     "name": "stdout",
     "output_type": "stream",
     "text": [
      "result :  [0.3269049736070633, 0.87688]\n",
      "predict :  [[0.13643797]\n",
      " [0.99999046]\n",
      " [0.8422408 ]\n",
      " ...\n",
      " [0.15121165]\n",
      " [0.04749154]\n",
      " [0.53505254]]\n"
     ]
    }
   ],
   "source": [
    "print(\"result : \", result)\n",
    "print(\"predict : \", model.predict(x_test))"
   ]
  },
  {
   "cell_type": "markdown",
   "metadata": {},
   "source": [
    "### 손실함수 : mse"
   ]
  },
  {
   "cell_type": "code",
   "execution_count": 61,
   "metadata": {},
   "outputs": [
    {
     "name": "stdout",
     "output_type": "stream",
     "text": [
      "Epoch 1/4\n",
      "25000/25000 [==============================] - 2s 97us/step - loss: 0.1646 - acc: 0.8080\n",
      "Epoch 2/4\n",
      "25000/25000 [==============================] - 2s 81us/step - loss: 0.0851 - acc: 0.9068\n",
      "Epoch 3/4\n",
      "25000/25000 [==============================] - 2s 78us/step - loss: 0.0628 - acc: 0.9269\n",
      "Epoch 4/4\n",
      "25000/25000 [==============================] - 2s 79us/step - loss: 0.0503 - acc: 0.9413\n",
      "25000/25000 [==============================] - 3s 104us/step\n"
     ]
    }
   ],
   "source": [
    "model = models.Sequential()\n",
    "model.add(layers.Dense(16, activation='relu', input_shape=(10000,)))\n",
    "model.add(layers.Dense(16, activation='relu' ))\n",
    "model.add(layers.Dense(1, activation='sigmoid'))\n",
    "\n",
    "model.compile(optimizer='rmsprop',\n",
    "             loss='mse',\n",
    "             metrics=['acc'])\n",
    "\n",
    "model.fit(x_train, y_train, epochs=4, batch_size=512)\n",
    "result = model.evaluate(x_test, y_test)"
   ]
  },
  {
   "cell_type": "code",
   "execution_count": 62,
   "metadata": {},
   "outputs": [
    {
     "name": "stdout",
     "output_type": "stream",
     "text": [
      "result :  [0.08461552543878555, 0.88652]\n",
      "predict :  [[0.23455112]\n",
      " [0.999665  ]\n",
      " [0.9326342 ]\n",
      " ...\n",
      " [0.21752013]\n",
      " [0.12417278]\n",
      " [0.5732676 ]]\n"
     ]
    }
   ],
   "source": [
    "print(\"result : \", result)\n",
    "print(\"predict : \", model.predict(x_test))"
   ]
  },
  {
   "cell_type": "markdown",
   "metadata": {},
   "source": [
    "### relu 대신 tanh"
   ]
  },
  {
   "cell_type": "code",
   "execution_count": 63,
   "metadata": {},
   "outputs": [
    {
     "name": "stdout",
     "output_type": "stream",
     "text": [
      "Epoch 1/4\n",
      "25000/25000 [==============================] - 3s 101us/step - loss: 0.4269 - acc: 0.8299\n",
      "Epoch 2/4\n",
      "25000/25000 [==============================] - 2s 77us/step - loss: 0.2325 - acc: 0.9143\n",
      "Epoch 3/4\n",
      "25000/25000 [==============================] - 2s 77us/step - loss: 0.1773 - acc: 0.9344\n",
      "Epoch 4/4\n",
      "25000/25000 [==============================] - 2s 77us/step - loss: 0.1482 - acc: 0.9464\n",
      "25000/25000 [==============================] - 3s 105us/step\n"
     ]
    }
   ],
   "source": [
    "model = models.Sequential()\n",
    "model.add(layers.Dense(16, activation='tanh', input_shape=(10000,)))\n",
    "model.add(layers.Dense(16, activation='tanh' ))\n",
    "model.add(layers.Dense(1, activation='sigmoid'))\n",
    "\n",
    "model.compile(optimizer='rmsprop',\n",
    "             loss='binary_crossentropy',\n",
    "             metrics=['acc'])\n",
    "\n",
    "model.fit(x_train, y_train, epochs=4, batch_size=512)\n",
    "result = model.evaluate(x_test, y_test)"
   ]
  },
  {
   "cell_type": "code",
   "execution_count": 64,
   "metadata": {},
   "outputs": [
    {
     "name": "stdout",
     "output_type": "stream",
     "text": [
      "result :  [0.32969693251132964, 0.87612]\n",
      "predict :  [[0.09450547]\n",
      " [0.9983956 ]\n",
      " [0.9288032 ]\n",
      " ...\n",
      " [0.14211611]\n",
      " [0.04597855]\n",
      " [0.8632248 ]]\n"
     ]
    }
   ],
   "source": [
    "print(\"result : \", result)\n",
    "print(\"predict : \", model.predict(x_test))"
   ]
  },
  {
   "cell_type": "code",
   "execution_count": 83,
   "metadata": {
    "scrolled": true
   },
   "outputs": [
    {
     "data": {
      "image/png": "[encoded data removed]",
      "text/plain": [
       "<Figure size 432x288 with 1 Axes>"
      ]
     },
     "metadata": {
      "needs_background": "light"
     },
     "output_type": "display_data"
    }
   ],
   "source": [
    "import pandas as pd \n",
    "\n",
    "df = pd.DataFrame(np.random.rand(30, 2)*20, columns=['a', 'b'])\n",
    "df2 = pd.DataFrame(np.random.rand(30, 2)*5, columns=['c', 'd'])\n",
    "\n",
    "ax = df.plot.scatter(x='a', y='b', color='DarkBlue', label='Group 1')\n",
    "df2.plot.scatter(x='c', y='d', color='DarkGreen', label='Group 2', ax=ax)\n",
    "\n",
    "plt.grid()\n",
    "plt.legend()\n",
    "plt.show()"
   ]
  },
  {
   "cell_type": "code",
   "execution_count": null,
   "metadata": {},
   "outputs": [],
   "source": []
  }
 ],
 "metadata": {
  "kernelspec": {
   "display_name": "python3.6",
   "language": "python",
   "name": "py36"
  },
  "language_info": {
   "codemirror_mode": {
    "name": "ipython",
    "version": 3
   },
   "file_extension": ".py",
   "mimetype": "text/x-python",
   "name": "python",
   "nbconvert_exporter": "python",
   "pygments_lexer": "ipython3",
   "version": "3.6.8"
  }
 },
 "nbformat": 4,
 "nbformat_minor": 2
}
