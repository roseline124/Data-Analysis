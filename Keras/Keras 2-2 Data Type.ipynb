{
 "cells": [
  {
   "cell_type": "code",
   "execution_count": 6,
   "metadata": {},
   "outputs": [],
   "source": [
    "def dm(x) : \n",
    "    print(\"%dD 텐서\"%x.ndim)"
   ]
  },
  {
   "cell_type": "markdown",
   "metadata": {},
   "source": [
    "# <font color=\"#ff8104\">스칼라(0D 텐서)</font>\n",
    "\n",
    "넘파이에서는 float32 float64 타입의 숫자가 스칼라 텐서(배열 스칼라)이다.\n",
    "ndim 속성은 넘파이 배열의 축 개수를 확인할 수 있다. \n",
    "텐서의 축 개수를 rank라고도 한다."
   ]
  },
  {
   "cell_type": "code",
   "execution_count": 7,
   "metadata": {},
   "outputs": [
    {
     "data": {
      "text/plain": [
       "array(12)"
      ]
     },
     "execution_count": 7,
     "metadata": {},
     "output_type": "execute_result"
    }
   ],
   "source": [
    "import numpy as np\n",
    "\n",
    "x = np.array(12)\n",
    "x"
   ]
  },
  {
   "cell_type": "code",
   "execution_count": 8,
   "metadata": {},
   "outputs": [
    {
     "name": "stdout",
     "output_type": "stream",
     "text": [
      "0D 텐서\n"
     ]
    }
   ],
   "source": [
    "dm(x)"
   ]
  },
  {
   "cell_type": "markdown",
   "metadata": {},
   "source": [
    "# <font color=\"#ff8104\">벡터(1D 텐서)</font>"
   ]
  },
  {
   "cell_type": "markdown",
   "metadata": {},
   "source": [
    "1D 텐서는 하나의 축만을 가진다.\n",
    "아래의 벡터는 5개의 원소를 가지므로 5차원 벡터이다.\n",
    "5D 벡터는 하나의 축(행)을 따라 5개의 차원을 가진 것"
   ]
  },
  {
   "cell_type": "code",
   "execution_count": 9,
   "metadata": {},
   "outputs": [
    {
     "name": "stdout",
     "output_type": "stream",
     "text": [
      "1D 텐서\n"
     ]
    }
   ],
   "source": [
    "_list = [1,2,3,4,5]\n",
    "x = np.array(_list)\n",
    "dm(x)"
   ]
  },
  {
   "cell_type": "markdown",
   "metadata": {},
   "source": [
    "# <font color=\"#ff8104\">행렬(2D 텐서)</font>\n",
    "\n",
    "벡터의 배열은 행렬, 2D 텐서. \n",
    "행렬에는 2개의 축이 있다 (행과 열) "
   ]
  },
  {
   "cell_type": "code",
   "execution_count": 10,
   "metadata": {},
   "outputs": [
    {
     "name": "stdout",
     "output_type": "stream",
     "text": [
      "2D 텐서\n"
     ]
    }
   ],
   "source": [
    "x = np.array( [\n",
    "    [1,2,3,4,5],\n",
    "    [6,7,8,9,10],\n",
    "    [11,12,13,14,15],\n",
    "] )\n",
    "\n",
    "dm(x)"
   ]
  },
  {
   "cell_type": "markdown",
   "metadata": {},
   "source": [
    "# <font color=\"#ff8104\">3D텐서와 고차원 텐서</font>"
   ]
  },
  {
   "cell_type": "code",
   "execution_count": 11,
   "metadata": {},
   "outputs": [
    {
     "name": "stdout",
     "output_type": "stream",
     "text": [
      "3D 텐서\n"
     ]
    }
   ],
   "source": [
    "x = np.array([\n",
    "    [\n",
    "        [1,2,3],\n",
    "        [4,5,6],\n",
    "        [7,8,9]\n",
    "    ],\n",
    "    [\n",
    "        [11,12,13],\n",
    "        [14,15,16],\n",
    "        [17,18,19]\n",
    "    ],\n",
    "    [\n",
    "        [21,22,23],\n",
    "        [24,25,26],\n",
    "        [27,28,29]        \n",
    "    ]\n",
    "])\n",
    "\n",
    "dm(x)"
   ]
  },
  {
   "cell_type": "markdown",
   "metadata": {},
   "source": [
    "# <font color=\"#ff8104\">핵심 속성</font>\n",
    "\n",
    "1. **축의 개수(랭크)** : 예를 들어 3D 텐서에는 3개의 축, 행렬에는 2개의 축이 있다. <br><br>\n",
    "2. **크기(shape)** : 텐서의 각 축을 따라 얼마나 많은 차원이 있는지 나타낸 파이썬의 튜플. 앞의 행렬의 크기는 (3,5), 3D 텐서의 크기는 (3,3,5), 벡터는 (5,) <br><br>\n",
    "3. **데이터 타입(넘파이에서는 dtype(데이터타입)변수에 저장한다.)** : 텐서에 포함된 데이터 타입. 가변 길이의 문자열은 지원하지 않는다(미리 할당되어 연속된 메모리에 저장되어야 하므로)"
   ]
  },
  {
   "cell_type": "markdown",
   "metadata": {},
   "source": [
    "# <font color=\"#ff8104\">직접 확인해봅시다</font>"
   ]
  },
  {
   "cell_type": "code",
   "execution_count": 12,
   "metadata": {},
   "outputs": [],
   "source": [
    "from keras.datasets import mnist\n",
    "(train_images, train_labels), (test_images, test_labels) = mnist.load_data()"
   ]
  },
  {
   "cell_type": "code",
   "execution_count": 13,
   "metadata": {},
   "outputs": [
    {
     "name": "stdout",
     "output_type": "stream",
     "text": [
      "3D 텐서\n"
     ]
    }
   ],
   "source": [
    "dm(train_images)"
   ]
  },
  {
   "cell_type": "code",
   "execution_count": 14,
   "metadata": {},
   "outputs": [
    {
     "name": "stdout",
     "output_type": "stream",
     "text": [
      "(60000, 28, 28)\n"
     ]
    }
   ],
   "source": [
    "print(train_images.shape)"
   ]
  },
  {
   "cell_type": "code",
   "execution_count": 16,
   "metadata": {},
   "outputs": [
    {
     "name": "stdout",
     "output_type": "stream",
     "text": [
      "uint8\n"
     ]
    }
   ],
   "source": [
    "print(train_images.dtype) "
   ]
  },
  {
   "cell_type": "markdown",
   "metadata": {},
   "source": [
    "1. 8비트 정수형 3D 텐서 \n",
    "2. 28*28 크기의 정수 행렬 6만개\n",
    "3. 각 행렬은 하나의 흑백 이미지이며, 행렬의 각 원소는 0에서 255사이의 값을 가진다"
   ]
  },
  {
   "cell_type": "markdown",
   "metadata": {},
   "source": [
    "# <font color=\"#ff8104\">이미지 출력하기</font>"
   ]
  },
  {
   "cell_type": "code",
   "execution_count": 19,
   "metadata": {},
   "outputs": [
    {
     "data": {
      "image/png": "[encoded data removed]",
      "text/plain": [
       "<Figure size 432x288 with 1 Axes>"
      ]
     },
     "metadata": {
      "needs_background": "light"
     },
     "output_type": "display_data"
    }
   ],
   "source": [
    "digit = train_images[4]\n",
    "\n",
    "import matplotlib.pyplot as plt\n",
    "plt.imshow(digit, cmap=plt.cm.binary)\n",
    "plt.show()"
   ]
  },
  {
   "cell_type": "markdown",
   "metadata": {},
   "source": [
    "# <font color=\"#ff8104\">넘파이로 텐서 조작하기</font>"
   ]
  },
  {
   "cell_type": "markdown",
   "metadata": {},
   "source": [
    "각 배열의 축을 따라 슬라이싱할 수 있다."
   ]
  },
  {
   "cell_type": "code",
   "execution_count": 21,
   "metadata": {},
   "outputs": [
    {
     "data": {
      "text/plain": [
       "(90, 28, 28)"
      ]
     },
     "execution_count": 21,
     "metadata": {},
     "output_type": "execute_result"
    }
   ],
   "source": [
    "my_slice = train_images[10:100, 0:28,  0:28]\n",
    "my_slice.shape"
   ]
  },
  {
   "cell_type": "markdown",
   "metadata": {},
   "source": [
    "14\\*14이미지로 만들려면 `train_images[:,7:-7,7:-7]`"
   ]
  },
  {
   "cell_type": "markdown",
   "metadata": {},
   "source": [
    "# <font color=\"#ff8104\">배치 데이터</font>\n",
    "\n",
    "※샘플 축(샘플 차원) : 모든 데이터 텐서의 첫번째 축. 0번째 튜플(로우)<br>\n",
    "\n",
    "**딥러닝 모델은 데이터를 작은 배치(batch, 샘플)로 나눠서 처리한다.**\n",
    "\n"
   ]
  },
  {
   "cell_type": "code",
   "execution_count": 22,
   "metadata": {},
   "outputs": [],
   "source": [
    "batch = train_images[:128]"
   ]
  },
  {
   "cell_type": "markdown",
   "metadata": {},
   "source": [
    "그 다음 배치 "
   ]
  },
  {
   "cell_type": "code",
   "execution_count": 23,
   "metadata": {},
   "outputs": [],
   "source": [
    "batch = train_images[128:256]"
   ]
  },
  {
   "cell_type": "markdown",
   "metadata": {},
   "source": [
    "n 번째 배치 `batch = train_images[128*n:128*(n+1)]`"
   ]
  },
  {
   "cell_type": "markdown",
   "metadata": {},
   "source": [
    "# <font color=\"#ff8104\">벡터 데이터</font>\n",
    "\n",
    "※특성 축 : 두번째 축 (열, 컬럼)"
   ]
  },
  {
   "cell_type": "markdown",
   "metadata": {},
   "source": [
    "# <font color=\"#ff8104\">시계열 데이터 또는 시퀀스 데이터</font>\n",
    "\n",
    "※관례적으로 시간 축은 항상 두번째 축(인덱스 1)\n",
    "\n",
    "시간 또는 연속된 순서가 중요할 때는 시간 축을 포함하여 3D 텐서로 저장된다."
   ]
  },
  {
   "cell_type": "markdown",
   "metadata": {},
   "source": [
    "# <font color=\"#ff8104\">이미지 데이터</font>\n",
    "\n",
    "높이, 너비, 컬러 + 그리고 각각의 샘플들"
   ]
  },
  {
   "cell_type": "code",
   "execution_count": null,
   "metadata": {},
   "outputs": [],
   "source": []
  }
 ],
 "metadata": {
  "kernelspec": {
   "display_name": "python3.6",
   "language": "python",
   "name": "py36"
  },
  "language_info": {
   "codemirror_mode": {
    "name": "ipython",
    "version": 3
   },
   "file_extension": ".py",
   "mimetype": "text/x-python",
   "name": "python",
   "nbconvert_exporter": "python",
   "pygments_lexer": "ipython3",
   "version": "3.6.8"
  }
 },
 "nbformat": 4,
 "nbformat_minor": 2
}
