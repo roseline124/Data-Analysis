{
 "cells": [
  {
   "cell_type": "markdown",
   "metadata": {},
   "source": [
    "Window키 - 시작 버튼 우클릭 - powershell : 커맨드보다 더 상향된 프롬프트를 사용할 수 있다."
   ]
  },
  {
   "cell_type": "markdown",
   "metadata": {},
   "source": [
    "vscode : extensions - korean language pack 한글화 기능 "
   ]
  },
  {
   "cell_type": "markdown",
   "metadata": {},
   "source": [
    "확장자 자리수가 3자리 제한이 있었다. (그래서 html이 아니라 htm로 저장했어야 했던 것)"
   ]
  },
  {
   "cell_type": "code",
   "execution_count": 3,
   "metadata": {},
   "outputs": [
    {
     "name": "stdout",
     "output_type": "stream",
     "text": [
      "안녕하세요\n"
     ]
    }
   ],
   "source": [
    "print(\"안녕하세요\")"
   ]
  },
  {
   "cell_type": "markdown",
   "metadata": {},
   "source": [
    "python 코드를 쓰는 것은 영화, 연극의 대본(script)을 짜는 것과 비슷하다"
   ]
  },
  {
   "cell_type": "markdown",
   "metadata": {},
   "source": [
    "vscode : shift + enter 쳐서 한 줄씩 실행 가능"
   ]
  },
  {
   "cell_type": "markdown",
   "metadata": {},
   "source": [
    "예약어 확인하기 \n",
    "\n",
    "`import keyword` <br>\n",
    "`print(keyword.kwlist)`\n"
   ]
  },
  {
   "cell_type": "code",
   "execution_count": 5,
   "metadata": {},
   "outputs": [
    {
     "name": "stdout",
     "output_type": "stream",
     "text": [
      "['False', 'None', 'True', 'and', 'as', 'assert', 'break', 'class', 'continue', 'def', 'del', 'elif', 'else', 'except', 'finally', 'for', 'from', 'global', 'if', 'import', 'in', 'is', 'lambda', 'nonlocal', 'not', 'or', 'pass', 'raise', 'return', 'try', 'while', 'with', 'yield']\n"
     ]
    }
   ],
   "source": [
    "import keyword\n",
    "print(keyword.kwlist)"
   ]
  },
  {
   "cell_type": "code",
   "execution_count": 6,
   "metadata": {},
   "outputs": [],
   "source": [
    "?keyword"
   ]
  },
  {
   "cell_type": "markdown",
   "metadata": {},
   "source": [
    "파이썬 코딩 두가지 유형 \n",
    "\n",
    "1. 대화식 : interactive -> 바로바로 결과를 확인하고, 테스트하기에 좋다.(인터프리터->기계어 바로 번역해서 실행)\n",
    "2. 스크립트식 : 대본을 짜는 것과 같다.\n",
    "\n",
    "※컴파일러 : 기계어로 한꺼번에 번역해서 파일(.exe)을 만든다. 그럼 컴퓨터는 파일을 읽어서 실행만 하면 된다. "
   ]
  },
  {
   "cell_type": "code",
   "execution_count": 7,
   "metadata": {},
   "outputs": [
    {
     "name": "stdout",
     "output_type": "stream",
     "text": [
      "x : 5\n",
      "x : 4\n",
      "x : 3\n",
      "x : 2\n",
      "x : 1\n"
     ]
    }
   ],
   "source": [
    "x = 5\n",
    "\n",
    "while x > 0 : \n",
    "    print(\"x :\", x)\n",
    "    x -= 1 "
   ]
  },
  {
   "cell_type": "code",
   "execution_count": 8,
   "metadata": {},
   "outputs": [
    {
     "name": "stdout",
     "output_type": "stream",
     "text": [
      "Hello World\n"
     ]
    }
   ],
   "source": [
    "print(\"Hello World\")"
   ]
  },
  {
   "cell_type": "code",
   "execution_count": 9,
   "metadata": {},
   "outputs": [],
   "source": [
    "plus = 3+5\n",
    "devide = 3/5\n",
    "sqrt = 3**2\n",
    "modular = 3%3"
   ]
  },
  {
   "cell_type": "code",
   "execution_count": 10,
   "metadata": {},
   "outputs": [
    {
     "data": {
      "text/plain": [
       "(8, 0.6, 9, 0)"
      ]
     },
     "execution_count": 10,
     "metadata": {},
     "output_type": "execute_result"
    }
   ],
   "source": [
    "plus, devide, sqrt, modular"
   ]
  },
  {
   "cell_type": "markdown",
   "metadata": {},
   "source": [
    "괄호 > 제곱 > 곱셈, 나눗셈 "
   ]
  },
  {
   "cell_type": "code",
   "execution_count": 12,
   "metadata": {},
   "outputs": [
    {
     "name": "stdout",
     "output_type": "stream",
     "text": [
      "hellohello\n"
     ]
    }
   ],
   "source": [
    "print(\"hello\"*2)"
   ]
  },
  {
   "cell_type": "markdown",
   "metadata": {},
   "source": [
    "컴퓨터는 부동소수점을 갖고 계산 <br>\n",
    "자릿수의 제한이 있다보니 근사값을 갖고 계산한다. "
   ]
  },
  {
   "cell_type": "code",
   "execution_count": 13,
   "metadata": {},
   "outputs": [
    {
     "data": {
      "text/plain": [
       "0.30000000000000004"
      ]
     },
     "execution_count": 13,
     "metadata": {},
     "output_type": "execute_result"
    }
   ],
   "source": [
    "x = 0.1\n",
    "x + x + x "
   ]
  },
  {
   "cell_type": "code",
   "execution_count": 14,
   "metadata": {},
   "outputs": [
    {
     "data": {
      "text/plain": [
       "int"
      ]
     },
     "execution_count": 14,
     "metadata": {},
     "output_type": "execute_result"
    }
   ],
   "source": [
    "x = 1\n",
    "type(x)"
   ]
  },
  {
   "cell_type": "code",
   "execution_count": 15,
   "metadata": {},
   "outputs": [],
   "source": [
    "aaa = '123'"
   ]
  },
  {
   "cell_type": "code",
   "execution_count": 16,
   "metadata": {},
   "outputs": [
    {
     "data": {
      "text/plain": [
       "123"
      ]
     },
     "execution_count": 16,
     "metadata": {},
     "output_type": "execute_result"
    }
   ],
   "source": [
    "int(aaa)"
   ]
  },
  {
   "cell_type": "code",
   "execution_count": 17,
   "metadata": {},
   "outputs": [
    {
     "data": {
      "text/plain": [
       "123.0"
      ]
     },
     "execution_count": 17,
     "metadata": {},
     "output_type": "execute_result"
    }
   ],
   "source": [
    "float(aaa)"
   ]
  },
  {
   "cell_type": "code",
   "execution_count": 18,
   "metadata": {},
   "outputs": [
    {
     "data": {
      "text/plain": [
       "'123'"
      ]
     },
     "execution_count": 18,
     "metadata": {},
     "output_type": "execute_result"
    }
   ],
   "source": [
    "str(aaa)"
   ]
  },
  {
   "cell_type": "code",
   "execution_count": 20,
   "metadata": {},
   "outputs": [
    {
     "name": "stdout",
     "output_type": "stream",
     "text": [
      "\n",
      "Hello \n",
      "World\n",
      "\n",
      "Hello\n",
      "World\n"
     ]
    }
   ],
   "source": [
    "txt = \"\"\"\n",
    "Hello \n",
    "World\n",
    "\"\"\"\n",
    "\n",
    "txtn = \"Hello\\nWorld\"\n",
    "\n",
    "print(txt)\n",
    "print(txtn)"
   ]
  },
  {
   "cell_type": "markdown",
   "metadata": {},
   "source": [
    "input 명령어로 원하는 파일을 불러올 수 있다."
   ]
  },
  {
   "cell_type": "code",
   "execution_count": 23,
   "metadata": {},
   "outputs": [
    {
     "name": "stdout",
     "output_type": "stream",
     "text": [
      "who are you? >hyunji\n",
      "hello hyunji\n"
     ]
    }
   ],
   "source": [
    "name = input(\"who are you? >\")\n",
    "\n",
    "print(\"hello %s\" %name)"
   ]
  },
  {
   "cell_type": "code",
   "execution_count": 27,
   "metadata": {},
   "outputs": [
    {
     "name": "stdout",
     "output_type": "stream",
     "text": [
      "몇 시간 일했나요? 15\n",
      "시급은 얼마입니까? 8350\n",
      "지급액 : 125250 원\n"
     ]
    }
   ],
   "source": [
    "# 시급 계산기 \n",
    "def pay_calculator() : \n",
    "    hours = int(input(\"몇 시간 일했나요? \"))\n",
    "    pay = int(input(\"시급은 얼마입니까? \"))\n",
    "    total = hours * pay \n",
    "    print(\"지급액 : %s 원\" %total)\n",
    "    \n",
    "pay_calculator()"
   ]
  },
  {
   "cell_type": "code",
   "execution_count": 30,
   "metadata": {},
   "outputs": [],
   "source": [
    "def print_t(total) :\n",
    "    print(f'{total}')"
   ]
  },
  {
   "cell_type": "code",
   "execution_count": 31,
   "metadata": {},
   "outputs": [
    {
     "name": "stdout",
     "output_type": "stream",
     "text": [
      "hello\n"
     ]
    }
   ],
   "source": [
    "print_t(\"hello\")"
   ]
  },
  {
   "cell_type": "code",
   "execution_count": 11,
   "metadata": {},
   "outputs": [
    {
     "name": "stdout",
     "output_type": "stream",
     "text": [
      "1주간 몇 시간 일했나요? 60\n",
      "일한 날 7 일 4 시간\n",
      "지급액 : 523,400 원\n"
     ]
    }
   ],
   "source": [
    "\"\"\"\n",
    "어떤 사업장에서 1주일 일하고 주급을 지불하는데 8시간 단\n",
    "위로 1일로 하여 1일치 임금 70,000원을 줍니다.\n",
    "그러나 일일 8시간을 못 채운 시간에 대해서는 최저임금인\n",
    "8,350원을 지급할 때 사용자의 1주 노동시간을 입력 받아 주\n",
    "급을 계산하는 프로그램을 만드시오.\n",
    "(1주일 일한 시간이 50시간이라면 6일 일하고 2시간 추가 근\n",
    "무한 것으로 간주합니다.)\n",
    "\"\"\"\n",
    "\n",
    "# 8hours = 1days = 7만 원 \n",
    "# if < 8 : 1hours = 8350 \n",
    "\n",
    "work_hours = int(input(\"1주간 몇 시간 일했나요? \"))\n",
    "days = work_hours//8\n",
    "hours = work_hours%8\n",
    "pay = (days*70000) + (hours*8350) \n",
    "\n",
    "print(\"일한 날 %d 일 %d 시간\" %(days, hours))\n",
    "print(\"지급액 : %s 원\" %format(pay, ','))"
   ]
  },
  {
   "cell_type": "code",
   "execution_count": null,
   "metadata": {},
   "outputs": [],
   "source": []
  }
 ],
 "metadata": {
  "kernelspec": {
   "display_name": "python3.6",
   "language": "python",
   "name": "py36"
  },
  "language_info": {
   "codemirror_mode": {
    "name": "ipython",
    "version": 3
   },
   "file_extension": ".py",
   "mimetype": "text/x-python",
   "name": "python",
   "nbconvert_exporter": "python",
   "pygments_lexer": "ipython3",
   "version": "3.6.8"
  }
 },
 "nbformat": 4,
 "nbformat_minor": 2
}
