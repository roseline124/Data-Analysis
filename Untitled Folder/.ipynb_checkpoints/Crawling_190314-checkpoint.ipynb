{
 "cells": [
  {
   "cell_type": "markdown",
   "metadata": {},
   "source": [
    "Window키 - 시작 버튼 우클릭 - powershell : 커맨드보다 더 상향된 프롬프트를 사용할 수 있다."
   ]
  },
  {
   "cell_type": "markdown",
   "metadata": {},
   "source": [
    "vscode : extensions - korean language pack 한글화 기능 "
   ]
  },
  {
   "cell_type": "markdown",
   "metadata": {},
   "source": [
    "확장자 자리수가 3자리 제한이 있었다. (그래서 html이 아니라 htm로 저장했어야 했던 것)"
   ]
  },
  {
   "cell_type": "code",
   "execution_count": 3,
   "metadata": {},
   "outputs": [
    {
     "name": "stdout",
     "output_type": "stream",
     "text": [
      "안녕하세요\n"
     ]
    }
   ],
   "source": [
    "print(\"안녕하세요\")"
   ]
  },
  {
   "cell_type": "markdown",
   "metadata": {},
   "source": [
    "python 코드를 쓰는 것은 영화, 연극의 대본(script)을 짜는 것과 비슷하다"
   ]
  },
  {
   "cell_type": "markdown",
   "metadata": {},
   "source": [
    "vscode : shift + enter 쳐서 한 줄씩 실행 가능"
   ]
  },
  {
   "cell_type": "markdown",
   "metadata": {},
   "source": [
    "예약어 확인하기 \n",
    "\n",
    "`import keyword` <br>\n",
    "`print(keyword.kwlist)`\n"
   ]
  },
  {
   "cell_type": "code",
   "execution_count": 5,
   "metadata": {},
   "outputs": [
    {
     "name": "stdout",
     "output_type": "stream",
     "text": [
      "['False', 'None', 'True', 'and', 'as', 'assert', 'break', 'class', 'continue', 'def', 'del', 'elif', 'else', 'except', 'finally', 'for', 'from', 'global', 'if', 'import', 'in', 'is', 'lambda', 'nonlocal', 'not', 'or', 'pass', 'raise', 'return', 'try', 'while', 'with', 'yield']\n"
     ]
    }
   ],
   "source": [
    "import keyword\n",
    "print(keyword.kwlist)"
   ]
  },
  {
   "cell_type": "code",
   "execution_count": 6,
   "metadata": {},
   "outputs": [],
   "source": [
    "?keyword"
   ]
  },
  {
   "cell_type": "markdown",
   "metadata": {},
   "source": [
    "파이썬 코딩 두가지 유형 \n",
    "\n",
    "1. 대화식 : interactive -> 바로바로 결과를 확인하고, 테스트하기에 좋다.(인터프리터->기계어 바로 번역해서 실행)\n",
    "2. 스크립트식 : 대본을 짜는 것과 같다.\n",
    "\n",
    "※컴파일러 : 기계어로 한꺼번에 번역해서 파일(.exe)을 만든다. 그럼 컴퓨터는 파일을 읽어서 실행만 하면 된다. "
   ]
  },
  {
   "cell_type": "code",
   "execution_count": 7,
   "metadata": {},
   "outputs": [
    {
     "name": "stdout",
     "output_type": "stream",
     "text": [
      "x : 5\n",
      "x : 4\n",
      "x : 3\n",
      "x : 2\n",
      "x : 1\n"
     ]
    }
   ],
   "source": [
    "x = 5\n",
    "\n",
    "while x > 0 : \n",
    "    print(\"x :\", x)\n",
    "    x -= 1 "
   ]
  },
  {
   "cell_type": "code",
   "execution_count": 8,
   "metadata": {},
   "outputs": [
    {
     "name": "stdout",
     "output_type": "stream",
     "text": [
      "Hello World\n"
     ]
    }
   ],
   "source": [
    "print(\"Hello World\")"
   ]
  },
  {
   "cell_type": "code",
   "execution_count": 9,
   "metadata": {},
   "outputs": [],
   "source": [
    "plus = 3+5\n",
    "devide = 3/5\n",
    "sqrt = 3**2\n",
    "modular = 3%3"
   ]
  },
  {
   "cell_type": "code",
   "execution_count": 10,
   "metadata": {},
   "outputs": [
    {
     "data": {
      "text/plain": [
       "(8, 0.6, 9, 0)"
      ]
     },
     "execution_count": 10,
     "metadata": {},
     "output_type": "execute_result"
    }
   ],
   "source": [
    "plus, devide, sqrt, modular"
   ]
  },
  {
   "cell_type": "markdown",
   "metadata": {},
   "source": [
    "괄호 > 제곱 > 곱셈, 나눗셈 "
   ]
  },
  {
   "cell_type": "code",
   "execution_count": 12,
   "metadata": {},
   "outputs": [
    {
     "name": "stdout",
     "output_type": "stream",
     "text": [
      "hellohello\n"
     ]
    }
   ],
   "source": [
    "print(\"hello\"*2)"
   ]
  },
  {
   "cell_type": "markdown",
   "metadata": {},
   "source": [
    "컴퓨터는 부동소수점을 갖고 계산 <br>\n",
    "자릿수의 제한이 있다보니 근사값을 갖고 계산한다. "
   ]
  },
  {
   "cell_type": "code",
   "execution_count": 13,
   "metadata": {},
   "outputs": [
    {
     "data": {
      "text/plain": [
       "0.30000000000000004"
      ]
     },
     "execution_count": 13,
     "metadata": {},
     "output_type": "execute_result"
    }
   ],
   "source": [
    "x = 0.1\n",
    "x + x + x "
   ]
  },
  {
   "cell_type": "code",
   "execution_count": 14,
   "metadata": {},
   "outputs": [
    {
     "data": {
      "text/plain": [
       "int"
      ]
     },
     "execution_count": 14,
     "metadata": {},
     "output_type": "execute_result"
    }
   ],
   "source": [
    "x = 1\n",
    "type(x)"
   ]
  },
  {
   "cell_type": "code",
   "execution_count": 15,
   "metadata": {},
   "outputs": [],
   "source": [
    "aaa = '123'"
   ]
  },
  {
   "cell_type": "code",
   "execution_count": 16,
   "metadata": {},
   "outputs": [
    {
     "data": {
      "text/plain": [
       "123"
      ]
     },
     "execution_count": 16,
     "metadata": {},
     "output_type": "execute_result"
    }
   ],
   "source": [
    "int(aaa)"
   ]
  },
  {
   "cell_type": "code",
   "execution_count": 17,
   "metadata": {},
   "outputs": [
    {
     "data": {
      "text/plain": [
       "123.0"
      ]
     },
     "execution_count": 17,
     "metadata": {},
     "output_type": "execute_result"
    }
   ],
   "source": [
    "float(aaa)"
   ]
  },
  {
   "cell_type": "code",
   "execution_count": 18,
   "metadata": {},
   "outputs": [
    {
     "data": {
      "text/plain": [
       "'123'"
      ]
     },
     "execution_count": 18,
     "metadata": {},
     "output_type": "execute_result"
    }
   ],
   "source": [
    "str(aaa)"
   ]
  },
  {
   "cell_type": "code",
   "execution_count": 20,
   "metadata": {},
   "outputs": [
    {
     "name": "stdout",
     "output_type": "stream",
     "text": [
      "\n",
      "Hello \n",
      "World\n",
      "\n",
      "Hello\n",
      "World\n"
     ]
    }
   ],
   "source": [
    "txt = \"\"\"\n",
    "Hello \n",
    "World\n",
    "\"\"\"\n",
    "\n",
    "txtn = \"Hello\\nWorld\"\n",
    "\n",
    "print(txt)\n",
    "print(txtn)"
   ]
  },
  {
   "cell_type": "markdown",
   "metadata": {},
   "source": [
    "input 명령어로 원하는 파일을 불러올 수 있다."
   ]
  },
  {
   "cell_type": "code",
   "execution_count": 23,
   "metadata": {},
   "outputs": [
    {
     "name": "stdout",
     "output_type": "stream",
     "text": [
      "who are you? >hyunji\n",
      "hello hyunji\n"
     ]
    }
   ],
   "source": [
    "name = input(\"who are you? >\")\n",
    "\n",
    "print(\"hello %s\" %name)"
   ]
  },
  {
   "cell_type": "code",
   "execution_count": 27,
   "metadata": {},
   "outputs": [
    {
     "name": "stdout",
     "output_type": "stream",
     "text": [
      "몇 시간 일했나요? 15\n",
      "시급은 얼마입니까? 8350\n",
      "지급액 : 125250 원\n"
     ]
    }
   ],
   "source": [
    "# 시급 계산기 \n",
    "def pay_calculator() : \n",
    "    hours = int(input(\"몇 시간 일했나요? \"))\n",
    "    pay = int(input(\"시급은 얼마입니까? \"))\n",
    "    total = hours * pay \n",
    "    print(\"지급액 : %s 원\" %total)\n",
    "    \n",
    "pay_calculator()"
   ]
  },
  {
   "cell_type": "code",
   "execution_count": 30,
   "metadata": {},
   "outputs": [],
   "source": [
    "def print_t(total) :\n",
    "    print(f'{total}')"
   ]
  },
  {
   "cell_type": "code",
   "execution_count": 31,
   "metadata": {},
   "outputs": [
    {
     "name": "stdout",
     "output_type": "stream",
     "text": [
      "hello\n"
     ]
    }
   ],
   "source": [
    "print_t(\"hello\")"
   ]
  },
  {
   "cell_type": "code",
   "execution_count": 11,
   "metadata": {},
   "outputs": [
    {
     "name": "stdout",
     "output_type": "stream",
     "text": [
      "1주간 몇 시간 일했나요? 60\n",
      "일한 날 7 일 4 시간\n",
      "지급액 : 523,400 원\n"
     ]
    }
   ],
   "source": [
    "\"\"\"\n",
    "어떤 사업장에서 1주일 일하고 주급을 지불하는데 8시간 단\n",
    "위로 1일로 하여 1일치 임금 70,000원을 줍니다.\n",
    "그러나 일일 8시간을 못 채운 시간에 대해서는 최저임금인\n",
    "8,350원을 지급할 때 사용자의 1주 노동시간을 입력 받아 주\n",
    "급을 계산하는 프로그램을 만드시오.\n",
    "(1주일 일한 시간이 50시간이라면 6일 일하고 2시간 추가 근\n",
    "무한 것으로 간주합니다.)\n",
    "\"\"\"\n",
    "\n",
    "# 8hours = 1days = 7만 원 \n",
    "# if < 8 : 1hours = 8350 \n",
    "\n",
    "work_hours = int(input(\"1주간 몇 시간 일했나요? \"))\n",
    "days = work_hours//8\n",
    "hours = work_hours%8\n",
    "pay = (days*70000) + (hours*8350) \n",
    "\n",
    "print(\"일한 날 %d 일 %d 시간\" %(days, hours))\n",
    "print(\"지급액 : %s 원\" %format(pay, ','))"
   ]
  },
  {
   "cell_type": "markdown",
   "metadata": {},
   "source": [
    "# 190321"
   ]
  },
  {
   "cell_type": "code",
   "execution_count": 18,
   "metadata": {},
   "outputs": [
    {
     "name": "stdout",
     "output_type": "stream",
     "text": [
      "당신의 점수는? > 15153525\n",
      "0~100점 사이의 점수를 입력하세요.\n"
     ]
    }
   ],
   "source": [
    "# 실습 3번\n",
    "\n",
    "try : \n",
    "    x = int(input(\"당신의 점수는? > \"))\n",
    "        \n",
    "    if (x < 0) | (x > 100) : \n",
    "        raise ValueError\n",
    "        \n",
    "    elif x < 60 : \n",
    "        print(\"F학점\")\n",
    "\n",
    "    elif x < 70 : \n",
    "        print(\"D학점\")\n",
    "\n",
    "    elif x < 80 : \n",
    "        print(\"C학점\")\n",
    "\n",
    "    elif x < 90 : \n",
    "        print(\"B학점\")\n",
    "\n",
    "    elif x <= 100 : \n",
    "        print(\"A학점\")\n",
    "\n",
    "except : \n",
    "    print(\"0~100점 사이의 점수를 입력하세요.\")\n",
    "    \n"
   ]
  },
  {
   "cell_type": "code",
   "execution_count": 11,
   "metadata": {},
   "outputs": [
    {
     "data": {
      "text/plain": [
       "True"
      ]
     },
     "execution_count": 11,
     "metadata": {},
     "output_type": "execute_result"
    }
   ],
   "source": [
    "s = \"d\"\n",
    "\n",
    "type(s) != int"
   ]
  },
  {
   "cell_type": "code",
   "execution_count": 4,
   "metadata": {},
   "outputs": [
    {
     "ename": "ValueError",
     "evalue": "invalid literal for int() with base 10: '안녕'",
     "output_type": "error",
     "traceback": [
      "\u001b[1;31m---------------------------------------------------------------------------\u001b[0m",
      "\u001b[1;31mValueError\u001b[0m                                Traceback (most recent call last)",
      "\u001b[1;32m<ipython-input-4-31121113a056>\u001b[0m in \u001b[0;36m<module>\u001b[1;34m\u001b[0m\n\u001b[0;32m      1\u001b[0m \u001b[0mx\u001b[0m \u001b[1;33m=\u001b[0m \u001b[1;34m'안녕'\u001b[0m\u001b[1;33m\u001b[0m\u001b[1;33m\u001b[0m\u001b[0m\n\u001b[1;32m----> 2\u001b[1;33m \u001b[0mint_x\u001b[0m \u001b[1;33m=\u001b[0m \u001b[0mint\u001b[0m\u001b[1;33m(\u001b[0m\u001b[0mx\u001b[0m\u001b[1;33m)\u001b[0m\u001b[1;33m\u001b[0m\u001b[1;33m\u001b[0m\u001b[0m\n\u001b[0m\u001b[0;32m      3\u001b[0m \u001b[0mprint\u001b[0m\u001b[1;33m(\u001b[0m\u001b[0mint_x\u001b[0m\u001b[1;33m)\u001b[0m\u001b[1;33m\u001b[0m\u001b[1;33m\u001b[0m\u001b[0m\n",
      "\u001b[1;31mValueError\u001b[0m: invalid literal for int() with base 10: '안녕'"
     ]
    }
   ],
   "source": [
    "x = '안녕'\n",
    "int_x = int(x)\n",
    "print(int_x)"
   ]
  },
  {
   "cell_type": "markdown",
   "metadata": {},
   "source": [
    "### Try Except"
   ]
  },
  {
   "cell_type": "code",
   "execution_count": 8,
   "metadata": {},
   "outputs": [
    {
     "name": "stdout",
     "output_type": "stream",
     "text": [
      "1주간 몇 시간 일했나요? 15\n",
      "일한 날 1 일 7 시간\n",
      "지급액 : 128,450 원\n"
     ]
    }
   ],
   "source": [
    "try : \n",
    "    work_hours = int(input(\"1주간 몇 시간 일했나요? \"))\n",
    "    days = work_hours//8\n",
    "    hours = work_hours%8\n",
    "    pay = (days*70000) + (hours*8350)\n",
    "\n",
    "    print(\"일한 날 %d 일 %d 시간\" %(days, hours))\n",
    "    print(\"지급액 : %s 원\" %format(pay, ','))\n",
    "    \n",
    "except : \n",
    "    \n",
    "    print(\"숫자를 입력하세요.\")\n",
    "    \n"
   ]
  },
  {
   "cell_type": "code",
   "execution_count": 41,
   "metadata": {},
   "outputs": [],
   "source": [
    "def even_or_flat():\n",
    "    try: \n",
    "        num = int(input(\"숫자를 적어주세요 : \"))\n",
    "\n",
    "        if num % 2 == 1 : # 홀\n",
    "            result = '홀수'\n",
    "        else : \n",
    "            result = '짝수'\n",
    "        \n",
    "        print(f'{result} 입니다.')\n",
    "        \n",
    "    except:\n",
    "        \n",
    "        print(\"잘못 입력하셨습니다.\")"
   ]
  },
  {
   "cell_type": "code",
   "execution_count": 42,
   "metadata": {},
   "outputs": [
    {
     "name": "stdout",
     "output_type": "stream",
     "text": [
      "숫자를 적어주세요 : s\n",
      "잘못 입력하셨습니다.\n"
     ]
    }
   ],
   "source": [
    "even_or_flat()"
   ]
  },
  {
   "cell_type": "markdown",
   "metadata": {},
   "source": [
    "# 180328 "
   ]
  },
  {
   "cell_type": "markdown",
   "metadata": {},
   "source": [
    "### 반복문"
   ]
  },
  {
   "cell_type": "code",
   "execution_count": 3,
   "metadata": {},
   "outputs": [
    {
     "name": "stdout",
     "output_type": "stream",
     "text": [
      "5\n",
      "4\n",
      "3\n",
      "2\n",
      "1\n"
     ]
    }
   ],
   "source": [
    "x = 5 \n",
    "\n",
    "while x > 0  :\n",
    "    print(x)\n",
    "    x -= 1 \n"
   ]
  },
  {
   "cell_type": "code",
   "execution_count": 4,
   "metadata": {},
   "outputs": [
    {
     "name": "stdout",
     "output_type": "stream",
     "text": [
      "입력 >다시\n",
      "다시마\n",
      "입력 >냥\n",
      "continue\n",
      "입력 >ㅇ\n"
     ]
    }
   ],
   "source": [
    "while True : \n",
    "    x = input(\"입력 >\")\n",
    "    \n",
    "    if x == \"다시\" :\n",
    "        print(x + \"마\")\n",
    "        \n",
    "    elif x == \"냥\" :\n",
    "        print(\"continue\")\n",
    "        continue\n",
    "    else : \n",
    "        break"
   ]
  },
  {
   "cell_type": "markdown",
   "metadata": {},
   "source": [
    "### 가장 큰 수 찾기"
   ]
  },
  {
   "cell_type": "code",
   "execution_count": 7,
   "metadata": {},
   "outputs": [
    {
     "name": "stdout",
     "output_type": "stream",
     "text": [
      "3459\n"
     ]
    }
   ],
   "source": [
    "nums = [3,54,8,234,3459,645,742,6,3242]\n",
    "max_n = 0\n",
    "\n",
    "for n in nums : \n",
    "    if n > max_n : \n",
    "        max_n = n \n",
    "        \n",
    "print(max_n)"
   ]
  },
  {
   "cell_type": "markdown",
   "metadata": {},
   "source": [
    "### 루프에서 개수 세기"
   ]
  },
  {
   "cell_type": "code",
   "execution_count": 9,
   "metadata": {},
   "outputs": [
    {
     "name": "stdout",
     "output_type": "stream",
     "text": [
      "9\n",
      "3459\n"
     ]
    }
   ],
   "source": [
    "nums = [3,54,8,234,3459,645,742,6,3242]\n",
    "max_n = 0\n",
    "\n",
    "step = 0\n",
    "\n",
    "for n in nums : \n",
    "    step += 1\n",
    "    \n",
    "    if n > max_n : \n",
    "        max_n = n \n",
    "\n",
    "print(step)        \n"
   ]
  },
  {
   "cell_type": "markdown",
   "metadata": {},
   "source": [
    "### 루프 합계 구하기"
   ]
  },
  {
   "cell_type": "code",
   "execution_count": 10,
   "metadata": {},
   "outputs": [
    {
     "name": "stdout",
     "output_type": "stream",
     "text": [
      "8393\n"
     ]
    }
   ],
   "source": [
    "nums = [3,54,8,234,3459,645,742,6,3242]\n",
    "max_n = 0\n",
    "sum_n = 0 \n",
    "\n",
    "for n in nums : \n",
    "    \n",
    "    sum_n += n\n",
    "    \n",
    "    if n > max_n : \n",
    "        max_n = n \n",
    "        \n",
    "print(sum_n)        \n"
   ]
  },
  {
   "cell_type": "markdown",
   "metadata": {},
   "source": [
    "### 루프 평균 구하기"
   ]
  },
  {
   "cell_type": "code",
   "execution_count": 14,
   "metadata": {},
   "outputs": [
    {
     "name": "stdout",
     "output_type": "stream",
     "text": [
      "개수 : 9\n",
      "합계 : 8393\n",
      "평균 : 932.556\n"
     ]
    }
   ],
   "source": [
    "nums = [3,54,8,234,3459,645,742,6,3242]\n",
    "len_n = 0\n",
    "sum_n = 0\n",
    "\n",
    "for n in nums : \n",
    "    len_n += 1\n",
    "    sum_n += n \n",
    "    \n",
    "mean_n = sum_n / len_n    \n",
    "\n",
    "print(\"개수 :\",  len_n)\n",
    "print(\"합계 :\",  sum_n)\n",
    "print(\"평균 : %2.3f\" %mean_n) #앞은 2자리, 뒤는 3자리 \n",
    "\n"
   ]
  },
  {
   "cell_type": "markdown",
   "metadata": {},
   "source": [
    "### 40보다 큰 수만 출력하기"
   ]
  },
  {
   "cell_type": "code",
   "execution_count": 19,
   "metadata": {},
   "outputs": [
    {
     "name": "stdout",
     "output_type": "stream",
     "text": [
      "False 3\n",
      "TRUE 54\n",
      "False 8\n",
      "TRUE 234\n",
      "TRUE 3459\n",
      "TRUE 645\n",
      "TRUE 742\n",
      "False 6\n",
      "TRUE 3242\n",
      "True : 6\n",
      "False: 3\n"
     ]
    }
   ],
   "source": [
    "nums = [3,54,8,234,3459,645,742,6,3242]\n",
    "true_n = 0\n",
    "false_n = 0\n",
    "for n in nums : \n",
    "    if n > 40 : \n",
    "        print(\"TRUE\", n)\n",
    "        true_n += 1\n",
    "    else : \n",
    "        print(\"False\", n)\n",
    "        false_n += 1\n",
    "print(\"True :\", true_n)\n",
    "print(\"False:\",false_n)"
   ]
  },
  {
   "cell_type": "markdown",
   "metadata": {},
   "source": [
    "### 가장 작은값 찾기"
   ]
  },
  {
   "cell_type": "code",
   "execution_count": 28,
   "metadata": {},
   "outputs": [
    {
     "name": "stdout",
     "output_type": "stream",
     "text": [
      "3\n"
     ]
    }
   ],
   "source": [
    "nums = [9, 3,54,8,234,3459,645,742,6,3242]\n",
    "\n",
    "min_n = nums[0]\n",
    "\n",
    "for n in nums : \n",
    "\n",
    "    if min_n > n : \n",
    "        min_n = n\n",
    "    \n",
    "print(min_n)"
   ]
  },
  {
   "cell_type": "markdown",
   "metadata": {},
   "source": [
    "### up & down 게임"
   ]
  },
  {
   "cell_type": "code",
   "execution_count": 2,
   "metadata": {
    "scrolled": true
   },
   "outputs": [
    {
     "name": "stdout",
     "output_type": "stream",
     "text": [
      "숫자를 입력하세요 : wdf\n",
      "1부터 100까지의 '숫자'를 입력하세요.\n",
      "숫자를 입력하세요 : 50\n",
      "UP!\n",
      "숫자를 입력하세요 : 75\n",
      "UP!\n",
      "숫자를 입력하세요 : 85\n",
      "Down!\n",
      "숫자를 입력하세요 : 80\n",
      "Down!\n",
      "숫자를 입력하세요 : 79\n",
      "정답!\n",
      "6번 만에 맞춘 당신은 평균!\n"
     ]
    }
   ],
   "source": [
    "import random \n",
    "\n",
    "answer = random.randrange(1, 101)\n",
    "count = 0\n",
    "\n",
    "while True : \n",
    "    count += 1\n",
    "    \n",
    "    try :\n",
    "        user_input = int(input(\"숫자를 입력하세요 : \"))\n",
    "\n",
    "        if user_input == answer : \n",
    "            print(\"정답!\")\n",
    "            break\n",
    "        \n",
    "        elif user_input < answer : \n",
    "            print(\"UP!\")\n",
    "            \n",
    "        else : \n",
    "            print(\"Down!\")\n",
    "    \n",
    "    except : \n",
    "        print(\"1부터 100까지의 '숫자'를 입력하세요.\")\n",
    "        \n",
    "if count <= 3 : \n",
    "    print(\"%d번 만에 맞춘 당신은 천재!\" %count)\n",
    "    \n",
    "elif count <= 7 : \n",
    "    print(\"%d번 만에 맞춘 당신은 평균!\" %count)\n",
    "    \n",
    "else : \n",
    "    print(\"%d번 만에 맞춘 당신은 바보!\" %count)"
   ]
  },
  {
   "cell_type": "code",
   "execution_count": 6,
   "metadata": {},
   "outputs": [
    {
     "name": "stdout",
     "output_type": "stream",
     "text": [
      "숫자를 입력하세요 : 250\n",
      "1부터 100까지의 '숫자'를 입력하세요.\n",
      "숫자를 입력하세요 : sdf\n",
      "1부터 100까지의 '숫자'를 입력하세요.\n",
      "숫자를 입력하세요 : -213\n",
      "1부터 100까지의 '숫자'를 입력하세요.\n",
      "숫자를 입력하세요 : -1\n",
      "1부터 100까지의 '숫자'를 입력하세요.\n",
      "숫자를 입력하세요 : 50\n",
      "Down!\n",
      "숫자를 입력하세요 : 75\n",
      "Down!\n",
      "숫자를 입력하세요 : 25\n",
      "UP!\n",
      "숫자를 입력하세요 : 35\n",
      "UP!\n",
      "숫자를 입력하세요 : 45\n",
      "Down!\n",
      "숫자를 입력하세요 : 40\n",
      "Down!\n",
      "숫자를 입력하세요 : 48\n",
      "Down!\n",
      "숫자를 입력하세요 : 47\n",
      "Down!\n",
      "숫자를 입력하세요 : 46\n",
      "Down!\n",
      "숫자를 입력하세요 : 39\n",
      "Down!\n",
      "숫자를 입력하세요 : 38\n",
      "정답!\n",
      "11번 만에 맞춘 당신은 바보!\n"
     ]
    }
   ],
   "source": [
    "import random \n",
    "\n",
    "# Pick Answer\n",
    "answer = random.randrange(1, 101)\n",
    "count = 0\n",
    "\n",
    "# Up & Down \n",
    "while True : \n",
    "    try :\n",
    "        user_input = int(input(\"숫자를 입력하세요 : \"))\n",
    "        \n",
    "        if (user_input >= 100) | (user_input < 0) :\n",
    "            raise ValueError\n",
    "            \n",
    "    except : \n",
    "        print(\"1부터 100까지의 '숫자'를 입력하세요.\")\n",
    "        \n",
    "    else : \n",
    "        count += 1\n",
    "\n",
    "        if user_input == answer : \n",
    "            print(\"정답!\")\n",
    "            break\n",
    "        \n",
    "        elif user_input < answer : \n",
    "            print(\"UP!\")\n",
    "            \n",
    "        else : \n",
    "            print(\"Down!\")\n",
    "      \n",
    "# Evaluation \n",
    "if count <= 3 : \n",
    "    print(\"%d번 만에 맞춘 당신은 천재!\" %count)\n",
    "    \n",
    "elif count <= 7 : \n",
    "    print(\"%d번 만에 맞춘 당신은 평균!\" %count)\n",
    "    \n",
    "else : \n",
    "    print(\"%d번 만에 맞춘 당신은 바보!\" %count)"
   ]
  },
  {
   "cell_type": "markdown",
   "metadata": {},
   "source": [
    "### 190404 \n",
    "\n",
    "문자 카운트"
   ]
  },
  {
   "cell_type": "code",
   "execution_count": 1,
   "metadata": {},
   "outputs": [],
   "source": [
    "from collections import Counter"
   ]
  },
  {
   "cell_type": "code",
   "execution_count": 2,
   "metadata": {},
   "outputs": [
    {
     "name": "stdout",
     "output_type": "stream",
     "text": [
      "내 이름은 송현지이고, 24살입니다.\n"
     ]
    }
   ],
   "source": [
    "print(\"내 이름은 %s이고, %d살입니다.\" %(\"송현지\", 24))"
   ]
  },
  {
   "cell_type": "code",
   "execution_count": 6,
   "metadata": {},
   "outputs": [
    {
     "data": {
      "text/plain": [
       "3"
      ]
     },
     "execution_count": 6,
     "metadata": {},
     "output_type": "execute_result"
    }
   ],
   "source": [
    "s = \"hello world\"\n",
    "s.count(\"l\")"
   ]
  },
  {
   "cell_type": "code",
   "execution_count": 7,
   "metadata": {},
   "outputs": [
    {
     "data": {
      "text/plain": [
       "'h,e,l,l,o, ,w,o,r,l,d'"
      ]
     },
     "execution_count": 7,
     "metadata": {},
     "output_type": "execute_result"
    }
   ],
   "source": [
    "','.join(s)"
   ]
  },
  {
   "cell_type": "code",
   "execution_count": 8,
   "metadata": {},
   "outputs": [
    {
     "data": {
      "text/plain": [
       "'Hello world'"
      ]
     },
     "execution_count": 8,
     "metadata": {},
     "output_type": "execute_result"
    }
   ],
   "source": [
    "# 맨 첫글자만 대문자로 변환\n",
    "s.capitalize() "
   ]
  },
  {
   "cell_type": "code",
   "execution_count": 10,
   "metadata": {},
   "outputs": [
    {
     "data": {
      "text/plain": [
       "6"
      ]
     },
     "execution_count": 10,
     "metadata": {},
     "output_type": "execute_result"
    }
   ],
   "source": [
    "s.find(\"wor\")"
   ]
  },
  {
   "cell_type": "markdown",
   "metadata": {},
   "source": [
    "lstrip # left strip : 왼쪽의 공백 제거 <br>\n",
    "rstrip # right strip : 오른쪽의 공백 제거 "
   ]
  },
  {
   "cell_type": "code",
   "execution_count": 11,
   "metadata": {},
   "outputs": [],
   "source": [
    "word = '     hello     '"
   ]
  },
  {
   "cell_type": "code",
   "execution_count": 12,
   "metadata": {},
   "outputs": [
    {
     "data": {
      "text/plain": [
       "'hello     '"
      ]
     },
     "execution_count": 12,
     "metadata": {},
     "output_type": "execute_result"
    }
   ],
   "source": [
    "word.lstrip()"
   ]
  },
  {
   "cell_type": "code",
   "execution_count": 13,
   "metadata": {},
   "outputs": [
    {
     "data": {
      "text/plain": [
       "'     hello'"
      ]
     },
     "execution_count": 13,
     "metadata": {},
     "output_type": "execute_result"
    }
   ],
   "source": [
    "word.rstrip()"
   ]
  },
  {
   "cell_type": "code",
   "execution_count": 14,
   "metadata": {},
   "outputs": [
    {
     "data": {
      "text/plain": [
       "'hello'"
      ]
     },
     "execution_count": 14,
     "metadata": {},
     "output_type": "execute_result"
    }
   ],
   "source": [
    "word.strip()"
   ]
  },
  {
   "cell_type": "markdown",
   "metadata": {},
   "source": [
    "### 파일 읽기"
   ]
  },
  {
   "cell_type": "code",
   "execution_count": 16,
   "metadata": {},
   "outputs": [],
   "source": [
    "with open(\"test.txt\", \"w\", encoding=\"utf-8\") as f : # r : 읽기 모드, t : text -> 둘 다 기본값. \n",
    "    f.write(\"hello world\")\n",
    "    "
   ]
  },
  {
   "cell_type": "code",
   "execution_count": 17,
   "metadata": {},
   "outputs": [
    {
     "data": {
      "text/plain": [
       "True"
      ]
     },
     "execution_count": 17,
     "metadata": {},
     "output_type": "execute_result"
    }
   ],
   "source": [
    "s.startswith(\"h\")"
   ]
  },
  {
   "cell_type": "markdown",
   "metadata": {},
   "source": [
    "### 실습"
   ]
  },
  {
   "cell_type": "code",
   "execution_count": 3,
   "metadata": {},
   "outputs": [],
   "source": [
    "with open(\"work_py/kakao.txt\", \"r\", encoding=\"utf-8\") as f : \n",
    "    lines = f.read()\n",
    "    lines = lines.replace('\\n', '').replace('2018년', '\\n2018년')\n",
    "    \n",
    "with open(\"work_py/kakaofix.txt\", \"w\", encoding=\"utf-8\") as fd : \n",
    "    fd.write(lines)"
   ]
  },
  {
   "cell_type": "markdown",
   "metadata": {},
   "source": [
    "### 6주차 실습"
   ]
  },
  {
   "cell_type": "code",
   "execution_count": 196,
   "metadata": {},
   "outputs": [],
   "source": [
    "import re \n",
    "from collections import Counter\n",
    "\n",
    "with open(\"work_py/mbox-s.txt\", \"r\", encoding=\"utf-8\") as f : \n",
    "    lines = f.read()\n",
    "    \n",
    "    # 파싱\n",
    "    p = re.compile('^From\\s.*$', re.MULTILINE)\n",
    "    Froms = p.findall(lines)\n",
    "    days = list(map(lambda x: x.split()[-5], Froms))\n",
    "    days_str = ' '.join(days)\n",
    "    \n",
    "    # 개수\n",
    "    cnt_Fri = Counter(days)['Fri']\n",
    "    print(cnt_Fit)\n",
    "    \n",
    "with open(\"work_py/day-s.txt\", \"w\", encoding=\"utf-8\") as fd : \n",
    "    fd.write(days_str)"
   ]
  },
  {
   "cell_type": "code",
   "execution_count": 197,
   "metadata": {},
   "outputs": [],
   "source": [
    "with open(\"work_py/day-s.txt\", \"w\", encoding=\"utf-8\") as fd : \n",
    "    fd.write(days_str)"
   ]
  },
  {
   "cell_type": "code",
   "execution_count": 14,
   "metadata": {},
   "outputs": [],
   "source": [
    "import re \n",
    "\n",
    "p = re.compile('^From')\n",
    "results = p.findall(lines)"
   ]
  },
  {
   "cell_type": "code",
   "execution_count": 15,
   "metadata": {},
   "outputs": [
    {
     "data": {
      "text/plain": [
       "['From']"
      ]
     },
     "execution_count": 15,
     "metadata": {},
     "output_type": "execute_result"
    }
   ],
   "source": [
    "results"
   ]
  },
  {
   "cell_type": "code",
   "execution_count": 20,
   "metadata": {},
   "outputs": [],
   "source": [
    "txt = 'From stephen.marquard@uct.ac.za Sat Jan  5 09:14:16 2008\\n'"
   ]
  },
  {
   "cell_type": "code",
   "execution_count": 157,
   "metadata": {},
   "outputs": [],
   "source": [
    "p = re.compile(r'^From\\s\\w+\\W\\w+\\W\\w+\\W(?:\\s|\\w+)(?:\\s|\\W)(?:\\s|\\w+)\\s(?:\\s|\\w+)', re.MULTILINE)"
   ]
  },
  {
   "cell_type": "code",
   "execution_count": 179,
   "metadata": {},
   "outputs": [],
   "source": [
    "p = re.compile('^From\\s.*$', re.MULTILINE)"
   ]
  },
  {
   "cell_type": "code",
   "execution_count": 192,
   "metadata": {},
   "outputs": [],
   "source": [
    "Froms = p.findall(lines)"
   ]
  },
  {
   "cell_type": "code",
   "execution_count": 193,
   "metadata": {},
   "outputs": [],
   "source": [
    "days = list(map(lambda x: x.split()[-5], Froms))"
   ]
  },
  {
   "cell_type": "code",
   "execution_count": 195,
   "metadata": {},
   "outputs": [
    {
     "data": {
      "text/plain": [
       "'Sat Fri Fri Fri Fri Fri Fri Fri Fri Fri Fri Fri Fri Fri Fri Fri Fri Fri Fri Fri Fri Thu Thu Thu Thu Thu Thu'"
      ]
     },
     "execution_count": 195,
     "metadata": {},
     "output_type": "execute_result"
    }
   ],
   "source": [
    "days_txt = ' '.join(days)"
   ]
  },
  {
   "cell_type": "code",
   "execution_count": 199,
   "metadata": {},
   "outputs": [],
   "source": [
    "from collections import Counter"
   ]
  },
  {
   "cell_type": "code",
   "execution_count": 201,
   "metadata": {},
   "outputs": [
    {
     "data": {
      "text/plain": [
       "20"
      ]
     },
     "execution_count": 201,
     "metadata": {},
     "output_type": "execute_result"
    }
   ],
   "source": [
    "cnt_Fri = Counter(days)['Fri']\n",
    "print(cnt_Fit)"
   ]
  },
  {
   "cell_type": "markdown",
   "metadata": {},
   "source": [
    "### 190418"
   ]
  },
  {
   "cell_type": "code",
   "execution_count": 1,
   "metadata": {},
   "outputs": [],
   "source": [
    "nums = [1,2,3,1,1]\n",
    "\n",
    "num_dict = {}\n",
    "\n",
    "for n in nums : \n",
    "    if n in num_dict : \n",
    "        num_dict[n] += 1\n",
    "    else : \n",
    "        num_dict[n] = 1"
   ]
  },
  {
   "cell_type": "code",
   "execution_count": 2,
   "metadata": {},
   "outputs": [
    {
     "data": {
      "text/plain": [
       "{1: 3, 2: 1, 3: 1}"
      ]
     },
     "execution_count": 2,
     "metadata": {},
     "output_type": "execute_result"
    }
   ],
   "source": [
    "num_dict"
   ]
  },
  {
   "cell_type": "code",
   "execution_count": 3,
   "metadata": {},
   "outputs": [],
   "source": [
    "for n in nums : \n",
    "    num_dict[n] : num_dict.get(n, 0) + 1 # 키가 있으면 n에 1을 더하고, 키가 없으면 기본값 0으로 설정 "
   ]
  },
  {
   "cell_type": "code",
   "execution_count": 6,
   "metadata": {},
   "outputs": [
    {
     "data": {
      "text/plain": [
       "0"
      ]
     },
     "execution_count": 6,
     "metadata": {},
     "output_type": "execute_result"
    }
   ],
   "source": [
    "num_dict.get(4,0)"
   ]
  },
  {
   "cell_type": "markdown",
   "metadata": {},
   "source": [
    "### 190502 정규표현식\n",
    "\n",
    "- [정규표현식](https://ko.wikipedia.org/wiki/%EC%A0%95%EA%B7%9C_%ED%91%9C%ED%98%84%EC%8B%9D)"
   ]
  },
  {
   "cell_type": "code",
   "execution_count": 5,
   "metadata": {},
   "outputs": [
    {
     "name": "stdout",
     "output_type": "stream",
     "text": [
      "20\n"
     ]
    }
   ],
   "source": [
    "import re \n",
    "from collections import Counter\n",
    "\n",
    "with open(\"work_py/mbox-s.txt\", \"r\", encoding=\"utf-8\") as f : \n",
    "    lines = f.read()\n",
    "    \n",
    "    # 파싱\n",
    "    p = re.compile('^From\\s.*$', re.MULTILINE)\n",
    "    Froms = p.findall(lines)\n",
    "    days = list(map(lambda x: x.split()[-5], Froms))\n",
    "    days_str = ' '.join(days)\n",
    "    \n",
    "    # 개수\n",
    "    cnt_Fri = Counter(days)['Fri']\n",
    "    print(cnt_Fri)\n",
    "    \n",
    "with open(\"work_py/day-s.txt\", \"w\", encoding=\"utf-8\") as fd : \n",
    "    fd.write(days_str)"
   ]
  },
  {
   "cell_type": "code",
   "execution_count": 7,
   "metadata": {},
   "outputs": [
    {
     "name": "stdout",
     "output_type": "stream",
     "text": [
      "From: stephen.marquard@uct.ac.za\n",
      "From: louis@media.berkeley.edu\n",
      "From: zqian@umich.edu\n",
      "From: rjlowe@iupui.edu\n",
      "From: zqian@umich.edu\n",
      "From: rjlowe@iupui.edu\n",
      "From: cwen@iupui.edu\n",
      "From: cwen@iupui.edu\n",
      "From: gsilver@umich.edu\n",
      "From: gsilver@umich.edu\n",
      "From: zqian@umich.edu\n",
      "From: gsilver@umich.edu\n",
      "From: wagnermr@iupui.edu\n",
      "From: zqian@umich.edu\n",
      "From: antranig@caret.cam.ac.uk\n",
      "From: gopal.ramasammycook@gmail.com\n",
      "From: david.horwitz@uct.ac.za\n",
      "From: david.horwitz@uct.ac.za\n",
      "From: david.horwitz@uct.ac.za\n",
      "From: david.horwitz@uct.ac.za\n",
      "From: stephen.marquard@uct.ac.za\n",
      "From: louis@media.berkeley.edu\n",
      "From: louis@media.berkeley.edu\n",
      "From: ray@media.berkeley.edu\n",
      "From: cwen@iupui.edu\n",
      "From: cwen@iupui.edu\n",
      "From: cwen@iupui.edu\n"
     ]
    }
   ],
   "source": [
    "import re\n",
    "\n",
    "with open(\"work_py/mbox-s.txt\", \"r\", encoding=\"utf-8\") as f : \n",
    "    hand = f.read().split('\\n')\n",
    "    for line in hand : \n",
    "        line = line.rstrip()\n",
    "        if re.search('From:', line):\n",
    "            print(line)"
   ]
  },
  {
   "cell_type": "code",
   "execution_count": 8,
   "metadata": {},
   "outputs": [
    {
     "name": "stdout",
     "output_type": "stream",
     "text": [
      "From: stephen.marquard@uct.ac.za\n",
      "From: louis@media.berkeley.edu\n",
      "From: zqian@umich.edu\n",
      "From: rjlowe@iupui.edu\n",
      "From: zqian@umich.edu\n",
      "From: rjlowe@iupui.edu\n",
      "From: cwen@iupui.edu\n",
      "From: cwen@iupui.edu\n",
      "From: gsilver@umich.edu\n",
      "From: gsilver@umich.edu\n",
      "From: zqian@umich.edu\n",
      "From: gsilver@umich.edu\n",
      "From: wagnermr@iupui.edu\n",
      "From: zqian@umich.edu\n",
      "From: antranig@caret.cam.ac.uk\n",
      "From: gopal.ramasammycook@gmail.com\n",
      "From: david.horwitz@uct.ac.za\n",
      "From: david.horwitz@uct.ac.za\n",
      "From: david.horwitz@uct.ac.za\n",
      "From: david.horwitz@uct.ac.za\n",
      "From: stephen.marquard@uct.ac.za\n",
      "From: louis@media.berkeley.edu\n",
      "From: louis@media.berkeley.edu\n",
      "From: ray@media.berkeley.edu\n",
      "From: cwen@iupui.edu\n",
      "From: cwen@iupui.edu\n",
      "From: cwen@iupui.edu\n"
     ]
    }
   ],
   "source": [
    "import re\n",
    "\n",
    "with open(\"work_py/mbox-s.txt\", \"r\", encoding=\"utf-8\") as f : \n",
    "    hand = f.read().split('\\n')\n",
    "    for line in hand : \n",
    "        line = line.rstrip()\n",
    "        if re.search('^From:', line):\n",
    "            print(line)"
   ]
  },
  {
   "cell_type": "markdown",
   "metadata": {},
   "source": [
    "**숫자, 문자 찾기**"
   ]
  },
  {
   "cell_type": "code",
   "execution_count": 11,
   "metadata": {},
   "outputs": [
    {
     "name": "stdout",
     "output_type": "stream",
     "text": [
      "['2', '3', '37']\n",
      "[]\n",
      "['a', 'e', 'e', 'a', 'e', 'a']\n",
      "['abc', 'b', 'a', 'a']\n"
     ]
    }
   ],
   "source": [
    "import re \n",
    "\n",
    "x = 'My 2 fabcvorite numbers are 3 and 37'\n",
    "y = re.findall('[0-9]+',x)\n",
    "print(y)\n",
    "z = re.findall('[AEIOU]+',x)\n",
    "print(z)\n",
    "t = re.findall('[ae]+',x)\n",
    "print(t)\n",
    "\n",
    "abc = re.findall('[a-c]+',x)\n",
    "print(abc)"
   ]
  },
  {
   "cell_type": "markdown",
   "metadata": {},
   "source": [
    "**탐욕적인 방법**"
   ]
  },
  {
   "cell_type": "code",
   "execution_count": 12,
   "metadata": {},
   "outputs": [
    {
     "name": "stdout",
     "output_type": "stream",
     "text": [
      "['From: Using the :']\n"
     ]
    }
   ],
   "source": [
    "x = 'From: Using the : character'\n",
    "y = re.findall('^F.+:',x)\n",
    "print(y)"
   ]
  },
  {
   "cell_type": "markdown",
   "metadata": {},
   "source": [
    "**비탐욕적인 방법 : '?'**"
   ]
  },
  {
   "cell_type": "code",
   "execution_count": 13,
   "metadata": {},
   "outputs": [
    {
     "name": "stdout",
     "output_type": "stream",
     "text": [
      "['From:']\n"
     ]
    }
   ],
   "source": [
    "x = 'From: Using the : character'\n",
    "y = re.findall('^F.+?:',x)\n",
    "print(y)"
   ]
  },
  {
   "cell_type": "code",
   "execution_count": 14,
   "metadata": {},
   "outputs": [
    {
     "name": "stdout",
     "output_type": "stream",
     "text": [
      "['abc']\n"
     ]
    }
   ],
   "source": [
    "x = 'ac abc abbc abbbc'\n",
    "y = re.findall('a.c', x)\n",
    "print(y)"
   ]
  },
  {
   "cell_type": "code",
   "execution_count": 18,
   "metadata": {},
   "outputs": [
    {
     "name": "stdout",
     "output_type": "stream",
     "text": [
      "['abc', 'abbc', 'abbbc']\n"
     ]
    }
   ],
   "source": [
    "x = 'ac abc abbc abbbc'\n",
    "y = re.findall('ab+c', x)\n",
    "print(y)"
   ]
  },
  {
   "cell_type": "code",
   "execution_count": 20,
   "metadata": {},
   "outputs": [
    {
     "name": "stdout",
     "output_type": "stream",
     "text": [
      "['abbc', 'abbbc']\n"
     ]
    }
   ],
   "source": [
    "x = 'ac abc abbc abbbc'\n",
    "y = re.findall('ab{2,3}c', x)\n",
    "print(y)"
   ]
  },
  {
   "cell_type": "markdown",
   "metadata": {},
   "source": [
    "- \\S : 공백이 없다."
   ]
  },
  {
   "cell_type": "code",
   "execution_count": 31,
   "metadata": {},
   "outputs": [
    {
     "name": "stdout",
     "output_type": "stream",
     "text": [
      "['guseod24@naver.com']\n"
     ]
    }
   ],
   "source": [
    "import re \n",
    "x = 'From guseod24@naver.com Thu Apr 4 13:35:21 2019'\n",
    "y = re.findall('\\S+@\\S+', x)\n",
    "print(y)"
   ]
  },
  {
   "cell_type": "markdown",
   "metadata": {},
   "source": [
    "- 시작할 때의 '^'은 시작점을 의미한다.\n",
    "- 대괄호 안의 '^'은 not을 의미한다."
   ]
  },
  {
   "cell_type": "code",
   "execution_count": 35,
   "metadata": {},
   "outputs": [
    {
     "name": "stdout",
     "output_type": "stream",
     "text": [
      "['naver.com']\n",
      "['naver.com']\n"
     ]
    }
   ],
   "source": [
    "import re \n",
    "x = 'From guseod24@naver.com Thu Apr 4 13:35:21 2019'\n",
    "y = re.findall('@([^ ]*)', x)\n",
    "print(y)\n",
    "\n",
    "z = re.findall('^From .*@([^ ]*)', x)\n",
    "print(z)"
   ]
  },
  {
   "cell_type": "code",
   "execution_count": null,
   "metadata": {},
   "outputs": [],
   "source": []
  }
 ],
 "metadata": {
  "kernelspec": {
   "display_name": "python3.6",
   "language": "python",
   "name": "py36"
  },
  "language_info": {
   "codemirror_mode": {
    "name": "ipython",
    "version": 3
   },
   "file_extension": ".py",
   "mimetype": "text/x-python",
   "name": "python",
   "nbconvert_exporter": "python",
   "pygments_lexer": "ipython3",
   "version": "3.6.8"
  }
 },
 "nbformat": 4,
 "nbformat_minor": 2
}
