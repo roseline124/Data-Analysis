{
 "cells": [
  {
   "cell_type": "code",
   "execution_count": 52,
   "metadata": {},
   "outputs": [],
   "source": [
    "import pandas as pd\n",
    "import random"
   ]
  },
  {
   "cell_type": "code",
   "execution_count": 53,
   "metadata": {},
   "outputs": [],
   "source": [
    "df = pd.read_csv('DA.csv', \n",
    "                header=9, \n",
    "                usecols=[\"학과(부) 및 전공\", \"학     번\", \"성     명\"],\n",
    "                encoding='utf-8')"
   ]
  },
  {
   "cell_type": "code",
   "execution_count": 54,
   "metadata": {},
   "outputs": [],
   "source": [
    "df.dropna(axis=0, inplace=True)\n",
    "df.rename(columns={df.columns[0] : 'major', df.columns[1] : 'id', df.columns[2] : 'name'}, inplace=True )"
   ]
  },
  {
   "cell_type": "code",
   "execution_count": 55,
   "metadata": {},
   "outputs": [],
   "source": [
    "def extract_id(column) :\n",
    "    return str(column)[2:4]\n",
    "\n",
    "def cast_to_int(column) :\n",
    "    return int(column)\n",
    "\n",
    "df['id'] = df['id'].apply(extract_id)\n",
    "# df['id'] = df['id'].apply(cast_to_int)"
   ]
  },
  {
   "cell_type": "code",
   "execution_count": 56,
   "metadata": {},
   "outputs": [
    {
     "data": {
      "text/html": [
       "<div>\n",
       "<style scoped>\n",
       "    .dataframe tbody tr th:only-of-type {\n",
       "        vertical-align: middle;\n",
       "    }\n",
       "\n",
       "    .dataframe tbody tr th {\n",
       "        vertical-align: top;\n",
       "    }\n",
       "\n",
       "    .dataframe thead th {\n",
       "        text-align: right;\n",
       "    }\n",
       "</style>\n",
       "<table border=\"1\" class=\"dataframe\">\n",
       "  <thead>\n",
       "    <tr style=\"text-align: right;\">\n",
       "      <th></th>\n",
       "      <th>major</th>\n",
       "      <th>id</th>\n",
       "      <th>name</th>\n",
       "    </tr>\n",
       "  </thead>\n",
       "  <tbody>\n",
       "    <tr>\n",
       "      <th>1</th>\n",
       "      <td>광고홍보학과</td>\n",
       "      <td>13</td>\n",
       "      <td>곽종현</td>\n",
       "    </tr>\n",
       "    <tr>\n",
       "      <th>2</th>\n",
       "      <td>광고홍보학과</td>\n",
       "      <td>13</td>\n",
       "      <td>윤준범</td>\n",
       "    </tr>\n",
       "    <tr>\n",
       "      <th>3</th>\n",
       "      <td>광고홍보학과</td>\n",
       "      <td>13</td>\n",
       "      <td>전종하</td>\n",
       "    </tr>\n",
       "    <tr>\n",
       "      <th>4</th>\n",
       "      <td>광고홍보학과</td>\n",
       "      <td>14</td>\n",
       "      <td>김남웅</td>\n",
       "    </tr>\n",
       "    <tr>\n",
       "      <th>5</th>\n",
       "      <td>광고홍보학과</td>\n",
       "      <td>14</td>\n",
       "      <td>김주환</td>\n",
       "    </tr>\n",
       "  </tbody>\n",
       "</table>\n",
       "</div>"
      ],
      "text/plain": [
       "    major  id name\n",
       "1  광고홍보학과  13  곽종현\n",
       "2  광고홍보학과  13  윤준범\n",
       "3  광고홍보학과  13  전종하\n",
       "4  광고홍보학과  14  김남웅\n",
       "5  광고홍보학과  14  김주환"
      ]
     },
     "execution_count": 56,
     "metadata": {},
     "output_type": "execute_result"
    }
   ],
   "source": [
    "df.head()"
   ]
  },
  {
   "cell_type": "code",
   "execution_count": 57,
   "metadata": {},
   "outputs": [
    {
     "data": {
      "text/plain": [
       "array([['광고홍보학과', '13', '곽종현'],\n",
       "       ['광고홍보학과', '13', '윤준범'],\n",
       "       ['광고홍보학과', '13', '전종하'],\n",
       "       ['광고홍보학과', '14', '김남웅'],\n",
       "       ['광고홍보학과', '14', '김주환'],\n",
       "       ['광고홍보학과', '14', '송현지'],\n",
       "       ['광고홍보학과', '15', '도윤석'],\n",
       "       ['광고홍보학과', '15', '이주영'],\n",
       "       ['광고홍보학과', '15', '정서윤'],\n",
       "       ['광고홍보학과', '15', '정효선'],\n",
       "       ['광고홍보학과', '15', '이수진'],\n",
       "       ['광고홍보학과', '16', '최연주'],\n",
       "       ['광고홍보학과', '16', '김호정'],\n",
       "       ['광고홍보학과', '16', '이준기'],\n",
       "       ['광고홍보학과', '17', '주준태'],\n",
       "       ['산업경영공학과', '13', '신준섭'],\n",
       "       ['테크노프로덕트디자인학과', '16', '허은주']], dtype=object)"
      ]
     },
     "execution_count": 57,
     "metadata": {},
     "output_type": "execute_result"
    }
   ],
   "source": [
    "df.values"
   ]
  },
  {
   "cell_type": "code",
   "execution_count": 58,
   "metadata": {},
   "outputs": [
    {
     "data": {
      "text/plain": [
       "Index(['major', 'id', 'name'], dtype='object')"
      ]
     },
     "execution_count": 58,
     "metadata": {},
     "output_type": "execute_result"
    }
   ],
   "source": [
    "df.columns\n",
    "# df.id"
   ]
  },
  {
   "cell_type": "markdown",
   "metadata": {},
   "source": [
    "## 팀장 그룹"
   ]
  },
  {
   "cell_type": "code",
   "execution_count": null,
   "metadata": {},
   "outputs": [],
   "source": [
    "leaders = input(\"팀장을 입력하세요. ex) 김철수 김영희 >\").split(\" \")\n",
    "leaders"
   ]
  },
  {
   "cell_type": "code",
   "execution_count": 9,
   "metadata": {},
   "outputs": [],
   "source": [
    "#get team mates number\n",
    "mateNum = (len(df)//len(leaders))-1\n",
    "\n",
    "#get plus team mates \n",
    "plusMate = len(df)%len(leaders)"
   ]
  },
  {
   "cell_type": "code",
   "execution_count": 10,
   "metadata": {},
   "outputs": [
    {
     "data": {
      "text/html": [
       "<div>\n",
       "<style scoped>\n",
       "    .dataframe tbody tr th:only-of-type {\n",
       "        vertical-align: middle;\n",
       "    }\n",
       "\n",
       "    .dataframe tbody tr th {\n",
       "        vertical-align: top;\n",
       "    }\n",
       "\n",
       "    .dataframe thead th {\n",
       "        text-align: right;\n",
       "    }\n",
       "</style>\n",
       "<table border=\"1\" class=\"dataframe\">\n",
       "  <thead>\n",
       "    <tr style=\"text-align: right;\">\n",
       "      <th></th>\n",
       "      <th>major</th>\n",
       "      <th>id</th>\n",
       "      <th>name</th>\n",
       "      <th>leader</th>\n",
       "    </tr>\n",
       "  </thead>\n",
       "  <tbody>\n",
       "    <tr>\n",
       "      <th>1</th>\n",
       "      <td>광고홍보학과</td>\n",
       "      <td>13</td>\n",
       "      <td>곽종현</td>\n",
       "      <td>True</td>\n",
       "    </tr>\n",
       "    <tr>\n",
       "      <th>2</th>\n",
       "      <td>광고홍보학과</td>\n",
       "      <td>13</td>\n",
       "      <td>윤준범</td>\n",
       "      <td>False</td>\n",
       "    </tr>\n",
       "    <tr>\n",
       "      <th>3</th>\n",
       "      <td>광고홍보학과</td>\n",
       "      <td>13</td>\n",
       "      <td>전종하</td>\n",
       "      <td>True</td>\n",
       "    </tr>\n",
       "    <tr>\n",
       "      <th>4</th>\n",
       "      <td>광고홍보학과</td>\n",
       "      <td>14</td>\n",
       "      <td>김남웅</td>\n",
       "      <td>True</td>\n",
       "    </tr>\n",
       "    <tr>\n",
       "      <th>5</th>\n",
       "      <td>광고홍보학과</td>\n",
       "      <td>14</td>\n",
       "      <td>김주환</td>\n",
       "      <td>False</td>\n",
       "    </tr>\n",
       "  </tbody>\n",
       "</table>\n",
       "</div>"
      ],
      "text/plain": [
       "    major  id name  leader\n",
       "1  광고홍보학과  13  곽종현    True\n",
       "2  광고홍보학과  13  윤준범   False\n",
       "3  광고홍보학과  13  전종하    True\n",
       "4  광고홍보학과  14  김남웅    True\n",
       "5  광고홍보학과  14  김주환   False"
      ]
     },
     "execution_count": 10,
     "metadata": {},
     "output_type": "execute_result"
    }
   ],
   "source": [
    "df['leader'] = df['name'].isin(leaders)\n",
    "df.head()"
   ]
  },
  {
   "cell_type": "code",
   "execution_count": 11,
   "metadata": {},
   "outputs": [
    {
     "data": {
      "text/html": [
       "<div>\n",
       "<style scoped>\n",
       "    .dataframe tbody tr th:only-of-type {\n",
       "        vertical-align: middle;\n",
       "    }\n",
       "\n",
       "    .dataframe tbody tr th {\n",
       "        vertical-align: top;\n",
       "    }\n",
       "\n",
       "    .dataframe thead th {\n",
       "        text-align: right;\n",
       "    }\n",
       "</style>\n",
       "<table border=\"1\" class=\"dataframe\">\n",
       "  <thead>\n",
       "    <tr style=\"text-align: right;\">\n",
       "      <th></th>\n",
       "      <th>major</th>\n",
       "      <th>id</th>\n",
       "      <th>name</th>\n",
       "    </tr>\n",
       "  </thead>\n",
       "  <tbody>\n",
       "    <tr>\n",
       "      <th>1</th>\n",
       "      <td>광고홍보학과</td>\n",
       "      <td>13</td>\n",
       "      <td>곽종현</td>\n",
       "    </tr>\n",
       "    <tr>\n",
       "      <th>3</th>\n",
       "      <td>광고홍보학과</td>\n",
       "      <td>13</td>\n",
       "      <td>전종하</td>\n",
       "    </tr>\n",
       "    <tr>\n",
       "      <th>4</th>\n",
       "      <td>광고홍보학과</td>\n",
       "      <td>14</td>\n",
       "      <td>김남웅</td>\n",
       "    </tr>\n",
       "    <tr>\n",
       "      <th>6</th>\n",
       "      <td>광고홍보학과</td>\n",
       "      <td>14</td>\n",
       "      <td>송현지</td>\n",
       "    </tr>\n",
       "  </tbody>\n",
       "</table>\n",
       "</div>"
      ],
      "text/plain": [
       "    major  id name\n",
       "1  광고홍보학과  13  곽종현\n",
       "3  광고홍보학과  13  전종하\n",
       "4  광고홍보학과  14  김남웅\n",
       "6  광고홍보학과  14  송현지"
      ]
     },
     "execution_count": 11,
     "metadata": {},
     "output_type": "execute_result"
    }
   ],
   "source": [
    "df_leader = df[df['leader']==True]\n",
    "df_leader = df_leader.loc[:,:\"name\"]\n",
    "df_leader\n"
   ]
  },
  {
   "cell_type": "markdown",
   "metadata": {},
   "source": [
    "## 팀원 그룹"
   ]
  },
  {
   "cell_type": "code",
   "execution_count": 12,
   "metadata": {},
   "outputs": [
    {
     "data": {
      "text/html": [
       "<div>\n",
       "<style scoped>\n",
       "    .dataframe tbody tr th:only-of-type {\n",
       "        vertical-align: middle;\n",
       "    }\n",
       "\n",
       "    .dataframe tbody tr th {\n",
       "        vertical-align: top;\n",
       "    }\n",
       "\n",
       "    .dataframe thead th {\n",
       "        text-align: right;\n",
       "    }\n",
       "</style>\n",
       "<table border=\"1\" class=\"dataframe\">\n",
       "  <thead>\n",
       "    <tr style=\"text-align: right;\">\n",
       "      <th></th>\n",
       "      <th>major</th>\n",
       "      <th>id</th>\n",
       "      <th>name</th>\n",
       "    </tr>\n",
       "  </thead>\n",
       "  <tbody>\n",
       "    <tr>\n",
       "      <th>2</th>\n",
       "      <td>광고홍보학과</td>\n",
       "      <td>13</td>\n",
       "      <td>윤준범</td>\n",
       "    </tr>\n",
       "    <tr>\n",
       "      <th>5</th>\n",
       "      <td>광고홍보학과</td>\n",
       "      <td>14</td>\n",
       "      <td>김주환</td>\n",
       "    </tr>\n",
       "    <tr>\n",
       "      <th>7</th>\n",
       "      <td>광고홍보학과</td>\n",
       "      <td>15</td>\n",
       "      <td>도윤석</td>\n",
       "    </tr>\n",
       "    <tr>\n",
       "      <th>8</th>\n",
       "      <td>광고홍보학과</td>\n",
       "      <td>15</td>\n",
       "      <td>이주영</td>\n",
       "    </tr>\n",
       "    <tr>\n",
       "      <th>9</th>\n",
       "      <td>광고홍보학과</td>\n",
       "      <td>15</td>\n",
       "      <td>정서윤</td>\n",
       "    </tr>\n",
       "  </tbody>\n",
       "</table>\n",
       "</div>"
      ],
      "text/plain": [
       "    major  id name\n",
       "2  광고홍보학과  13  윤준범\n",
       "5  광고홍보학과  14  김주환\n",
       "7  광고홍보학과  15  도윤석\n",
       "8  광고홍보학과  15  이주영\n",
       "9  광고홍보학과  15  정서윤"
      ]
     },
     "execution_count": 12,
     "metadata": {},
     "output_type": "execute_result"
    }
   ],
   "source": [
    "df_mates = df[df['leader']==False]\n",
    "df_mates = df_mates.loc[:,:\"name\"]\n",
    "df_mates.head()"
   ]
  },
  {
   "cell_type": "markdown",
   "metadata": {},
   "source": [
    "## 조건\n",
    "\n",
    "1. 다중 전공 (if not '광고홍보학과')\n",
    "2. 학번"
   ]
  },
  {
   "cell_type": "code",
   "execution_count": 13,
   "metadata": {},
   "outputs": [
    {
     "data": {
      "text/html": [
       "<div>\n",
       "<style scoped>\n",
       "    .dataframe tbody tr th:only-of-type {\n",
       "        vertical-align: middle;\n",
       "    }\n",
       "\n",
       "    .dataframe tbody tr th {\n",
       "        vertical-align: top;\n",
       "    }\n",
       "\n",
       "    .dataframe thead th {\n",
       "        text-align: right;\n",
       "    }\n",
       "</style>\n",
       "<table border=\"1\" class=\"dataframe\">\n",
       "  <thead>\n",
       "    <tr style=\"text-align: right;\">\n",
       "      <th></th>\n",
       "      <th>major</th>\n",
       "      <th>id</th>\n",
       "      <th>name</th>\n",
       "    </tr>\n",
       "  </thead>\n",
       "  <tbody>\n",
       "    <tr>\n",
       "      <th>16</th>\n",
       "      <td>산업경영공학과</td>\n",
       "      <td>13</td>\n",
       "      <td>신준섭</td>\n",
       "    </tr>\n",
       "    <tr>\n",
       "      <th>17</th>\n",
       "      <td>테크노프로덕트디자인학과</td>\n",
       "      <td>16</td>\n",
       "      <td>허은주</td>\n",
       "    </tr>\n",
       "  </tbody>\n",
       "</table>\n",
       "</div>"
      ],
      "text/plain": [
       "           major  id name\n",
       "16       산업경영공학과  13  신준섭\n",
       "17  테크노프로덕트디자인학과  16  허은주"
      ]
     },
     "execution_count": 13,
     "metadata": {},
     "output_type": "execute_result"
    }
   ],
   "source": [
    "df_other_major = df_mates[df_mates['major']!='광고홍보학과']\n",
    "df_other_major"
   ]
  },
  {
   "cell_type": "markdown",
   "metadata": {},
   "source": [
    "## 돌려돌려 돌림판~~"
   ]
  },
  {
   "cell_type": "code",
   "execution_count": 14,
   "metadata": {},
   "outputs": [
    {
     "data": {
      "text/html": [
       "<div>\n",
       "<style scoped>\n",
       "    .dataframe tbody tr th:only-of-type {\n",
       "        vertical-align: middle;\n",
       "    }\n",
       "\n",
       "    .dataframe tbody tr th {\n",
       "        vertical-align: top;\n",
       "    }\n",
       "\n",
       "    .dataframe thead th {\n",
       "        text-align: right;\n",
       "    }\n",
       "</style>\n",
       "<table border=\"1\" class=\"dataframe\">\n",
       "  <thead>\n",
       "    <tr style=\"text-align: right;\">\n",
       "      <th></th>\n",
       "      <th>major</th>\n",
       "      <th>id</th>\n",
       "      <th>name</th>\n",
       "    </tr>\n",
       "  </thead>\n",
       "  <tbody>\n",
       "    <tr>\n",
       "      <th>17</th>\n",
       "      <td>테크노프로덕트디자인학과</td>\n",
       "      <td>16</td>\n",
       "      <td>허은주</td>\n",
       "    </tr>\n",
       "    <tr>\n",
       "      <th>5</th>\n",
       "      <td>광고홍보학과</td>\n",
       "      <td>14</td>\n",
       "      <td>김주환</td>\n",
       "    </tr>\n",
       "    <tr>\n",
       "      <th>9</th>\n",
       "      <td>광고홍보학과</td>\n",
       "      <td>15</td>\n",
       "      <td>정서윤</td>\n",
       "    </tr>\n",
       "    <tr>\n",
       "      <th>11</th>\n",
       "      <td>광고홍보학과</td>\n",
       "      <td>15</td>\n",
       "      <td>이수진</td>\n",
       "    </tr>\n",
       "    <tr>\n",
       "      <th>8</th>\n",
       "      <td>광고홍보학과</td>\n",
       "      <td>15</td>\n",
       "      <td>이주영</td>\n",
       "    </tr>\n",
       "  </tbody>\n",
       "</table>\n",
       "</div>"
      ],
      "text/plain": [
       "           major  id name\n",
       "17  테크노프로덕트디자인학과  16  허은주\n",
       "5         광고홍보학과  14  김주환\n",
       "9         광고홍보학과  15  정서윤\n",
       "11        광고홍보학과  15  이수진\n",
       "8         광고홍보학과  15  이주영"
      ]
     },
     "execution_count": 14,
     "metadata": {},
     "output_type": "execute_result"
    }
   ],
   "source": [
    "df_mates = df_mates.sample(frac=1)\n",
    "df_mates.head()"
   ]
  },
  {
   "cell_type": "code",
   "execution_count": 14,
   "metadata": {},
   "outputs": [],
   "source": [
    "# #학번 별로 \n",
    "# def multimajor(column) :\n",
    "#     if column != '광고홍보학과' :\n",
    "#         return True\n",
    "#     else :\n",
    "#         return False\n",
    "    \n",
    "\n",
    "# df_mates['other_major'] = df_mates['major'].apply(multimajor)"
   ]
  },
  {
   "cell_type": "markdown",
   "metadata": {},
   "source": [
    "## 돌려돌려 돌림판~"
   ]
  },
  {
   "cell_type": "code",
   "execution_count": 25,
   "metadata": {},
   "outputs": [],
   "source": [
    "leader_list = list(df_leader.values)\n",
    "mates = list(df_mates.values)"
   ]
  },
  {
   "cell_type": "code",
   "execution_count": 26,
   "metadata": {},
   "outputs": [
    {
     "data": {
      "text/plain": [
       "[['광고홍보학과', '13', '곽종현'],\n",
       " ['광고홍보학과', '13', '전종하'],\n",
       " ['광고홍보학과', '14', '김남웅'],\n",
       " ['광고홍보학과', '14', '송현지']]"
      ]
     },
     "execution_count": 26,
     "metadata": {},
     "output_type": "execute_result"
    }
   ],
   "source": [
    "#팀장 \n",
    "leaders_list = [ list(l) for l in leader_list ]\n",
    "leaders_list"
   ]
  },
  {
   "cell_type": "code",
   "execution_count": 27,
   "metadata": {},
   "outputs": [
    {
     "data": {
      "text/plain": [
       "['광고홍보학과', '14', '김주환']"
      ]
     },
     "execution_count": 27,
     "metadata": {},
     "output_type": "execute_result"
    }
   ],
   "source": [
    "#팀원\n",
    "mates_list = [ list(m) for m in mates ]\n",
    "mates_list[1]"
   ]
  },
  {
   "cell_type": "code",
   "execution_count": 28,
   "metadata": {},
   "outputs": [],
   "source": [
    "# random.shuffle(mates_list)\n",
    "# mates_list"
   ]
  },
  {
   "cell_type": "markdown",
   "metadata": {},
   "source": [
    "## 조건에 맞게 배정"
   ]
  },
  {
   "cell_type": "code",
   "execution_count": 45,
   "metadata": {},
   "outputs": [
    {
     "data": {
      "text/plain": [
       "{'곽종현(13, 광고홍보)': ['허은주(16, 테크노프)', '김주환(14, 광고홍보)', '정서윤(15, 광고홍보)'],\n",
       " '전종하(13, 광고홍보)': ['이수진(15, 광고홍보)', '이주영(15, 광고홍보)', '정효선(15, 광고홍보)'],\n",
       " '김남웅(14, 광고홍보)': ['주준태(17, 광고홍보)', '최연주(16, 광고홍보)', '이준기(16, 광고홍보)'],\n",
       " '송현지(14, 광고홍보)': ['도윤석(15, 광고홍보)', '윤준범(13, 광고홍보)', '신준섭(13, 산업경영)']}"
      ]
     },
     "execution_count": 45,
     "metadata": {},
     "output_type": "execute_result"
    }
   ],
   "source": [
    "team = {}\n",
    "\n",
    "def assignTeam(team) :\n",
    "    j = 0 \n",
    "\n",
    "    for m, i, n in leaders_list : \n",
    "        leader = n + '('+i+', '+m[:4]+')'\n",
    "        team[leader] = []\n",
    "        \n",
    "        while len(team[leader]) < mateNum :\n",
    "            mm, mi, mn = mates_list[j]\n",
    "            mate = mn +  '('+ mi +', '+mm[:4]+')'\n",
    "            team[leader].append( mate) \n",
    "            j += 1\n",
    "\n",
    "assignTeam(team)\n",
    "team"
   ]
  },
  {
   "cell_type": "code",
   "execution_count": 46,
   "metadata": {},
   "outputs": [],
   "source": [
    "def restMate(team, plusMate) :\n",
    "    \n",
    "    for k in team : \n",
    "        plusMate -= 1 \n",
    "        mm, mi, mn = mates_list[-(plusMate+1)]\n",
    "        mate = mn +  '('+ mi +', '+mm[:4]+')'\n",
    "        team[k].append(mate)\n",
    "        \n",
    "        if plusMate == 0 :\n",
    "            break"
   ]
  },
  {
   "cell_type": "code",
   "execution_count": 47,
   "metadata": {},
   "outputs": [
    {
     "data": {
      "text/plain": [
       "{'곽종현(13, 광고홍보)': ['허은주(16, 테크노프)',\n",
       "  '김주환(14, 광고홍보)',\n",
       "  '정서윤(15, 광고홍보)',\n",
       "  '김호정(16, 광고홍보)'],\n",
       " '전종하(13, 광고홍보)': ['이수진(15, 광고홍보)', '이주영(15, 광고홍보)', '정효선(15, 광고홍보)'],\n",
       " '김남웅(14, 광고홍보)': ['주준태(17, 광고홍보)', '최연주(16, 광고홍보)', '이준기(16, 광고홍보)'],\n",
       " '송현지(14, 광고홍보)': ['도윤석(15, 광고홍보)', '윤준범(13, 광고홍보)', '신준섭(13, 산업경영)']}"
      ]
     },
     "execution_count": 47,
     "metadata": {},
     "output_type": "execute_result"
    }
   ],
   "source": [
    "restMate(team, plusMate)\n",
    "team"
   ]
  },
  {
   "cell_type": "markdown",
   "metadata": {},
   "source": [
    "# 데이터 프레임으로 변환"
   ]
  },
  {
   "cell_type": "code",
   "execution_count": 48,
   "metadata": {},
   "outputs": [
    {
     "data": {
      "text/html": [
       "<div>\n",
       "<style scoped>\n",
       "    .dataframe tbody tr th:only-of-type {\n",
       "        vertical-align: middle;\n",
       "    }\n",
       "\n",
       "    .dataframe tbody tr th {\n",
       "        vertical-align: top;\n",
       "    }\n",
       "\n",
       "    .dataframe thead th {\n",
       "        text-align: right;\n",
       "    }\n",
       "</style>\n",
       "<table border=\"1\" class=\"dataframe\">\n",
       "  <thead>\n",
       "    <tr style=\"text-align: right;\">\n",
       "      <th></th>\n",
       "      <th>곽종현(13, 광고홍보)</th>\n",
       "      <th>전종하(13, 광고홍보)</th>\n",
       "      <th>김남웅(14, 광고홍보)</th>\n",
       "      <th>송현지(14, 광고홍보)</th>\n",
       "    </tr>\n",
       "  </thead>\n",
       "  <tbody>\n",
       "    <tr>\n",
       "      <th>0</th>\n",
       "      <td>허은주(16, 테크노프)</td>\n",
       "      <td>이수진(15, 광고홍보)</td>\n",
       "      <td>주준태(17, 광고홍보)</td>\n",
       "      <td>도윤석(15, 광고홍보)</td>\n",
       "    </tr>\n",
       "    <tr>\n",
       "      <th>1</th>\n",
       "      <td>김주환(14, 광고홍보)</td>\n",
       "      <td>이주영(15, 광고홍보)</td>\n",
       "      <td>최연주(16, 광고홍보)</td>\n",
       "      <td>윤준범(13, 광고홍보)</td>\n",
       "    </tr>\n",
       "    <tr>\n",
       "      <th>2</th>\n",
       "      <td>정서윤(15, 광고홍보)</td>\n",
       "      <td>정효선(15, 광고홍보)</td>\n",
       "      <td>이준기(16, 광고홍보)</td>\n",
       "      <td>신준섭(13, 산업경영)</td>\n",
       "    </tr>\n",
       "    <tr>\n",
       "      <th>3</th>\n",
       "      <td>김호정(16, 광고홍보)</td>\n",
       "      <td>None</td>\n",
       "      <td>None</td>\n",
       "      <td>None</td>\n",
       "    </tr>\n",
       "  </tbody>\n",
       "</table>\n",
       "</div>"
      ],
      "text/plain": [
       "   곽종현(13, 광고홍보)  전종하(13, 광고홍보)  김남웅(14, 광고홍보)  송현지(14, 광고홍보)\n",
       "0  허은주(16, 테크노프)  이수진(15, 광고홍보)  주준태(17, 광고홍보)  도윤석(15, 광고홍보)\n",
       "1  김주환(14, 광고홍보)  이주영(15, 광고홍보)  최연주(16, 광고홍보)  윤준범(13, 광고홍보)\n",
       "2  정서윤(15, 광고홍보)  정효선(15, 광고홍보)  이준기(16, 광고홍보)  신준섭(13, 산업경영)\n",
       "3  김호정(16, 광고홍보)           None           None           None"
      ]
     },
     "execution_count": 48,
     "metadata": {},
     "output_type": "execute_result"
    }
   ],
   "source": [
    "# index = []\n",
    "\n",
    "# for i in range(len(leader_list)) :\n",
    "#     t_name = 'team_' + chr(65+i)\n",
    "#     index.append(t_name)\n",
    "\n",
    "m = pd.DataFrame.from_dict(team, orient='index')\n",
    "m.transpose()"
   ]
  },
  {
   "cell_type": "code",
   "execution_count": 49,
   "metadata": {},
   "outputs": [
    {
     "data": {
      "text/html": [
       "<div>\n",
       "<style scoped>\n",
       "    .dataframe tbody tr th:only-of-type {\n",
       "        vertical-align: middle;\n",
       "    }\n",
       "\n",
       "    .dataframe tbody tr th {\n",
       "        vertical-align: top;\n",
       "    }\n",
       "\n",
       "    .dataframe thead th {\n",
       "        text-align: right;\n",
       "    }\n",
       "</style>\n",
       "<table border=\"1\" class=\"dataframe\">\n",
       "  <thead>\n",
       "    <tr style=\"text-align: right;\">\n",
       "      <th></th>\n",
       "      <th>0</th>\n",
       "      <th>1</th>\n",
       "      <th>2</th>\n",
       "      <th>3</th>\n",
       "    </tr>\n",
       "  </thead>\n",
       "  <tbody>\n",
       "    <tr>\n",
       "      <th>곽종현(13, 광고홍보)</th>\n",
       "      <td>허은주(16, 테크노프)</td>\n",
       "      <td>김주환(14, 광고홍보)</td>\n",
       "      <td>정서윤(15, 광고홍보)</td>\n",
       "      <td>김호정(16, 광고홍보)</td>\n",
       "    </tr>\n",
       "    <tr>\n",
       "      <th>전종하(13, 광고홍보)</th>\n",
       "      <td>이수진(15, 광고홍보)</td>\n",
       "      <td>이주영(15, 광고홍보)</td>\n",
       "      <td>정효선(15, 광고홍보)</td>\n",
       "      <td>None</td>\n",
       "    </tr>\n",
       "    <tr>\n",
       "      <th>김남웅(14, 광고홍보)</th>\n",
       "      <td>주준태(17, 광고홍보)</td>\n",
       "      <td>최연주(16, 광고홍보)</td>\n",
       "      <td>이준기(16, 광고홍보)</td>\n",
       "      <td>None</td>\n",
       "    </tr>\n",
       "    <tr>\n",
       "      <th>송현지(14, 광고홍보)</th>\n",
       "      <td>도윤석(15, 광고홍보)</td>\n",
       "      <td>윤준범(13, 광고홍보)</td>\n",
       "      <td>신준섭(13, 산업경영)</td>\n",
       "      <td>None</td>\n",
       "    </tr>\n",
       "  </tbody>\n",
       "</table>\n",
       "</div>"
      ],
      "text/plain": [
       "                           0              1              2              3\n",
       "곽종현(13, 광고홍보)  허은주(16, 테크노프)  김주환(14, 광고홍보)  정서윤(15, 광고홍보)  김호정(16, 광고홍보)\n",
       "전종하(13, 광고홍보)  이수진(15, 광고홍보)  이주영(15, 광고홍보)  정효선(15, 광고홍보)           None\n",
       "김남웅(14, 광고홍보)  주준태(17, 광고홍보)  최연주(16, 광고홍보)  이준기(16, 광고홍보)           None\n",
       "송현지(14, 광고홍보)  도윤석(15, 광고홍보)  윤준범(13, 광고홍보)  신준섭(13, 산업경영)           None"
      ]
     },
     "execution_count": 49,
     "metadata": {},
     "output_type": "execute_result"
    }
   ],
   "source": [
    "m = m.T.T\n",
    "m"
   ]
  },
  {
   "cell_type": "code",
   "execution_count": 50,
   "metadata": {},
   "outputs": [],
   "source": [
    "m.to_csv('random_team.csv', index=True, na_rep = 'null', encoding='ms949')"
   ]
  },
  {
   "cell_type": "code",
   "execution_count": 51,
   "metadata": {},
   "outputs": [],
   "source": [
    "# students = list(map(list, df.values))\n",
    "# random.shuffle(students)\n",
    "# students"
   ]
  },
  {
   "cell_type": "code",
   "execution_count": null,
   "metadata": {},
   "outputs": [],
   "source": []
  },
  {
   "cell_type": "code",
   "execution_count": null,
   "metadata": {},
   "outputs": [],
   "source": []
  }
 ],
 "metadata": {
  "kernelspec": {
   "display_name": "python3.6",
   "language": "python",
   "name": "py36"
  },
  "language_info": {
   "codemirror_mode": {
    "name": "ipython",
    "version": 3
   },
   "file_extension": ".py",
   "mimetype": "text/x-python",
   "name": "python",
   "nbconvert_exporter": "python",
   "pygments_lexer": "ipython3",
   "version": "3.6.8"
  }
 },
 "nbformat": 4,
 "nbformat_minor": 2
}
