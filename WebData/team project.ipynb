{
 "cells": [
  {
   "cell_type": "markdown",
   "metadata": {},
   "source": [
    "### 조선일보"
   ]
  },
  {
   "cell_type": "markdown",
   "metadata": {},
   "source": [
    "### requests 모듈"
   ]
  },
  {
   "cell_type": "code",
   "execution_count": 42,
   "metadata": {},
   "outputs": [
    {
     "data": {
      "text/plain": [
       "[]"
      ]
     },
     "execution_count": 42,
     "metadata": {},
     "output_type": "execute_result"
    }
   ],
   "source": [
    "# #-*-coding:utf-8\n",
    "\n",
    "# import requests, bs4\n",
    "# from time import sleep\n",
    "\n",
    "# head = { \n",
    "#     'Accept':'text/html,application/xhtml+xml,application/xml;q=0.9,image/web',\n",
    "#     'Accept-Encoding' : 'gzip, deflate',\n",
    "#     'Accept-Language' : 'ko-KR,ko;q=0.9,en-US;q=0.8,en;q=0.7',\n",
    "#     'Cache-Control': 'no-cache',\n",
    "#     'Connection':'keep-alive',\n",
    "#     'Upgrade-Insecure-Requests': '1',\n",
    "#     'User-Agent' : \"Mozilla/5.0 (Windows NT 10.0; Win64; x64) AppleWebKit/537.36 (KHTML, like Gecko) Chrome/74.0.3729.169 Safari/537.36\",\n",
    "# } \n",
    "# SITE = 'www' # www(기본 홈페이지), chosunbiz(조선 비즈)\n",
    "# SECTION = 'politics' # 섹션 : politics(정치), national(사회), international(국제), culture(문화), index(경제) \n",
    "# START_WEEK = '20160601' # 시작 주 \n",
    "\n",
    "# CHOSUN = f\"http://news.chosun.com/ranking/list.html?type=&site={SITE}&scode={SECTION}&term=week&date={START_WEEK}\"\n",
    "\n",
    "# res = requests.get(CHOSUN, headers=head)\n",
    "# res.encoding='utf-8'\n",
    "\n",
    "# html = res.text\n",
    "\n",
    "# soup = bs4.BeautifulSoup(html, 'html.parser')\n",
    "# tags = soup.find_all(True, {'class':['list_inner']})\n",
    "# tags"
   ]
  },
  {
   "cell_type": "markdown",
   "metadata": {},
   "source": [
    "### selenium"
   ]
  },
  {
   "cell_type": "code",
   "execution_count": 1,
   "metadata": {},
   "outputs": [],
   "source": [
    "#-*-coding:utf-8\n",
    "\n",
    "from selenium import webdriver\n",
    "from time import sleep\n",
    "import bs4\n",
    "\n",
    "import nltk \n",
    "from konlpy.tag import Okt; t = Okt()\n",
    "\n",
    "# 셋팅값\n",
    "SITE = 'www' # www(기본 홈페이지), chosunbiz(조선 비즈)\n",
    "SECTION = 'politics' # 섹션 : politics(정치), national(사회), international(국제), culture(문화), index(경제) \n",
    "START_WEEK = '20160601' # 시작 주 \n",
    "\n",
    "# 브라우저 열기 \n",
    "driver = webdriver.Chrome(\"C:\\chrome\\chromedriver.exe\")\n",
    "\n",
    "# 조선, 한겨레 URL\n",
    "CHOSUN = f\"http://news.chosun.com/ranking/list.html?type=&site={SITE}&scode={SECTION}&term=week&date={START_WEEK}\"\n",
    "HAN = \"http://www.hani.co.kr/\""
   ]
  },
  {
   "cell_type": "markdown",
   "metadata": {},
   "source": [
    "### 조선 일보 "
   ]
  },
  {
   "cell_type": "code",
   "execution_count": 2,
   "metadata": {},
   "outputs": [],
   "source": [
    "# URL로 이동\n",
    "driver.get(CHOSUN)\n",
    "sleep(1)"
   ]
  },
  {
   "cell_type": "code",
   "execution_count": 3,
   "metadata": {},
   "outputs": [],
   "source": [
    "html = driver.page_source\n",
    "soup = bs4.BeautifulSoup(html, 'html.parser')"
   ]
  },
  {
   "cell_type": "code",
   "execution_count": 4,
   "metadata": {},
   "outputs": [],
   "source": [
    "RANKING_LIST = [\"TOPTITLE\" + str(n) for n in range(0,30)]"
   ]
  },
  {
   "cell_type": "code",
   "execution_count": 5,
   "metadata": {},
   "outputs": [],
   "source": [
    "tags = soup.find_all(True, {\"id\":RANKING_LIST})"
   ]
  },
  {
   "cell_type": "code",
   "execution_count": 6,
   "metadata": {},
   "outputs": [
    {
     "data": {
      "text/plain": [
       "[<span id=\"TOPTITLE0\">[TV조선 단독] 청바지 차림에 환한 미소… 탈출 北 여종업원 사진 입수</span>,\n",
       " <span id=\"TOPTITLE1\">탈북 남매가 일군 카페… \"우리 동네 문화센터 됐죠\"</span>,\n",
       " <span id=\"TOPTITLE2\">'1黨' 더민주, 국정원·검경 손보기부터 나선다</span>,\n",
       " <span id=\"TOPTITLE3\">對北 태도 달라진 中, 리수용 일정·의제 파격적 공개</span>,\n",
       " <span id=\"TOPTITLE4\">우간다 北과 협력 중단…우상호 \"朴대통령, 한가하게 우간다 가서 北 어쩌고 할 때냐?\"</span>]"
      ]
     },
     "execution_count": 6,
     "metadata": {},
     "output_type": "execute_result"
    }
   ],
   "source": [
    "tags[:5]"
   ]
  },
  {
   "cell_type": "code",
   "execution_count": 8,
   "metadata": {},
   "outputs": [
    {
     "data": {
      "text/plain": [
       "['[TV조선 단독] 청바지 차림에 환한 미소… 탈출 北 여종업원 사진 입수',\n",
       " '탈북 남매가 일군 카페… \"우리 동네 문화센터 됐죠\"',\n",
       " \"'1黨' 더민주, 국정원·검경 손보기부터 나선다\",\n",
       " '對北 태도 달라진 中, 리수용 일정·의제 파격적 공개',\n",
       " '우간다 北과 협력 중단…우상호 \"朴대통령, 한가하게 우간다 가서 北 어쩌고 할 때냐?\"']"
      ]
     },
     "execution_count": 8,
     "metadata": {},
     "output_type": "execute_result"
    }
   ],
   "source": [
    "headlines = [t.getText().strip() for t in tags]\n",
    "headlines[:5]"
   ]
  },
  {
   "cell_type": "code",
   "execution_count": 9,
   "metadata": {},
   "outputs": [],
   "source": [
    "all_headlines = []\n",
    "all_headlines.append(headlines)"
   ]
  },
  {
   "cell_type": "code",
   "execution_count": 12,
   "metadata": {},
   "outputs": [
    {
     "data": {
      "text/plain": [
       "[['[TV조선 단독] 청바지 차림에 환한 미소… 탈출 北 여종업원 사진 입수',\n",
       "  '탈북 남매가 일군 카페… \"우리 동네 문화센터 됐죠\"',\n",
       "  \"'1黨' 더민주, 국정원·검경 손보기부터 나선다\",\n",
       "  '對北 태도 달라진 中, 리수용 일정·의제 파격적 공개',\n",
       "  '우간다 北과 협력 중단…우상호 \"朴대통령, 한가하게 우간다 가서 北 어쩌고 할 때냐?\"',\n",
       "  '반기문 지지율 31.6% 1위',\n",
       "  '유승민 \"5·16 쿠데타\" \"친재벌 정책 안된다\"',\n",
       "  '朴 대통령, 어머니 서거 때까지 유학했던 佛 하숙집 딸 편지 받아',\n",
       "  '케냐 대통령 \"한국은 호랑이… 조용히 세계를 덮쳤다\"',\n",
       "  \"반기문이 달구자… 꺼졌던 與레이스 '점화'\",\n",
       "  '北 네번째 무수단도 실패… 이번엔 발사대서 폭발',\n",
       "  '김무성 \"대표때 朴대통령과 얘기 한번 못해\"',\n",
       "  '안철수 \"여유 있었다면 덜 위험한 일 택했을지도\" \\'구의역 사고\\' 트윗 논란',\n",
       "  \"13명 '탈북' 이후… 러 인력시장서 北근로자 사라져\",\n",
       "  '유엔對北제재대상 16명 베트남, 항공기 탑승 거절',\n",
       "  '[단독] \"연평도 앞바다 불법 침입한 중국어선 2척, 우리 어민이 직접 체포\"',\n",
       "  \"국민의당, 동해를 'Sea of Japan'으로 표기한 지도 강연에 썼다가 사과\",\n",
       "  '마음 바뀐 與 \"복당시켜 1黨 탈환, 의장직 갖겠다\"',\n",
       "  '침묵 깬 김무성, 朴대통령과 각 세우다',\n",
       "  '우상호, 安 \\'세비 반납\\' 발언에 \"유치하다..모욕감 느낀다\"',\n",
       "  '軍 \"北 탄도 미사일 발사 징후 추적\"',\n",
       "  '\"한류스타 샤이니가 소개하니 붕어빵 인기 폭발\"…朴대통령, 프랑스 \\'K콘\\' 참석',\n",
       "  '중국 탈출 북한식당 종업원 3명, 국내 입국 확인…\"평양 출신 20대\"',\n",
       "  \"이 환한 웃음, 南北을 잇는 '사다리'입니다\",\n",
       "  \"김종인 유승민 김성식 '초당적 의원 모임' 동참한다\",\n",
       "  '\"새누리당은 쓸모없는 남자\"',\n",
       "  '박지원 \"요즘 朴 대통령 안 보여..구조조정 컨트롤타워에 직접 서라\"',\n",
       "  '\"유엔사무총장이 남한 사람 반기문이라고 했더니, 北 사람들이 못 믿더라\" 케네스 배 \\'잊지 않았다\\' 출간 기자회견 열어',\n",
       "  '국회의장, 與도 1당도 아닌 票로 결판났었다',\n",
       "  '미세먼지 대책회의, 노후 경유차 수도권 진입 제한…\"석탄화력발전소 폐쇄\"']]"
      ]
     },
     "execution_count": 12,
     "metadata": {},
     "output_type": "execute_result"
    }
   ],
   "source": [
    "all_headlines"
   ]
  },
  {
   "cell_type": "markdown",
   "metadata": {},
   "source": [
    "URL 이동 후 버튼 클릭"
   ]
  },
  {
   "cell_type": "code",
   "execution_count": 13,
   "metadata": {},
   "outputs": [],
   "source": [
    "next_button = driver.find_element_by_xpath(\"//*[@id='btn_next_id']\")"
   ]
  },
  {
   "cell_type": "code",
   "execution_count": 14,
   "metadata": {},
   "outputs": [],
   "source": [
    "next_button.click() # 클릭\n",
    "sleep(1)"
   ]
  },
  {
   "cell_type": "code",
   "execution_count": 141,
   "metadata": {},
   "outputs": [
    {
     "data": {
      "text/plain": [
       "'[TV조선 단독] 청바지 차림에 환한 미소… 탈출 北 여종업원 사진 입수탈북 남매가 일군 카페… \"우리 동네 문화센터 됐죠\"\\'1黨\\' 더민주, 국정원·검경 손보기부터 나선다對北 태도'"
      ]
     },
     "execution_count": 141,
     "metadata": {},
     "output_type": "execute_result"
    }
   ],
   "source": [
    "txt = ''.join(headlines)\n",
    "txt[:100]"
   ]
  },
  {
   "cell_type": "code",
   "execution_count": 142,
   "metadata": {},
   "outputs": [],
   "source": [
    "import nltk \n",
    "from konlpy.tag import Okt; t = Okt()"
   ]
  },
  {
   "cell_type": "code",
   "execution_count": 143,
   "metadata": {},
   "outputs": [
    {
     "data": {
      "text/plain": [
       "['[',\n",
       " 'TV',\n",
       " '조선',\n",
       " '단독',\n",
       " ']',\n",
       " '청바지',\n",
       " '차림',\n",
       " '에',\n",
       " '환한',\n",
       " '미소',\n",
       " '…',\n",
       " '탈출',\n",
       " '北',\n",
       " '여',\n",
       " '종업원',\n",
       " '사진',\n",
       " '입수',\n",
       " '탈북',\n",
       " '남매',\n",
       " '가',\n",
       " '일군',\n",
       " '카페',\n",
       " '…',\n",
       " '\"',\n",
       " '우리',\n",
       " '동네',\n",
       " '문화센터',\n",
       " '됐죠',\n",
       " '\"\\'',\n",
       " '1',\n",
       " '黨',\n",
       " \"'\",\n",
       " '더',\n",
       " '민주',\n",
       " ',',\n",
       " '국정원',\n",
       " '·',\n",
       " '검경',\n",
       " '손보기',\n",
       " '부터',\n",
       " '나선다',\n",
       " '對北',\n",
       " '태도',\n",
       " '달라진',\n",
       " '中',\n",
       " ',',\n",
       " '리수용',\n",
       " '일정',\n",
       " '·',\n",
       " '의제',\n",
       " '파격',\n",
       " '적',\n",
       " '공개',\n",
       " '우간다',\n",
       " '北',\n",
       " '과',\n",
       " '협력',\n",
       " '중단',\n",
       " '…',\n",
       " '우상호',\n",
       " '\"',\n",
       " '朴',\n",
       " '대통령',\n",
       " ',',\n",
       " '한가하게',\n",
       " '우간다',\n",
       " '가서',\n",
       " '北',\n",
       " '어쩌',\n",
       " '고',\n",
       " '할',\n",
       " '때',\n",
       " '냐',\n",
       " '?\"',\n",
       " '반기문',\n",
       " '지지율',\n",
       " '31.6%',\n",
       " '1',\n",
       " '위유',\n",
       " '승민',\n",
       " '\"',\n",
       " '5',\n",
       " '·',\n",
       " '16',\n",
       " '쿠데타',\n",
       " '\"',\n",
       " '\"',\n",
       " '친',\n",
       " '재벌',\n",
       " '정책',\n",
       " '안된다',\n",
       " '\"',\n",
       " '朴',\n",
       " '대통령',\n",
       " ',',\n",
       " '어머니',\n",
       " '서거',\n",
       " '때',\n",
       " '까지',\n",
       " '유학',\n",
       " '했던',\n",
       " '佛',\n",
       " '하숙집',\n",
       " '딸',\n",
       " '편지',\n",
       " '받아',\n",
       " '케냐',\n",
       " '대통령',\n",
       " '\"',\n",
       " '한국',\n",
       " '은',\n",
       " '호랑이',\n",
       " '…',\n",
       " '조용히',\n",
       " '세계',\n",
       " '를',\n",
       " '덮',\n",
       " '쳤다',\n",
       " '\"',\n",
       " '반기문',\n",
       " '이',\n",
       " '달구자',\n",
       " '…',\n",
       " '꺼졌던',\n",
       " '與',\n",
       " '레이스',\n",
       " \"'\",\n",
       " '점화',\n",
       " \"'\",\n",
       " '北',\n",
       " '네',\n",
       " '번째',\n",
       " '무수단',\n",
       " '도',\n",
       " '실패',\n",
       " '…',\n",
       " '이번',\n",
       " '엔',\n",
       " '발사',\n",
       " '대',\n",
       " '서',\n",
       " '폭발',\n",
       " '김무성',\n",
       " '\"',\n",
       " '대표',\n",
       " '때',\n",
       " '朴',\n",
       " '대통령',\n",
       " '과',\n",
       " '얘기',\n",
       " '한번',\n",
       " '못',\n",
       " '해',\n",
       " '\"',\n",
       " '안철수',\n",
       " '\"',\n",
       " '여유',\n",
       " '있었다면',\n",
       " '덜',\n",
       " '위험한',\n",
       " '일',\n",
       " '택',\n",
       " '했을지도',\n",
       " '\"',\n",
       " \"'\",\n",
       " '구의역',\n",
       " '사고',\n",
       " \"'\",\n",
       " '트윗',\n",
       " '논란',\n",
       " '13',\n",
       " '명',\n",
       " \"'\",\n",
       " '탈북',\n",
       " \"'\",\n",
       " '이후',\n",
       " '…',\n",
       " '러',\n",
       " '인력',\n",
       " '시장',\n",
       " '서',\n",
       " '北',\n",
       " '근로자',\n",
       " '사라져',\n",
       " '유엔',\n",
       " '對北',\n",
       " '제재',\n",
       " '대상',\n",
       " '16',\n",
       " '명',\n",
       " '베트남',\n",
       " ',',\n",
       " '항공기',\n",
       " '탑승',\n",
       " '거절',\n",
       " '[',\n",
       " '단독',\n",
       " ']',\n",
       " '\"',\n",
       " '연평도',\n",
       " '앞바다',\n",
       " '불법',\n",
       " '침입',\n",
       " '한',\n",
       " '중국',\n",
       " '어선',\n",
       " '2',\n",
       " '척',\n",
       " ',',\n",
       " '우리',\n",
       " '어민',\n",
       " '이',\n",
       " '직접',\n",
       " '체포',\n",
       " '\"',\n",
       " '국민의당',\n",
       " ',',\n",
       " '동해',\n",
       " '를',\n",
       " \"'\",\n",
       " 'Sea',\n",
       " 'of',\n",
       " 'Japan',\n",
       " \"'\",\n",
       " '으로',\n",
       " '표기',\n",
       " '한',\n",
       " '지도',\n",
       " '강연',\n",
       " '에',\n",
       " '썼다가',\n",
       " '사과',\n",
       " '마음',\n",
       " '바뀐',\n",
       " '與',\n",
       " '\"',\n",
       " '복당',\n",
       " '시켜',\n",
       " '1',\n",
       " '黨',\n",
       " '탈환',\n",
       " ',',\n",
       " '의장',\n",
       " '직',\n",
       " '갖겠다',\n",
       " '\"',\n",
       " '침묵',\n",
       " '깬',\n",
       " '김무성',\n",
       " ',',\n",
       " '朴',\n",
       " '대통령',\n",
       " '과',\n",
       " '각',\n",
       " '세우다',\n",
       " '우상호',\n",
       " ',',\n",
       " '安',\n",
       " \"'\",\n",
       " '세비',\n",
       " '반납',\n",
       " \"'\",\n",
       " '발언',\n",
       " '에',\n",
       " '\"',\n",
       " '유치하다',\n",
       " '..',\n",
       " '모욕감',\n",
       " '느낀다',\n",
       " '\"',\n",
       " '軍',\n",
       " '\"',\n",
       " '北',\n",
       " '탄도',\n",
       " '미사일',\n",
       " '발사',\n",
       " '징후',\n",
       " '추적',\n",
       " '\"\"',\n",
       " '한류',\n",
       " '스타',\n",
       " '샤이니',\n",
       " '가',\n",
       " '소개',\n",
       " '하니',\n",
       " '붕어빵',\n",
       " '인기',\n",
       " '폭발',\n",
       " '\"…',\n",
       " '朴',\n",
       " '대통령',\n",
       " ',',\n",
       " '프랑스',\n",
       " \"'\",\n",
       " 'K',\n",
       " '콘',\n",
       " \"'\",\n",
       " '참석',\n",
       " '중국',\n",
       " '탈출',\n",
       " '북한',\n",
       " '식당',\n",
       " '종업원',\n",
       " '3',\n",
       " '명',\n",
       " ',',\n",
       " '국내',\n",
       " '입국',\n",
       " '확인',\n",
       " '…\"',\n",
       " '평양',\n",
       " '출신',\n",
       " '20',\n",
       " '대',\n",
       " '\"',\n",
       " '이',\n",
       " '환한',\n",
       " '웃음',\n",
       " ',',\n",
       " '南北',\n",
       " '을',\n",
       " '잇는',\n",
       " \"'\",\n",
       " '사다리',\n",
       " \"'\",\n",
       " '입니다',\n",
       " '김종인',\n",
       " '유승민',\n",
       " '김성식',\n",
       " \"'\",\n",
       " '초당',\n",
       " '적',\n",
       " '의원',\n",
       " '모임',\n",
       " \"'\",\n",
       " '동참',\n",
       " '한다',\n",
       " '\"',\n",
       " '새누리당',\n",
       " '은',\n",
       " '쓸모없는',\n",
       " '남자',\n",
       " '\"',\n",
       " '박지원',\n",
       " '\"',\n",
       " '요즘',\n",
       " '朴',\n",
       " '대통령',\n",
       " '안',\n",
       " '보여',\n",
       " '..',\n",
       " '구조조정',\n",
       " '컨트롤',\n",
       " '타워',\n",
       " '에',\n",
       " '직접',\n",
       " '서라',\n",
       " '\"\"',\n",
       " '유엔',\n",
       " '사무',\n",
       " '총장',\n",
       " '이',\n",
       " '남한',\n",
       " '사람',\n",
       " '반기문',\n",
       " '이라고',\n",
       " '했더니',\n",
       " ',',\n",
       " '北',\n",
       " '사람',\n",
       " '들',\n",
       " '이',\n",
       " '못',\n",
       " '믿더라',\n",
       " '\"',\n",
       " '케',\n",
       " '네스',\n",
       " '배',\n",
       " \"'\",\n",
       " '잊지',\n",
       " '않았다',\n",
       " \"'\",\n",
       " '출',\n",
       " '간',\n",
       " '기자회견',\n",
       " '열어',\n",
       " '국회의장',\n",
       " ',',\n",
       " '與',\n",
       " '도',\n",
       " '1',\n",
       " '당',\n",
       " '도',\n",
       " '아닌',\n",
       " '票',\n",
       " '로',\n",
       " '결판',\n",
       " '났었다',\n",
       " '미세먼지',\n",
       " '대책',\n",
       " '회의',\n",
       " ',',\n",
       " '노후',\n",
       " '경',\n",
       " '유차',\n",
       " '수도권',\n",
       " '진입',\n",
       " '제한',\n",
       " '…\"',\n",
       " '석탄',\n",
       " '화력발전소',\n",
       " '폐쇄',\n",
       " '\"']"
      ]
     },
     "execution_count": 143,
     "metadata": {},
     "output_type": "execute_result"
    }
   ],
   "source": [
    "tokens_ko = t.morphs(txt)\n",
    "tokens_ko"
   ]
  },
  {
   "cell_type": "code",
   "execution_count": 144,
   "metadata": {},
   "outputs": [
    {
     "data": {
      "text/plain": [
       "[('\"', 25),\n",
       " (\"'\", 19),\n",
       " (',', 16),\n",
       " ('…', 7),\n",
       " ('北', 7),\n",
       " ('대통령', 7),\n",
       " ('朴', 6),\n",
       " ('이', 5),\n",
       " ('에', 4),\n",
       " ('1', 4)]"
      ]
     },
     "execution_count": 144,
     "metadata": {},
     "output_type": "execute_result"
    }
   ],
   "source": [
    "ko = nltk.Text(tokens_ko, name='chosun')\n",
    "ko.vocab().most_common(10)"
   ]
  },
  {
   "cell_type": "code",
   "execution_count": 152,
   "metadata": {},
   "outputs": [
    {
     "data": {
      "text/plain": [
       "[('北', 7),\n",
       " ('대통령', 7),\n",
       " ('朴', 6),\n",
       " ('반기문', 3),\n",
       " ('與', 3),\n",
       " ('단독', 2),\n",
       " ('환한', 2),\n",
       " ('탈출', 2),\n",
       " ('종업원', 2),\n",
       " ('탈북', 2),\n",
       " ('우리', 2),\n",
       " ('黨', 2),\n",
       " ('對北', 2),\n",
       " ('적', 2),\n",
       " ('우간다', 2),\n",
       " ('우상호', 2),\n",
       " ('16', 2),\n",
       " ('발사', 2),\n",
       " ('대', 2),\n",
       " ('폭발', 2),\n",
       " ('김무성', 2),\n",
       " ('유엔', 2),\n",
       " ('중국', 2),\n",
       " ('직접', 2),\n",
       " ('사람', 2),\n",
       " ('TV', 1),\n",
       " ('조선', 1),\n",
       " ('청바지', 1),\n",
       " ('차림', 1),\n",
       " ('미소', 1)]"
      ]
     },
     "execution_count": 152,
     "metadata": {},
     "output_type": "execute_result"
    }
   ],
   "source": [
    "stop_words = [\"'\", '\"', ',', '','…', '에', '이', '의', '·', '을', '은', '한', '...',\n",
    "             '가', ']', '도', '들', '1', '는', '?', '로', '에서', '위', '과', '..', '된','서', '앞', '‘','(', '[',\n",
    "             '\\'…', '.', '2', '수', '세', '를', '지난', '자', \"때\", \"못\", '\"\"', '…\"', '명' ]\n",
    "\n",
    "tokens_ko = [each_word for each_word in tokens_ko if each_word not in stop_words]\n",
    "\n",
    "ko = nltk.Text(tokens_ko, name='chosun')\n",
    "ko.vocab().most_common(30)"
   ]
  },
  {
   "cell_type": "code",
   "execution_count": 148,
   "metadata": {},
   "outputs": [],
   "source": [
    "from matplotlib import font_manager, rc \n",
    "import pandas as pd\n",
    "import numpy as np\n",
    "import platform\n",
    "import matplotlib.pyplot as plt \n",
    "\n",
    "%matplotlib inline\n",
    "\n",
    "path = \"C:/Windows/Fonts/malgun.ttf\"\n",
    "\n",
    "if platform.system() == 'Darwin':\n",
    "    rc('font', family='AppleGothic')\n",
    "elif platform.system() == 'Windows':\n",
    "    font_name = font_manager.FontProperties(fname=path).get_name()\n",
    "    rc('font', family=font_name)\n",
    "else :\n",
    "    print('Unknown system. Sooooorry.')\n",
    "\n",
    "plt.rcParams['axes.unicode_minus'] = False"
   ]
  },
  {
   "cell_type": "code",
   "execution_count": 2,
   "metadata": {
    "scrolled": false
   },
   "outputs": [
    {
     "ename": "NameError",
     "evalue": "name 'ko' is not defined",
     "output_type": "error",
     "traceback": [
      "\u001b[1;31m---------------------------------------------------------------------------\u001b[0m",
      "\u001b[1;31mNameError\u001b[0m                                 Traceback (most recent call last)",
      "\u001b[1;32m<ipython-input-2-1b5f86bfe406>\u001b[0m in \u001b[0;36m<module>\u001b[1;34m\u001b[0m\n\u001b[1;32m----> 1\u001b[1;33m \u001b[0mko\u001b[0m\u001b[1;33m.\u001b[0m\u001b[0mplot\u001b[0m\u001b[1;33m(\u001b[0m\u001b[1;36m50\u001b[0m\u001b[1;33m)\u001b[0m\u001b[1;33m\u001b[0m\u001b[1;33m\u001b[0m\u001b[0m\n\u001b[0m\u001b[0;32m      2\u001b[0m \u001b[0mplt\u001b[0m\u001b[1;33m.\u001b[0m\u001b[0mfigure\u001b[0m\u001b[1;33m(\u001b[0m\u001b[0mfigsize\u001b[0m\u001b[1;33m=\u001b[0m\u001b[1;33m(\u001b[0m\u001b[1;36m15\u001b[0m\u001b[1;33m,\u001b[0m \u001b[1;36m6\u001b[0m\u001b[1;33m)\u001b[0m\u001b[1;33m)\u001b[0m\u001b[1;33m\u001b[0m\u001b[1;33m\u001b[0m\u001b[0m\n\u001b[0;32m      3\u001b[0m \u001b[1;33m\u001b[0m\u001b[0m\n\u001b[0;32m      4\u001b[0m \u001b[0mplt\u001b[0m\u001b[1;33m.\u001b[0m\u001b[0mshow\u001b[0m\u001b[1;33m(\u001b[0m\u001b[1;33m)\u001b[0m\u001b[1;33m\u001b[0m\u001b[1;33m\u001b[0m\u001b[0m\n",
      "\u001b[1;31mNameError\u001b[0m: name 'ko' is not defined"
     ]
    }
   ],
   "source": [
    "plt.figure(figsize=(15, 6))\n",
    "ko.plot(50)\n",
    "plt.show()"
   ]
  },
  {
   "cell_type": "code",
   "execution_count": 150,
   "metadata": {},
   "outputs": [],
   "source": [
    "from wordcloud import WordCloud, STOPWORDS\n",
    "from PIL import Image"
   ]
  },
  {
   "cell_type": "code",
   "execution_count": 151,
   "metadata": {
    "scrolled": false
   },
   "outputs": [
    {
     "data": {
      "text/plain": [
       "<function matplotlib.pyplot.show(*args, **kw)>"
      ]
     },
     "execution_count": 151,
     "metadata": {},
     "output_type": "execute_result"
    },
    {
     "data": {
      "image/png": "[encoded data removed]",
      "text/plain": [
       "<Figure size 1152x576 with 1 Axes>"
      ]
     },
     "metadata": {
      "needs_background": "light"
     },
     "output_type": "display_data"
    }
   ],
   "source": [
    "data = ko.vocab().most_common(300)\n",
    "\n",
    "wordcloud = WordCloud(font_path='C:/Windows/Fonts/malgun.ttf',\n",
    "                      relative_scaling = 0.5,\n",
    "                      background_color='white'\n",
    "                     ).generate_from_frequencies(dict(data))\n",
    "plt.figure(figsize=(16, 8))\n",
    "plt.imshow(wordcloud)\n",
    "plt.axis(\"off\")\n",
    "plt.show"
   ]
  },
  {
   "cell_type": "code",
   "execution_count": 2,
   "metadata": {},
   "outputs": [
    {
     "data": {
      "text/plain": [
       "4"
      ]
     },
     "execution_count": 2,
     "metadata": {},
     "output_type": "execute_result"
    }
   ],
   "source": []
  },
  {
   "cell_type": "code",
   "execution_count": 4,
   "metadata": {},
   "outputs": [
    {
     "name": "stdout",
     "output_type": "stream",
     "text": [
      "끝\n"
     ]
    }
   ],
   "source": [
    "#-*-coding:utf-8\n",
    "\n",
    "from selenium import webdriver\n",
    "from time import sleep\n",
    "import bs4\n",
    "\n",
    "# ==============================\n",
    "# 조선일보 스크랩 함수 \n",
    "# ==============================\n",
    "def scrap_chosun(SECTION, START_WEEK) :\n",
    "    \"\"\"\n",
    "    START_WEEK : 시작 주의 날짜 \n",
    "    SECTION : politics(정치), national(사회), international(국제), culture(문화), index(경제) 중 하나 \n",
    "    retrun : all_headlines (52주간의 헤드라인이 주별로 저장된 리스트)\n",
    "    \"\"\"\n",
    "    \n",
    "    if START_WEEK == '시작 주 날짜':\n",
    "        print(\"시작 주 날짜 바꿔주세요.\")\n",
    "    else : \n",
    "    \n",
    "        SITE = 'chosunbiz' if SECTION == 'index' else 'www' \n",
    "\n",
    "        URL = f\"http://news.chosun.com/ranking/list.html?type=&site={SITE}&scode={SECTION}&term=week&date={START_WEEK}\"\n",
    "\n",
    "        # 브라우저 열고, URL로 이동  \n",
    "        driver = webdriver.Chrome(\"C:\\chrome\\chromedriver.exe\")\n",
    "        driver.get(URL)\n",
    "        sleep(1)\n",
    "\n",
    "        # 파싱\n",
    "        html = driver.page_source\n",
    "        soup = bs4.BeautifulSoup(html, 'html.parser')\n",
    "\n",
    "        # 52주의 모든 헤드라인을 저장할 리스트\n",
    "        all_headlines = []\n",
    "\n",
    "        for _ in range(52) : \n",
    "            # 태그 안의 콘텐츠 가져오기 \n",
    "            RANKING_LIST = [\"TOPTITLE\" + str(n) for n in range(0,30)]\n",
    "            tags = soup.find_all(True, {\"id\":RANKING_LIST})\n",
    "\n",
    "            # 다듬기 \n",
    "            headlines = [t.getText().strip() for t in tags]\n",
    "            all_headlines.append(headlines)\n",
    "\n",
    "            # 다음 주로 이동\n",
    "            next_button = driver.find_element_by_xpath(\"//*[@id='btn_next_id']\")\n",
    "            next_button.click() # 클릭\n",
    "            sleep(1)\n",
    "\n",
    "        driver.close()\n",
    "\n",
    "        return all_headlines\n",
    "\n",
    "# ==============================\n",
    "# MAIN \n",
    "# ==============================\n",
    "\n",
    "SECTIONS = ['politics', 'national', 'international', 'culture', 'index']\n",
    "SECTION_HEADLINES = {}\n",
    "\n",
    "# scrap_chosun 함수에 시작 주만 바꿔주세요 \n",
    "# 혜민 : scrap_chosun(s, '20170601') \n",
    "# 지윤 : scrap_chosun(s, '20180601')\n",
    "\n",
    "for s in SECTIONS : \n",
    "    SECTION_HEADLINES[s] = scrap_chosun(s, \"20180601\")\n",
    "\n",
    "with open(\"chosun_2018.data\", \"w\", encoding = \"utf-8\") as f : \n",
    "    f.write(str(SECTION_HEADLINES))\n",
    "\n",
    "print(\"끝\")"
   ]
  },
  {
   "cell_type": "code",
   "execution_count": null,
   "metadata": {},
   "outputs": [],
   "source": []
  }
 ],
 "metadata": {
  "kernelspec": {
   "display_name": "python3.6",
   "language": "python",
   "name": "py36"
  },
  "language_info": {
   "codemirror_mode": {
    "name": "ipython",
    "version": 3
   },
   "file_extension": ".py",
   "mimetype": "text/x-python",
   "name": "python",
   "nbconvert_exporter": "python",
   "pygments_lexer": "ipython3",
   "version": "3.6.8"
  }
 },
 "nbformat": 4,
 "nbformat_minor": 2
}
