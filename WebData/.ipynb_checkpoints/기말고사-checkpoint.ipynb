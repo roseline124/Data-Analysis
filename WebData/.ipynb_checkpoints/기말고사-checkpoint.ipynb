{
 "cells": [
  {
   "cell_type": "code",
   "execution_count": 2,
   "metadata": {},
   "outputs": [
    {
     "name": "stdout",
     "output_type": "stream",
     "text": [
      "단을 넣어주세요 : 3\n"
     ]
    }
   ],
   "source": [
    "x = int(input(\"단을 넣어주세요 : \"))"
   ]
  },
  {
   "cell_type": "code",
   "execution_count": 4,
   "metadata": {},
   "outputs": [
    {
     "name": "stdout",
     "output_type": "stream",
     "text": [
      "3 x 1 = 3\n",
      "3 x 2 = 6\n",
      "3 x 3 = 9\n",
      "3 x 4 = 12\n",
      "3 x 5 = 15\n",
      "3 x 6 = 18\n",
      "3 x 7 = 21\n",
      "3 x 8 = 24\n",
      "3 x 9 = 27\n"
     ]
    }
   ],
   "source": [
    "for n in range(1, 10):\n",
    "    print(f\"{x} x {n} =\", x*n )"
   ]
  },
  {
   "cell_type": "markdown",
   "metadata": {},
   "source": [
    "### 2번 문제"
   ]
  },
  {
   "cell_type": "code",
   "execution_count": 5,
   "metadata": {},
   "outputs": [],
   "source": [
    "def get_grades_avg(records) : \n",
    "    g_sum = 0 \n",
    "\n",
    "    for r in records : \n",
    "        g_sum += grades_dict[r]\n",
    "\n",
    "    g_avg = g_sum/len(records)\n",
    "    \n",
    "    return g_avg "
   ]
  },
  {
   "cell_type": "code",
   "execution_count": 6,
   "metadata": {},
   "outputs": [
    {
     "name": "stdout",
     "output_type": "stream",
     "text": [
      "등급을 입력하세요(A, B, C, D, F) : a\n",
      "등급을 입력하세요(A, B, C, D, F) : c\n",
      "등급을 입력하세요(A, B, C, D, F) : q\n",
      "잘못된 등급을 입력하였습니다. 다시 입력하여 주세요.\n",
      "등급을 입력하세요(A, B, C, D, F) : f\n",
      "등급을 입력하세요(A, B, C, D, F) : done\n",
      "입력 등급 :  ['A', 'C', 'F']\n",
      "평균 학점 :  2.0\n"
     ]
    }
   ],
   "source": [
    "grades = ['A', 'B', 'C', 'D', 'F']\n",
    "grades_dict = {'A':4.0, 'B':3.0, 'C':2.0, 'D':1.0, 'F':0.0}\n",
    "records = []\n",
    "\n",
    "class gradeException(Exception):\n",
    "    pass\n",
    "    \n",
    "while True : \n",
    "    try :\n",
    "        g = input(\"등급을 입력하세요(A, B, C, D, F) : \").upper()\n",
    "\n",
    "        if g == 'DONE' : \n",
    "            print(\"입력 등급 : \", records)\n",
    "            print(\"평균 학점 : \", get_grades_avg(records))\n",
    "            break\n",
    "        elif g not in grades :\n",
    "            raise gradeException\n",
    "        else : \n",
    "            records.append(g)\n",
    "            \n",
    "    except gradeException : \n",
    "        print(\"잘못된 등급을 입력하였습니다. 다시 입력하여 주세요.\")"
   ]
  },
  {
   "cell_type": "code",
   "execution_count": 3,
   "metadata": {},
   "outputs": [
    {
     "data": {
      "text/plain": [
       "['A', 'C', 'F']"
      ]
     },
     "execution_count": 3,
     "metadata": {},
     "output_type": "execute_result"
    }
   ],
   "source": [
    "records"
   ]
  },
  {
   "cell_type": "code",
   "execution_count": 4,
   "metadata": {},
   "outputs": [],
   "source": [
    "grades_dict = {'A':4.0, 'B':3.0, 'C':2.0, 'D':1.0, 'F':0.0}"
   ]
  },
  {
   "cell_type": "markdown",
   "metadata": {},
   "source": [
    "### 3번 문제"
   ]
  },
  {
   "cell_type": "code",
   "execution_count": 37,
   "metadata": {},
   "outputs": [],
   "source": [
    "import requests, re"
   ]
  },
  {
   "cell_type": "code",
   "execution_count": 38,
   "metadata": {},
   "outputs": [],
   "source": [
    "header = \\\n",
    "{\n",
    "'Accept': \"text/html,application/xhtml+xml,application/xml;q=0.9,image/webp,image/apng,*/*;q=0.8,application/signed-exchange;v=b3\",\n",
    "'Accept-Encoding': \"gzip, deflate\",\n",
    "'Accept-Language': \"ko-KR,ko;q=0.9,en-US;q=0.8,en;q=0.7\",\n",
    "'Cache-Control': 'max-age=0',\n",
    "'Host': 'onstat.co.kr',\n",
    "'Upgrade-Insecure-Requests': '1',\n",
    "'User-Agent': \"Mozilla/5.0 (Windows NT 10.0; Win64; x64) AppleWebKit/537.36 (KHTML, like Gecko) Chrome/74.0.3729.169 Safari/537.36\",\n",
    "}"
   ]
  },
  {
   "cell_type": "code",
   "execution_count": 39,
   "metadata": {},
   "outputs": [],
   "source": [
    "url = \"http://onstat.co.kr/starbucks.txt\""
   ]
  },
  {
   "cell_type": "code",
   "execution_count": 40,
   "metadata": {},
   "outputs": [],
   "source": [
    "strings = requests.get(url, headers = header)"
   ]
  },
  {
   "cell_type": "code",
   "execution_count": 41,
   "metadata": {
    "scrolled": true
   },
   "outputs": [
    {
     "data": {
      "text/plain": [
       "' ì\\x9d¼ì\\x82°ì\\x95\\xa0ë\\x8b\\x88ê³¨DT   ê²½ê¸°ë\\x8f\\x84 ê³\\xa0ì\\x96\\x91ì\\x8b\\x9c ì\\x9d¼ì\\x82°ë\\x8f\\x99êµ¬ ë¬´ê¶\\x81í\\x99\\x94ë¡\\x9c 294 (í\\x92\\x8dë\\x8f\\x99)031-903-3601 ë¦¬ì\\xa0\\x80ë¸\\x8c ë§¤ì\\x9e¥ 2ë²\\x88\\n ë\\x8f\\x99êµ\\xadë\\x8c\\x80ì\\x9d¼ì\\x82°ë³\\x91ì\\x9b\\x90   ê²½ê¸°ë\\x8f\\x84 ê³\\xa0ì\\x96\\x91ì\\x8b\\x9c ì\\x9d¼ì\\x82°ë\\x8f\\x99êµ¬ ì\\x8b\\x9dì\\x82¬ë\\x8f\\x99 814 ê²½ê¸°ë\\x8f\\x84 ê³\\xa0ì\\x96\\x91ì\\x8b\\x9c ì\\x9d¼ì\\x82°ë\\x8f\\x99êµ¬ ë\\x8f\\x99êµ\\xadë¡\\x9c 27,031-961-9180 ë¦¬ì\\xa0\\x80ë¸\\x8c ë§¤ì\\x9e¥ 2ë²\\x88\\n ì\\x9d¼ì\\x82°í\\x92\\x8dë\\x8f\\x99DT   ê²½ê¸°ë\\x8f\\x84 ê³\\xa0ì\\x96\\x91ì\\x8b\\x9c ì\\x9d¼ì\\x82°ë\\x8f\\x99êµ¬ ë°±ë§\\x88ë¡\\x9c 475 (í\\x92\\x8dë\\x8f\\x99)031-903-3461 ë¦¬ì\\xa0\\x80ë¸\\x8c ë§¤ì\\x9e¥ 2ë²\\x88\\n ë°±ì\\x84\\x9dì¤\\x91ì\\x95\\x99ë¡\\x9c   ê²½ê¸°ë\\x8f\\x84 ê³\\xa0ì\\x96\\x91ì\\x8b\\x9c ì\\x9d¼ì\\x82°ë\\x8f\\x99êµ¬ ê°\\x95ì\\x86¡ë¡\\x9c 33 (ë°±ì\\x84\\x9dë\\x8f\\x99)031-849-6688 ë¦¬ì\\xa0\\x80ë¸\\x8c ë§¤ì\\x9e¥ 2ë²\\x88\\n ì\\x9d¼ì\\x82°ì\\x8b\\x9dì\\x82¬   ê²½ê¸°ë\\x8f\\x84 ê³\\xa0ì\\x96\\x91ì\\x8b\\x9c ì\\x9d¼ì\\x82°ë\\x8f\\x99êµ¬ ì\\x9c\\x84ì\\x8b\\x9cí\\x8b°2ë¡\\x9c11ë²\\x88ê¸¸ 31 (ì\\x8b\\x9dì\\x82¬ë\\x8f\\x99)031-968-8814 ë¦¬ì\\xa0\\x80ë¸\\x8c ë§¤ì\\x9e¥ 2ë²\\x88\\n í\\x92\\x8dì\\x82°ì\\x9d´ë§\\x88í\\x8a¸   ê²½ê¸°ë\\x8f\\x84 ê³\\xa0ì\\x96\\x91ì\\x8b\\x9c ì\\x9d¼ì\\x82°ë\\x8f\\x99êµ¬ ë¬´ê¶\\x81í\\x99\\x94ë¡\\x9c 237 (ì¤\\x91ì\\x82°ë\\x8f\\x99)031-977-8795 ë¦¬ì\\xa0\\x80ë¸\\x8c ë§¤ì\\x9e¥ 2ë²\\x88\\n ë°±ì\\x84\\x9dì\\x97\\xadDT   ê²½ê¸°ë\\x8f\\x84 ê³\\xa0ì\\x96\\x91ì\\x8b\\x9c ì\\x9d¼ì\\x82°ë\\x8f\\x99êµ¬ ì¤\\x91ì\\x95\\x99ë¡\\x9c 1054, 1ì¸µ (ë°±ì\\x84\\x9dë\\x8f\\x99)031-903-8618 ë¦¬ì\\xa0\\x80ë¸\\x8c ë§¤ì\\x9e¥ 2ë²\\x88\\n ë°±ì\\x84\\x9d   ê²½ê¸°ë\\x8f\\x84 ê³\\xa0ì\\x96\\x91ì\\x8b\\x9c ì\\x9d¼ì\\x82°ë\\x8f\\x99êµ¬ ì¤\\x91ì\\x95\\x99ë¡\\x9c 1059 (ë°±ì\\x84\\x9dë\\x8f\\x99)031-907-6755 ë¦¬ì\\xa0\\x80ë¸\\x8c ë§¤ì\\x9e¥ 2ë²\\x88\\n ë\\x9d¼í\\x8e\\x98ì\\x8a¤í\\x83\\x80ê´\\x91ì\\x9e¥   ê²½ê¸°ë\\x8f\\x84 ê³\\xa0ì\\x96\\x91ì\\x8b\\x9c ì\\x9d¼ì\\x82°ë\\x8f\\x99êµ¬ ì¤\\x91ì\\x95\\x99ë¡\\x9c1275ë²\\x88ê¸¸ 38-9 (ì\\x9e¥í\\x95\\xadë\\x8f\\x99)031-908-8625 ë¦¬ì\\xa0\\x80ë¸\\x8c ë§¤ì\\x9e¥ 2ë²\\x88\\n ì\\x9d¼ì\\x82°ë°±ë§\\x88   ê²½ê¸°ë\\x8f\\x84 ê³\\xa0ì\\x96\\x91ì\\x8b\\x9c ì\\x9d¼ì\\x82°ë\\x8f\\x99êµ¬ ì\\x9d¼ì\\x82°ë¡\\x9c 237 (ë§\\x88ë\\x91\\x90ë\\x8f\\x99)031-904-7968 ë¦¬ì\\xa0\\x80ë¸\\x8c ë§¤ì\\x9e¥ 2ë²\\x88\\n ì\\x9b¨ì\\x8a¤í\\x84´ë\\x8f\\x94B   ê²½ê¸°ë\\x8f\\x84 ê³\\xa0ì\\x96\\x91ì\\x8b\\x9c ì\\x9d¼ì\\x82°ë\\x8f\\x99êµ¬ ì\\xa0\\x95ë°\\x9cì\\x82°ë¡\\x9c 24 (ì\\x9e¥í\\x95\\xadë\\x8f\\x99)031-931-5283 ë¦¬ì\\xa0\\x80ë¸\\x8c ë§¤ì\\x9e¥ 2ë²\\x88\\n ë§\\x88ë\\x91\\x90ì\\x97\\xad   ê²½ê¸°ë\\x8f\\x84 ê³\\xa0ì\\x96\\x91ì\\x8b\\x9c ì\\x9d¼ì\\x82°ë\\x8f\\x99êµ¬ ì¤\\x91ì\\x95\\x99ë¡\\x9c 1191 (ì\\x9e¥í\\x95\\xadë\\x8f\\x99)031-907-6482 ë¦¬ì\\xa0\\x80ë¸\\x8c ë§¤ì\\x9e¥ 2ë²\\x88\\n ì\\x9d¼ì\\x82°ë\\x8f\\x99êµ¬ì²\\xad   ê²½ê¸°ë\\x8f\\x84 ê³\\xa0ì\\x96\\x91ì\\x8b\\x9c ì\\x9d¼ì\\x82°ë\\x8f\\x99êµ¬ ì\\xa0\\x95ë°\\x9cì\\x82°ë¡\\x9c ì\\x9d´ì\\x8a¤í\\x84´ì\\x8b\\x9cí\\x8b° 38ë²\\x88ì§\\x80 116,117í\\x98¸031-904-7521 ë¦¬ì\\xa0\\x80ë¸\\x8c ë§¤ì\\x9e¥ 2ë²\\x88\\n ê³¼ì²\\x9cDT   ê²½ê¸°ë\\x8f\\x84 ê³¼ì²\\x9cì\\x8b\\x9c ì¤\\x91ì\\x95\\x99ë¡\\x9c 277 (ì¤\\x91ì\\x95\\x99ë\\x8f\\x99)02-504-3497 ë¦¬ì\\xa0\\x80ë¸\\x8c ë§¤ì\\x9e¥ 2ë²\\x88'"
      ]
     },
     "execution_count": 41,
     "metadata": {},
     "output_type": "execute_result"
    }
   ],
   "source": [
    "txt = strings.text\n",
    "txt"
   ]
  },
  {
   "cell_type": "code",
   "execution_count": 42,
   "metadata": {},
   "outputs": [],
   "source": [
    "phone_nums = re.findall(r\"[0-9]{2,3}-[0-9]{3}-[0-9]{4}\", txt)"
   ]
  },
  {
   "cell_type": "code",
   "execution_count": 43,
   "metadata": {},
   "outputs": [
    {
     "name": "stdout",
     "output_type": "stream",
     "text": [
      "['031-903-3601', '031-961-9180', '031-903-3461', '031-849-6688', '031-968-8814', '031-977-8795', '031-903-8618', '031-907-6755', '031-908-8625', '031-904-7968', '031-931-5283', '031-907-6482', '031-904-7521', '02-504-3497']\n",
      "전화번호 개수 : 14\n"
     ]
    }
   ],
   "source": [
    "print(phone_nums)\n",
    "print(\"전화번호 개수 :\",len(phone_nums))"
   ]
  },
  {
   "cell_type": "code",
   "execution_count": null,
   "metadata": {},
   "outputs": [],
   "source": []
  }
 ],
 "metadata": {
  "kernelspec": {
   "display_name": "python3.6",
   "language": "python",
   "name": "py36"
  },
  "language_info": {
   "codemirror_mode": {
    "name": "ipython",
    "version": 3
   },
   "file_extension": ".py",
   "mimetype": "text/x-python",
   "name": "python",
   "nbconvert_exporter": "python",
   "pygments_lexer": "ipython3",
   "version": "3.6.8"
  }
 },
 "nbformat": 4,
 "nbformat_minor": 2
}
