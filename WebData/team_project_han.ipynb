{
 "cells": [
  {
   "cell_type": "code",
   "execution_count": 1,
   "metadata": {},
   "outputs": [],
   "source": [
    "#-*-coding:utf-8\n",
    "\n",
    "from selenium import webdriver\n",
    "from time import sleep\n",
    "import bs4\n",
    "\n",
    "URL = \"http://newsrank.hani.co.kr/\"\n",
    "\n",
    "driver = webdriver.Chrome(\"C:\\chrome\\chromedriver.exe\")\n",
    "\n",
    "driver.get(URL)\n",
    "sleep(1)"
   ]
  },
  {
   "cell_type": "code",
   "execution_count": 18,
   "metadata": {},
   "outputs": [],
   "source": [
    "WEEK = 23"
   ]
  },
  {
   "cell_type": "code",
   "execution_count": 2,
   "metadata": {},
   "outputs": [],
   "source": [
    "# 컨트롤 \n",
    "\n",
    "week_button = driver.find_element_by_xpath('//*[@id=\"contents\"]/div/div[1]/table/tbody/tr[1]/td/a[2]/img')\n",
    "week_button.click()\n",
    "sleep(0.5)\n",
    "\n",
    "year = driver.find_element_by_xpath('//*[@id=\"s_year\"]/option[13]') # 13 : 2016, 14: 2017, 15: 2018\n",
    "year.click()\n",
    "sleep(0.5)\n",
    "\n",
    "week = driver.find_element_by_xpath(f'//*[@id=\"s_week\"]/option[{WEEK}]') # 23주 \n",
    "week.click()\n",
    "sleep(0.5)\n",
    "\n",
    "search_button = driver.find_element_by_xpath('//*[@id=\"contents\"]/div/div[1]/table/tbody/tr[4]/td[2]/a/img')\n",
    "search_button.click()\n",
    "sleep(0.5)"
   ]
  },
  {
   "cell_type": "code",
   "execution_count": 3,
   "metadata": {},
   "outputs": [],
   "source": [
    "html = driver.page_source\n",
    "soup = bs4.BeautifulSoup(html, 'html.parser')"
   ]
  },
  {
   "cell_type": "code",
   "execution_count": 16,
   "metadata": {},
   "outputs": [],
   "source": [
    "tags = soup.find_all(\"a\")\n",
    "txt = [t.getText().strip() for t in tags]"
   ]
  },
  {
   "cell_type": "code",
   "execution_count": 15,
   "metadata": {},
   "outputs": [
    {
     "data": {
      "text/plain": [
       "[[], [], [], [], [], [], []]"
      ]
     },
     "execution_count": 15,
     "metadata": {},
     "output_type": "execute_result"
    }
   ],
   "source": [
    "week_headlines = []\n",
    "\n",
    "for n in range(1,8):\n",
    "    if n == 7 : \n",
    "        curr_week = driver.find_element_by_xpath(f'//*[@id=\"news-rank\"]/div[{n}]/h4/a').text\n",
    "        curr_idx = txt.index(curr_week)\n",
    "        check = txt[curr_idx+1]\n",
    "        \n",
    "        if check != '':\n",
    "            headlines = txt[curr_idx+1:curr_idx+20]\n",
    "            week_headlines.append(headlines)\n",
    "        else :     \n",
    "            week_headlines.append([])\n",
    "            \n",
    "    else :\n",
    "        curr_week = driver.find_element_by_xpath(f'//*[@id=\"news-rank\"]/div[{n}]/h4/a').text # div2 / 1~7 주까지 있다\n",
    "        next_week = driver.find_element_by_xpath(f'//*[@id=\"news-rank\"]/div[{n+1}]/h4/a').text \n",
    "        curr_idx = txt.index(curr_week)\n",
    "        next_idx = txt.index(next_week)\n",
    "\n",
    "        headlines = txt[curr_idx+1:next_idx]\n",
    "\n",
    "        week_headlines.append(headlines)\n",
    "    \n",
    "week_headlines"
   ]
  },
  {
   "cell_type": "code",
   "execution_count": null,
   "metadata": {},
   "outputs": [],
   "source": [
    "all_headlines"
   ]
  },
  {
   "cell_type": "code",
   "execution_count": null,
   "metadata": {},
   "outputs": [],
   "source": []
  }
 ],
 "metadata": {
  "kernelspec": {
   "display_name": "python3.6",
   "language": "python",
   "name": "py36"
  },
  "language_info": {
   "codemirror_mode": {
    "name": "ipython",
    "version": 3
   },
   "file_extension": ".py",
   "mimetype": "text/x-python",
   "name": "python",
   "nbconvert_exporter": "python",
   "pygments_lexer": "ipython3",
   "version": "3.6.8"
  }
 },
 "nbformat": 4,
 "nbformat_minor": 2
}
